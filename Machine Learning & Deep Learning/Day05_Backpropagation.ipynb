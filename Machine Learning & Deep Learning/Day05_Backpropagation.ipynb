{
 "cells": [
  {
   "cell_type": "code",
   "execution_count": 1,
   "metadata": {},
   "outputs": [],
   "source": [
    "#역전파 알고리즘을 위한 벡터 개념\n",
    "import numpy as np\n",
    "X=np.array([1,2,3,4])"
   ]
  },
  {
   "cell_type": "code",
   "execution_count": 3,
   "metadata": {},
   "outputs": [
    {
     "data": {
      "text/plain": [
       "(4,)"
      ]
     },
     "execution_count": 3,
     "metadata": {},
     "output_type": "execute_result"
    }
   ],
   "source": [
    "np.ndim(X) #ndim:차원확인 => 1차원배열\n",
    "\n",
    "X.shape #원소가 4개인 1차원"
   ]
  },
  {
   "cell_type": "code",
   "execution_count": 4,
   "metadata": {},
   "outputs": [
    {
     "data": {
      "text/plain": [
       "2"
      ]
     },
     "execution_count": 4,
     "metadata": {},
     "output_type": "execute_result"
    }
   ],
   "source": [
    "X=np.array([[1,2],[3,4],[5,6]])\n",
    "np.ndim(X)"
   ]
  },
  {
   "cell_type": "code",
   "execution_count": 7,
   "metadata": {},
   "outputs": [
    {
     "name": "stdout",
     "output_type": "stream",
     "text": [
      "[[19 22]\n",
      " [43 50]]\n",
      "[[23 34]\n",
      " [31 46]]\n"
     ]
    }
   ],
   "source": [
    "X=np.array([[1,2],[3,4]])\n",
    "Y=np.array([[5,6],[7,8]])\n",
    "\n",
    "#행렬의 곱(내적) XY\n",
    "print(np.dot(X,Y))\n",
    "print(np.dot(Y,X)) #벡터의 내적 성립X"
   ]
  },
  {
   "cell_type": "markdown",
   "metadata": {},
   "source": [
    "\n",
    "## 역전파 원리 "
   ]
  },
  {
   "cell_type": "code",
   "execution_count": 11,
   "metadata": {},
   "outputs": [
    {
     "name": "stdout",
     "output_type": "stream",
     "text": [
      "[0.3 0.7 1.1]\n"
     ]
    }
   ],
   "source": [
    "X=np.array([1.0,0.5])\n",
    "W1=np.array([[0.1,0.3,0.5],[0.2,0.4,0.6]]) #2by3\n",
    "\n",
    "B1=np.array([0.1,0.2,0.3]) #bias\n",
    "\n",
    "print(np.dot(X,W1)+B1)\n",
    "\n",
    "def sigmoid(x):\n",
    "    return 1 / (1+np.exp(-x))\n",
    "\n",
    "H1=np.dot(X,W1)+B1\n",
    "Z1=sigmoid(H1)"
   ]
  },
  {
   "cell_type": "code",
   "execution_count": 14,
   "metadata": {},
   "outputs": [
    {
     "name": "stdout",
     "output_type": "stream",
     "text": [
      "[0.62624937 0.7710107 ]\n"
     ]
    }
   ],
   "source": [
    "W2=np.array([[0.1,0.4],[0.2,0.5],[0.3,0.6]])\n",
    "B2= np.array([0.1,0.2])\n",
    "\n",
    "H2=np.dot(Z1,W2)+B2\n",
    "Z2=sigmoid(H2)\n",
    "print(Z2)"
   ]
  },
  {
   "cell_type": "code",
   "execution_count": 17,
   "metadata": {},
   "outputs": [
    {
     "name": "stdout",
     "output_type": "stream",
     "text": [
      "[0.31682708 0.55655308]\n"
     ]
    }
   ],
   "source": [
    "W3=np.array([[0.1,0.2],[0.2,0.3]])\n",
    "B3= np.array([0.1,0.2])\n",
    "\n",
    "H3=np.dot(Z2,W3)+B3\n",
    "print(H3)\n",
    "\n",
    "#Neuran Network의 분류/예측을 결정하는 것은 마지막 레이어의 어떤 활성함수를 쓰느냐에 따라 달라진다.\n",
    "#다분류를 한다면 softmax, 이진분류: sigmoid(0에서 1사이)"
   ]
  },
  {
   "cell_type": "markdown",
   "metadata": {},
   "source": [
    "## softmax 함수"
   ]
  },
  {
   "cell_type": "code",
   "execution_count": 21,
   "metadata": {},
   "outputs": [],
   "source": [
    "score=np.array([20,10,1])\n",
    "exp_s=np.exp(score) #지수함수"
   ]
  },
  {
   "cell_type": "code",
   "execution_count": 22,
   "metadata": {},
   "outputs": [
    {
     "data": {
      "text/plain": [
       "array([9.99954597e-01, 4.53978684e-05, 5.60254205e-09])"
      ]
     },
     "execution_count": 22,
     "metadata": {},
     "output_type": "execute_result"
    }
   ],
   "source": [
    "sum_exp_s= np.sum(exp_s)\n",
    "y=exp_s/sum_exp_s\n",
    "y"
   ]
  },
  {
   "cell_type": "code",
   "execution_count": null,
   "metadata": {},
   "outputs": [],
   "source": []
  }
 ],
 "metadata": {
  "kernelspec": {
   "display_name": "Python 3",
   "language": "python",
   "name": "python3"
  },
  "language_info": {
   "codemirror_mode": {
    "name": "ipython",
    "version": 3
   },
   "file_extension": ".py",
   "mimetype": "text/x-python",
   "name": "python",
   "nbconvert_exporter": "python",
   "pygments_lexer": "ipython3",
   "version": "3.7.4"
  }
 },
 "nbformat": 4,
 "nbformat_minor": 2
}
