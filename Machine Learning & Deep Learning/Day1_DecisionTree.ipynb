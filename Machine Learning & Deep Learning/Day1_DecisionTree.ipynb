{
 "cells": [
  {
   "cell_type": "markdown",
   "metadata": {},
   "source": [
    "## Classification : Decision Tree  "
   ]
  },
  {
   "cell_type": "code",
   "execution_count": 1,
   "metadata": {},
   "outputs": [],
   "source": [
    "import pandas as pd\n",
    "import numpy as np\n",
    "import matplotlib.pyplot as plt\n",
    "import seaborn as sns\n",
    "from sklearn.model_selection import train_test_split\n",
    "from sklearn.tree import export_graphviz\n",
    "from sklearn import tree\n",
    "from sklearn import metrics\n",
    "%matplotlib inline"
   ]
  },
  {
   "cell_type": "code",
   "execution_count": 2,
   "metadata": {},
   "outputs": [
    {
     "ename": "FileNotFoundError",
     "evalue": "[Errno 2] File b'bank.csv' does not exist: b'bank.csv'",
     "output_type": "error",
     "traceback": [
      "\u001b[1;31m---------------------------------------------------------------------------\u001b[0m",
      "\u001b[1;31mFileNotFoundError\u001b[0m                         Traceback (most recent call last)",
      "\u001b[1;32m<ipython-input-2-893155a7ccfa>\u001b[0m in \u001b[0;36m<module>\u001b[1;34m\u001b[0m\n\u001b[0;32m      1\u001b[0m \u001b[1;31m#은행 데이터\u001b[0m\u001b[1;33m\u001b[0m\u001b[1;33m\u001b[0m\u001b[1;33m\u001b[0m\u001b[0m\n\u001b[1;32m----> 2\u001b[1;33m \u001b[0mbank\u001b[0m\u001b[1;33m=\u001b[0m\u001b[0mpd\u001b[0m\u001b[1;33m.\u001b[0m\u001b[0mread_csv\u001b[0m\u001b[1;33m(\u001b[0m\u001b[1;34m\"bank.csv\"\u001b[0m\u001b[1;33m)\u001b[0m\u001b[1;33m\u001b[0m\u001b[1;33m\u001b[0m\u001b[0m\n\u001b[0m\u001b[0;32m      3\u001b[0m \u001b[0mbank\u001b[0m\u001b[1;33m.\u001b[0m\u001b[0mhead\u001b[0m\u001b[1;33m(\u001b[0m\u001b[1;33m)\u001b[0m\u001b[1;33m\u001b[0m\u001b[1;33m\u001b[0m\u001b[0m\n",
      "\u001b[1;32m~\\Anaconda3\\lib\\site-packages\\pandas\\io\\parsers.py\u001b[0m in \u001b[0;36mparser_f\u001b[1;34m(filepath_or_buffer, sep, delimiter, header, names, index_col, usecols, squeeze, prefix, mangle_dupe_cols, dtype, engine, converters, true_values, false_values, skipinitialspace, skiprows, skipfooter, nrows, na_values, keep_default_na, na_filter, verbose, skip_blank_lines, parse_dates, infer_datetime_format, keep_date_col, date_parser, dayfirst, cache_dates, iterator, chunksize, compression, thousands, decimal, lineterminator, quotechar, quoting, doublequote, escapechar, comment, encoding, dialect, error_bad_lines, warn_bad_lines, delim_whitespace, low_memory, memory_map, float_precision)\u001b[0m\n\u001b[0;32m    683\u001b[0m         )\n\u001b[0;32m    684\u001b[0m \u001b[1;33m\u001b[0m\u001b[0m\n\u001b[1;32m--> 685\u001b[1;33m         \u001b[1;32mreturn\u001b[0m \u001b[0m_read\u001b[0m\u001b[1;33m(\u001b[0m\u001b[0mfilepath_or_buffer\u001b[0m\u001b[1;33m,\u001b[0m \u001b[0mkwds\u001b[0m\u001b[1;33m)\u001b[0m\u001b[1;33m\u001b[0m\u001b[1;33m\u001b[0m\u001b[0m\n\u001b[0m\u001b[0;32m    686\u001b[0m \u001b[1;33m\u001b[0m\u001b[0m\n\u001b[0;32m    687\u001b[0m     \u001b[0mparser_f\u001b[0m\u001b[1;33m.\u001b[0m\u001b[0m__name__\u001b[0m \u001b[1;33m=\u001b[0m \u001b[0mname\u001b[0m\u001b[1;33m\u001b[0m\u001b[1;33m\u001b[0m\u001b[0m\n",
      "\u001b[1;32m~\\Anaconda3\\lib\\site-packages\\pandas\\io\\parsers.py\u001b[0m in \u001b[0;36m_read\u001b[1;34m(filepath_or_buffer, kwds)\u001b[0m\n\u001b[0;32m    455\u001b[0m \u001b[1;33m\u001b[0m\u001b[0m\n\u001b[0;32m    456\u001b[0m     \u001b[1;31m# Create the parser.\u001b[0m\u001b[1;33m\u001b[0m\u001b[1;33m\u001b[0m\u001b[1;33m\u001b[0m\u001b[0m\n\u001b[1;32m--> 457\u001b[1;33m     \u001b[0mparser\u001b[0m \u001b[1;33m=\u001b[0m \u001b[0mTextFileReader\u001b[0m\u001b[1;33m(\u001b[0m\u001b[0mfp_or_buf\u001b[0m\u001b[1;33m,\u001b[0m \u001b[1;33m**\u001b[0m\u001b[0mkwds\u001b[0m\u001b[1;33m)\u001b[0m\u001b[1;33m\u001b[0m\u001b[1;33m\u001b[0m\u001b[0m\n\u001b[0m\u001b[0;32m    458\u001b[0m \u001b[1;33m\u001b[0m\u001b[0m\n\u001b[0;32m    459\u001b[0m     \u001b[1;32mif\u001b[0m \u001b[0mchunksize\u001b[0m \u001b[1;32mor\u001b[0m \u001b[0miterator\u001b[0m\u001b[1;33m:\u001b[0m\u001b[1;33m\u001b[0m\u001b[1;33m\u001b[0m\u001b[0m\n",
      "\u001b[1;32m~\\Anaconda3\\lib\\site-packages\\pandas\\io\\parsers.py\u001b[0m in \u001b[0;36m__init__\u001b[1;34m(self, f, engine, **kwds)\u001b[0m\n\u001b[0;32m    893\u001b[0m             \u001b[0mself\u001b[0m\u001b[1;33m.\u001b[0m\u001b[0moptions\u001b[0m\u001b[1;33m[\u001b[0m\u001b[1;34m\"has_index_names\"\u001b[0m\u001b[1;33m]\u001b[0m \u001b[1;33m=\u001b[0m \u001b[0mkwds\u001b[0m\u001b[1;33m[\u001b[0m\u001b[1;34m\"has_index_names\"\u001b[0m\u001b[1;33m]\u001b[0m\u001b[1;33m\u001b[0m\u001b[1;33m\u001b[0m\u001b[0m\n\u001b[0;32m    894\u001b[0m \u001b[1;33m\u001b[0m\u001b[0m\n\u001b[1;32m--> 895\u001b[1;33m         \u001b[0mself\u001b[0m\u001b[1;33m.\u001b[0m\u001b[0m_make_engine\u001b[0m\u001b[1;33m(\u001b[0m\u001b[0mself\u001b[0m\u001b[1;33m.\u001b[0m\u001b[0mengine\u001b[0m\u001b[1;33m)\u001b[0m\u001b[1;33m\u001b[0m\u001b[1;33m\u001b[0m\u001b[0m\n\u001b[0m\u001b[0;32m    896\u001b[0m \u001b[1;33m\u001b[0m\u001b[0m\n\u001b[0;32m    897\u001b[0m     \u001b[1;32mdef\u001b[0m \u001b[0mclose\u001b[0m\u001b[1;33m(\u001b[0m\u001b[0mself\u001b[0m\u001b[1;33m)\u001b[0m\u001b[1;33m:\u001b[0m\u001b[1;33m\u001b[0m\u001b[1;33m\u001b[0m\u001b[0m\n",
      "\u001b[1;32m~\\Anaconda3\\lib\\site-packages\\pandas\\io\\parsers.py\u001b[0m in \u001b[0;36m_make_engine\u001b[1;34m(self, engine)\u001b[0m\n\u001b[0;32m   1133\u001b[0m     \u001b[1;32mdef\u001b[0m \u001b[0m_make_engine\u001b[0m\u001b[1;33m(\u001b[0m\u001b[0mself\u001b[0m\u001b[1;33m,\u001b[0m \u001b[0mengine\u001b[0m\u001b[1;33m=\u001b[0m\u001b[1;34m\"c\"\u001b[0m\u001b[1;33m)\u001b[0m\u001b[1;33m:\u001b[0m\u001b[1;33m\u001b[0m\u001b[1;33m\u001b[0m\u001b[0m\n\u001b[0;32m   1134\u001b[0m         \u001b[1;32mif\u001b[0m \u001b[0mengine\u001b[0m \u001b[1;33m==\u001b[0m \u001b[1;34m\"c\"\u001b[0m\u001b[1;33m:\u001b[0m\u001b[1;33m\u001b[0m\u001b[1;33m\u001b[0m\u001b[0m\n\u001b[1;32m-> 1135\u001b[1;33m             \u001b[0mself\u001b[0m\u001b[1;33m.\u001b[0m\u001b[0m_engine\u001b[0m \u001b[1;33m=\u001b[0m \u001b[0mCParserWrapper\u001b[0m\u001b[1;33m(\u001b[0m\u001b[0mself\u001b[0m\u001b[1;33m.\u001b[0m\u001b[0mf\u001b[0m\u001b[1;33m,\u001b[0m \u001b[1;33m**\u001b[0m\u001b[0mself\u001b[0m\u001b[1;33m.\u001b[0m\u001b[0moptions\u001b[0m\u001b[1;33m)\u001b[0m\u001b[1;33m\u001b[0m\u001b[1;33m\u001b[0m\u001b[0m\n\u001b[0m\u001b[0;32m   1136\u001b[0m         \u001b[1;32melse\u001b[0m\u001b[1;33m:\u001b[0m\u001b[1;33m\u001b[0m\u001b[1;33m\u001b[0m\u001b[0m\n\u001b[0;32m   1137\u001b[0m             \u001b[1;32mif\u001b[0m \u001b[0mengine\u001b[0m \u001b[1;33m==\u001b[0m \u001b[1;34m\"python\"\u001b[0m\u001b[1;33m:\u001b[0m\u001b[1;33m\u001b[0m\u001b[1;33m\u001b[0m\u001b[0m\n",
      "\u001b[1;32m~\\Anaconda3\\lib\\site-packages\\pandas\\io\\parsers.py\u001b[0m in \u001b[0;36m__init__\u001b[1;34m(self, src, **kwds)\u001b[0m\n\u001b[0;32m   1915\u001b[0m         \u001b[0mkwds\u001b[0m\u001b[1;33m[\u001b[0m\u001b[1;34m\"usecols\"\u001b[0m\u001b[1;33m]\u001b[0m \u001b[1;33m=\u001b[0m \u001b[0mself\u001b[0m\u001b[1;33m.\u001b[0m\u001b[0musecols\u001b[0m\u001b[1;33m\u001b[0m\u001b[1;33m\u001b[0m\u001b[0m\n\u001b[0;32m   1916\u001b[0m \u001b[1;33m\u001b[0m\u001b[0m\n\u001b[1;32m-> 1917\u001b[1;33m         \u001b[0mself\u001b[0m\u001b[1;33m.\u001b[0m\u001b[0m_reader\u001b[0m \u001b[1;33m=\u001b[0m \u001b[0mparsers\u001b[0m\u001b[1;33m.\u001b[0m\u001b[0mTextReader\u001b[0m\u001b[1;33m(\u001b[0m\u001b[0msrc\u001b[0m\u001b[1;33m,\u001b[0m \u001b[1;33m**\u001b[0m\u001b[0mkwds\u001b[0m\u001b[1;33m)\u001b[0m\u001b[1;33m\u001b[0m\u001b[1;33m\u001b[0m\u001b[0m\n\u001b[0m\u001b[0;32m   1918\u001b[0m         \u001b[0mself\u001b[0m\u001b[1;33m.\u001b[0m\u001b[0munnamed_cols\u001b[0m \u001b[1;33m=\u001b[0m \u001b[0mself\u001b[0m\u001b[1;33m.\u001b[0m\u001b[0m_reader\u001b[0m\u001b[1;33m.\u001b[0m\u001b[0munnamed_cols\u001b[0m\u001b[1;33m\u001b[0m\u001b[1;33m\u001b[0m\u001b[0m\n\u001b[0;32m   1919\u001b[0m \u001b[1;33m\u001b[0m\u001b[0m\n",
      "\u001b[1;32mpandas\\_libs\\parsers.pyx\u001b[0m in \u001b[0;36mpandas._libs.parsers.TextReader.__cinit__\u001b[1;34m()\u001b[0m\n",
      "\u001b[1;32mpandas\\_libs\\parsers.pyx\u001b[0m in \u001b[0;36mpandas._libs.parsers.TextReader._setup_parser_source\u001b[1;34m()\u001b[0m\n",
      "\u001b[1;31mFileNotFoundError\u001b[0m: [Errno 2] File b'bank.csv' does not exist: b'bank.csv'"
     ]
    }
   ],
   "source": [
    "#은행 데이터\n",
    "bank=pd.read_csv(\"bank.csv\")\n",
    "bank.head()"
   ]
  },
  {
   "cell_type": "markdown",
   "metadata": {},
   "source": [
    "### EDA"
   ]
  },
  {
   "cell_type": "code",
   "execution_count": null,
   "metadata": {},
   "outputs": [],
   "source": [
    "bank.info()\n",
    "bank.isnull().sum()"
   ]
  },
  {
   "cell_type": "code",
   "execution_count": null,
   "metadata": {},
   "outputs": [],
   "source": [
    "bank.describe()"
   ]
  },
  {
   "cell_type": "code",
   "execution_count": null,
   "metadata": {},
   "outputs": [],
   "source": [
    "sns.boxplot(x=bank[\"age\"])"
   ]
  },
  {
   "cell_type": "code",
   "execution_count": null,
   "metadata": {},
   "outputs": [],
   "source": [
    "sns.distplot(bank.age, bins=100)"
   ]
  },
  {
   "cell_type": "code",
   "execution_count": null,
   "metadata": {},
   "outputs": [],
   "source": [
    "sns.boxplot(x=bank[\"duration\"])"
   ]
  },
  {
   "cell_type": "code",
   "execution_count": null,
   "metadata": {},
   "outputs": [],
   "source": [
    "bankData=bank.copy()"
   ]
  },
  {
   "cell_type": "code",
   "execution_count": null,
   "metadata": {},
   "outputs": [],
   "source": [
    "bankData.columns"
   ]
  },
  {
   "cell_type": "code",
   "execution_count": null,
   "metadata": {},
   "outputs": [],
   "source": [
    "bankData[\"job\"].value_counts()"
   ]
  },
  {
   "cell_type": "code",
   "execution_count": null,
   "metadata": {},
   "outputs": [],
   "source": [
    "bankData.groupby(\"job\").size()"
   ]
  },
  {
   "cell_type": "code",
   "execution_count": null,
   "metadata": {},
   "outputs": [],
   "source": [
    "bankData[(bankData[\"job\"]==\"admin.\") & (bankData[\"deposit\"]==\"yes\")]"
   ]
  },
  {
   "cell_type": "code",
   "execution_count": null,
   "metadata": {},
   "outputs": [],
   "source": [
    "jobs=list(set(bankData.job.values))"
   ]
  },
  {
   "cell_type": "code",
   "execution_count": null,
   "metadata": {},
   "outputs": [],
   "source": [
    "for job in jobs:\n",
    "    print(\"{:15}:{:5}\".format(job, len(bankData[(bankData[\"deposit\"]==\"yes\") & (bankData[\"job\"]==job)])))"
   ]
  },
  {
   "cell_type": "code",
   "execution_count": null,
   "metadata": {},
   "outputs": [],
   "source": [
    "bankData[\"job\"]=bankData[\"job\"].replace([\"admin.\",\"management\"],\"white-collar\")\n",
    "bankData[\"job\"]=bankData[\"job\"].replace([\"services\",\"housemaid\"],\"pink-collar\")\n",
    "bankData[\"job\"]=bankData[\"job\"].replace([\"student\",\"self-employed\",\"technician\",\"entrepreneur\",\"unknown\",\"unemployed\",\"retired\",\"blue-collar\"],\"other\")"
   ]
  },
  {
   "cell_type": "code",
   "execution_count": null,
   "metadata": {},
   "outputs": [],
   "source": [
    "bankData[\"job\"].value_counts()"
   ]
  },
  {
   "cell_type": "code",
   "execution_count": null,
   "metadata": {},
   "outputs": [],
   "source": [
    "bankData[\"poutcome\"].value_counts()"
   ]
  },
  {
   "cell_type": "code",
   "execution_count": null,
   "metadata": {},
   "outputs": [],
   "source": [
    "bankData[\"poutcome\"]=bankData[\"poutcome\"].replace(\"other\",\"unknown\")"
   ]
  },
  {
   "cell_type": "code",
   "execution_count": null,
   "metadata": {},
   "outputs": [],
   "source": [
    "bankData[\"poutcome\"].value_counts()"
   ]
  },
  {
   "cell_type": "code",
   "execution_count": null,
   "metadata": {},
   "outputs": [],
   "source": [
    "bankData[\"contact\"].value_counts()"
   ]
  },
  {
   "cell_type": "code",
   "execution_count": null,
   "metadata": {},
   "outputs": [],
   "source": [
    "bankData.drop(\"contact\",axis=1, inplace=True)"
   ]
  },
  {
   "cell_type": "code",
   "execution_count": null,
   "metadata": {},
   "outputs": [],
   "source": [
    "bankData.info()"
   ]
  },
  {
   "cell_type": "code",
   "execution_count": null,
   "metadata": {},
   "outputs": [],
   "source": [
    "bankData[\"default\"].value_counts()"
   ]
  },
  {
   "cell_type": "code",
   "execution_count": null,
   "metadata": {},
   "outputs": [],
   "source": [
    "bankData[\"default_cat\"]=np.where(bankData[\"default\"]==\"yes\",1,0) #방법1\n",
    "bankData[\"default_cat\"]=bankData[\"default\"].map({\"yes\":1,\"no\":0}) #방법2"
   ]
  },
  {
   "cell_type": "code",
   "execution_count": null,
   "metadata": {},
   "outputs": [],
   "source": [
    "bankData.drop(\"default\",axis=1,inplace=True)"
   ]
  },
  {
   "cell_type": "code",
   "execution_count": null,
   "metadata": {},
   "outputs": [],
   "source": [
    "bankData"
   ]
  },
  {
   "cell_type": "code",
   "execution_count": null,
   "metadata": {},
   "outputs": [],
   "source": [
    "bankData[\"housing_cat\"]=np.where(bankData[\"housing\"]==\"yes\",1,0)\n",
    "bankData.drop(\"housing\",axis=1,inplace=True)"
   ]
  },
  {
   "cell_type": "code",
   "execution_count": null,
   "metadata": {},
   "outputs": [],
   "source": [
    "bankData[\"loan_cat\"]=np.where(bankData[\"loan\"]==\"yes\",1,0)\n",
    "bankData.drop(\"loan\",axis=1,inplace=True)"
   ]
  },
  {
   "cell_type": "code",
   "execution_count": null,
   "metadata": {},
   "outputs": [],
   "source": [
    "bankData[\"deposit_cat\"]=np.where(bankData[\"deposit\"]==\"yes\",1,0)\n",
    "bankData.drop(\"deposit\",axis=1,inplace=True)"
   ]
  },
  {
   "cell_type": "code",
   "execution_count": null,
   "metadata": {},
   "outputs": [],
   "source": [
    "bankData"
   ]
  },
  {
   "cell_type": "code",
   "execution_count": null,
   "metadata": {},
   "outputs": [],
   "source": [
    "bankData.drop(\"month\",axis=1,inplace=True)\n",
    "bankData.drop(\"day\",axis=1,inplace=True)"
   ]
  },
  {
   "cell_type": "code",
   "execution_count": null,
   "metadata": {},
   "outputs": [],
   "source": [
    "bankData"
   ]
  },
  {
   "cell_type": "code",
   "execution_count": null,
   "metadata": {},
   "outputs": [],
   "source": [
    "#bankData[\"pdays\"]==-1를 모두 10000으로 변경\n",
    "bankData[\"pdays\"]=np.where(bankData[\"pdays\"]==-1,10000,bankData[\"pdays\"])"
   ]
  },
  {
   "cell_type": "code",
   "execution_count": null,
   "metadata": {},
   "outputs": [],
   "source": [
    "bankData[\"recent_pdays\"]=np.where(bankData[\"pdays\"], 1/bankData[\"pdays\"],1/bankData[\"pdays\"] )"
   ]
  },
  {
   "cell_type": "code",
   "execution_count": null,
   "metadata": {},
   "outputs": [],
   "source": [
    "bankData[\"recent_pdays\"]"
   ]
  },
  {
   "cell_type": "code",
   "execution_count": null,
   "metadata": {},
   "outputs": [],
   "source": [
    "bankData.drop(\"pdays\",axis=1,inplace=True)"
   ]
  },
  {
   "cell_type": "code",
   "execution_count": null,
   "metadata": {},
   "outputs": [],
   "source": [
    "bankData"
   ]
  },
  {
   "cell_type": "code",
   "execution_count": null,
   "metadata": {},
   "outputs": [],
   "source": [
    "bankWithDummies=pd.get_dummies(data=bankData, columns=[\"job\",\"marital\",\"education\",\"poutcome\"], prefix=[\"job\",\"marital\",\"education\",\"poutcome\"])"
   ]
  },
  {
   "cell_type": "code",
   "execution_count": null,
   "metadata": {},
   "outputs": [],
   "source": [
    "bankWithDummies"
   ]
  },
  {
   "cell_type": "code",
   "execution_count": null,
   "metadata": {},
   "outputs": [],
   "source": [
    "bankWithDummies.plot(kind=\"scatter\", x=\"age\", y=\"balance\")"
   ]
  },
  {
   "cell_type": "code",
   "execution_count": null,
   "metadata": {},
   "outputs": [],
   "source": [
    "bankWithDummies.plot(kind=\"hist\", x=\"poutcome_success\", y=\"duration\")"
   ]
  },
  {
   "cell_type": "code",
   "execution_count": null,
   "metadata": {},
   "outputs": [],
   "source": [
    "bankWithDummies[bankData.deposit_cat==1].describe()"
   ]
  },
  {
   "cell_type": "code",
   "execution_count": null,
   "metadata": {},
   "outputs": [],
   "source": [
    "bankWithDummies[(bankWithDummies.deposit_cat==1)&(bankWithDummies.loan_cat)&(bankWithDummies.housing_cat)]"
   ]
  },
  {
   "cell_type": "code",
   "execution_count": null,
   "metadata": {},
   "outputs": [],
   "source": [
    "len(bankWithDummies[(bankWithDummies[\"deposit_cat\"]==1) & (bankWithDummies[\"default_cat\"]==1)])\n",
    "#52명은 정기예금 가입 및 채무불이향도 한 경우"
   ]
  },
  {
   "cell_type": "code",
   "execution_count": null,
   "metadata": {},
   "outputs": [],
   "source": [
    "plt.figure(figsize=(10,8))\n",
    "sns.barplot(x=\"job\", y=\"deposit_cat\", data=bankData)"
   ]
  },
  {
   "cell_type": "code",
   "execution_count": null,
   "metadata": {},
   "outputs": [],
   "source": [
    "bankData\n",
    "bankWithDummies"
   ]
  },
  {
   "cell_type": "code",
   "execution_count": null,
   "metadata": {},
   "outputs": [],
   "source": [
    "bankwd=bankWithDummies\n",
    "corr=bankwd.corr()"
   ]
  },
  {
   "cell_type": "code",
   "execution_count": null,
   "metadata": {},
   "outputs": [],
   "source": [
    "plt.figure(figsize=(15,15))\n",
    "cmap=sns.diverging_palette(220,10, as_cmap=True)\n",
    "sns.heatmap(corr, cmap=cmap, linewidth=1, square=True, annot=True, vmin= 0.2 ,vmax=0.9)"
   ]
  },
  {
   "cell_type": "code",
   "execution_count": null,
   "metadata": {},
   "outputs": [],
   "source": [
    "corr_deposit=pd.DataFrame(corr[\"deposit_cat\"].drop(\"deposit_cat\"))"
   ]
  },
  {
   "cell_type": "code",
   "execution_count": null,
   "metadata": {},
   "outputs": [],
   "source": [
    "corr_deposit[\"deposit_cat\"].sort_values(ascending=False)\n",
    "#양의 상관관계가 가장 높은 것은 durantion.poutcome_success"
   ]
  },
  {
   "cell_type": "code",
   "execution_count": null,
   "metadata": {},
   "outputs": [],
   "source": [
    "#모델 \n",
    "dropDeposit= bankwd.drop(\"deposit_cat\",1) #입력\n",
    "label=bankwd.deposit_cat"
   ]
  },
  {
   "cell_type": "code",
   "execution_count": null,
   "metadata": {},
   "outputs": [],
   "source": [
    "dataTrain, dataTest, labelTrain, labelTest=train_test_split(dropDeposit,label, train_size=0.2, random_state=42)"
   ]
  },
  {
   "cell_type": "code",
   "execution_count": null,
   "metadata": {},
   "outputs": [],
   "source": [
    "dt2=tree.DecisionTreeClassifier(max_depth=10)\n",
    "dt2.fit(dataTrain, labelTrain)\n",
    "dt2_sc_train=dt2.score(dataTrain, labelTrain)\n",
    "dt2_sc_test=dt2.score(dataTest, labelTest)"
   ]
  },
  {
   "cell_type": "code",
   "execution_count": null,
   "metadata": {},
   "outputs": [],
   "source": [
    "print(\"트레이닝 스코어:\", dt2_sc_train)\n",
    "print(\"테스트 스코어:\", dt2_sc_test)"
   ]
  },
  {
   "cell_type": "markdown",
   "metadata": {},
   "source": [
    "## 연습문제(타이타닉 데이터셋)\n",
    "-생존여부(출력변수)\n",
    "\n",
    "-decision Tree(최적 depth)\n",
    "\n",
    "-train과 test정확도"
   ]
  },
  {
   "cell_type": "code",
   "execution_count": null,
   "metadata": {},
   "outputs": [],
   "source": [
    "import pandas as pd\n",
    "import numpy as np\n",
    "import matplotlib.pyplot as plt\n",
    "import seaborn as sns\n",
    "from sklearn.model_selection import train_test_split\n",
    "from sklearn.tree import export_graphviz\n",
    "from sklearn import tree\n",
    "from sklearn import metrics\n",
    "%matplotlib inline"
   ]
  },
  {
   "cell_type": "code",
   "execution_count": null,
   "metadata": {},
   "outputs": [],
   "source": [
    "train=pd.read_csv(\"titanic/train.csv\")\n",
    "test=pd.read_csv(\"titanic/test.csv\")\n",
    "train"
   ]
  },
  {
   "cell_type": "code",
   "execution_count": null,
   "metadata": {},
   "outputs": [],
   "source": [
    "#Train/Test Null값 확인\n",
    "\n",
    "print(train.isnull().sum()) #Age 177 , Cabin 687, Embarked 2\n",
    "print(test.isnull().sum())  #Age 86 , Cabin 327, Fare 1"
   ]
  },
  {
   "cell_type": "code",
   "execution_count": null,
   "metadata": {},
   "outputs": [],
   "source": [
    "train[\"Survived\"].value_counts()"
   ]
  },
  {
   "cell_type": "code",
   "execution_count": null,
   "metadata": {},
   "outputs": [],
   "source": [
    "#Age컬럼 0,1로 변환\n",
    "train[\"Sex\"]=np.where(train[\"Sex\"]==\"male\",0,1)\n",
    "test[\"Sex\"]=np.where(test[\"Sex\"]==\"male\",0,1)"
   ]
  },
  {
   "cell_type": "code",
   "execution_count": null,
   "metadata": {},
   "outputs": [],
   "source": [
    "# Embarked Null 값이 들어있는 컬럼 제거\n",
    "train[\"Embarked\"].dropna(inplace=True)"
   ]
  },
  {
   "cell_type": "code",
   "execution_count": null,
   "metadata": {},
   "outputs": [],
   "source": [
    "train[\"Embarked\"].isnull().sum()"
   ]
  },
  {
   "cell_type": "code",
   "execution_count": null,
   "metadata": {},
   "outputs": [],
   "source": [
    "#Pclass,Embarked 원핫인코딩\n",
    "titanicDummies_Train=pd.get_dummies(data=train, columns=[\"Embarked\",\"Pclass\"], prefix=[\"Embarked\",\"Pclass\"])\n",
    "titanicDummies_Train\n",
    "\n",
    "titanicDummies_Test=pd.get_dummies(data=test, columns=[\"Embarked\",\"Pclass\"], prefix=[\"Embarked\",\"Pclass\"])\n",
    "titanicDummies_Test"
   ]
  },
  {
   "cell_type": "markdown",
   "metadata": {},
   "source": [
    "#### Age의 Null 값, Name 호칭의 평균나이로 대체   "
   ]
  },
  {
   "cell_type": "code",
   "execution_count": null,
   "metadata": {},
   "outputs": [],
   "source": [
    "#호칭 추출\n",
    "titanicDummies_Train[\"title\"]=titanicDummies_Train[\"Name\"].str.extract(\" ([A-Za-z]+)\\.\")\n",
    "titanicDummies_Train[\"title\"].value_counts()"
   ]
  },
  {
   "cell_type": "code",
   "execution_count": null,
   "metadata": {},
   "outputs": [],
   "source": [
    "titanicDummies_Test[\"title\"]=titanicDummies_Test[\"Name\"].str.extract(\" ([A-Za-z]+)\\.\")\n",
    "titanicDummies_Test[\"title\"].value_counts()"
   ]
  },
  {
   "cell_type": "code",
   "execution_count": null,
   "metadata": {},
   "outputs": [],
   "source": [
    "#Age가 Null인 호칭 확인\n",
    "titanicDummies_Train[titanicDummies_Train[\"Age\"].isnull()].groupby(\"title\")[\"Age\"].size() "
   ]
  },
  {
   "cell_type": "code",
   "execution_count": null,
   "metadata": {},
   "outputs": [],
   "source": [
    "titanicDummies_Test[titanicDummies_Test[\"Age\"].isnull()].groupby(\"title\")[\"Age\"].size()"
   ]
  },
  {
   "cell_type": "markdown",
   "metadata": {},
   "source": [
    "#### Train 데이터 Age컬럼 Null값 채우기  "
   ]
  },
  {
   "cell_type": "code",
   "execution_count": null,
   "metadata": {},
   "outputs": [],
   "source": [
    "print(titanicDummies_Train[titanicDummies_Train[\"title\"]==\"Mr\"][\"Age\"].mean()) #32.4\n",
    "print(titanicDummies_Train[titanicDummies_Train[\"title\"]==\"Miss\"][\"Age\"].mean()) #21.8\n",
    "print(titanicDummies_Train[titanicDummies_Train[\"title\"]==\"Mrs\"][\"Age\"].mean()) #35.9\n",
    "print(titanicDummies_Train[titanicDummies_Train[\"title\"]==\"Dr\"][\"Age\"].mean()) #42.0\n",
    "print(titanicDummies_Train[titanicDummies_Train[\"title\"]==\"Master\"][\"Age\"].mean()) #4.6"
   ]
  },
  {
   "cell_type": "code",
   "execution_count": null,
   "metadata": {},
   "outputs": [],
   "source": [
    "titanicDummies_Train.loc[titanicDummies_Train[\"title\"]==\"Mr\",\"Age\"]=titanicDummies_Train.loc[titanicDummies_Train[\"title\"]==\"Mr\",\"Age\"].fillna(32.4)\n",
    "titanicDummies_Train.loc[titanicDummies_Train[\"title\"]==\"Miss\",\"Age\"]=titanicDummies_Train.loc[titanicDummies_Train[\"title\"]==\"Miss\",\"Age\"].fillna(21.8)\n",
    "titanicDummies_Train.loc[titanicDummies_Train[\"title\"]==\"Mrs\",\"Age\"]=titanicDummies_Train.loc[titanicDummies_Train[\"title\"]==\"Mrs\",\"Age\"].fillna(35.9)\n",
    "titanicDummies_Train.loc[titanicDummies_Train[\"title\"]==\"Dr\",\"Age\"]=titanicDummies_Train.loc[titanicDummies_Train[\"title\"]==\"Dr\",\"Age\"].fillna(42.0)\n",
    "titanicDummies_Train.loc[titanicDummies_Train[\"title\"]==\"Master\",\"Age\"]=titanicDummies_Train.loc[titanicDummies_Train[\"title\"]==\"Master\",\"Age\"].fillna(4.6)"
   ]
  },
  {
   "cell_type": "code",
   "execution_count": null,
   "metadata": {},
   "outputs": [],
   "source": [
    "#확인\n",
    "titanicDummies_Train[(titanicDummies_Train[\"title\"]==\"Dr\")][\"Age\"].isnull().sum()"
   ]
  },
  {
   "cell_type": "code",
   "execution_count": null,
   "metadata": {},
   "outputs": [],
   "source": [
    "titanicDummies_Train[(titanicDummies_Train[\"title\"]==\"Dr\")][\"Age\"]"
   ]
  },
  {
   "cell_type": "code",
   "execution_count": null,
   "metadata": {},
   "outputs": [],
   "source": [
    "print(titanicDummies_Test[titanicDummies_Test[\"title\"]==\"Master\"][\"Age\"].mean()) #7.4\n",
    "print(titanicDummies_Test[titanicDummies_Test[\"title\"]==\"Miss\"][\"Age\"].mean()) #21.8\n",
    "print(titanicDummies_Test[titanicDummies_Test[\"title\"]==\"Mr\"][\"Age\"].mean()) #32.0\n",
    "print(titanicDummies_Test[titanicDummies_Test[\"title\"]==\"Mrs\"][\"Age\"].mean()) #38.9\n",
    "print(titanicDummies_Test[titanicDummies_Test[\"title\"]==\"Ms\"][\"Age\"].mean()) #nan"
   ]
  },
  {
   "cell_type": "code",
   "execution_count": null,
   "metadata": {},
   "outputs": [],
   "source": [
    "titanicDummies_Test.loc[titanicDummies_Test[\"title\"]==\"Master\",\"Age\"]=titanicDummies_Test.loc[titanicDummies_Test[\"title\"]==\"Master\",\"Age\"].fillna(7.4)\n",
    "titanicDummies_Test.loc[titanicDummies_Test[\"title\"]==\"Miss\",\"Age\"]=titanicDummies_Test.loc[titanicDummies_Test[\"title\"]==\"Miss\",\"Age\"].fillna(21.8)\n",
    "titanicDummies_Test.loc[titanicDummies_Test[\"title\"]==\"Mr\",\"Age\"]=titanicDummies_Test.loc[titanicDummies_Test[\"title\"]==\"Mr\",\"Age\"].fillna(32.0)\n",
    "titanicDummies_Test.loc[titanicDummies_Test[\"title\"]==\"Mrs\",\"Age\"]=titanicDummies_Test.loc[titanicDummies_Test[\"title\"]==\"Mrs\",\"Age\"].fillna(38.9)"
   ]
  },
  {
   "cell_type": "code",
   "execution_count": null,
   "metadata": {},
   "outputs": [],
   "source": [
    "titanicDummies_Train[titanicDummies_Train[\"Age\"].isnull()]"
   ]
  },
  {
   "cell_type": "code",
   "execution_count": null,
   "metadata": {},
   "outputs": [],
   "source": [
    "titanicDummies_Test[titanicDummies_Test[\"Age\"].isnull()]"
   ]
  },
  {
   "cell_type": "code",
   "execution_count": null,
   "metadata": {},
   "outputs": [],
   "source": [
    "titanicDummies_Test[titanicDummies_Test[\"Fare\"]==7.75][\"Age\"].mean() #28.3"
   ]
  },
  {
   "cell_type": "code",
   "execution_count": null,
   "metadata": {},
   "outputs": [],
   "source": [
    "titanicDummies_Test.loc[titanicDummies_Test[\"title\"]==\"Ms\",\"Age\"]=titanicDummies_Test.loc[titanicDummies_Test[\"title\"]==\"Ms\",\"Age\"].fillna(28.3)"
   ]
  },
  {
   "cell_type": "code",
   "execution_count": null,
   "metadata": {},
   "outputs": [],
   "source": [
    "#train/test 데이터에서 \"승객 id, 이름 , 티켓, 케빈\" 모델에 필요없는 컬럼 제거\n",
    "\n",
    "trainX=titanicDummies_Train.drop([\"PassengerId\",\"Name\",\"Ticket\",\"Cabin\",\"title\"],axis=1)\n",
    "trainX\n",
    "\n",
    "testX=titanicDummies_Test.drop([\"PassengerId\",\"Name\",\"Ticket\",\"Cabin\",\"title\"],axis=1)\n",
    "testX"
   ]
  },
  {
   "cell_type": "code",
   "execution_count": null,
   "metadata": {},
   "outputs": [],
   "source": [
    "trainX"
   ]
  },
  {
   "cell_type": "code",
   "execution_count": null,
   "metadata": {},
   "outputs": [],
   "source": [
    "corr=trainX.corr()\n",
    "\n",
    "plt.figure(figsize=(12,12))\n",
    "cmap=sns.diverging_palette(220,10, as_cmap=True)\n",
    "sns.heatmap(corr, cmap=cmap, linewidth=1, square=True, annot=True, vmin= 0.2 ,vmax=0.9)"
   ]
  },
  {
   "cell_type": "code",
   "execution_count": null,
   "metadata": {},
   "outputs": [],
   "source": [
    "trainX.shape"
   ]
  },
  {
   "cell_type": "code",
   "execution_count": null,
   "metadata": {},
   "outputs": [],
   "source": [
    "testX.shape"
   ]
  },
  {
   "cell_type": "code",
   "execution_count": null,
   "metadata": {},
   "outputs": [],
   "source": [
    "#상관관계로 fare의 Null값 채우기.\n",
    "corr=testX.corr()\n",
    "\n",
    "plt.figure(figsize=(12,12))\n",
    "cmap=sns.diverging_palette(220,10, as_cmap=True)\n",
    "sns.heatmap(corr, cmap=cmap, linewidth=1, square=True, annot=True, vmin= 0.2 ,vmax=0.9)"
   ]
  },
  {
   "cell_type": "code",
   "execution_count": null,
   "metadata": {},
   "outputs": [],
   "source": [
    "testX[(testX[\"Pclass_3\"]==1)&(testX[\"Embarked_S\"]==1)][\"Age\"].sort_values(ascending=False) #25"
   ]
  },
  {
   "cell_type": "code",
   "execution_count": null,
   "metadata": {},
   "outputs": [],
   "source": [
    "testX[testX.index==25]"
   ]
  },
  {
   "cell_type": "code",
   "execution_count": null,
   "metadata": {},
   "outputs": [],
   "source": [
    "testX[testX[\"Fare\"].isnull()] #14.5로 대체"
   ]
  },
  {
   "cell_type": "code",
   "execution_count": null,
   "metadata": {},
   "outputs": [],
   "source": [
    "testX[\"Fare\"]=testX[\"Fare\"].fillna(14.5)"
   ]
  },
  {
   "cell_type": "code",
   "execution_count": null,
   "metadata": {},
   "outputs": [],
   "source": [
    "testX[\"Fare\"]"
   ]
  },
  {
   "cell_type": "code",
   "execution_count": null,
   "metadata": {},
   "outputs": [],
   "source": [
    "#정답데이터\n",
    "X_label=trainX[\"Survived\"]  #분류예측값\n",
    "trainX= trainX.drop(\"Survived\",1) #입력"
   ]
  },
  {
   "cell_type": "code",
   "execution_count": null,
   "metadata": {},
   "outputs": [],
   "source": [
    "from sklearn.preprocessing import MinMaxScaler\n",
    "\n",
    "# 데이터 정규화\n",
    "scaler = MinMaxScaler()\n",
    "\n",
    "train_final = scaler.fit_transform(np.array(trainX))\n",
    "test_final= scaler.fit_transform(np.array(testX))"
   ]
  },
  {
   "cell_type": "markdown",
   "metadata": {},
   "source": [
    "## SVC "
   ]
  },
  {
   "cell_type": "code",
   "execution_count": null,
   "metadata": {},
   "outputs": [],
   "source": [
    "from sklearn.model_selection import GridSearchCV\n",
    "from sklearn.svm import SVC\n",
    "\n",
    "param = {'C':[1,5,10,20,40,100],\n",
    "         'gamma':[.1, .25, .5, 1]}\n",
    "\n",
    "GS = GridSearchCV(SVC(kernel='rbf'), param, cv = 5) #최적의 param값 찾아줌.\n",
    "\n",
    "GS.fit(train_final, X_label)\n",
    "\n",
    "print(GS.best_params_) #C: 10, gamma: 0.5 일때\n",
    "print(GS.best_score_) #0.8226711560044894\n",
    "\n",
    "\n",
    "# 모델 생성\n",
    "model = SVC(kernel='rbf', C=10, gamma=0.5).fit(train_final, X_label)\n",
    "\n",
    "prediction_SVC = model.predict(test_final)\n",
    "prediction_SVC\n",
    "\n",
    "# 결과 데이터 csv 생성\n",
    "sub = pd.read_csv('titanic/gender_submission.csv')\n",
    "sub['Survived'] = prediction_SVC\n",
    "sub.to_csv('submission_svc.csv', index=False)\n",
    "\n",
    "#Kaggle upload result: 0.78468"
   ]
  },
  {
   "cell_type": "markdown",
   "metadata": {},
   "source": [
    "## Decision Tree Model"
   ]
  },
  {
   "cell_type": "code",
   "execution_count": null,
   "metadata": {},
   "outputs": [],
   "source": [
    "#모델생성\n",
    "decision_tree =tree.DecisionTreeClassifier(max_depth=15)\n",
    "decision_tree.fit(train_final, X_label)\n",
    "Y_pred = decision_tree.predict(test_final)"
   ]
  },
  {
   "cell_type": "code",
   "execution_count": null,
   "metadata": {},
   "outputs": [],
   "source": [
    "sub = pd.read_csv(\"titanic/gender_submission.csv\")\n",
    "sub[\"Survived\"] = Y_pred\n",
    "sub.to_csv(\"submission_titanic.csv\",index=False)\n",
    "pd.read_csv(\"submission_titanic.csv\")"
   ]
  },
  {
   "cell_type": "code",
   "execution_count": null,
   "metadata": {},
   "outputs": [],
   "source": [
    "#Train data에서 Train/Test Split해서 모델 성능평가\n",
    "dataTrain,dataTest,labelTrain,labelTest = train_test_split(train_final,X_label,train_size=0.8,random_state=42)"
   ]
  },
  {
   "cell_type": "code",
   "execution_count": null,
   "metadata": {},
   "outputs": [],
   "source": [
    "dt=tree.DecisionTreeClassifier(max_depth=10)\n",
    "model = dt.fit(dataTrain,labelTrain)\n",
    "dt_sc_train=dt.score(dataTrain, labelTrain)\n",
    "dt_sc_test=dt.score(dataTest, labelTest)\n",
    "\n",
    "print(\"트레이닝 스코어:\", dt_sc_train) #0.922752808988764\n",
    "print(\"테스트 스코어:\", dt_sc_test) #0.7988826815642458\n",
    "\n",
    "#Kaggle upload result: 0.75598"
   ]
  },
  {
   "cell_type": "code",
   "execution_count": null,
   "metadata": {},
   "outputs": [],
   "source": []
  },
  {
   "cell_type": "code",
   "execution_count": null,
   "metadata": {},
   "outputs": [],
   "source": []
  },
  {
   "cell_type": "code",
   "execution_count": null,
   "metadata": {},
   "outputs": [],
   "source": []
  },
  {
   "cell_type": "code",
   "execution_count": null,
   "metadata": {},
   "outputs": [],
   "source": []
  },
  {
   "cell_type": "code",
   "execution_count": null,
   "metadata": {},
   "outputs": [],
   "source": []
  },
  {
   "cell_type": "code",
   "execution_count": null,
   "metadata": {},
   "outputs": [],
   "source": []
  },
  {
   "cell_type": "code",
   "execution_count": null,
   "metadata": {},
   "outputs": [],
   "source": []
  },
  {
   "cell_type": "code",
   "execution_count": null,
   "metadata": {},
   "outputs": [],
   "source": []
  }
 ],
 "metadata": {
  "kernelspec": {
   "display_name": "Python 3",
   "language": "python",
   "name": "python3"
  },
  "language_info": {
   "codemirror_mode": {
    "name": "ipython",
    "version": 3
   },
   "file_extension": ".py",
   "mimetype": "text/x-python",
   "name": "python",
   "nbconvert_exporter": "python",
   "pygments_lexer": "ipython3",
   "version": "3.7.4"
  }
 },
 "nbformat": 4,
 "nbformat_minor": 2
}
