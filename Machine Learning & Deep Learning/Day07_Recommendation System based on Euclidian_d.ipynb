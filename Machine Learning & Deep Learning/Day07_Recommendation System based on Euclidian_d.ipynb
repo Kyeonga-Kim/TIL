{
 "cells": [
  {
   "cell_type": "markdown",
   "metadata": {},
   "source": [
    "## dic 참조 "
   ]
  },
  {
   "cell_type": "code",
   "execution_count": 1,
   "metadata": {},
   "outputs": [],
   "source": [
    "import pandas as pd\n",
    "import numpy as np"
   ]
  },
  {
   "cell_type": "code",
   "execution_count": 2,
   "metadata": {},
   "outputs": [],
   "source": [
    "critics={\n",
    "    'BTS':{'암수살인':5, '바울':4, '할로윈':1.5},\n",
    "    '손흥민':{'바울':5, '할로윈':2},\n",
    "    '레드벨벳':{'암수살인':2.5, '바울':2, '할로윈':1},\n",
    "    '트와이스':{'암수살인':3.5, '바울':4, '할로윈':5}\n",
    "}"
   ]
  },
  {
   "cell_type": "code",
   "execution_count": 3,
   "metadata": {},
   "outputs": [
    {
     "data": {
      "text/plain": [
       "4"
      ]
     },
     "execution_count": 3,
     "metadata": {},
     "output_type": "execute_result"
    }
   ],
   "source": [
    "critics['BTS']\n",
    "\n",
    "critics.get('BTS').get('바울')"
   ]
  },
  {
   "cell_type": "markdown",
   "metadata": {},
   "source": [
    "### 유클리디안 거리 기반 유사도 구하기 "
   ]
  },
  {
   "cell_type": "code",
   "execution_count": 4,
   "metadata": {},
   "outputs": [],
   "source": [
    "#공간에서 두점사이의 거리를 구하기.\n",
    "\n",
    "from math import sqrt\n",
    "#sqrt(pow(3,2)+pow(1,2))\n",
    "\n",
    "def sim(i,j): #i:x좌표거리, j:y좌표거리\n",
    "    return sqrt(pow(i,2)+pow(j,2))"
   ]
  },
  {
   "cell_type": "code",
   "execution_count": 5,
   "metadata": {},
   "outputs": [
    {
     "name": "stdout",
     "output_type": "stream",
     "text": [
      "3.1622776601683795\n"
     ]
    }
   ],
   "source": [
    "v1= critics['손흥민']['바울']-critics['트와이스']['바울']\n",
    "v2= critics['손흥민']['할로윈']-critics['트와이스']['할로윈']\n",
    "\n",
    "print(sim(v1,v2))"
   ]
  },
  {
   "cell_type": "code",
   "execution_count": 6,
   "metadata": {},
   "outputs": [
    {
     "name": "stdout",
     "output_type": "stream",
     "text": [
      "BTS 와의 거리 :  1.118033988749895\n",
      "레드벨벳 와의 거리 :  3.1622776601683795\n",
      "트와이스 와의 거리 :  3.1622776601683795\n"
     ]
    }
   ],
   "source": [
    "for i in critics:\n",
    "    if i!='손흥민':\n",
    "        d1=critics.get('손흥민').get('바울')-critics.get(i).get('바울')\n",
    "        d2=critics.get('손흥민').get('할로윈')-critics.get(i).get('할로윈')\n",
    "        print(i, \"와의 거리 : \", sim(d1,d2))"
   ]
  },
  {
   "cell_type": "code",
   "execution_count": 7,
   "metadata": {},
   "outputs": [
    {
     "name": "stdout",
     "output_type": "stream",
     "text": [
      "0.179128784747792\n"
     ]
    }
   ],
   "source": [
    "def sim_distance(data, name1, name2):\n",
    "    #유클리디안으로 두 사용자가 모두 본 영화 구하기\n",
    "    sum=0\n",
    "    for i in data.get(name1):\n",
    "        if i in data.get(name2):\n",
    "            sum+=pow(data.get(name1).get(i)-data.get(name2).get(i),2)\n",
    "    return 1/(1+sqrt(sum))\n",
    "    \n",
    "            \n",
    "print(sim_distance(critics, '레드벨벳','트와이스'))"
   ]
  },
  {
   "cell_type": "code",
   "execution_count": 8,
   "metadata": {},
   "outputs": [
    {
     "name": "stdout",
     "output_type": "stream",
     "text": [
      "[(0.4721359549995794, '손흥민'), (0.23582845781094, '레드벨벳'), (0.20799159651347807, '트와이스')]\n"
     ]
    }
   ],
   "source": [
    "#top_matxh (영화평점데이터, 기준관객, 등수, 유사도 함수)\n",
    "def top_match(data, name, rank=3, simf= sim_distance):\n",
    "    simList=[]\n",
    "    for i in data:\n",
    "        if name!= i: #자기자신 제외\n",
    "            simList.append((simf(data, name, i),i))\n",
    "    simList.sort()\n",
    "    simList.reverse()\n",
    "    return simList[:rank]\n",
    "print(top_match(critics,'BTS'))        "
   ]
  },
  {
   "cell_type": "code",
   "execution_count": 9,
   "metadata": {},
   "outputs": [],
   "source": [
    "import matplotlib.pyplot as plt\n",
    "\n",
    "from matplotlib import font_manager, rc\n",
    "font_name = font_manager.FontProperties(fname=\"c:/Windows/Fonts/malgun.ttf\").get_name()\n",
    "rc('font', family=font_name)\n",
    "\n",
    "def myBar(data, lab):\n",
    "    pos=range(len(data))\n",
    "    plt.barh(pos, data, height=0.5, color=\"b\") #가로\n",
    "    plt.yticks(pos, lab)\n",
    "    plt.xlabel('similarity')\n",
    "    plt.ylabel('name')\n",
    "    plt.show()"
   ]
  },
  {
   "cell_type": "code",
   "execution_count": 10,
   "metadata": {},
   "outputs": [
    {
     "data": {
      "image/png": "[encoded data removed]",
      "text/plain": [
       "<Figure size 432x288 with 1 Axes>"
      ]
     },
     "metadata": {
      "needs_background": "light"
     },
     "output_type": "display_data"
    }
   ],
   "source": [
    "li=top_match(critics,'BTS',3)\n",
    "\n",
    "nameList=[]\n",
    "scoreList=[]\n",
    "for i in li:\n",
    "    scoreList.append(i[0])\n",
    "    nameList.append(i[1])\n",
    "    \n",
    "myBar(scoreList, nameList)"
   ]
  },
  {
   "cell_type": "code",
   "execution_count": 11,
   "metadata": {},
   "outputs": [],
   "source": [
    "critics = {\n",
    "    '레드벨벳': {\n",
    "        '택시운전사': 2.5,\n",
    "        '겨울왕국': 3.5,\n",
    "        '리빙라스베가스': 3.0,\n",
    "        '넘버3': 3.5,\n",
    "        '사랑과전쟁': 2.5,\n",
    "        '세계대전': 3.0,\n",
    "    },\n",
    "    'BTS': {\n",
    "        '택시운전사': 1.0,\n",
    "        '겨울왕국': 4.5,\n",
    "        '리빙라스베가스': 0.5,\n",
    "        '넘버3': 1.5,\n",
    "        '사랑과전쟁': 4.5,\n",
    "        '세계대전': 5.0,\n",
    "    },\n",
    "    '블랙핑크': {\n",
    "        '택시운전사': 3.0,\n",
    "        '겨울왕국': 3.5,\n",
    "        '리빙라스베가스': 1.5,\n",
    "        '넘버3': 5.0,\n",
    "        '세계대전': 3.0,\n",
    "        '사랑과전쟁': 3.5,\n",
    "    },\n",
    "    '소녀시대': {\n",
    "        '택시운전사': 2.5,\n",
    "        '겨울왕국': 3.0,\n",
    "        '넘버3': 3.5,\n",
    "        '세계대전': 4.0,\n",
    "    },\n",
    "    '마마무': {\n",
    "        '겨울왕국': 3.5,\n",
    "        '리빙라스베가스': 3.0,\n",
    "        '세계대전': 4.5,\n",
    "        '넘버3': 4.0,\n",
    "        '사랑과전쟁': 2.5,\n",
    "    },\n",
    "    '오마이걸': {\n",
    "        '택시운전사': 3.0,\n",
    "        '겨울왕국': 4.0,\n",
    "        '리빙라스베가스': 2.0,\n",
    "        '넘버3': 3.0,\n",
    "        '세계대전': 3.5,\n",
    "        '사랑과전쟁': 2.0,\n",
    "    },\n",
    "    '모모랜드': {\n",
    "        '택시운전사': 3.0,\n",
    "        '겨울왕국': 4.0,\n",
    "        '세계대전': 3.0,\n",
    "        '넘버3': 5.0,\n",
    "        '사랑과전쟁': 3.5,\n",
    "    },\n",
    "    '우주소녀': {'겨울왕국': 4.5, '사랑과전쟁': 1.0,\n",
    "             '넘버3': 4.0},\n",
    "}\n"
   ]
  },
  {
   "cell_type": "code",
   "execution_count": 12,
   "metadata": {},
   "outputs": [
    {
     "data": {
      "image/png": "[encoded data removed]",
      "text/plain": [
       "<Figure size 1008x576 with 1 Axes>"
      ]
     },
     "metadata": {
      "needs_background": "light"
     },
     "output_type": "display_data"
    }
   ],
   "source": [
    "def scoreGraph(data, n1,n2):\n",
    "    plt.figure(figsize=(14,8))\n",
    "    li1=[]\n",
    "    li2=[]\n",
    "    for i in data[n1]: #BTS가 본 영화중에\n",
    "        if i in data[n2]: #블랙핑크도 봤다면\n",
    "            li1.append(data[n1][i])\n",
    "            li2.append(data[n2][i])\n",
    "            plt.text(data[n1][i],data[n2][i],i) #좌표,좌표,text\n",
    "    plt.plot(li1, li2,'bo')\n",
    "    plt.xlabel(n1)\n",
    "    plt.ylabel(n2)\n",
    "    plt.axis([0,6,0,6])\n",
    "    plt.show()\n",
    "scoreGraph(critics, 'BTS','오마이걸')"
   ]
  },
  {
   "cell_type": "markdown",
   "metadata": {},
   "source": [
    "## 피어슨 상관계수"
   ]
  },
  {
   "cell_type": "code",
   "execution_count": 13,
   "metadata": {},
   "outputs": [],
   "source": [
    "def sim_pearson(data, n1, n2):\n",
    "    #구현\n",
    "    sumX=0\n",
    "    sumY=0\n",
    "    sumSqX=0 #x제곱의합\n",
    "    sumSqY=0 #y제곱의합\n",
    "    sumXY=0 #x*y의 합\n",
    "    cnt=0 #영화 개수\n",
    "    for i in data[n1]:\n",
    "        if i in data[n2]:\n",
    "            sumX+=data[n1][i]\n",
    "            sumY+=data[n2][i]\n",
    "            sumSqX+=pow(data[n1][i],2)\n",
    "            sumSqY+=pow(data[n2][i],2)\n",
    "            sumXY+=data[n1][i]*data[n2][i]\n",
    "            cnt+=1\n",
    "    return  (sumXY-((sumX*sumY)/cnt)) / sqrt((sumSqX-(pow(sumX,2)/cnt))* (sumSqY-(pow(sumY,2)/cnt)))"
   ]
  },
  {
   "cell_type": "code",
   "execution_count": 14,
   "metadata": {},
   "outputs": [
    {
     "data": {
      "text/plain": [
       "0.41791069697885247"
      ]
     },
     "execution_count": 14,
     "metadata": {},
     "output_type": "execute_result"
    }
   ],
   "source": [
    "sim_pearson(critics, 'BTS','오마이걸')"
   ]
  },
  {
   "cell_type": "markdown",
   "metadata": {},
   "source": [
    "## 유사도 기반 추천 시스템 "
   ]
  },
  {
   "cell_type": "markdown",
   "metadata": {},
   "source": [
    "#### ex) 소녀시대, 오마이걸의 피어슨상관계수 0.5이고 오마이걸이 본 \"리빙라스베이거스\"평점 2.0이면 소녀시대가 줄 평점은 0.5*2.0=1.0으로할 수 있다. "
   ]
  },
  {
   "cell_type": "code",
   "execution_count": 15,
   "metadata": {},
   "outputs": [
    {
     "name": "stdout",
     "output_type": "stream",
     "text": [
      "[(0.5692099788303083, '소녀시대'), (0.41791069697885247, '오마이걸'), (0.21693045781865616, '블랙핑크'), (0.15430334996209194, '마마무'), (0.05477225575051661, '레드벨벳')]\n"
     ]
    }
   ],
   "source": [
    "#top_match(영화평점데이터,기준관객,등수,유사도함수)\n",
    "def top_match(data, name, rank=3, simf=sim_pearson):\n",
    "    simList=[]\n",
    "    #sim_pearson함수를 simf라는 이름으로 사용하겠다    \n",
    "    for i in data:\n",
    "        if name!=i: #BTS(자기 자신)을 제외\n",
    "            simList.append((simf(data, name, i),i))\n",
    "    simList.sort() #오름차순\n",
    "    simList.reverse() #역순(내림차순)\n",
    "    return simList[:rank]\n",
    "\n",
    "print(top_match(critics, 'BTS', 5))\n",
    "#critics에서 BTS와 공통으로 본 영화중에서,\n",
    "#상관계수가 가장 높은 5명을 추출\n",
    "#상관계수, 블랙핑크\n",
    "#상관계수, 트와이스\n",
    "#..."
   ]
  },
  {
   "cell_type": "code",
   "execution_count": 16,
   "metadata": {},
   "outputs": [],
   "source": [
    "def recommendation(data, person, simf=sim_pearson):\n",
    "    #              평점, 소녀시대\n",
    "    res=top_match(data, person, len(data))\n",
    "    #print(res)\n",
    "    simSum=0 #상관계수(유사도)의 합   \n",
    "    score_dic={} #예상 평점 총합을 저장하기 위한 dic\n",
    "    sim_dic={} #유사도의 합을 저장하기 위한 dic\n",
    "    myList=[]\n",
    "    for sim, name in res: #0.5, BTS\n",
    "        if sim<0 : continue\n",
    "        for movie in data[name]:\n",
    "            if movie not in data[person]:\n",
    "#마마무는 봤고, 소녀시대는 안본 영화\n",
    "                #name이 본 movie를 person이 보지 않았다면...                \n",
    "                simSum+=sim*data[name][movie]\n",
    "                score_dic.setdefault(movie,0)\n",
    "                score_dic[movie]+=simSum\n",
    "                \n",
    "                sim_dic.setdefault(movie,0)\n",
    "                sim_dic[movie]+=sim\n",
    "            simSum=0 #영화 변경 -> 0으로 초기화\n",
    "    \n",
    "    for key in score_dic:\n",
    "        score_dic[key]=score_dic[key]/sim_dic[key]#평점총합/유사도총합\n",
    "        myList.append((score_dic[key],key))\n",
    "    myList.sort()\n",
    "    myList.reverse()\n",
    "    return myList   "
   ]
  },
  {
   "cell_type": "code",
   "execution_count": 17,
   "metadata": {},
   "outputs": [
    {
     "data": {
      "text/plain": [
       "[(3.0761574975571793, '사랑과전쟁'), (2.1938491995536373, '리빙라스베가스')]"
      ]
     },
     "execution_count": 17,
     "metadata": {},
     "output_type": "execute_result"
    }
   ],
   "source": [
    "recommendation(critics, \"소녀시대\")\n",
    "#소녀시대가 안본 영화중에서 가장 높은 예상 평점을\n",
    "#갖는 영화 3편을 추천"
   ]
  },
  {
   "cell_type": "markdown",
   "metadata": {},
   "source": [
    "## 반 영화평점기반 영화추천 시스템"
   ]
  },
  {
   "cell_type": "code",
   "execution_count": 114,
   "metadata": {},
   "outputs": [],
   "source": [
    "myclass=pd.read_excel(\"영화평점.xlsx\", header=1, index_col=0)"
   ]
  },
  {
   "cell_type": "code",
   "execution_count": 115,
   "metadata": {},
   "outputs": [],
   "source": [
    "myclass=myclass.fillna(-1)"
   ]
  },
  {
   "cell_type": "code",
   "execution_count": 116,
   "metadata": {},
   "outputs": [],
   "source": [
    "myclass=myclass.T.to_dict()"
   ]
  },
  {
   "cell_type": "code",
   "execution_count": 117,
   "metadata": {},
   "outputs": [
    {
     "data": {
      "text/plain": [
       "{'고재형': {'명량': -1.0,\n",
       "  '국제시장': -1.0,\n",
       "  '아바타': 4.5,\n",
       "  '택시운전사': 3.5,\n",
       "  '부산행': 4.0,\n",
       "  '변호인': -1.0,\n",
       "  '겨울왕국': 4.0,\n",
       "  '기생충': 4.0},\n",
       " '김건우': {'명량': 4.0,\n",
       "  '국제시장': 4.5,\n",
       "  '아바타': -1.0,\n",
       "  '택시운전사': -1.0,\n",
       "  '부산행': -1.0,\n",
       "  '변호인': 3.5,\n",
       "  '겨울왕국': 2.5,\n",
       "  '기생충': -1.0},\n",
       " '박경호': {'명량': 4.0,\n",
       "  '국제시장': 5.0,\n",
       "  '아바타': 4.5,\n",
       "  '택시운전사': -1.0,\n",
       "  '부산행': 2.0,\n",
       "  '변호인': 3.5,\n",
       "  '겨울왕국': 0.0,\n",
       "  '기생충': 5.0},\n",
       " '박찬': {'명량': 4.0,\n",
       "  '국제시장': 5.0,\n",
       "  '아바타': 3.0,\n",
       "  '택시운전사': -1.0,\n",
       "  '부산행': 4.5,\n",
       "  '변호인': 3.5,\n",
       "  '겨울왕국': 3.0,\n",
       "  '기생충': 5.0},\n",
       " '김경아': {'명량': 4.0,\n",
       "  '국제시장': 4.0,\n",
       "  '아바타': -1.0,\n",
       "  '택시운전사': 4.0,\n",
       "  '부산행': 4.0,\n",
       "  '변호인': 3.0,\n",
       "  '겨울왕국': 4.0,\n",
       "  '기생충': 5.0},\n",
       " '정서영': {'명량': 3.0,\n",
       "  '국제시장': 2.0,\n",
       "  '아바타': 5.0,\n",
       "  '택시운전사': 3.0,\n",
       "  '부산행': 1.0,\n",
       "  '변호인': -1.0,\n",
       "  '겨울왕국': 3.0,\n",
       "  '기생충': 5.0},\n",
       " '정한음': {'명량': 4.0,\n",
       "  '국제시장': 5.0,\n",
       "  '아바타': 5.0,\n",
       "  '택시운전사': 4.0,\n",
       "  '부산행': 5.0,\n",
       "  '변호인': -1.0,\n",
       "  '겨울왕국': 5.0,\n",
       "  '기생충': -1.0},\n",
       " '오종민': {'명량': 3.0,\n",
       "  '국제시장': 4.5,\n",
       "  '아바타': 4.5,\n",
       "  '택시운전사': 1.5,\n",
       "  '부산행': -1.0,\n",
       "  '변호인': 3.5,\n",
       "  '겨울왕국': 4.0,\n",
       "  '기생충': -1.0},\n",
       " '차유화': {'명량': -1.0,\n",
       "  '국제시장': 3.5,\n",
       "  '아바타': 4.0,\n",
       "  '택시운전사': 3.5,\n",
       "  '부산행': 2.0,\n",
       "  '변호인': 3.5,\n",
       "  '겨울왕국': 4.0,\n",
       "  '기생충': 3.0},\n",
       " '이성천': {'명량': -1.0,\n",
       "  '국제시장': -1.0,\n",
       "  '아바타': 5.0,\n",
       "  '택시운전사': -1.0,\n",
       "  '부산행': -1.0,\n",
       "  '변호인': -1.0,\n",
       "  '겨울왕국': 3.0,\n",
       "  '기생충': -1.0},\n",
       " '이은성': {'명량': 2.0,\n",
       "  '국제시장': -1.0,\n",
       "  '아바타': 4.5,\n",
       "  '택시운전사': -1.0,\n",
       "  '부산행': -1.0,\n",
       "  '변호인': 3.5,\n",
       "  '겨울왕국': 4.0,\n",
       "  '기생충': 5.0},\n",
       " '김나연': {'명량': 3.0,\n",
       "  '국제시장': 3.5,\n",
       "  '아바타': -1.0,\n",
       "  '택시운전사': 4.0,\n",
       "  '부산행': 3.0,\n",
       "  '변호인': 4.0,\n",
       "  '겨울왕국': 4.0,\n",
       "  '기생충': 3.0},\n",
       " '조준형': {'명량': 4.0,\n",
       "  '국제시장': 3.0,\n",
       "  '아바타': 3.5,\n",
       "  '택시운전사': 4.0,\n",
       "  '부산행': -1.0,\n",
       "  '변호인': 4.5,\n",
       "  '겨울왕국': -1.0,\n",
       "  '기생충': 5.0},\n",
       " '김태현': {'명량': -1.0,\n",
       "  '국제시장': 4.0,\n",
       "  '아바타': 3.0,\n",
       "  '택시운전사': -1.0,\n",
       "  '부산행': 3.0,\n",
       "  '변호인': 4.0,\n",
       "  '겨울왕국': 3.0,\n",
       "  '기생충': 4.0},\n",
       " '한미래': {'명량': 3.0,\n",
       "  '국제시장': -1.0,\n",
       "  '아바타': 4.0,\n",
       "  '택시운전사': 5.0,\n",
       "  '부산행': 4.0,\n",
       "  '변호인': 4.0,\n",
       "  '겨울왕국': 3.0,\n",
       "  '기생충': 5.0},\n",
       " '조현진': {'명량': -1.0,\n",
       "  '국제시장': -1.0,\n",
       "  '아바타': 4.0,\n",
       "  '택시운전사': -1.0,\n",
       "  '부산행': -1.0,\n",
       "  '변호인': -1.0,\n",
       "  '겨울왕국': 4.0,\n",
       "  '기생충': -1.0},\n",
       " '유기욱': {'명량': 3.5,\n",
       "  '국제시장': 4.0,\n",
       "  '아바타': 4.5,\n",
       "  '택시운전사': 4.5,\n",
       "  '부산행': 4.5,\n",
       "  '변호인': 4.0,\n",
       "  '겨울왕국': 4.0,\n",
       "  '기생충': 4.5},\n",
       " '김경한': {'명량': 2.0,\n",
       "  '국제시장': 4.0,\n",
       "  '아바타': 5.0,\n",
       "  '택시운전사': 3.0,\n",
       "  '부산행': 5.0,\n",
       "  '변호인': -1.0,\n",
       "  '겨울왕국': 5.0,\n",
       "  '기생충': 5.0},\n",
       " '신아영': {'명량': -1.0,\n",
       "  '국제시장': -1.0,\n",
       "  '아바타': -1.0,\n",
       "  '택시운전사': -1.0,\n",
       "  '부산행': 2.5,\n",
       "  '변호인': -1.0,\n",
       "  '겨울왕국': 3.0,\n",
       "  '기생충': -1.0},\n",
       " '엄다연': {'명량': 3.0,\n",
       "  '국제시장': 5.0,\n",
       "  '아바타': -1.0,\n",
       "  '택시운전사': -1.0,\n",
       "  '부산행': 4.0,\n",
       "  '변호인': 3.5,\n",
       "  '겨울왕국': -1.0,\n",
       "  '기생충': 4.0}}"
      ]
     },
     "execution_count": 117,
     "metadata": {},
     "output_type": "execute_result"
    }
   ],
   "source": [
    "myclass"
   ]
  },
  {
   "cell_type": "code",
   "execution_count": 118,
   "metadata": {},
   "outputs": [],
   "source": [
    "def sim_pearson(data, n1, n2):\n",
    "    #구현\n",
    "    sumX=0\n",
    "    sumY=0\n",
    "    sumSqX=0 #x제곱의합\n",
    "    sumSqY=0 #y제곱의합\n",
    "    sumXY=0 #x*y의 합\n",
    "    cnt=0 #영화 개수\n",
    "    for i in data[n1]:\n",
    "        if i in data[n2]:\n",
    "            sumX+=data[n1][i]\n",
    "            sumY+=data[n2][i]\n",
    "            sumSqX+=pow(data[n1][i],2)\n",
    "            sumSqY+=pow(data[n2][i],2)\n",
    "            sumXY+=data[n1][i]*data[n2][i]\n",
    "            cnt+=1\n",
    "\n",
    "    return (sumXY - ((sumX * sumY) / cnt)) / sqrt((sumSqX - (pow(sumX, 2) / cnt)) * (sumSqY - (pow(sumY, 2) / cnt)) + 1e-7)\n"
   ]
  },
  {
   "cell_type": "code",
   "execution_count": 119,
   "metadata": {},
   "outputs": [],
   "source": [
    "#top_match(영화평점데이터,기준관객,등수,유사도함수\n",
    "\n",
    "def top_match(data, name, rank=3, simf=sim_pearson):\n",
    "    simList=[]\n",
    "    \n",
    "    for i in data:\n",
    "        if name!=i: #자기 자신을 제외\n",
    "            simList.append((simf(data, name, i),i))\n",
    "            \n",
    "    simList.sort() #오름차순\n",
    "    simList.reverse() #역순(내림차순)\n",
    "    return simList[:rank]"
   ]
  },
  {
   "cell_type": "code",
   "execution_count": 120,
   "metadata": {},
   "outputs": [
    {
     "name": "stdout",
     "output_type": "stream",
     "text": [
      "[(0.8724025910404033, '김나연'), (0.47094653440321965, '엄다연'), (0.2155417292869914, '김건우'), (0.20826183592731637, '신아영'), (0.1344949113027298, '박찬')]\n"
     ]
    }
   ],
   "source": [
    "print(top_match(myclass, \"김경아\" ,5))"
   ]
  },
  {
   "cell_type": "code",
   "execution_count": 121,
   "metadata": {},
   "outputs": [],
   "source": [
    "def recommendation(data, person, simf=sim_pearson):\n",
    "    res=top_match(data, person, len(data))\n",
    "\n",
    "    simSum=0 #상관계수(유사도)의 합   \n",
    "    score_dic={} #예상 평점 총합을 저장하기 위한 dic\n",
    "    sim_dic={} #유사도의 합을 저장하기 위한 dic\n",
    "    myList=[]\n",
    "    for sim, name in res: \n",
    "        if sim<0 : \n",
    "            continue\n",
    "            \n",
    "        for movie in data[name]:\n",
    "            if movie not in data[person]:          \n",
    "                simSum+=sim*data[name][movie]\n",
    "                score_dic.setdefault(movie,0)\n",
    "                score_dic[movie]+=simSum\n",
    "                \n",
    "                sim_dic.setdefault(movie,0)\n",
    "                sim_dic[movie]+=sim\n",
    "            simSum=0 \n",
    "    \n",
    "    for key in score_dic:\n",
    "        score_dic[key]=score_dic[key]/sim_dic[key] # 평점총합/유사도총합\n",
    "        myList.append((score_dic[key],key))\n",
    "    myList.sort(reverse=True)\n",
    "    return myList  "
   ]
  },
  {
   "cell_type": "code",
   "execution_count": 122,
   "metadata": {},
   "outputs": [
    {
     "data": {
      "text/plain": [
       "[]"
      ]
     },
     "execution_count": 122,
     "metadata": {},
     "output_type": "execute_result"
    }
   ],
   "source": [
    "recommendation(myclass,\"김경아\")"
   ]
  }
 ],
 "metadata": {
  "kernelspec": {
   "display_name": "Python 3",
   "language": "python",
   "name": "python3"
  },
  "language_info": {
   "codemirror_mode": {
    "name": "ipython",
    "version": 3
   },
   "file_extension": ".py",
   "mimetype": "text/x-python",
   "name": "python",
   "nbconvert_exporter": "python",
   "pygments_lexer": "ipython3",
   "version": "3.7.4"
  }
 },
 "nbformat": 4,
 "nbformat_minor": 2
}
