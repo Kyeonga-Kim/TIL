{
 "cells": [
  {
   "cell_type": "markdown",
   "metadata": {},
   "source": [
    "## Tensorflow Basic"
   ]
  },
  {
   "cell_type": "markdown",
   "metadata": {},
   "source": [
    "### TensorFlow란\n",
    "\n",
    "- Google의 Theano를 대체하고자한 딥러닝 프레임워크.\n",
    "- C/C++엔진에 python API로 작성된어 빠른실행이 가능.\n",
    "\n"
   ]
  },
  {
   "cell_type": "markdown",
   "metadata": {},
   "source": [
    "### 장단점 \n",
    "\n",
    "\n",
    "- 장점\n",
    "- Python + Numpy\n",
    "- 컴퓨테이션 그래프 앱스트랙션, Theano와 비슷\n",
    "- Theano보다 컴파일 시간이 빠름-\n",
    "- TensorBoard 시각화\n",
    "-  데이터 및 모델 병렬 처리\n",
    "\n",
    "\n",
    "- 단점\n",
    "- 다른 프레임 워크보다 느림.\n",
    "- Torch보다 훨씬 “더 복잡”하지만 기능이 많음.\n",
    "- 사전 학습된 모델 부족.\n",
    "- 컴퓨테이션 그래프는 순수 파이썬으로 속도가 느림.\n",
    "- 상업적 지원 없음.\n",
    "- 파이썬으로 드롭 아웃되어 각각의 새로운 트레이닝 배치를 로드\n",
    "- 툴로 사용하기 어려움.\n",
    "- 다이나믹 타이핑은 대형 소프트웨어 프로젝트에서 오류가 발생하기 쉬움.\n"
   ]
  },
  {
   "cell_type": "markdown",
   "metadata": {},
   "source": [
    "### Pytorch와의 비교 \n",
    "\n",
    "- Lua언어로 작성된 API제공하는 계싼 프레임워크로 머신러닝 알고리즘을 지원.\n",
    "- 페이스북에서 개발"
   ]
  },
  {
   "cell_type": "markdown",
   "metadata": {},
   "source": [
    "### 장단점 \n",
    "\n",
    "- 장점\n",
    "- 가변길이 입력 및 출력을 처리할 수 있는 다이나믹 컴퓨테이션 그래프 제공. \n",
    "- Rnn에 유용\n",
    "- 결합하기 쉬운 많은 모듈 조각\n",
    "- 자신만의 레이어 유형을 작성하고 GPU에서 실행하기 쉬움\n",
    "- 대부분의 라이브러리 코드는 Lua로 되어있어 읽기 쉬움\n",
    "- 사전 학습된 모델 대거 존재 **\n",
    "\n",
    "\n",
    "- 단점\n",
    "- Lua\n",
    "- 보통 스스로 학습 코드를 작성해야 함 (적은 플러그 앤 플레이)\n",
    "- 상업적 지원 없음\n",
    "- 미완성 문서"
   ]
  },
  {
   "cell_type": "code",
   "execution_count": null,
   "metadata": {},
   "outputs": [],
   "source": [
    "import tensorflow as tf"
   ]
  },
  {
   "cell_type": "code",
   "execution_count": null,
   "metadata": {},
   "outputs": [],
   "source": [
    "a=tf.placeholder(\"float\")\n",
    "b=tf.placeholder(\"float\") #플레이스 홀더 : 프로그램 실행중에 값을 변경할 수 있는 변수를 2개 정의, 데이터를 담는 버퍼"
   ]
  },
  {
   "cell_type": "code",
   "execution_count": null,
   "metadata": {},
   "outputs": [],
   "source": [
    "y=tf.multiply(a,b) #a,b를 곱해서 y에 전달하는것이 아니라 a,b를 곱하는 연산을 전달\n",
    "sess=tf.Session()\n",
    "print(sess.run(y, feed_dict={a:3,b:2}))  "
   ]
  },
  {
   "cell_type": "code",
   "execution_count": null,
   "metadata": {},
   "outputs": [],
   "source": [
    "tf.__version__"
   ]
  },
  {
   "cell_type": "code",
   "execution_count": null,
   "metadata": {},
   "outputs": [],
   "source": [
    "hello=tf.constant(\"Hello\")\n",
    "sess=tf.Session()\n",
    "print(sess.run(hello)) #b출력은 문자 인코딩 때문에 "
   ]
  },
  {
   "cell_type": "code",
   "execution_count": null,
   "metadata": {},
   "outputs": [],
   "source": [
    "a=tf.constant(10)\n",
    "b=tf.constant(20)\n",
    "print(a)\n",
    "print(a+b) #잘못됨\n",
    "\n",
    "print(sess.run(a+b)) #session을 주고 연산을 해야 값이 나옴"
   ]
  },
  {
   "cell_type": "code",
   "execution_count": null,
   "metadata": {},
   "outputs": [],
   "source": [
    "a=tf.placeholder(tf.float32)\n",
    "b=tf.placeholder(tf.float32)"
   ]
  },
  {
   "cell_type": "code",
   "execution_count": null,
   "metadata": {},
   "outputs": [],
   "source": [
    "adderNode=a+b\n",
    "sess=tf.Session()\n",
    "print(sess.run(adderNode,feed_dict={a:5,b:3}))\n",
    "print(sess.run(adderNode,feed_dict={a:[5,1],b:[3,2]})) #리스트형태로 출력\n",
    "print(sess.run(adderNode,feed_dict={a:[5,1],b:[3,2]})[1]) #리스트라 참조도 가능"
   ]
  },
  {
   "cell_type": "code",
   "execution_count": null,
   "metadata": {},
   "outputs": [],
   "source": [
    "#x shape => (2,3)*(3,1)=> (2,1) \n",
    "#w shape = > ?\n",
    "\n",
    "xdata=[[1,2,3],[4,5,6]] #2행3열\n",
    "x=tf.placeholder(tf.float32,[None,3])\n",
    "w=tf.Variable(tf.random_normal([3,1])) #3행1열\n",
    "b=tf.Variable(tf.random_normal([1]))\n",
    "hf=tf.matmul(x,w)+b\n",
    "sess=tf.Session()\n",
    "sess.run(tf.global_variables_initializer())\n",
    "print(sess.run(w))"
   ]
  },
  {
   "cell_type": "code",
   "execution_count": null,
   "metadata": {},
   "outputs": [],
   "source": [
    "#선형회귀모델\n",
    "xtrain=[80,95,97] #모의고사 점수\n",
    "ytrain=[82,90,88] #수능 점수"
   ]
  },
  {
   "cell_type": "code",
   "execution_count": null,
   "metadata": {},
   "outputs": [],
   "source": [
    "w=tf.Variable(tf.random_normal([1]))\n",
    "b=tf.Variable(tf.random_normal([1]))"
   ]
  },
  {
   "cell_type": "code",
   "execution_count": null,
   "metadata": {},
   "outputs": [],
   "source": [
    "sess.run(w)"
   ]
  },
  {
   "cell_type": "code",
   "execution_count": null,
   "metadata": {},
   "outputs": [],
   "source": [
    "sess=tf.Session()\n",
    "sess.run(tf.global_variables_initializer())\n",
    "\n",
    "hf=xtrain*w+b\n",
    "cost=tf.reduce_mean(tf.square(hf-ytrain))"
   ]
  },
  {
   "cell_type": "code",
   "execution_count": null,
   "metadata": {},
   "outputs": [],
   "source": [
    "opt=tf.train.GradientDescentOptimizer(0.001)\n",
    "train=opt.minimize(cost)"
   ]
  },
  {
   "cell_type": "code",
   "execution_count": null,
   "metadata": {},
   "outputs": [],
   "source": [
    "print(sess.run(cost))"
   ]
  },
  {
   "cell_type": "code",
   "execution_count": null,
   "metadata": {},
   "outputs": [],
   "source": [
    "# for step in range(2001):\n",
    "#     sess.run(train)\n",
    "#     if step % 100 == 0:\n",
    "#         print(step, sess.run(cost), sess.run(w), sess.run(b))"
   ]
  },
  {
   "cell_type": "markdown",
   "metadata": {},
   "source": [
    "## Practice "
   ]
  },
  {
   "cell_type": "code",
   "execution_count": null,
   "metadata": {},
   "outputs": [],
   "source": [
    "#cardata 에서 임의의 실린더 수 (10,12,16) 가 입력되었을때 hp?\n",
    "#cost, w, b,출력\n",
    "#cost 함수 시각화(w축)\n",
    "#learning rate, training 조절"
   ]
  },
  {
   "cell_type": "code",
   "execution_count": 57,
   "metadata": {},
   "outputs": [],
   "source": [
    "import pandas as pd\n",
    "import numpy as np\n",
    "import tensorflow as tf"
   ]
  },
  {
   "cell_type": "code",
   "execution_count": 58,
   "metadata": {},
   "outputs": [],
   "source": [
    "car=pd.read_csv(\"carsdata/cars.csv\")"
   ]
  },
  {
   "cell_type": "code",
   "execution_count": 59,
   "metadata": {},
   "outputs": [
    {
     "data": {
      "text/html": [
       "<div>\n",
       "<style scoped>\n",
       "    .dataframe tbody tr th:only-of-type {\n",
       "        vertical-align: middle;\n",
       "    }\n",
       "\n",
       "    .dataframe tbody tr th {\n",
       "        vertical-align: top;\n",
       "    }\n",
       "\n",
       "    .dataframe thead th {\n",
       "        text-align: right;\n",
       "    }\n",
       "</style>\n",
       "<table border=\"1\" class=\"dataframe\">\n",
       "  <thead>\n",
       "    <tr style=\"text-align: right;\">\n",
       "      <th></th>\n",
       "      <th>mpg</th>\n",
       "      <th>cylinders</th>\n",
       "      <th>cubicinches</th>\n",
       "      <th>hp</th>\n",
       "      <th>weightlbs</th>\n",
       "      <th>time-to-60</th>\n",
       "      <th>year</th>\n",
       "      <th>brand</th>\n",
       "    </tr>\n",
       "  </thead>\n",
       "  <tbody>\n",
       "    <tr>\n",
       "      <td>0</td>\n",
       "      <td>14.0</td>\n",
       "      <td>8</td>\n",
       "      <td>350</td>\n",
       "      <td>165</td>\n",
       "      <td>4209</td>\n",
       "      <td>12</td>\n",
       "      <td>1972</td>\n",
       "      <td>US.</td>\n",
       "    </tr>\n",
       "    <tr>\n",
       "      <td>1</td>\n",
       "      <td>31.9</td>\n",
       "      <td>4</td>\n",
       "      <td>89</td>\n",
       "      <td>71</td>\n",
       "      <td>1925</td>\n",
       "      <td>14</td>\n",
       "      <td>1980</td>\n",
       "      <td>Europe.</td>\n",
       "    </tr>\n",
       "    <tr>\n",
       "      <td>2</td>\n",
       "      <td>17.0</td>\n",
       "      <td>8</td>\n",
       "      <td>302</td>\n",
       "      <td>140</td>\n",
       "      <td>3449</td>\n",
       "      <td>11</td>\n",
       "      <td>1971</td>\n",
       "      <td>US.</td>\n",
       "    </tr>\n",
       "    <tr>\n",
       "      <td>3</td>\n",
       "      <td>15.0</td>\n",
       "      <td>8</td>\n",
       "      <td>400</td>\n",
       "      <td>150</td>\n",
       "      <td>3761</td>\n",
       "      <td>10</td>\n",
       "      <td>1971</td>\n",
       "      <td>US.</td>\n",
       "    </tr>\n",
       "    <tr>\n",
       "      <td>4</td>\n",
       "      <td>30.5</td>\n",
       "      <td>4</td>\n",
       "      <td>98</td>\n",
       "      <td>63</td>\n",
       "      <td>2051</td>\n",
       "      <td>17</td>\n",
       "      <td>1978</td>\n",
       "      <td>US.</td>\n",
       "    </tr>\n",
       "    <tr>\n",
       "      <td>...</td>\n",
       "      <td>...</td>\n",
       "      <td>...</td>\n",
       "      <td>...</td>\n",
       "      <td>...</td>\n",
       "      <td>...</td>\n",
       "      <td>...</td>\n",
       "      <td>...</td>\n",
       "      <td>...</td>\n",
       "    </tr>\n",
       "    <tr>\n",
       "      <td>256</td>\n",
       "      <td>17.0</td>\n",
       "      <td>8</td>\n",
       "      <td>305</td>\n",
       "      <td>130</td>\n",
       "      <td>3840</td>\n",
       "      <td>15</td>\n",
       "      <td>1980</td>\n",
       "      <td>US.</td>\n",
       "    </tr>\n",
       "    <tr>\n",
       "      <td>257</td>\n",
       "      <td>36.1</td>\n",
       "      <td>4</td>\n",
       "      <td>91</td>\n",
       "      <td>60</td>\n",
       "      <td>1800</td>\n",
       "      <td>16</td>\n",
       "      <td>1979</td>\n",
       "      <td>Japan.</td>\n",
       "    </tr>\n",
       "    <tr>\n",
       "      <td>258</td>\n",
       "      <td>22.0</td>\n",
       "      <td>6</td>\n",
       "      <td>232</td>\n",
       "      <td>112</td>\n",
       "      <td>2835</td>\n",
       "      <td>15</td>\n",
       "      <td>1983</td>\n",
       "      <td>US.</td>\n",
       "    </tr>\n",
       "    <tr>\n",
       "      <td>259</td>\n",
       "      <td>18.0</td>\n",
       "      <td>6</td>\n",
       "      <td>232</td>\n",
       "      <td>100</td>\n",
       "      <td>3288</td>\n",
       "      <td>16</td>\n",
       "      <td>1972</td>\n",
       "      <td>US.</td>\n",
       "    </tr>\n",
       "    <tr>\n",
       "      <td>260</td>\n",
       "      <td>22.0</td>\n",
       "      <td>6</td>\n",
       "      <td>250</td>\n",
       "      <td>105</td>\n",
       "      <td>3353</td>\n",
       "      <td>15</td>\n",
       "      <td>1977</td>\n",
       "      <td>US.</td>\n",
       "    </tr>\n",
       "  </tbody>\n",
       "</table>\n",
       "<p>261 rows × 8 columns</p>\n",
       "</div>"
      ],
      "text/plain": [
       "      mpg   cylinders  cubicinches   hp  weightlbs   time-to-60   year  \\\n",
       "0    14.0           8          350  165       4209           12   1972   \n",
       "1    31.9           4           89   71       1925           14   1980   \n",
       "2    17.0           8          302  140       3449           11   1971   \n",
       "3    15.0           8          400  150       3761           10   1971   \n",
       "4    30.5           4           98   63       2051           17   1978   \n",
       "..    ...         ...          ...  ...        ...          ...    ...   \n",
       "256  17.0           8          305  130       3840           15   1980   \n",
       "257  36.1           4           91   60       1800           16   1979   \n",
       "258  22.0           6          232  112       2835           15   1983   \n",
       "259  18.0           6          232  100       3288           16   1972   \n",
       "260  22.0           6          250  105       3353           15   1977   \n",
       "\n",
       "        brand  \n",
       "0         US.  \n",
       "1     Europe.  \n",
       "2         US.  \n",
       "3         US.  \n",
       "4         US.  \n",
       "..        ...  \n",
       "256       US.  \n",
       "257    Japan.  \n",
       "258       US.  \n",
       "259       US.  \n",
       "260       US.  \n",
       "\n",
       "[261 rows x 8 columns]"
      ]
     },
     "execution_count": 59,
     "metadata": {},
     "output_type": "execute_result"
    }
   ],
   "source": [
    "car"
   ]
  },
  {
   "cell_type": "code",
   "execution_count": 60,
   "metadata": {},
   "outputs": [
    {
     "data": {
      "text/html": [
       "<div>\n",
       "<style scoped>\n",
       "    .dataframe tbody tr th:only-of-type {\n",
       "        vertical-align: middle;\n",
       "    }\n",
       "\n",
       "    .dataframe tbody tr th {\n",
       "        vertical-align: top;\n",
       "    }\n",
       "\n",
       "    .dataframe thead th {\n",
       "        text-align: right;\n",
       "    }\n",
       "</style>\n",
       "<table border=\"1\" class=\"dataframe\">\n",
       "  <thead>\n",
       "    <tr style=\"text-align: right;\">\n",
       "      <th></th>\n",
       "      <th>mpg</th>\n",
       "      <th>cylinders</th>\n",
       "      <th>hp</th>\n",
       "      <th>time-to-60</th>\n",
       "      <th>year</th>\n",
       "    </tr>\n",
       "  </thead>\n",
       "  <tbody>\n",
       "    <tr>\n",
       "      <td>mpg</td>\n",
       "      <td>1.000000</td>\n",
       "      <td>-0.776710</td>\n",
       "      <td>-0.774905</td>\n",
       "      <td>0.509070</td>\n",
       "      <td>0.550441</td>\n",
       "    </tr>\n",
       "    <tr>\n",
       "      <td>cylinders</td>\n",
       "      <td>-0.776710</td>\n",
       "      <td>1.000000</td>\n",
       "      <td>0.845155</td>\n",
       "      <td>-0.578161</td>\n",
       "      <td>-0.322239</td>\n",
       "    </tr>\n",
       "    <tr>\n",
       "      <td>hp</td>\n",
       "      <td>-0.774905</td>\n",
       "      <td>0.845155</td>\n",
       "      <td>1.000000</td>\n",
       "      <td>-0.744873</td>\n",
       "      <td>-0.383869</td>\n",
       "    </tr>\n",
       "    <tr>\n",
       "      <td>time-to-60</td>\n",
       "      <td>0.509070</td>\n",
       "      <td>-0.578161</td>\n",
       "      <td>-0.744873</td>\n",
       "      <td>1.000000</td>\n",
       "      <td>0.312311</td>\n",
       "    </tr>\n",
       "    <tr>\n",
       "      <td>year</td>\n",
       "      <td>0.550441</td>\n",
       "      <td>-0.322239</td>\n",
       "      <td>-0.383869</td>\n",
       "      <td>0.312311</td>\n",
       "      <td>1.000000</td>\n",
       "    </tr>\n",
       "  </tbody>\n",
       "</table>\n",
       "</div>"
      ],
      "text/plain": [
       "                  mpg   cylinders        hp   time-to-60      year\n",
       "mpg          1.000000   -0.776710 -0.774905     0.509070  0.550441\n",
       " cylinders  -0.776710    1.000000  0.845155    -0.578161 -0.322239\n",
       " hp         -0.774905    0.845155  1.000000    -0.744873 -0.383869\n",
       " time-to-60  0.509070   -0.578161 -0.744873     1.000000  0.312311\n",
       " year        0.550441   -0.322239 -0.383869     0.312311  1.000000"
      ]
     },
     "execution_count": 60,
     "metadata": {},
     "output_type": "execute_result"
    }
   ],
   "source": [
    "car.corr()"
   ]
  },
  {
   "cell_type": "code",
   "execution_count": 61,
   "metadata": {},
   "outputs": [],
   "source": [
    "xtrain=car[' cylinders']\n",
    "ytrain=car[' hp']"
   ]
  },
  {
   "cell_type": "code",
   "execution_count": 62,
   "metadata": {},
   "outputs": [],
   "source": [
    "xtrain=np.array(xtrain)\n",
    "ytrain=np.array(ytrain)"
   ]
  },
  {
   "cell_type": "code",
   "execution_count": 63,
   "metadata": {},
   "outputs": [],
   "source": [
    "w=tf.Variable(tf.random_normal([1]))\n",
    "b=tf.Variable(tf.random_normal([1]))\n",
    "\n",
    "sess=tf.Session()\n",
    "sess.run(tf.global_variables_initializer())\n",
    "\n",
    "#모델\n",
    "hf=xtrain*w+b \n",
    "cost=tf.reduce_mean(tf.square(hf-ytrain))"
   ]
  },
  {
   "cell_type": "code",
   "execution_count": 64,
   "metadata": {},
   "outputs": [],
   "source": [
    "opt=tf.train.GradientDescentOptimizer(0.01)\n",
    "train=opt.minimize(cost)"
   ]
  },
  {
   "cell_type": "code",
   "execution_count": 84,
   "metadata": {},
   "outputs": [
    {
     "name": "stdout",
     "output_type": "stream",
     "text": [
      "0 466.84525 [19.74084] [-3.9883795]\n",
      "100 466.84518 [19.741901] [-3.9948652]\n",
      "200 466.84518 [19.742798] [-4.0003343]\n",
      "300 466.84512 [19.743553] [-4.004948]\n",
      "400 466.84515 [19.744188] [-4.008839]\n",
      "500 466.8451 [19.744726] [-4.012121]\n",
      "600 466.84515 [19.745178] [-4.0148883]\n",
      "700 466.84518 [19.745562] [-4.0172224]\n",
      "800 466.84512 [19.745884] [-4.0191913]\n",
      "900 466.8451 [19.746155] [-4.02085]\n",
      "1000 466.84512 [19.746384] [-4.0222464]\n"
     ]
    }
   ],
   "source": [
    "w_list=[]\n",
    "cost_list=[]\n",
    "for step in range(1001): #cost가 최소가 되도록 갱신\n",
    "    sess.run(train)\n",
    "    if step % 100 == 0:\n",
    "        print(step, sess.run(cost), sess.run(w), sess.run(b)) #cost , weight, bias\n",
    "        cost_list.append(sess.run(cost))\n",
    "        w_list.append(sess.run(w))"
   ]
  },
  {
   "cell_type": "code",
   "execution_count": 85,
   "metadata": {},
   "outputs": [
    {
     "data": {
      "text/plain": [
       "[466.84525,\n",
       " 466.84518,\n",
       " 466.84518,\n",
       " 466.84512,\n",
       " 466.84515,\n",
       " 466.8451,\n",
       " 466.84515,\n",
       " 466.84518,\n",
       " 466.84512,\n",
       " 466.8451,\n",
       " 466.84512]"
      ]
     },
     "execution_count": 85,
     "metadata": {},
     "output_type": "execute_result"
    }
   ],
   "source": [
    "cost_list"
   ]
  },
  {
   "cell_type": "code",
   "execution_count": null,
   "metadata": {},
   "outputs": [],
   "source": [
    "learning rate: 0.01\n",
    "0 469.589 [18.830664] [1.5729728]\n",
    "100 468.79666 [18.97433] [0.69515103]\n",
    "200 468.2329 [19.095486] [-0.04513512]\n",
    "300 467.83206 [19.19766] [-0.66943616]\n",
    "400 467.54706 [19.283825] [-1.1959237]\n",
    "500 467.34436 [19.356491] [-1.6399229]\n",
    "600 467.20013 [19.41777] [-2.0143583]\n",
    "700 467.09756 [19.46945] [-2.3301272]\n",
    "800 467.0247 [19.513033] [-2.5964224]\n",
    "900 466.97284 [19.549786] [-2.8209968]\n",
    "\n",
    "learning rate : 0.005\n",
    "0 6718.409 [5.3143706] [1.6319708]\n",
    "100 471.34695 [18.573088] [3.1468287]\n",
    "200 470.64197 [18.668976] [2.5609276]\n",
    "300 470.04736 [18.757036] [2.022861]\n",
    "400 469.5459 [18.837908] [1.528722]\n",
    "500 469.12283 [18.912176] [1.0749236]\n",
    "600 468.7661 [18.980383] [0.6581737]\n",
    "700 468.46524 [19.04302] [0.2754492]\n",
    "800 468.21158 [19.100542] [-0.07602961]\n",
    "900 467.99753 [19.15337] [-0.3988139]\n",
    "\n",
    "learning rate: 0.001\n",
    "0 470.714 [18.658787] [2.6231465]\n",
    "100 470.58447 [18.677177] [2.510829]\n",
    "200 470.45932 [18.695238] [2.4004073]\n",
    "300 470.33823 [18.71301] [2.2918491]\n",
    "400 470.2214 [18.730473] [2.1851254]\n",
    "500 470.10828 [18.747646] [2.0802019]\n",
    "600 469.99908 [18.764528] [1.977052]\n",
    "700 469.89346 [18.781124] [1.8756417]\n",
    "800 469.7914 [18.79744] [1.7759454]\n",
    "900 469.69275 [18.813486] [1.6779302]"
   ]
  },
  {
   "cell_type": "code",
   "execution_count": 43,
   "metadata": {},
   "outputs": [
    {
     "name": "stdout",
     "output_type": "stream",
     "text": [
      "실린더수가 10 일때 hp는 193 입니다.\n",
      "실린더수가 12 일때 hp는 232 입니다.\n",
      "실린더수가 16 일때 hp는 311 입니다.\n"
     ]
    }
   ],
   "source": [
    "for i in [10,12,16]:\n",
    "    hp=i*sess.run(w)[0]+sess.run(b)[0]\n",
    "    print(\"실린더수가 %s 일때 hp는 %d 입니다.\" %(i,hp))"
   ]
  },
  {
   "cell_type": "code",
   "execution_count": 87,
   "metadata": {},
   "outputs": [],
   "source": [
    "#weight,cost 시각화\n",
    "# import matplotlib.pyplot as plt\n",
    "\n",
    "# df=pd.DataFrame()\n",
    "# df['weight']=w_list\n",
    "# df['cost']=cost_list\n",
    "\n",
    "# plt.figure(figsize=(20,10))\n",
    "# plt.plot(df.cost, df.weight)"
   ]
  },
  {
   "cell_type": "code",
   "execution_count": null,
   "metadata": {},
   "outputs": [],
   "source": []
  }
 ],
 "metadata": {
  "kernelspec": {
   "display_name": "Python 3",
   "language": "python",
   "name": "python3"
  },
  "language_info": {
   "codemirror_mode": {
    "name": "ipython",
    "version": 3
   },
   "file_extension": ".py",
   "mimetype": "text/x-python",
   "name": "python",
   "nbconvert_exporter": "python",
   "pygments_lexer": "ipython3",
   "version": "3.7.4"
  }
 },
 "nbformat": 4,
 "nbformat_minor": 2
}
