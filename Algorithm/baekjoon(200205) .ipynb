{
 "cells": [
  {
   "cell_type": "markdown",
   "metadata": {},
   "source": [
    "### 단계별 (수학, 재귀)"
   ]
  },
  {
   "cell_type": "code",
   "execution_count": 14,
   "metadata": {},
   "outputs": [
    {
     "name": "stdout",
     "output_type": "stream",
     "text": [
      "1000 70 170\n",
      "11\n"
     ]
    }
   ],
   "source": [
    "#손익분기점\n",
    "def Break_Even_Point():\n",
    "    a,b,c= list(map(int, input().split())) # 1000 70 170\n",
    "    if b>=c:\n",
    "        return -1\n",
    "    else:\n",
    "        return a//(c-b)+1\n",
    "print(Break_Even_Point())"
   ]
  },
  {
   "cell_type": "code",
   "execution_count": 23,
   "metadata": {},
   "outputs": [
    {
     "name": "stdout",
     "output_type": "stream",
     "text": [
      "11\n",
      "-1\n"
     ]
    }
   ],
   "source": [
    "#2839 설탕배달\n",
    "n=int(input())\n",
    "package=0\n",
    "while n>0:\n",
    "    if n%5 !=0: #5로 딱 나누어 떨어지지않는 경우 ex)18\n",
    "        n-=3\n",
    "        if n < 0:\n",
    "            package-=1\n",
    "            break\n",
    "        package+=1 #5로 딱 나누어지는 경우 ex)15\n",
    "    elif n%5==0:\n",
    "        package+=1\n",
    "        n-=5\n",
    "    elif n%5!=0 and n%3!=0:\n",
    "        package=-1\n",
    "print(package)  \n"
   ]
  },
  {
   "cell_type": "code",
   "execution_count": 12,
   "metadata": {},
   "outputs": [
    {
     "name": "stdout",
     "output_type": "stream",
     "text": [
      "39\n",
      "5\n"
     ]
    }
   ],
   "source": [
    "#2292 벌집\n",
    "n=int(input())\n",
    "cnt=6\n",
    "start=1\n",
    "room=1\n",
    "if n == 1:\n",
    "    print(1)\n",
    "else:\n",
    "    while True:\n",
    "        start=start+cnt\n",
    "        room+=1\n",
    "        if n <= start:\n",
    "            print(room)\n",
    "            break\n",
    "        cnt+=6"
   ]
  },
  {
   "cell_type": "code",
   "execution_count": 20,
   "metadata": {},
   "outputs": [
    {
     "name": "stdout",
     "output_type": "stream",
     "text": [
      "4\n",
      "1/1\n"
     ]
    }
   ],
   "source": [
    "#1193 분수찾기\n",
    "# n=int(input()) \n",
    "# cnt=2\n",
    "# start=1\n",
    "# num=0\n",
    "# num_list=[]\n",
    "# if n==1:\n",
    "#     print(\"1/1\")\n",
    "# else:\n",
    "#     while True:\n",
    "#         start=start+cnt\n",
    "#         num+=1\n",
    "#         if n<=start:\n",
    "#             if num%2==0: #짝수\n",
    "#                 for i in range(1,num+1,1):\n",
    "#                     for j in range(num,0,-1):\n",
    "#                         num_list.append(str(i)+\"/\"+str(j))\n",
    "#             else: #홀수\n",
    "#                 for j in range(num,0,-1):\n",
    "#                     for i in range(1,num+1,1):\n",
    "#                         num_list.append(str(j)+\"/\"+str(i))                        \n",
    "#                 break\n",
    "#         cnt+=1\n",
    "# print(num_list[n%num])\n",
    "\n",
    "n=int(input()) \n",
    "cnt=0\n",
    "\n",
    "while n>0:\n",
    "    n-=cnt\n",
    "    cnt+=1\n",
    "n=cnt+n-1\n",
    "if cnt%2==0:\n",
    "    res=str(cnt-n)+\"/\"+str(n)\n",
    "else:\n",
    "    res=str(n)+\"/\"+str(cnt-n)\n",
    "print(res)"
   ]
  },
  {
   "cell_type": "code",
   "execution_count": null,
   "metadata": {
    "scrolled": true
   },
   "outputs": [
    {
     "name": "stdout",
     "output_type": "stream",
     "text": [
      "3 4 5\n"
     ]
    }
   ],
   "source": [
    "#2869 달팽이는 올라가고 싶다\n",
    "#시간 초과\n",
    "\n",
    "a,b,v=list(map(int, input().split()))\n",
    "start=0\n",
    "cnt=0\n",
    "while True:\n",
    "    start=start+(a-b)\n",
    "    if start >= v:\n",
    "        break\n",
    "    cnt+=1\n",
    "print(cnt)"
   ]
  },
  {
   "cell_type": "code",
   "execution_count": 9,
   "metadata": {},
   "outputs": [
    {
     "name": "stdout",
     "output_type": "stream",
     "text": [
      "3 1 5\n",
      "2\n"
     ]
    }
   ],
   "source": [
    "a,b,v=list(map(int, input().split()))\n",
    "print((v-b-1)//(a-b)+1) "
   ]
  },
  {
   "cell_type": "code",
   "execution_count": 8,
   "metadata": {},
   "outputs": [
    {
     "name": "stdout",
     "output_type": "stream",
     "text": [
      "1\n",
      "6 12 20\n",
      "204\n"
     ]
    }
   ],
   "source": [
    "#ACM호텔 \n",
    "\n",
    "for _ in range(int(input())):\n",
    "    h,w,n=list(map(int, input().split()))        \n",
    "    if n%h==0: #맨 위에 방일 경우\n",
    "        floor=n//h\n",
    "        room=str(h).zfill(2) #zfill 자릿수지정 #한자리수면 앞에 0채움\n",
    "        print(str(floor)+str(room))        \n",
    "    else:\n",
    "        floor=n%h\n",
    "        room=n//h+1\n",
    "        room=str(room).zfill(2)\n",
    "        print(str(floor)+str(room))        "
   ]
  },
  {
   "cell_type": "code",
   "execution_count": 9,
   "metadata": {},
   "outputs": [
    {
     "name": "stdout",
     "output_type": "stream",
     "text": [
      "1\n",
      "6 12 20\n",
      "204\n"
     ]
    }
   ],
   "source": [
    "for _ in range(int(input())):\n",
    "    h,w,n=list(map(int, input().split()))\n",
    "    if n%h==0: #맨 위에 방일 경우\n",
    "        room=n//h\n",
    "        print(\"{}{:02d}\".format(h,room))         \n",
    "    else :\n",
    "        floor=n%h\n",
    "        room=n//h+1\n",
    "        print(\"{}{:02d}\".format(floor,room))       "
   ]
  },
  {
   "cell_type": "code",
   "execution_count": 4,
   "metadata": {},
   "outputs": [
    {
     "name": "stdout",
     "output_type": "stream",
     "text": [
      "2\n",
      "1\n",
      "3\n",
      "6\n",
      "2\n",
      "3\n",
      "10\n"
     ]
    }
   ],
   "source": [
    "#2775 부녀회장이 될거야\n",
    "# 재귀사용 => 시간초과\n",
    "\n",
    "def count_people(k,n):\n",
    "    cnt=0\n",
    "    if k==0:\n",
    "        return n\n",
    "    else:\n",
    "        for i in range(1,n+1):\n",
    "            cnt+=count_people(k-1,i) \n",
    "    return cnt\n",
    "for _ in range(int(input())):\n",
    "    k=int(input())\n",
    "    n=int(input())\n",
    "    print(count_people(k,n))"
   ]
  },
  {
   "cell_type": "code",
   "execution_count": 8,
   "metadata": {},
   "outputs": [
    {
     "name": "stdout",
     "output_type": "stream",
     "text": [
      "2\n",
      "1\n",
      "3\n",
      "6\n",
      "2\n",
      "3\n",
      "10\n"
     ]
    }
   ],
   "source": [
    "cnt=int(input())\n",
    "for _ in range(cnt):\n",
    "    k=int(input())\n",
    "    n=int(input())\n",
    "    num=[i for i in range(1,n+1)]\n",
    "    for _ in range(k):\n",
    "        for j in range(1,n):\n",
    "            num[j] += num[j-1]\n",
    "    print(num[-1])  "
   ]
  },
  {
   "cell_type": "code",
   "execution_count": null,
   "metadata": {},
   "outputs": [
    {
     "name": "stdout",
     "output_type": "stream",
     "text": [
      "1 5\n"
     ]
    }
   ],
   "source": [
    "#1011 Fly me to the Alpha Centauri\n",
    "\n",
    "Case=input()\n",
    "x_to_y=[list(map(int, input().split(\" \"))) for _ in range(int(Case))]     \n",
    "def go_space(x,y):\n",
    "    diff=y-x \n",
    "        \n",
    "    if diff==1:\n",
    "        return 1\n",
    "    elif diff==2:\n",
    "        return 2\n",
    "    \n",
    "    cnt=1\n",
    "        \n",
    "    while True:\n",
    "        if (diff>=cnt**2-cnt+1) and (diff<=cnt**2):\n",
    "            return 2*cnt-1\n",
    "        elif (diff>cnt**2) and (diff<=cnt**2+cnt):\n",
    "            return 2*cnt\n",
    "        cnt+=1\n",
    "for a,b in x_to_y:\n",
    "    print(go_space(a,b))"
   ]
  },
  {
   "cell_type": "code",
   "execution_count": 3,
   "metadata": {},
   "outputs": [
    {
     "name": "stdout",
     "output_type": "stream",
     "text": [
      "1 3\n",
      "1 2\n",
      "3 2\n",
      "1 3\n",
      "2 1\n",
      "2 3\n",
      "1 3\n"
     ]
    }
   ],
   "source": [
    "#재귀\n",
    "#하노이탑\n",
    "\n",
    "#입력: 옮기려는 원반의 갯수 n\n",
    "#옮길 원반이 현재 있는 출발점 기둥: from_pos\n",
    "#원반을 옮길 도착점 기둥: to_pos\n",
    "#옮기는 과정에서 사용할 보조 기둥: au_pos\n",
    "\n",
    "def hanoi(n, from_pos, to_pos, aux_pos):\n",
    "    if n==1:\n",
    "        print(from_pos,to_pos)\n",
    "        return\n",
    "    \n",
    "    hanoi(n-1,from_pos,aux_pos,to_pos)\n",
    "    print(from_pos,to_pos)\n",
    "    hanoi(n-1,aux_pos,to_pos,from_pos)\n",
    "        \n",
    "hanoi(3,1,3,2)"
   ]
  },
  {
   "cell_type": "code",
   "execution_count": 4,
   "metadata": {},
   "outputs": [
    {
     "name": "stdout",
     "output_type": "stream",
     "text": [
      "2\n"
     ]
    }
   ],
   "source": [
    "#순차 탐색\n",
    "def search_list(a,x):\n",
    "    n=len(a)\n",
    "    for i in range(0,n):\n",
    "        if x == a[i]:\n",
    "            return i\n",
    "    return -1\n",
    "v=[17,92,18,33,58,7,33,42]\n",
    "\n",
    "print(search_list(v,18)) #18, 2번 인덱스에 존재"
   ]
  },
  {
   "cell_type": "code",
   "execution_count": null,
   "metadata": {},
   "outputs": [],
   "source": [
    "def search_list(s)"
   ]
  }
 ],
 "metadata": {
  "kernelspec": {
   "display_name": "Python 3",
   "language": "python",
   "name": "python3"
  },
  "language_info": {
   "codemirror_mode": {
    "name": "ipython",
    "version": 3
   },
   "file_extension": ".py",
   "mimetype": "text/x-python",
   "name": "python",
   "nbconvert_exporter": "python",
   "pygments_lexer": "ipython3",
   "version": "3.7.4"
  }
 },
 "nbformat": 4,
 "nbformat_minor": 2
}
