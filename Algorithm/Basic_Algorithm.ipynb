{
 "cells": [
  {
   "cell_type": "markdown",
   "metadata": {},
   "source": [
    "## 1. 문자열 포맷팅\n",
    "\n",
    "문자열 안에서 어떤 값을 삽입하는 방법이다. "
   ]
  },
  {
   "cell_type": "code",
   "execution_count": null,
   "metadata": {},
   "outputs": [],
   "source": [
    "\"I eat %d apples\" %5"
   ]
  },
  {
   "cell_type": "code",
   "execution_count": null,
   "metadata": {},
   "outputs": [],
   "source": [
    "\"I eat {0} apples\".format(5)"
   ]
  },
  {
   "cell_type": "markdown",
   "metadata": {},
   "source": [
    "## 2. 문자열 관련 함수"
   ]
  },
  {
   "cell_type": "code",
   "execution_count": null,
   "metadata": {},
   "outputs": [],
   "source": [
    "#1.문자열 세기 : count \n",
    "#2.위치 알려주기 : find\n",
    "#3. 위치 알려주기 : index\n",
    "#4. 문자열 삽입 : join\n",
    "\n",
    "\",\".join(\"abcd\") #문자열 뿐만 아니라 튜플,리스트 입력도 가능"
   ]
  },
  {
   "cell_type": "code",
   "execution_count": null,
   "metadata": {},
   "outputs": [],
   "source": [
    "#upper, lower\n",
    "a = \"hi\"\n",
    "a.upper()"
   ]
  },
  {
   "cell_type": "code",
   "execution_count": null,
   "metadata": {},
   "outputs": [],
   "source": [
    "#공백지우기 : strip\n",
    "a = \" hi \"\n",
    "a.strip()"
   ]
  },
  {
   "cell_type": "code",
   "execution_count": null,
   "metadata": {},
   "outputs": [],
   "source": [
    "#문자 바꾸기 : replace\n",
    "a = \"김씨는 밥을 먹는다.\"\n",
    "a.replace(\"김씨\", \"김경아\")"
   ]
  },
  {
   "cell_type": "code",
   "execution_count": null,
   "metadata": {},
   "outputs": [],
   "source": [
    "#문자열 나누기: split\n",
    "a = \"Life is too long\"\n",
    "a.split() #공백 기준으로 나누기"
   ]
  },
  {
   "cell_type": "markdown",
   "metadata": {},
   "source": [
    "## 3. 리스트 "
   ]
  },
  {
   "cell_type": "code",
   "execution_count": null,
   "metadata": {},
   "outputs": [],
   "source": [
    "#1.슬라이싱\n",
    "\n",
    "A = [1,2,3,4,5] \n",
    "A[1:3] #2,3출력"
   ]
  },
  {
   "cell_type": "code",
   "execution_count": null,
   "metadata": {},
   "outputs": [],
   "source": [
    "#2.리스트에 요소 추가 \n",
    "\n",
    "a= [1,2,3]\n",
    "a.append(4)\n",
    "a"
   ]
  },
  {
   "cell_type": "code",
   "execution_count": null,
   "metadata": {},
   "outputs": [],
   "source": [
    "#3.리스트 뒤집기\n",
    "a.reverse()\n",
    "a"
   ]
  },
  {
   "cell_type": "code",
   "execution_count": null,
   "metadata": {},
   "outputs": [],
   "source": [
    "#4.리스트에 요소 삽입\n",
    "\n",
    "a.insert(0,4) #인덱스 0위치에 4삽입\n",
    "a"
   ]
  },
  {
   "cell_type": "code",
   "execution_count": null,
   "metadata": {},
   "outputs": [],
   "source": [
    "#5. 리스트 요소 제거\n",
    "\n",
    "a.remove(4) #리스트에서 첫번쨰로 나오는 요소 삭제\n",
    "a"
   ]
  },
  {
   "cell_type": "code",
   "execution_count": null,
   "metadata": {},
   "outputs": [],
   "source": [
    "#6. 요소 끄집어내기\n",
    "\n",
    "a.pop(1) #인덱스 1번째 요소 끄집어 내기\n",
    "a"
   ]
  },
  {
   "cell_type": "markdown",
   "metadata": {},
   "source": [
    "## 4. 딕셔너리\n",
    "\n",
    "- key값이 중복으로 설정되면 하나는 무시됨."
   ]
  },
  {
   "cell_type": "code",
   "execution_count": null,
   "metadata": {},
   "outputs": [],
   "source": [
    "a = {'a': [1,2,3]}\n",
    "a"
   ]
  },
  {
   "cell_type": "code",
   "execution_count": null,
   "metadata": {},
   "outputs": [],
   "source": [
    "a['name'] = 'Cathy' #key, value추가\n",
    "a"
   ]
  },
  {
   "cell_type": "code",
   "execution_count": null,
   "metadata": {},
   "outputs": [],
   "source": [
    "a.keys() #키값만 반환."
   ]
  },
  {
   "cell_type": "code",
   "execution_count": null,
   "metadata": {},
   "outputs": [],
   "source": [
    "#Key, Value 쌍 얻기(items)\n",
    "\n",
    "a.items()"
   ]
  },
  {
   "cell_type": "code",
   "execution_count": null,
   "metadata": {},
   "outputs": [],
   "source": [
    "#key로 value값 얻기 (get)\n",
    "\n",
    "a = {'name':'pey', 'phone':'0123456', 'birth':'1118'}\n",
    "a.get('name')\n",
    "a.get('name')"
   ]
  },
  {
   "cell_type": "code",
   "execution_count": null,
   "metadata": {},
   "outputs": [],
   "source": [
    "a.pop('phone')\n",
    "print(a)"
   ]
  },
  {
   "cell_type": "markdown",
   "metadata": {},
   "source": [
    "## 5. 집합 자료형 (set) "
   ]
  },
  {
   "cell_type": "code",
   "execution_count": null,
   "metadata": {},
   "outputs": [],
   "source": [
    "s1 = set([1,2,3])\n",
    "s1"
   ]
  },
  {
   "cell_type": "code",
   "execution_count": null,
   "metadata": {},
   "outputs": [],
   "source": [
    "#1. 차집합 / 합집합 구하기\n",
    "s1 = set([1,2,3,4,5])\n",
    "s2 = set([3,4,5,6,7])\n",
    "\n",
    "print(s1 & s2) #교집합\n",
    "print(s1 | s2) #합집합\n",
    "print(s1 - s2) #차집합  \n",
    "print(s1.difference(s2)) #차집합"
   ]
  },
  {
   "cell_type": "code",
   "execution_count": null,
   "metadata": {},
   "outputs": [],
   "source": [
    "#여러개값 추가\n",
    "\n",
    "s1 = set([1,2,3])\n",
    "s1.update([4,5,6])\n",
    "s1"
   ]
  },
  {
   "cell_type": "code",
   "execution_count": null,
   "metadata": {},
   "outputs": [],
   "source": [
    "num = int(input())\n",
    "if num%2 == 0:\n",
    "    print('짝수')\n",
    "else :\n",
    "    print('홀수')"
   ]
  },
  {
   "cell_type": "code",
   "execution_count": null,
   "metadata": {},
   "outputs": [],
   "source": [
    "pin = \"960602-2164511\"\n",
    "date = pin[:6]\n",
    "print(date)\n",
    "num = pin[7:-1]\n",
    "print(num)"
   ]
  },
  {
   "cell_type": "code",
   "execution_count": null,
   "metadata": {},
   "outputs": [],
   "source": [
    "a=\"a:b:c:d\"\n",
    "a.replace(\":\", \"#\")"
   ]
  },
  {
   "cell_type": "code",
   "execution_count": null,
   "metadata": {},
   "outputs": [],
   "source": [
    "a=['a','b','c']\n",
    "(\" \").join(a)"
   ]
  },
  {
   "cell_type": "markdown",
   "metadata": {},
   "source": [
    "## 6. 튜플 "
   ]
  },
  {
   "cell_type": "code",
   "execution_count": null,
   "metadata": {},
   "outputs": [],
   "source": [
    "#튜플 더하기\n",
    "\n",
    "a = (1,2,3)\n",
    "a = a+(4,) #요소 더하기\n",
    "a"
   ]
  },
  {
   "cell_type": "markdown",
   "metadata": {},
   "source": [
    "## if 연산자"
   ]
  },
  {
   "cell_type": "code",
   "execution_count": null,
   "metadata": {},
   "outputs": [],
   "source": [
    "#조건문에서 아무일도 않게 설정하고 싶다면?\n",
    "\n",
    "pocket = ['paper','money','cellphone']\n",
    "if 'money' in pocket:\n",
    "    pass\n",
    "else:\n",
    "    print('카드를 꺼내라.')"
   ]
  },
  {
   "cell_type": "markdown",
   "metadata": {},
   "source": [
    "## while 연산자 "
   ]
  },
  {
   "cell_type": "code",
   "execution_count": null,
   "metadata": {},
   "outputs": [],
   "source": [
    "#커피 자판기\n",
    "\n",
    "coffee = 10\n",
    "money = 300\n",
    "\n",
    "while money:\n",
    "    print('돈을 받았으니 커피를 줍니다.')\n",
    "    coffee = coffee -1\n",
    "    print('남은 커피 양은 %d입니다.' %coffee)\n",
    "    if coffee == 0:\n",
    "        print('커피가 다 떨어졌습니다.')\n",
    "        break \n",
    "#while문 빠져나가기 / continue : while문을 빠져나가지 않고 while문의 맨 처음으로 다시 돌아가게 만듬."
   ]
  },
  {
   "cell_type": "markdown",
   "metadata": {},
   "source": [
    "## for 연산자 "
   ]
  },
  {
   "cell_type": "code",
   "execution_count": null,
   "metadata": {},
   "outputs": [],
   "source": [
    "marks = [90, 25, 67, 45, 80]\n",
    "number=0\n",
    "for mark in marks:\n",
    "    number = number+1\n",
    "    if mark < 60:\n",
    "        continue #조건에 해당하면 맨 처음으로 간다.\n",
    "        print('%d번 학생 축하합니다. 합격입니다.' %number)"
   ]
  },
  {
   "cell_type": "code",
   "execution_count": null,
   "metadata": {},
   "outputs": [],
   "source": [
    "#구구단\n",
    "for i in range(2,10):\n",
    "    for j in range(1,10):\n",
    "        print(i*j, end=\" \")\n",
    "    print('')"
   ]
  },
  {
   "cell_type": "code",
   "execution_count": null,
   "metadata": {},
   "outputs": [],
   "source": [
    "#리스트 내포 사용\n",
    "a = [1,2,3,4]\n",
    "res = [num*3 for num in a]\n",
    "print(res)"
   ]
  },
  {
   "cell_type": "code",
   "execution_count": null,
   "metadata": {},
   "outputs": [],
   "source": [
    "i=0\n",
    "while True:\n",
    "    i +=1\n",
    "    if i > 5 :\n",
    "        break\n",
    "    print(\"*\"*i)"
   ]
  },
  {
   "cell_type": "markdown",
   "metadata": {},
   "source": [
    "## 함수 / 클래스 "
   ]
  },
  {
   "cell_type": "code",
   "execution_count": null,
   "metadata": {},
   "outputs": [],
   "source": [
    "#사칙연산 계산기 만들기\n",
    "\n",
    "class FourCal:\n",
    "    def __init__(self, first, second):\n",
    "        self.first = first\n",
    "        self.second = second\n",
    "        \n",
    "#     def setdata(self, first, second): #method\n",
    "#         self.first = first\n",
    "#         self.second = second\n",
    "        \n",
    "    def add(self):\n",
    "        res = self.first + self.second\n",
    "        return res\n",
    "    \n",
    "    def diff(self):\n",
    "        res = self.first - self.second\n",
    "        return res\n",
    "    \n",
    "    def mul(self):\n",
    "        res = self.first * self.second\n",
    "        return res\n",
    "    \n",
    "    def div(self):\n",
    "        res = self.first / self.second\n",
    "        return res"
   ]
  },
  {
   "cell_type": "code",
   "execution_count": null,
   "metadata": {},
   "outputs": [],
   "source": [
    "a = FourCal(4,2) #객체 생성\n",
    "a.add()\n",
    "a.mul()"
   ]
  },
  {
   "cell_type": "code",
   "execution_count": null,
   "metadata": {},
   "outputs": [],
   "source": [
    "#클래스 상속\n",
    "\n",
    "class MoreFourCal(FourCal):\n",
    "    def pow(self):\n",
    "        res = self.first**self.second\n",
    "        return res"
   ]
  },
  {
   "cell_type": "code",
   "execution_count": null,
   "metadata": {},
   "outputs": [],
   "source": [
    "a = MoreFourCal(4,2)\n",
    "a.pow()"
   ]
  },
  {
   "cell_type": "code",
   "execution_count": null,
   "metadata": {},
   "outputs": [],
   "source": [
    "#오버라이딩 : 부모클래스에 있는 메서드를 동일한 이름으로 다시 만드는 것.\n",
    "\n",
    "class SafeFourCal(FourCal):\n",
    "    def div(self):\n",
    "        if self.second == 0:\n",
    "            return 0\n",
    "        else:\n",
    "            return self.first/self.second  #기존의 메소드를 다시 만듬.\n",
    "        \n",
    "a = SafeFourCal(4,0)\n",
    "a.div()"
   ]
  },
  {
   "cell_type": "markdown",
   "metadata": {},
   "source": [
    "## 예외처리 : try / exception\n",
    "\n",
    "- try 블록 수행중 오류가 발생하며 except 블록이 수행됨."
   ]
  },
  {
   "cell_type": "markdown",
   "metadata": {},
   "source": [
    "## 내장함수 "
   ]
  },
  {
   "cell_type": "markdown",
   "metadata": {},
   "source": [
    "### 1. enumerate : 순서가 있는 자료형(리스트, 튜플, 문자열)을 입력으로 받아서 인덱스 값을 포함하는 객체로 돌려줌."
   ]
  },
  {
   "cell_type": "code",
   "execution_count": null,
   "metadata": {},
   "outputs": [],
   "source": [
    "for i, name in enumerate(['A','B','C']):\n",
    "    print(i, name)"
   ]
  },
  {
   "cell_type": "markdown",
   "metadata": {},
   "source": [
    "### 2. eval : 실행가능한 문자열을 입력으로 받아 문자열을 실행한 결과값을 돌려주는 함수. \n",
    "\n",
    "### 보통 eval은 입력받은 문자열로 파이썬 함수나 클래스를 동적으로 실행할때 사용."
   ]
  },
  {
   "cell_type": "code",
   "execution_count": null,
   "metadata": {},
   "outputs": [],
   "source": [
    "eval('1+2')"
   ]
  },
  {
   "cell_type": "code",
   "execution_count": null,
   "metadata": {},
   "outputs": [],
   "source": [
    "eval(\"'hi'+'hello'\")"
   ]
  },
  {
   "cell_type": "markdown",
   "metadata": {},
   "source": [
    "### 3. filter : 각각의 요소를 판별해서 양수 값만 돌려주는 함수."
   ]
  },
  {
   "cell_type": "markdown",
   "metadata": {},
   "source": [
    "### ***정규표현식 \n",
    "\n",
    "복잡한 문자열을 처리할때 사용하는 기법. 매우 중요함.\n",
    "\n",
    "- 메타문자 : .^$*+?{}[]\\|()\n",
    "- 문자열 검색 : match, search, findall, finditer"
   ]
  },
  {
   "cell_type": "code",
   "execution_count": null,
   "metadata": {},
   "outputs": [],
   "source": [
    "data = \"\"\"\n",
    "park 800905-1049118\n",
    "kim 960602-2123456\n",
    "\"\"\"\n",
    "\n",
    "res = []\n",
    "for line in data.split(\"\\n\"): #줄바꿈\n",
    "    word_res = []\n",
    "    for word in line.split(\" \"): #띄어쓰기\n",
    "        if len(word)==14 and word[:6].isdigit() and word[7:].isdigit():\n",
    "            word = word[:6]+\"-\"+\"*******\"\n",
    "        word_res.append(word)\n",
    "    res.append(\" \".join(word_res))\n",
    "print(\"\\n\".join(res))"
   ]
  },
  {
   "cell_type": "code",
   "execution_count": null,
   "metadata": {},
   "outputs": [],
   "source": [
    "#정규표현식\n",
    "import re\n",
    "\n",
    "data = \"\"\"\n",
    "park 800905-1049118\n",
    "kim 960602-2123456\n",
    "\"\"\"\n",
    "\n",
    "pat = re.compile(\"(\\d{6})[-](\\d{7})\")\n",
    "print(pat.sub(\"\\g<1>-*******\", data)) #sub(바꿀 패턴, 이전 문자열)"
   ]
  },
  {
   "cell_type": "markdown",
   "metadata": {},
   "source": [
    "# 연습문제"
   ]
  },
  {
   "cell_type": "code",
   "execution_count": null,
   "metadata": {},
   "outputs": [],
   "source": [
    "#1. \n",
    "a = \"a:b:c:d\"\n",
    "a.replace(\":\",\"#\")\n",
    "print(a)"
   ]
  },
  {
   "cell_type": "code",
   "execution_count": null,
   "metadata": {},
   "outputs": [],
   "source": [
    "#2.\n",
    "a = {'A':90, 'B':80}\n",
    "a.get('C',70)"
   ]
  },
  {
   "cell_type": "code",
   "execution_count": null,
   "metadata": {},
   "outputs": [],
   "source": [
    "#3. extend의 차이점 : 리스트를 더해주게 되면 새로운 메모리를 할당받는데 extend로 리스트를 확장하게 되면 기존 메모리를 그대로 사용한다.\n",
    "\n",
    "a = [1,2,3]\n",
    "a = a + [4,5]\n",
    "a\n",
    "\n",
    "a = a.extend([4.5])"
   ]
  },
  {
   "cell_type": "markdown",
   "metadata": {},
   "source": [
    "#### 차이점: 리스트를 더해주게 되면 새로운 메모리를 할당받는데 extend로 리스트를 확장하게 되면 기존 메모리를 그대로 사용한다."
   ]
  },
  {
   "cell_type": "code",
   "execution_count": null,
   "metadata": {},
   "outputs": [],
   "source": [
    "#4. 리스트의 총합 구하기\n",
    "\n",
    "A = [20, 55, 67, 82, 45, 33, 90, 87, 100, 25]\n",
    "num_sum= 0\n",
    "for i in range(len(A)):\n",
    "    if A[i] < 50:\n",
    "        i+=1\n",
    "        pass\n",
    "    else:\n",
    "        num_sum += A[i]\n",
    "        i+=1\n",
    "print(num_sum)"
   ]
  },
  {
   "cell_type": "code",
   "execution_count": null,
   "metadata": {},
   "outputs": [],
   "source": [
    "#5. 재귀\n",
    "\n",
    "def fib(n):\n",
    "    if n == 0:\n",
    "        return 0\n",
    "    elif n == 1:\n",
    "        return 1\n",
    "    return fib(n-2) + fib(n-1)\n",
    "\n",
    "for i in range(10):\n",
    "    print(fib(i))"
   ]
  },
  {
   "cell_type": "code",
   "execution_count": null,
   "metadata": {},
   "outputs": [],
   "source": [
    "#6. 숫자의 총합 구하기\n",
    "\n",
    "num = list(map(int, input().split(\",\")))\n",
    "total_num = sum(num)\n",
    "print(total_num)"
   ]
  },
  {
   "cell_type": "code",
   "execution_count": null,
   "metadata": {},
   "outputs": [],
   "source": [
    "#7. 한줄 구구단.\n",
    "\n",
    "inp = input(\"구구단을 출력할 숫자를 입력하세요.(2~9):\")\n",
    "num = int(inp)\n",
    "for i in range(1, 10):\n",
    "    print(i*num, end=' ')"
   ]
  },
  {
   "cell_type": "code",
   "execution_count": null,
   "metadata": {},
   "outputs": [],
   "source": [
    "#8. 역순 저장\n",
    "\n",
    "f = open('abc.txt','r') #텍스트 파일 읽어오기.\n",
    "lines = f.readlines()\n",
    "f.close()\n",
    "\n",
    "lines.reverse()\n",
    "\n",
    "f = open('abc.txt','w')\n",
    "for line in lines:\n",
    "    line = line.strip()\n",
    "    f.write(line)\n",
    "    f.write('\\n')\n",
    "f.close()"
   ]
  },
  {
   "cell_type": "code",
   "execution_count": null,
   "metadata": {},
   "outputs": [],
   "source": [
    "#9, 평균값 구하기\n",
    "\n",
    "f = open('sample.txt', 'r')\n",
    "lines = f.readlines()\n",
    "f.close()\n",
    "print(lines)\n",
    "total = 0\n",
    "for i in lines:\n",
    "    num = int(i)\n",
    "    total += num\n",
    "average = total / len(lines)\n",
    "\n",
    "f = open('sample.txt', 'w')\n",
    "f.write(str(average)) #int를 바로 저장 못하기 때문에 string로 변환후 저장\n",
    "f.close()    "
   ]
  },
  {
   "cell_type": "code",
   "execution_count": null,
   "metadata": {},
   "outputs": [],
   "source": [
    "#10. 사칙연산\n",
    "class Calculator:\n",
    "    def __init__(self, nums):\n",
    "        self.nums = nums\n",
    "        \n",
    "    def sum(self): #힙계\n",
    "        return sum(self.nums)\n",
    "    \n",
    "    def avg(self): #평균\n",
    "        return sum(self.nums) / len(self.nums)\n"
   ]
  },
  {
   "cell_type": "code",
   "execution_count": null,
   "metadata": {},
   "outputs": [],
   "source": [
    "cal1 = Calculator([1,2,3,4,5])\n",
    "print(cal1.sum())\n",
    "print(cal1.avg())"
   ]
  },
  {
   "cell_type": "code",
   "execution_count": null,
   "metadata": {},
   "outputs": [],
   "source": [
    "#13. DashInsert함수 :숫자로 구성된 문자열을 입력받은 뒤 문자열 안에서 홀수가 연속되면 두 수 사이에 -를 추가하고, 짝수가 연속되면 *를 추가하는 기능을 갖고 있다.\n",
    "\n",
    "numbers = list(map(int, input()))\n",
    "result=[]\n",
    "\n",
    "for i, num in enumerate(numbers):\n",
    "    print(i, num)\n",
    "    result.append(str(num))\n",
    "    if i < len(numbers)-1:\n",
    "        is_odd = numbers[i] % 2 == 1 #홀수\n",
    "        is_next_odd = numbers[i+1] % 2 == 1\n",
    "        if is_odd and is_next_odd:\n",
    "            result.append(\"-\")\n",
    "            \n",
    "        elif not is_odd and not is_next_odd:\n",
    "            result.append(\"*\")\n",
    "\n",
    "print(\"\".join(result))"
   ]
  },
  {
   "cell_type": "code",
   "execution_count": 11,
   "metadata": {},
   "outputs": [
    {
     "name": "stdout",
     "output_type": "stream",
     "text": [
      "aabb\n",
      "a2b2\n"
     ]
    }
   ],
   "source": [
    "#14.문자열 압축.\n",
    "\n",
    "str_ = list(input())\n",
    "num_list = str_[0]\n",
    "cnt = 0\n",
    "\n",
    "for i in str_:\n",
    "    if i == num_list[-1]:\n",
    "        cnt+=1\n",
    "\n",
    "    else:\n",
    "        num_list += str(cnt) + i\n",
    "        cnt = 1  \n",
    "        \n",
    "num_list += str(cnt)\n",
    "\n",
    "print(num_list)"
   ]
  },
  {
   "cell_type": "code",
   "execution_count": 14,
   "metadata": {},
   "outputs": [
    {
     "name": "stdout",
     "output_type": "stream",
     "text": [
      "122 344\n"
     ]
    },
    {
     "data": {
      "text/plain": [
       "Counter({'122': 1, '344': 1})"
      ]
     },
     "execution_count": 14,
     "metadata": {},
     "output_type": "execute_result"
    }
   ],
   "source": [
    "# 15. Duplicate Numbers\n",
    "def checkNum(s):\n",
    "    res = []\n",
    "    for num in s:\n",
    "        if num not in res:\n",
    "            res.append(num) #리스트에 하나씩 차례대로 추가하면서 중복 확인 => 있으면 False\n",
    "        else:\n",
    "            return False\n",
    "    if len(res)==10:\n",
    "        return True\n",
    "    else:\n",
    "        return False\n",
    "\n",
    "print(checkNum(\"0123456789\"))\n",
    "print(checkNum(\"012345678\"))  "
   ]
  },
  {
   "cell_type": "code",
   "execution_count": 17,
   "metadata": {},
   "outputs": [
    {
     "name": "stdout",
     "output_type": "stream",
     "text": [
      "True\n",
      "False\n"
     ]
    }
   ],
   "source": [
    "#16. 모스부호          "
   ]
  },
  {
   "cell_type": "code",
   "execution_count": 20,
   "metadata": {},
   "outputs": [
    {
     "name": "stdout",
     "output_type": "stream",
     "text": [
      "\n",
      "park 010-9999-####\n",
      "kim 010-9909-####\n",
      "\n"
     ]
    }
   ],
   "source": [
    "#19. 그루핑\n",
    "import re\n",
    "\n",
    "data = \"\"\"\n",
    "park 010-9999-9998\n",
    "kim 010-9909-7789\n",
    "\"\"\"\n",
    "\n",
    "pat = re.compile(\"(\\d{3})[-](\\d{4})[-](\\d{4})\")\n",
    "print(pat.sub(\"\\g<1>-\\g<2>-####\", data))"
   ]
  },
  {
   "cell_type": "code",
   "execution_count": 24,
   "metadata": {},
   "outputs": [
    {
     "name": "stdout",
     "output_type": "stream",
     "text": [
      "<re.Match object; span=(0, 19), match='kka960602@naver.com'>\n"
     ]
    }
   ],
   "source": [
    "#20. 긍정형 전방 탐색 : ?=조건이 반드시 참이어야 함\n",
    "pat = re.compile(\".*[@].*[.](?=com$|net$).*$\")\n",
    "\n",
    "print(pat.match(\"kka960602@naver.com\"))"
   ]
  }
 ],
 "metadata": {
  "kernelspec": {
   "display_name": "Python 3",
   "language": "python",
   "name": "python3"
  },
  "language_info": {
   "codemirror_mode": {
    "name": "ipython",
    "version": 3
   },
   "file_extension": ".py",
   "mimetype": "text/x-python",
   "name": "python",
   "nbconvert_exporter": "python",
   "pygments_lexer": "ipython3",
   "version": "3.7.4"
  }
 },
 "nbformat": 4,
 "nbformat_minor": 2
}
