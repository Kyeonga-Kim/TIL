{
 "cells": [
  {
   "cell_type": "markdown",
   "metadata": {},
   "source": [
    "### N 2750. 수 정렬하기 "
   ]
  },
  {
   "cell_type": "code",
   "execution_count": 4,
   "metadata": {},
   "outputs": [
    {
     "name": "stdout",
     "output_type": "stream",
     "text": [
      "5\n",
      "5\n",
      "3\n",
      "4\n",
      "1\n",
      "2\n",
      "1\n",
      "2\n",
      "3\n",
      "4\n",
      "5\n"
     ]
    }
   ],
   "source": [
    "cnt = int(input())\n",
    "num_list = []\n",
    "for i in range(cnt):\n",
    "    num = int(input())\n",
    "    num_list.append(num)\n",
    "num_list = sorted(num_list) #sorted 정렬\n",
    "for i in range(cnt):\n",
    "    print(num_list[i])"
   ]
  },
  {
   "cell_type": "markdown",
   "metadata": {},
   "source": [
    "### N 2751. 수 정렬하기(시간복잡도 O(nlogn)로 풀기) "
   ]
  },
  {
   "cell_type": "code",
   "execution_count": 8,
   "metadata": {},
   "outputs": [],
   "source": [
    "import sys\n",
    "\n",
    "num = int(input())\n",
    "num_list = []\n",
    "for i in range(num):\n",
    "    num_list.append(int(sys.stdin.readline()))\n",
    "for i in sorted(num_list): #바로 리스트 정렬해서 for문으롤 돌림.\n",
    "    sys.stdout.write(str(i)+'\\n')"
   ]
  },
  {
   "cell_type": "markdown",
   "metadata": {},
   "source": [
    "### N 10989. 수 정렬하기 (공간 복잡도 단축)"
   ]
  },
  {
   "cell_type": "code",
   "execution_count": 10,
   "metadata": {},
   "outputs": [],
   "source": [
    "import sys\n",
    "\n",
    "num = int(sys.stdin.readline())\n",
    "num_list = [0]*10001\n",
    "\n",
    "for i in range(num):\n",
    "    num_list[int(sys.stdin.readline())] = num_list[int(sys.stdin.readline())]+1\n",
    "    \n",
    "for i in range(10001): \n",
    "    if num_list[i] != 0:\n",
    "        for j in range(b[i]):\n",
    "            print(i)"
   ]
  },
  {
   "cell_type": "markdown",
   "metadata": {},
   "source": [
    "### N 2108. 통계학"
   ]
  },
  {
   "cell_type": "code",
   "execution_count": 12,
   "metadata": {},
   "outputs": [],
   "source": [
    "import sys\n",
    "from collections import Counter\n",
    "\n",
    "cnt = int(sys.stdin.readline())\n",
    "num_list = []\n",
    "\n",
    "def mean(nums):\n",
    "    return sum(num_list)/len(num_list)\n",
    "\n",
    "def median(nums):\n",
    "    num_list.sort()\n",
    "    return num_list[len(num_list)//2]\n",
    "\n",
    "def freq(nums):\n",
    "    return Counter(num_list).most_common(1)[0][0]\n",
    "\n",
    "def scope(nums):\n",
    "    return max(num_list)-min(num_list)\n",
    "\n",
    "for _ in range(cnt):\n",
    "     num_list.append(int(sys.stdin.readline()))\n",
    "        \n",
    "print(mean(nums)) #산술 평균\n",
    "print(median(nums)) #중앙값\n",
    "print(freq(nums)) #최빈값\n",
    "print(scope(nums)) #범위: 최댓-최솟"
   ]
  },
  {
   "cell_type": "markdown",
   "metadata": {},
   "source": [
    "### N 1427. 소트인사이드\n",
    "\n",
    "첫째 줄에 자리수를 내림차순으로 정렬한 수를 출력한다."
   ]
  },
  {
   "cell_type": "code",
   "execution_count": 31,
   "metadata": {},
   "outputs": [
    {
     "name": "stdout",
     "output_type": "stream",
     "text": [
      "2143\n"
     ]
    },
    {
     "data": {
      "text/plain": [
       "4321"
      ]
     },
     "execution_count": 31,
     "metadata": {},
     "output_type": "execute_result"
    }
   ],
   "source": [
    "num = list(str(input())) \n",
    "num.sort(reverse=True) #리스트.sort를 하면 원래 리스트가 수정된다.\n",
    "print(int(\"\".join(num)))"
   ]
  },
  {
   "cell_type": "markdown",
   "metadata": {},
   "source": [
    "### N 11650. 좌표정렬하기\n",
    "\n",
    "2차원 평면 위의 점 N개가 주어진다. 좌표를 x좌표가 증가하는 순으로, x좌표가 같으면 y좌표가 증가하는 순서로 정렬한 다음 출력하는 프로그램을 작성하시오."
   ]
  },
  {
   "cell_type": "code",
   "execution_count": null,
   "metadata": {},
   "outputs": [],
   "source": []
  },
  {
   "cell_type": "markdown",
   "metadata": {},
   "source": [
    "### N  11651. 좌표정렬하기2"
   ]
  },
  {
   "cell_type": "code",
   "execution_count": null,
   "metadata": {},
   "outputs": [],
   "source": []
  },
  {
   "cell_type": "markdown",
   "metadata": {},
   "source": [
    "### N 1181. 단어정렬"
   ]
  },
  {
   "cell_type": "code",
   "execution_count": null,
   "metadata": {},
   "outputs": [],
   "source": [
    "cnt = int(input())\n",
    "for _ in range(cnt):\n",
    "    "
   ]
  },
  {
   "cell_type": "markdown",
   "metadata": {},
   "source": [
    "### N 10814. 나이순 정렬"
   ]
  },
  {
   "cell_type": "code",
   "execution_count": null,
   "metadata": {},
   "outputs": [],
   "source": []
  }
 ],
 "metadata": {
  "kernelspec": {
   "display_name": "Python 3",
   "language": "python",
   "name": "python3"
  },
  "language_info": {
   "codemirror_mode": {
    "name": "ipython",
    "version": 3
   },
   "file_extension": ".py",
   "mimetype": "text/x-python",
   "name": "python",
   "nbconvert_exporter": "python",
   "pygments_lexer": "ipython3",
   "version": "3.7.4"
  }
 },
 "nbformat": 4,
 "nbformat_minor": 2
}
