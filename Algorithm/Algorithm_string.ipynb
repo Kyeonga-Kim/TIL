{
 "cells": [
  {
   "cell_type": "markdown",
   "metadata": {},
   "source": [
    "# Coding Test"
   ]
  },
  {
   "cell_type": "markdown",
   "metadata": {},
   "source": [
    "## 연습 문제(문자열)"
   ]
  },
  {
   "cell_type": "markdown",
   "metadata": {},
   "source": [
    "### KAKAO 문자열 압축\n",
    "\n",
    "간단한 예로 “aabbaccc”의 경우 “2a2ba3c”(문자가 반복되지 않아 한번만 나타난 경우 1은 생략함)와 같이 표현할 수 있는데, 이러한 방식은 반복되는 문자가 적은 경우 압축률이 낮다는 단점이 있습니다. 예를 들면, “abcabcdede”와 같은 문자열은 전혀 압축되지 않습니다. \n",
    "\n",
    "예를 들어, “ababcdcdababcdcd”의 경우 문자를 1개 단위로 자르면 전혀 압축되지 않지만, 2개 단위로 잘라서 압축한다면 “2ab2cd2ab2cd”로 표현할 수 있습니다. 다른 방법으로 8개 단위로 잘라서 압축한다면 “2ababcdcd”로 표현할 수 있으며, 이때가 가장 짧게 압축하여 표현할 수 있는 방법입니다.\n",
    "\n",
    "다른 예로, “abcabcdede”와 같은 경우, 문자를 2개 단위로 잘라서 압축하면 “abcabc2de”가 되지만, 3개 단위로 자른다면 “2abcdede”가 되어 3개 단위가 가장 짧은 압축 방법이 됩니다. 이때 3개 단위로 자르고 마지막에 남는 문자열은 그대로 붙여주면 됩니다.\n",
    "\n",
    "\n",
    "- s의 길이는 1 이상 1,000 이하입니다.\n",
    "- s는 알파벳 소문자로만 이루어져 있습니다."
   ]
  },
  {
   "cell_type": "code",
   "execution_count": 7,
   "metadata": {},
   "outputs": [],
   "source": [
    "def compress(text, tok_len):\n",
    "    words = [text[i:i+tok_len] for i in range(0,len(text), tok_len)]\n",
    "    res = []\n",
    "    cur_word = words[0]\n",
    "    cur_cnt = 1\n",
    "    \n",
    "    for a,b in zip(words, words[1:] + ['']):\n",
    "        if a == b :\n",
    "            cur_cnt += 1\n",
    "        else :\n",
    "            res.append([cur_word, cur_cnt])\n",
    "            cur_word = b\n",
    "            cur_cnt = 1\n",
    "    return sum(len(word) + (len(str(cnt)) if cnt > 1 else 0) for word, cnt in res)"
   ]
  },
  {
   "cell_type": "code",
   "execution_count": 8,
   "metadata": {},
   "outputs": [],
   "source": [
    "def solution(text):\n",
    "    return min(compress(text, tok_len) for tok_len in list(range(1, int(len(text)/2) + 1)) + [len(text)])\n",
    "\n",
    "a = [\n",
    "    \"aabbaccc\",\n",
    "    \"ababcdcdababcdcd\",\n",
    "    \"abcabcdede\",\n",
    "    \"abcabcabcabcdededededede\",\n",
    "    \"xababcdcdababcdcd\",\n",
    "    'aaaaaa',\n",
    "]"
   ]
  },
  {
   "cell_type": "code",
   "execution_count": 9,
   "metadata": {},
   "outputs": [
    {
     "name": "stdout",
     "output_type": "stream",
     "text": [
      "7\n",
      "9\n",
      "8\n",
      "14\n",
      "17\n",
      "2\n"
     ]
    }
   ],
   "source": [
    "for x in a :\n",
    "    print(solution(x))"
   ]
  },
  {
   "cell_type": "markdown",
   "metadata": {},
   "source": [
    "### 백준 11654 아스키코드"
   ]
  },
  {
   "cell_type": "code",
   "execution_count": 185,
   "metadata": {},
   "outputs": [
    {
     "name": "stdout",
     "output_type": "stream",
     "text": [
      "A\n",
      "65\n"
     ]
    }
   ],
   "source": [
    "word = input()\n",
    "print(ord(word))"
   ]
  },
  {
   "cell_type": "markdown",
   "metadata": {},
   "source": [
    "### 백준 2675 문자열 반복"
   ]
  },
  {
   "cell_type": "code",
   "execution_count": 186,
   "metadata": {},
   "outputs": [
    {
     "name": "stdout",
     "output_type": "stream",
     "text": [
      "2\n",
      "3 ABC\n",
      "AAABBBCCC\n",
      "2 abcb\n",
      "aabbccbb\n"
     ]
    }
   ],
   "source": [
    "cnt = int(input())\n",
    "for i in range(cnt):\n",
    "    n, word = input().split()\n",
    "    res= ''\n",
    "    for i in word:\n",
    "        res+=i*int(n)\n",
    "    print(res)"
   ]
  },
  {
   "cell_type": "markdown",
   "metadata": {},
   "source": [
    "### 백준 1157 단어공부\n",
    "알파벳 대소문자로 된 단어가 주어지면, 이 단어에서 가장 많이 사용된 알파벳이 무엇인지 알아내는 프로그램을 작성하시오.\n",
    "단, 대문자와 소문자를 구분하지 않는다.\n",
    "\n",
    "첫째 줄에 이 단어에서 가장 많이 사용된 알파벳을 대문자로 출력한다. \n",
    "\n",
    "단, 가장 많이 사용된 알파벳이 여러 개 존재하는 경우에는 ?를 출력한다."
   ]
  },
  {
   "cell_type": "code",
   "execution_count": 182,
   "metadata": {},
   "outputs": [
    {
     "name": "stdout",
     "output_type": "stream",
     "text": [
      "zZa\n",
      "Z\n"
     ]
    }
   ],
   "source": [
    "word = input().lower()\n",
    "word_l = list(set(word))\n",
    "word_cnt = []\n",
    "\n",
    "for i in word_l:\n",
    "    cnt = word.count(i)\n",
    "    word_cnt.append(cnt)\n",
    "if word_cnt.count(max(word_cnt))>=2:\n",
    "    print(\"?\")\n",
    "else:\n",
    "    print(word_l[word_cnt.index(max(word_cnt))].upper())"
   ]
  },
  {
   "cell_type": "markdown",
   "metadata": {},
   "source": [
    "### 백준 1152 단어세기\n",
    "\n",
    "영어 대소문자와 띄어쓰기만으로 이루어진 문자열이 주어진다. 이 문자열에는 몇 개의 단어가 있을까? 이를 구하는 프로그램을 작성하시오. \n",
    "\n",
    "예) \n",
    "\n",
    "입력1:The Curious Case of Benjamin Button\n",
    "\n",
    "출력1:6\n",
    "\n",
    "입력2: Mazatneunde Wae Teullyeoyo\n",
    "\n",
    "출력2:3"
   ]
  },
  {
   "cell_type": "code",
   "execution_count": 184,
   "metadata": {},
   "outputs": [
    {
     "name": "stdout",
     "output_type": "stream",
     "text": [
      " Mazatneunde Wae Teullyeoyo\n",
      "3\n"
     ]
    }
   ],
   "source": [
    "text=list(input())\n",
    "cnt=1\n",
    "if (text[0] ==\" \") and (text[-1]== \" \"):\n",
    "    cnt-=2\n",
    "elif text[0]== \" \":\n",
    "    cnt-=1\n",
    "elif text[-1]== \" \":\n",
    "    cnt-=1\n",
    "for i in text:\n",
    "    if i == \" \":\n",
    "        cnt+=1\n",
    "print(cnt)"
   ]
  },
  {
   "cell_type": "markdown",
   "metadata": {},
   "source": [
    "### 문제.1 \n",
    "\n",
    "Check balanced parentheses\n",
    "\n",
    "열린 괄호와 닫힌 괄호로 이루어진 문자열이 주어지면, 해당 괄호가 균형을 이루는지 확인하는 문제입니다. \n",
    "\n",
    "괄호의 유형은 다음과 같이 총 3가지 입니다; 소괄호(), 대괄호 [], 중괄호{}. \n",
    "\n",
    "주어지는 문자열에는 이 괄호 외에 문자나 숫자, 공백 등 다른 문자가 포함되지 않는다고 가정합니다.\n",
    "\n",
    "균형을 이루는 괄호는, 열린 괄호의 역순으로 닫힌 괄호가 나열되어야 합니다.\n",
    "\n",
    "예를 들어, ‘([])’는 균형을 이루지만, ‘([)]’는 균형을 이루지 않습니다.\n",
    "\n",
    "입력으로 문자열을 입력 받아 해당 문자열을 구성하는 괄호가 균형을 이루면 “YES”, 균형을 이루지 않는다면 “NO”를 출력하시오.\n"
   ]
  },
  {
   "cell_type": "code",
   "execution_count": 29,
   "metadata": {},
   "outputs": [
    {
     "name": "stdout",
     "output_type": "stream",
     "text": [
      "[(])\n",
      "NO\n"
     ]
    }
   ],
   "source": [
    "str_ = list(input())\n",
    "\n",
    "cond1 = ['(', ')'] \n",
    "cond2 = ['[', ']'] \n",
    "cond3 = ['{', '}'] \n",
    "\n",
    "if (str_[0]==cond1[0]) and (str_[-1]==cond1[1]):\n",
    "    print(\"YES\")   \n",
    "elif (str_[0]==cond2[0]) and (str_[-1]==cond2[1]):\n",
    "    print(\"YES\")   \n",
    "elif (str_[0]==cond3[0]) and (str_[-1]==cond3[1]):\n",
    "    print(\"YES\")\n",
    "else:\n",
    "    print(\"NO\")"
   ]
  },
  {
   "cell_type": "markdown",
   "metadata": {},
   "source": [
    "### 문제.2\n",
    "\n",
    "배열 돌리기\n",
    "\n",
    "다음의 문자열을 시계방향(cw)/반시계방향(ccw)으로 90도/180도/270도 회전시키는 함수를 작성하고, 프로그램을 완성하세요.\n",
    "\n",
    "주어진 문자열 :        \n",
    "         가가나나다다\n",
    "         라라마마바바\n",
    "         사사아아자자\n",
    "         차차카카타타\n",
    "         \n",
    "- 입력 예 1)         cw90                               \n",
    "- 출력 예 1)   \n",
    "\n",
    "차사라가                                       \n",
    "차사라가                                        \n",
    "카아마나                                        \n",
    "카아마나                                        \n",
    "타자바다                                        \n",
    "타자바다                                        \n",
    "\n",
    "- 입력 예 2)         ccw90\n",
    "\n",
    "- 출력 예 2)  \n",
    "\n",
    "다바자타\n",
    "\n",
    "다바자타\n",
    "\n",
    "나마아카\n",
    "\n",
    "나마아카\n",
    "\n",
    "가라사차\n",
    "\n",
    "가라사차"
   ]
  },
  {
   "cell_type": "code",
   "execution_count": 161,
   "metadata": {},
   "outputs": [],
   "source": [
    "import numpy as np\n",
    "\n",
    "def rotate(m):\n",
    "    inp = str(input()) #4행6열\n",
    "    C = len(m) #4\n",
    "    R = len(m[0]) #6\n",
    "    arr1 = np.empty((6,4), dtype=object)\n",
    "    arr2 = np.empty((4,6), dtype=object)\n",
    "\n",
    "    if inp == \"cw90\": #시계방향 90도 회전\n",
    "        for r in range(C): \n",
    "            for c in range(R): \n",
    "                arr1[c][C-1-r]=m[r][c] \n",
    "                \n",
    "        return arr1\n",
    "                \n",
    "    elif inp == \"cw180\": #180도 회전\n",
    "        for r in range(C): \n",
    "            for c in range(R):\n",
    "                arr2[C-1-r][R-1-c]=m[r][c]\n",
    "                \n",
    "        return arr2\n",
    "    \n",
    "    elif inp == \"cw270\": #270도 회전\n",
    "        for r in range(C): \n",
    "            for c in range(R): \n",
    "                arr1[R-1-c][r]=m[r][c]\n",
    "                \n",
    "        return arr1\n",
    "                \n",
    "    elif inp == \"ccw90\": #반시계 90도 회전\n",
    "        for r in range(C): \n",
    "            for c in range(R): \n",
    "                arr1[R-1-c][r]=m[r][c]\n",
    "                \n",
    "        return arr1\n",
    "    \n",
    "    elif inp == \"ccw180\": #180도 회전\n",
    "        for r in range(C): \n",
    "            for c in range(R):\n",
    "                arr2[C-1-r][R-1-c]=m[r][c]\n",
    "                \n",
    "        return arr2\n",
    "    \n",
    "    elif inp == \"ccw270\": #270도 회전\n",
    "        for r in range(C):\n",
    "            for c in range(R): \n",
    "                arr1[c][C-1-r]=m[r][c] \n",
    "                \n",
    "        return arr1\n",
    "                "
   ]
  },
  {
   "cell_type": "code",
   "execution_count": 53,
   "metadata": {},
   "outputs": [
    {
     "ename": "IndentationError",
     "evalue": "unindent does not match any outer indentation level (<tokenize>, line 35)",
     "output_type": "error",
     "traceback": [
      "\u001b[1;36m  File \u001b[1;32m\"<tokenize>\"\u001b[1;36m, line \u001b[1;32m35\u001b[0m\n\u001b[1;33m    return arr1\u001b[0m\n\u001b[1;37m    ^\u001b[0m\n\u001b[1;31mIndentationError\u001b[0m\u001b[1;31m:\u001b[0m unindent does not match any outer indentation level\n"
     ]
    }
   ],
   "source": [
    "import numpy as np\n",
    "\n",
    "def rotate(m):\n",
    "    inp = str(input()) #4행6열\n",
    "    R = len(m) #4\n",
    "    C = len(m[0]) #6\n",
    "    arr1 = np.empty((6,4), dtype=object)\n",
    "    arr2 = np.empty((4,6), dtype=object)\n",
    "\n",
    "    if inp == \"cw90\": #시계방향 90도 회전\n",
    "        for r in range(R): #행\n",
    "            for c in range(C): #열\n",
    "                arr1[c][R-1-r]=m[r][c] \n",
    "                \n",
    "        return arr1\n",
    "                \n",
    "    elif inp == \"cw180\": #180도 회전\n",
    "        for r in range(R): \n",
    "            for c in range(C):\n",
    "                arr2[R-1-c][C-1-r]=m[c][r]\n",
    "                \n",
    "        return arr2\n",
    "    \n",
    "    elif inp == \"cw270\": #270도 회전\n",
    "        for r in range(R): \n",
    "            for c in range(C): \n",
    "                arr1[C-1-c][r]=m[r][c]\n",
    "                \n",
    "        return arr1\n",
    "                \n",
    "    elif inp == \"ccw90\": #반시계 90도 회전\n",
    "         for r in range(R): \n",
    "            for c in range(C): \n",
    "                arr1[C-1-c][r]=m[r][c]\n",
    "        return arr1\n",
    "    \n",
    "    elif inp == \"ccw180\": #180도 회전\n",
    "        for r in range(R): \n",
    "            for c in range(C):\n",
    "                arr2[R-1-r][C-1-c]=m[r][c]\n",
    "                \n",
    "        return arr22\n",
    "    \n",
    "    elif inp == \"ccw270\": #270도 회전\n",
    "        for r in range(R): #행\n",
    "            for c in range(C): #열\n",
    "                arr1[c][R-1-r]=m[r][c] \n",
    "                \n",
    "        return arr1"
   ]
  },
  {
   "cell_type": "code",
   "execution_count": 54,
   "metadata": {},
   "outputs": [
    {
     "name": "stdout",
     "output_type": "stream",
     "text": [
      "cw180\n"
     ]
    },
    {
     "ename": "IndexError",
     "evalue": "index 5 is out of bounds for axis 0 with size 4",
     "output_type": "error",
     "traceback": [
      "\u001b[1;31m---------------------------------------------------------------------------\u001b[0m",
      "\u001b[1;31mIndexError\u001b[0m                                Traceback (most recent call last)",
      "\u001b[1;32m<ipython-input-54-b835d86061f1>\u001b[0m in \u001b[0;36m<module>\u001b[1;34m\u001b[0m\n\u001b[0;32m      3\u001b[0m         \u001b[1;33m[\u001b[0m\u001b[1;34m\"사\"\u001b[0m\u001b[1;33m,\u001b[0m\u001b[1;34m\"사\"\u001b[0m\u001b[1;33m,\u001b[0m\u001b[1;34m\"아\"\u001b[0m\u001b[1;33m,\u001b[0m\u001b[1;34m\"아\"\u001b[0m\u001b[1;33m,\u001b[0m\u001b[1;34m\"자\"\u001b[0m\u001b[1;33m,\u001b[0m\u001b[1;34m\"자\"\u001b[0m\u001b[1;33m]\u001b[0m\u001b[1;33m,\u001b[0m\u001b[1;33m\u001b[0m\u001b[1;33m\u001b[0m\u001b[0m\n\u001b[0;32m      4\u001b[0m         [\"차\",\"차\",\"카\",\"카\",\"타\",\"타\"]]\n\u001b[1;32m----> 5\u001b[1;33m \u001b[0mrotate\u001b[0m\u001b[1;33m(\u001b[0m\u001b[0mtest\u001b[0m\u001b[1;33m)\u001b[0m\u001b[1;33m\u001b[0m\u001b[1;33m\u001b[0m\u001b[0m\n\u001b[0m",
      "\u001b[1;32m<ipython-input-4-a4a3f6d70c27>\u001b[0m in \u001b[0;36mrotate\u001b[1;34m(m)\u001b[0m\n\u001b[0;32m     18\u001b[0m         \u001b[1;32mfor\u001b[0m \u001b[0mr\u001b[0m \u001b[1;32min\u001b[0m \u001b[0mrange\u001b[0m\u001b[1;33m(\u001b[0m\u001b[0mC\u001b[0m\u001b[1;33m)\u001b[0m\u001b[1;33m:\u001b[0m\u001b[1;33m\u001b[0m\u001b[1;33m\u001b[0m\u001b[0m\n\u001b[0;32m     19\u001b[0m             \u001b[1;32mfor\u001b[0m \u001b[0mc\u001b[0m \u001b[1;32min\u001b[0m \u001b[0mrange\u001b[0m\u001b[1;33m(\u001b[0m\u001b[0mR\u001b[0m\u001b[1;33m)\u001b[0m\u001b[1;33m:\u001b[0m\u001b[1;33m\u001b[0m\u001b[1;33m\u001b[0m\u001b[0m\n\u001b[1;32m---> 20\u001b[1;33m                 \u001b[0marr2\u001b[0m\u001b[1;33m[\u001b[0m\u001b[0mC\u001b[0m\u001b[1;33m-\u001b[0m\u001b[1;36m1\u001b[0m\u001b[1;33m-\u001b[0m\u001b[0mr\u001b[0m\u001b[1;33m]\u001b[0m\u001b[1;33m[\u001b[0m\u001b[0mR\u001b[0m\u001b[1;33m-\u001b[0m\u001b[1;36m1\u001b[0m\u001b[1;33m-\u001b[0m\u001b[0mc\u001b[0m\u001b[1;33m]\u001b[0m\u001b[1;33m=\u001b[0m\u001b[0mm\u001b[0m\u001b[1;33m[\u001b[0m\u001b[0mr\u001b[0m\u001b[1;33m]\u001b[0m\u001b[1;33m[\u001b[0m\u001b[0mc\u001b[0m\u001b[1;33m]\u001b[0m\u001b[1;33m\u001b[0m\u001b[1;33m\u001b[0m\u001b[0m\n\u001b[0m\u001b[0;32m     21\u001b[0m \u001b[1;33m\u001b[0m\u001b[0m\n\u001b[0;32m     22\u001b[0m         \u001b[1;32mreturn\u001b[0m \u001b[0marr2\u001b[0m\u001b[1;33m\u001b[0m\u001b[1;33m\u001b[0m\u001b[0m\n",
      "\u001b[1;31mIndexError\u001b[0m: index 5 is out of bounds for axis 0 with size 4"
     ]
    }
   ],
   "source": [
    "test = [[\"가\",\"가\",\"나\",\"나\",\"다\",\"다\"], \n",
    "        [\"라\",\"라\",\"마\",\"마\",\"바\",\"바\"], \n",
    "        [\"사\",\"사\",\"아\",\"아\",\"자\",\"자\"],\n",
    "        [\"차\",\"차\",\"카\",\"카\",\"타\",\"타\"]]\n",
    "rotate(test)"
   ]
  },
  {
   "cell_type": "markdown",
   "metadata": {},
   "source": [
    "### 문제3.\n",
    "문자열에서 모든 회문 찾기.\n",
    "\n",
    "회문이란, 단어나 구 또는 문장 등에서 앞으로 읽으나 뒤로 읽으나 같은 것을 말합니다. 예를 들어 “구로구”와 같은 단어나 “다들 잠들다” 같은 문장이 있습니다.\n",
    "주어진 문자열에서 가능한 모든 회문을 출력하는 문제입니다. (중복 제거는 하지 않습니다)\n",
    "입력 문자열 길이는 제한 없으며, 문자열 내의 공백은 고려하지 않습니다.  그러나, 출력할 때는 기존의 문자열에 포함된 공백까지 출력해야 합니다. 출력 순서는 동일하지 않아도 됩니다.\n",
    "\n",
    "입력 예) “간장공장 공장장은 장공장장이다.”\n",
    "\n",
    "출력 예) 장공장\n",
    "\n",
    "                  공장  공\n",
    "                  \n",
    "                  장  공장\n",
    "                  \n",
    "                          장공장  공장\n",
    "                          \n",
    "                   장장\n",
    "                   \n",
    "                  장은  장\n",
    "                  \n",
    "                  장공장\n",
    "                  \n",
    "                  장장"
   ]
  },
  {
   "cell_type": "code",
   "execution_count": 11,
   "metadata": {},
   "outputs": [],
   "source": [
    "#logic : 문자열 ->  내가 지정한 개수의 문자열을 추출 -> 회문인지 판단 -> 반복\n",
    "\n",
    "str_ = list(\"간장공장 공장장은 장공장장이다.\")\n",
    "\n",
    "for i in range(len(str_)): \n",
    "    for j in range(2, len(str_)): #간장(2글자)부터니깐 2\n",
    "        word = str_[i:j]\n",
    "        if \"\".join(word).strip() == reversed(\"\".join(word).strip()):\n",
    "            print(word)\n",
    "            j+=1\n",
    "        else:\n",
    "            j+=1            \n",
    "    \n",
    "#     if word.strip() == reversed(word.strip()):\n",
    "#         print(word)"
   ]
  },
  {
   "cell_type": "code",
   "execution_count": 9,
   "metadata": {},
   "outputs": [
    {
     "data": {
      "text/plain": [
       "'간장'"
      ]
     },
     "execution_count": 9,
     "metadata": {},
     "output_type": "execute_result"
    }
   ],
   "source": [
    "str_ = list(\"간장공장 공장장은 장공장장이다.\")\n",
    "\n",
    "word = str_[0:2]\n",
    "\"\".join(word).strip()"
   ]
  },
  {
   "cell_type": "code",
   "execution_count": null,
   "metadata": {},
   "outputs": [],
   "source": []
  }
 ],
 "metadata": {
  "kernelspec": {
   "display_name": "Python 3",
   "language": "python",
   "name": "python3"
  },
  "language_info": {
   "codemirror_mode": {
    "name": "ipython",
    "version": 3
   },
   "file_extension": ".py",
   "mimetype": "text/x-python",
   "name": "python",
   "nbconvert_exporter": "python",
   "pygments_lexer": "ipython3",
   "version": "3.7.4"
  }
 },
 "nbformat": 4,
 "nbformat_minor": 2
}
