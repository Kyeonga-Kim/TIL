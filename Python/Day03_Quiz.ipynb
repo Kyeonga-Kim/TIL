{
 "cells": [
  {
   "cell_type": "markdown",
   "metadata": {},
   "source": [
    "# Day3_Quiz"
   ]
  },
  {
   "cell_type": "code",
   "execution_count": 5,
   "metadata": {},
   "outputs": [
    {
     "name": "stdout",
     "output_type": "stream",
     "text": [
      "8\n",
      "10보다 작아요\n"
     ]
    }
   ],
   "source": [
    "#Excersice. 데이터를 입력 받아서 10보다 작으면 \"10보다 작아요\" 그렇지 않으면 \"10보다 커요\"\n",
    "i=int(input())\n",
    "if i<=10:\n",
    "    print(\"10보다 작아요\")\n",
    "else:\n",
    "    print(\"10보다 커요\")"
   ]
  },
  {
   "cell_type": "code",
   "execution_count": 69,
   "metadata": {
    "scrolled": true
   },
   "outputs": [
    {
     "name": "stdout",
     "output_type": "stream",
     "text": [
      "1227365\n"
     ]
    }
   ],
   "source": [
    "#Q1. 어떤 자연수 n이 있을 때, d(n)을 n의 각 자릿수 숫자들과 n 자신을 더한 숫자라고 정의하자.\n",
    "\n",
    "#예를 들어\n",
    "\n",
    "#d(91) = 9 + 1 + 91 = 101\n",
    "\n",
    "#이 때, n을 d(n)의 제네레이터(generator)라고 한다. 위의 예에서 91은 101의 제네레이터이다.\n",
    "\n",
    "#어떤 숫자들은 하나 이상의 제네레이터를 가지고 있는데, 101의 제네레이터는 91 뿐 아니라 100도 있다. \n",
    "\n",
    "#그런데 반대로, 제네레이터가 없는 숫자들도 있으며, 이런 숫자를 인도의 수학자 Kaprekar가 셀프 넘버(self-number)라 이름 붙였다. \n",
    "\n",
    "#예를 들어 1,3,5,7,9,20,31 은 셀프 넘버 들이다.\n",
    "\n",
    "#1 이상이고 5000 미만 모든 셀프 넘버들의 합을 구하라.\n",
    "\n",
    "list1=[]\n",
    "for n in range(1,5000):\n",
    "    sum1=0\n",
    "    for i in str(n):\n",
    "        a=int(i)\n",
    "        sum1=sum1+a\n",
    "        d1=sum1+n\n",
    "    if d1 < 5000:\n",
    "        \n",
    "        list1.append(d1)\n",
    "list1\n",
    "sum2=0\n",
    "for n in range(1,5000):\n",
    "    if n not in list1:\n",
    "        sum2=sum2+n\n",
    "print(sum2)\n",
    "\n",
    "#방법2) list2=[n for n in range(1,5000) if n not in list1]\n",
    "#sum(list2)"
   ]
  },
  {
   "cell_type": "code",
   "execution_count": 13,
   "metadata": {},
   "outputs": [
    {
     "name": "stdout",
     "output_type": "stream",
     "text": [
      "27000\n",
      "cash3000\n",
      "24000\n"
     ]
    }
   ],
   "source": [
    "#Q2. 표준 입력으로 가격(정수)과 쿠폰 이름이 각 줄에 입력됩니다. Cash3000 쿠폰은 3,000원, Cash5000 쿠폰은 5,000원을 할인합니다. \n",
    "# 쿠폰에 따라 할인된 가격을 출력하는 프로그램을 만드세요(input에서 안내 문자열은 출력하지 않아야 합니다).\n",
    "#입력 \n",
    "#27000\n",
    "#Cash3000\n",
    "\n",
    "#출력\n",
    "#24000\n",
    "\n",
    "i=int(input())\n",
    "c=int((input())[4:])\n",
    "print(i-c)"
   ]
  },
  {
   "cell_type": "code",
   "execution_count": null,
   "metadata": {},
   "outputs": [],
   "source": [
    "#Q3. 표준 입력으로 정수가 입력됩니다. range의 시작하는 숫자는 -10, 끝나는 숫자는 10이며 \n",
    "#입력된 정수만큼 증가하는 숫자가 들어가도록 튜플을 만들고, 해당 튜플을 출력하는 프로그램을 만드세요\n",
    "#(input에서 안내 문자열은 출력하지 않아야 합니다).\n",
    "#입력\n",
    "#2\n",
    "#출력\n",
    "#(-10, -8, -6, -4, -2, 0, 2, 4, 6, 8)"
   ]
  },
  {
   "cell_type": "code",
   "execution_count": 17,
   "metadata": {},
   "outputs": [
    {
     "name": "stdout",
     "output_type": "stream",
     "text": [
      "2\n"
     ]
    },
    {
     "data": {
      "text/plain": [
       "(-10, -8, -6, -4, -2, 0, 2, 4, 6, 8)"
      ]
     },
     "execution_count": 17,
     "metadata": {},
     "output_type": "execute_result"
    }
   ],
   "source": [
    "i=int(input())\n",
    "result=tuple(range(-10,10,i))\n",
    "result"
   ]
  },
  {
   "cell_type": "code",
   "execution_count": 43,
   "metadata": {},
   "outputs": [
    {
     "name": "stdout",
     "output_type": "stream",
     "text": [
      "75\n",
      "97\n",
      "9\n",
      "-15\n"
     ]
    }
   ],
   "source": [
    "#Q4. 튜플 n에서 인덱스가 홀수인 요소들이 출력되게 만드세요.\n",
    "# n = -32, 75, 97, -10, 9, 32, 4, -15, 0, 76, 14, 2\n",
    "\n",
    "n=(-32, 75, 97, -10, 9, 32, 4, -15, 0, 76, 14, 2)\n",
    "for i in n:\n",
    "    if i%2!=0:\n",
    "        print(i)\n",
    "   "
   ]
  },
  {
   "cell_type": "code",
   "execution_count": 67,
   "metadata": {},
   "outputs": [
    {
     "data": {
      "text/plain": [
       "[1, 2, 3, 4, 5]"
      ]
     },
     "execution_count": 67,
     "metadata": {},
     "output_type": "execute_result"
    }
   ],
   "source": [
    "#Q5. a 리스트에서 중복 숫자를 제거해 보자.\n",
    "\n",
    "#>>> a = [1, 1, 1, 2, 2, 3, 3, 3, 4, 4, 5]\n",
    "\n",
    "a=list(set([1, 1, 1, 2, 2, 3, 3, 3, 4, 4, 5]))\n",
    "a"
   ]
  },
  {
   "cell_type": "code",
   "execution_count": null,
   "metadata": {},
   "outputs": [],
   "source": []
  }
 ],
 "metadata": {
  "kernelspec": {
   "display_name": "Python 3",
   "language": "python",
   "name": "python3"
  },
  "language_info": {
   "codemirror_mode": {
    "name": "ipython",
    "version": 3
   },
   "file_extension": ".py",
   "mimetype": "text/x-python",
   "name": "python",
   "nbconvert_exporter": "python",
   "pygments_lexer": "ipython3",
   "version": "3.7.4"
  }
 },
 "nbformat": 4,
 "nbformat_minor": 2
}
