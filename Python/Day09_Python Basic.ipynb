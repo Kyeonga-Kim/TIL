{
 "cells": [
  {
   "cell_type": "markdown",
   "metadata": {},
   "source": [
    "# Day9_Python Basic "
   ]
  },
  {
   "cell_type": "code",
   "execution_count": null,
   "metadata": {},
   "outputs": [],
   "source": [
    "\"\"\"<데이터 수집>\n",
    "1) DB(정형, formal data)에서 데이터 가져오기\n",
    "2) 텍스트 비정형 데이터 수집\n",
    "\n",
    "파이썬 웹 데이터 추출\n",
    "-urllib 라이브러리 (모듈 집합)\n",
    "-request 모듈(urllib.request)로 웹에 있는 데이터에 접근가능.\n",
    "\n",
    "-urlretrieve함수를 이용하여 파일을 다운로드 할 수 있음\n",
    "\n",
    "\"\"\""
   ]
  },
  {
   "cell_type": "markdown",
   "metadata": {},
   "source": [
    "## 크롤링 "
   ]
  },
  {
   "cell_type": "code",
   "execution_count": 1,
   "metadata": {},
   "outputs": [
    {
     "name": "stdout",
     "output_type": "stream",
     "text": [
      "저장\n"
     ]
    }
   ],
   "source": [
    "#이미지 경로 가져오기\n",
    "url=\"https://www.multicampus.com/img/saas/main/logo/CUS0001/pc_main.png\"\n",
    "savename=\"test.png\"\n",
    "\n",
    "\n",
    "#다운로드=>파일로 저장\n",
    "import urllib.request\n",
    "\n",
    "urllib.request.urlretrieve(url, savename)\n",
    "print(\"저장\")"
   ]
  },
  {
   "cell_type": "code",
   "execution_count": 5,
   "metadata": {},
   "outputs": [
    {
     "name": "stdout",
     "output_type": "stream",
     "text": [
      "저장\n"
     ]
    }
   ],
   "source": [
    "#urlopen을 이용한 다운로드시, 바로 파일로 저장되는 것이 아니라 데이터가 메모리에 적재됨\n",
    "\n",
    "savename=\"test2.png\"\n",
    "mem=urllib.request.urlopen(url).read()\n",
    "#print(mem)\n",
    "\n",
    "with open(savename, mode=\"wb\" ) as f:\n",
    "    f.write(mem)\n",
    "    print(\"저장\")\n"
   ]
  },
  {
   "cell_type": "code",
   "execution_count": 21,
   "metadata": {},
   "outputs": [],
   "source": [
    "import urllib.parse"
   ]
  },
  {
   "cell_type": "code",
   "execution_count": 26,
   "metadata": {},
   "outputs": [],
   "source": [
    "addr=\"https://www.weather.go.kr/weather/forecast/mid-term-rss3.jsp\"\n",
    "value={'stnId':'184'}\n",
    "param=urllib.parse.urlencode(value)\n"
   ]
  },
  {
   "cell_type": "code",
   "execution_count": 27,
   "metadata": {},
   "outputs": [
    {
     "data": {
      "text/plain": [
       "{'stnId': '184'}"
      ]
     },
     "execution_count": 27,
     "metadata": {},
     "output_type": "execute_result"
    }
   ],
   "source": [
    "value"
   ]
  },
  {
   "cell_type": "code",
   "execution_count": 24,
   "metadata": {},
   "outputs": [
    {
     "data": {
      "text/plain": [
       "'stnId=156'"
      ]
     },
     "execution_count": 24,
     "metadata": {},
     "output_type": "execute_result"
    }
   ],
   "source": [
    "param"
   ]
  },
  {
   "cell_type": "code",
   "execution_count": 28,
   "metadata": {},
   "outputs": [
    {
     "data": {
      "text/plain": [
       "'https://www.weather.go.kr/weather/forecast/mid-term-rss3.jsp?stnId=184'"
      ]
     },
     "execution_count": 28,
     "metadata": {},
     "output_type": "execute_result"
    }
   ],
   "source": [
    "url=addr+\"?\"+param\n",
    "url"
   ]
  },
  {
   "cell_type": "code",
   "execution_count": 33,
   "metadata": {},
   "outputs": [],
   "source": [
    "data=urllib.request.urlopen(url).read()\n",
    "text=data.decode('utf-8')\n",
    "\n"
   ]
  },
  {
   "cell_type": "markdown",
   "metadata": {},
   "source": [
    "## encode / decode "
   ]
  },
  {
   "cell_type": "code",
   "execution_count": null,
   "metadata": {},
   "outputs": [],
   "source": [
    "\"\"\"\n",
    "인코딩(encoding): 유니코드 -> 바이트 열\n",
    "    \n",
    "디코딩(decoding): 바이트 열-> 유니코드\n",
    "\n",
    "인코딩 : 문자 표현 => 2진수 열(바이트열)\n",
    "*인코딩방식 : ASCII, EUC-KR, CP949..\n",
    "\n",
    "=> 유니코드 탄생: 인코딩 방식을 통일하고자 생성됨.\n",
    "*유니코딩(UTF-8, UTF-16, UTF-32,,)\n",
    "UTF-8이 가장 일반적이며 파이썬 문자열 자료형은 UTF-8(각 문서에 맞는 유니코드가 있다.)\n",
    "\"\"\""
   ]
  },
  {
   "cell_type": "code",
   "execution_count": 37,
   "metadata": {},
   "outputs": [
    {
     "name": "stdout",
     "output_type": "stream",
     "text": [
      "6\n",
      "bytearray(b'\\xec\\x95\\x88\\xeb\\x85\\x95')\n"
     ]
    }
   ],
   "source": [
    "text=\"안녕\"  #유니코드\n",
    "len(text)\n",
    "\n",
    "l=bytearray(text, 'cp949' ) #유니코드 -> 바이트 ('안녕'에 대한 바이트 출력)\n",
    "len(l)\n",
    "\n",
    "\n",
    "l=bytearray(text, 'utf-8')\n",
    "print(len(l))\n",
    "print(l)"
   ]
  },
  {
   "cell_type": "code",
   "execution_count": 44,
   "metadata": {},
   "outputs": [
    {
     "name": "stdout",
     "output_type": "stream",
     "text": [
      "<class 'bytes'>\n",
      "10\n",
      "<class 'bytes'>\n",
      "10\n",
      "<class 'bytes'>\n",
      "15\n"
     ]
    }
   ],
   "source": [
    "test=\"안녕하세요\"\n",
    "type(test)\n",
    "\n",
    "s1=test.encode('cp949')\n",
    "print(type(s1))\n",
    "print(len(s1))  #'안녕하세요' 10바이트 출력 / 한글자당 2바이트 할당\n",
    "\n",
    "\n",
    "s2=test.encode('euc-kr')\n",
    "print(type(s2))\n",
    "print(len(s2))\n",
    "\n",
    "s3=test.encode('utf-8')\n",
    "print(type(s3))\n",
    "print(len(s3))\n",
    "\n"
   ]
  },
  {
   "cell_type": "code",
   "execution_count": 46,
   "metadata": {},
   "outputs": [
    {
     "data": {
      "text/plain": [
       "'안녕하세요'"
      ]
     },
     "execution_count": 46,
     "metadata": {},
     "output_type": "execute_result"
    }
   ],
   "source": [
    "s1.decode('cp949')\n",
    "s1.decode('euc-kr')\n",
    "#s1.decode('utf-8')"
   ]
  },
  {
   "cell_type": "markdown",
   "metadata": {},
   "source": [
    "## Scripting(스크립핑)"
   ]
  },
  {
   "cell_type": "code",
   "execution_count": null,
   "metadata": {},
   "outputs": [],
   "source": [
    "#스크립핑 : 원하는 데이터 추출\n",
    "\"\"\"\n",
    "데이터 수집 과정\n",
    "\n",
    "1) 수집 대상 웹사이트에서 개발자 도구를 활용하여 스크랩 대상에 대한 선택자를 복사(copyselector)한다.\n",
    "\n",
    "   #mw-content-text > div > div:nth-child(77) > table > tbody > tr > td\n",
    "\n",
    "2) 파이썬 urlretrieve,urlopen등을 사용하여 웹페이지를 가져온다.\n",
    "\n",
    "3) 파서를 사용하여 파싱한다.(파싱:parsing)\n",
    "\n",
    "파싱: 가져온 웹 문서에서 태그를 기준으로 원하는 데이터를 추출\n",
    "\n",
    "4) 데이터에 대한 전처리 수행\n",
    "\n",
    "5) 모델링..\n",
    "\n",
    "\"\"\"\n",
    "\n",
    "#mw-content-text > div > div:nth-child(77) > table > tbody > tr > td\n",
    "\n",
    "#content > div.spot > div.today > p.no_today\n"
   ]
  },
  {
   "cell_type": "code",
   "execution_count": 54,
   "metadata": {
    "scrolled": true
   },
   "outputs": [
    {
     "name": "stdout",
     "output_type": "stream",
     "text": [
      "1,156.50\n"
     ]
    }
   ],
   "source": [
    "#parser(파서)를 사용하여 파싱\n",
    "\n",
    "import urllib.request as req\n",
    "from bs4 import BeautifulSoup\n",
    "\n",
    "url=\"https://finance.naver.com/marketindex/exchangeDetail.nhn?marketindexCd=FX_USDKRW\"\n",
    "res=req.urlopen(url)\n",
    "\n",
    "soup=BeautifulSoup(res, 'html.parser')\n",
    "#print(soup)\n",
    "\n",
    "p=soup.select_one(\"#content > div.section_calculator > table:nth-child(4) > tbody > tr > td:nth-child(1)\").text\n",
    "print(p)\n",
    "\n",
    "\n",
    "\n",
    "#content > div.spot > div.today > p.no_today"
   ]
  },
  {
   "cell_type": "code",
   "execution_count": null,
   "metadata": {},
   "outputs": [],
   "source": []
  },
  {
   "cell_type": "code",
   "execution_count": null,
   "metadata": {},
   "outputs": [],
   "source": []
  },
  {
   "cell_type": "code",
   "execution_count": null,
   "metadata": {},
   "outputs": [],
   "source": []
  }
 ],
 "metadata": {
  "kernelspec": {
   "display_name": "Python 3",
   "language": "python",
   "name": "python3"
  },
  "language_info": {
   "codemirror_mode": {
    "name": "ipython",
    "version": 3
   },
   "file_extension": ".py",
   "mimetype": "text/x-python",
   "name": "python",
   "nbconvert_exporter": "python",
   "pygments_lexer": "ipython3",
   "version": "3.7.4"
  }
 },
 "nbformat": 4,
 "nbformat_minor": 2
}
