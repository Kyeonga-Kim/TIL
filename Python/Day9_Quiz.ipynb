{
 "cells": [
  {
   "cell_type": "code",
   "execution_count": null,
   "metadata": {},
   "outputs": [],
   "source": [
    "문제 1\n",
    "\n",
    "다음(Daum)의 주가가 89,000원이고 네이버(Naver)의 주가가 751,000원이라고 가정하고, \n",
    "\n",
    "어떤 사람이 다음 주식 100주와 네이버 주식 20주를 가지고 있을 때 그 사람이 가지고 있는 주식의 총액을\n",
    "\n",
    "계산하는 프로그램을 작성하세요."
   ]
  },
  {
   "cell_type": "code",
   "execution_count": 5,
   "metadata": {},
   "outputs": [
    {
     "name": "stdout",
     "output_type": "stream",
     "text": [
      "100\n",
      "20\n",
      "주식의 총액은 23920000 입니다.\n"
     ]
    }
   ],
   "source": [
    "\n",
    "ju1=int(input())# 주 입력\n",
    "ju2=int(input())\n",
    "\n",
    "if ju1 and ju2 !=0:\n",
    "    Daum_t=89000*ju1 \n",
    "    Naver_t=751000*ju2\n",
    "    Sum=Daum_t+Naver_t    \n",
    "    print(\"주식의 총액은 %d 입니다.\" %Sum)\n",
    "    \n",
    "\n"
   ]
  },
  {
   "cell_type": "code",
   "execution_count": null,
   "metadata": {},
   "outputs": [],
   "source": [
    "@문제 2 \n",
    "\n",
    "문제 2-1에서 구한 주식 총액에서 다음과 네이버의 주가가\n",
    "\n",
    "각각 5%, 10% 하락한 경우에 손실액을 구하는 프로그램을 작성하세요.\n",
    "\n"
   ]
  },
  {
   "cell_type": "code",
   "execution_count": null,
   "metadata": {},
   "outputs": [],
   "source": [
    "\n",
    "\n",
    "if \n",
    " Sum_d=Sum-(Daum_t*Daum_d+Naver_t*Naver_d)"
   ]
  },
  {
   "cell_type": "code",
   "execution_count": null,
   "metadata": {},
   "outputs": [],
   "source": [
    "문제 3 \n",
    "우리나라는 섭씨 온도를 사용하는 반면 미국과 유럽은 화씨 온도를 주로 사용합니다.\n",
    "\n",
    "화씨 온도(F)를 섭씨 온도(C)로 변환할 때는 다음과 같은 공식을 사용합니다. \n",
    "\n",
    "이 공식을 사용해 화씨 온도가 50일 때의 섭씨 온도를 계산해 보세요.\n",
    "\n",
    "C = (F-32)/1.8"
   ]
  },
  {
   "cell_type": "code",
   "execution_count": 4,
   "metadata": {},
   "outputs": [
    {
     "name": "stdout",
     "output_type": "stream",
     "text": [
      "50\n",
      "10.0\n"
     ]
    }
   ],
   "source": [
    "degree=int(input())\n",
    "F=degree\n",
    "\n",
    "if F !=0:\n",
    "    C = (F-32)/1.8\n",
    "    print(C)\n"
   ]
  },
  {
   "cell_type": "markdown",
   "metadata": {},
   "source": [
    "문제 4 \n",
    "\n",
    "화면에 \"pizza\"를 10번 출력하는 프로그램을 작성하세요."
   ]
  },
  {
   "cell_type": "code",
   "execution_count": null,
   "metadata": {},
   "outputs": [],
   "source": [
    "text=input()\n",
    "print(text *10)"
   ]
  },
  {
   "cell_type": "code",
   "execution_count": null,
   "metadata": {},
   "outputs": [],
   "source": [
    "@문제 5 \n",
    "\n",
    "월요일에 네이버의 주가가 100만 원으로 시작해 3일 연속으로 하한가(-30%)를 기록했을 때 \n",
    "\n",
    "수요일의 종가를 계산해 보세요."
   ]
  },
  {
   "cell_type": "code",
   "execution_count": null,
   "metadata": {},
   "outputs": [],
   "source": [
    "Naver=1000000\n",
    "\n"
   ]
  },
  {
   "cell_type": "code",
   "execution_count": null,
   "metadata": {},
   "outputs": [],
   "source": [
    "문제 6 \n",
    "\n",
    "다음 형식과 같이 이름, 생년월일, 주민등록번호를 출력하는 프로그램을 작성해 보세요.\n",
    "\n",
    "이름: 파이썬 생년월일: 2014년 12월 12일 주민등록번호: 20141212-1623210\n",
    "            \n"
   ]
  },
  {
   "cell_type": "code",
   "execution_count": null,
   "metadata": {},
   "outputs": [],
   "source": [
    "name=input()\n",
    "birth=input()\n",
    "Id=input()\n",
    "\n",
    "\n",
    "print(이름 : %s 생년월일:%s 주민등록번호: %s, %name %birth %Id)    \n",
    "\n"
   ]
  },
  {
   "cell_type": "code",
   "execution_count": null,
   "metadata": {},
   "outputs": [],
   "source": [
    "문제 7 \n",
    "\n",
    "s라는 변수에 'Daum KaKao'라는 문자열이 바인딩돼 있다고 했을 때 문자열의 슬라이싱 기능과 연결하기를 이용해 \n",
    "\n",
    "s의 값을 'KaKao Daum'으로 변경해 보세요.\n"
   ]
  },
  {
   "cell_type": "code",
   "execution_count": 8,
   "metadata": {},
   "outputs": [
    {
     "name": "stdout",
     "output_type": "stream",
     "text": [
      "['D', 'a', 'u', 'm', ' ', 'K', 'a', 'K', 'a', 'o']\n",
      "Daum\n",
      "KaKao\n"
     ]
    }
   ],
   "source": [
    "s=\"Daum KaKao\"\n",
    "print(list(s))\n",
    "print(s[:4])\n",
    "print(s[5:])\n",
    "\n",
    "\n",
    "    "
   ]
  },
  {
   "cell_type": "code",
   "execution_count": null,
   "metadata": {},
   "outputs": [],
   "source": [
    "문제 8 \n",
    "\n",
    "a라는 변수에 'hello world'라는 문자열이 바인딩돼 있다고 했을 때 a의 값을 'hi world'로 변경해 보세요."
   ]
  },
  {
   "cell_type": "code",
   "execution_count": 9,
   "metadata": {},
   "outputs": [
    {
     "name": "stdout",
     "output_type": "stream",
     "text": [
      "hi world\n"
     ]
    }
   ],
   "source": [
    "a=\"hello world\"\n",
    "print(a.replace(\"hello\",\"hi\"))"
   ]
  },
  {
   "cell_type": "code",
   "execution_count": null,
   "metadata": {},
   "outputs": [],
   "source": [
    "문제 9\n",
    "\n",
    "x라는 변수에 'abcdef'라는 문자열이 바인딩돼 있다고 했을 때 x의 값을 'bcdefa'로 변경해 보세요."
   ]
  },
  {
   "cell_type": "code",
   "execution_count": 20,
   "metadata": {},
   "outputs": [
    {
     "name": "stdout",
     "output_type": "stream",
     "text": [
      "['b', 'c', 'd', 'e', 'f', 'a']\n"
     ]
    }
   ],
   "source": [
    "x=list(\"abcdef\")\n",
    "del x[0]\n",
    "x.append(\"a\")\n",
    "print(x)"
   ]
  },
  {
   "cell_type": "code",
   "execution_count": null,
   "metadata": {},
   "outputs": [],
   "source": [
    "문제 10\n",
    "\n",
    "2015년 9월 초의 네이버 종가는 표 3.2와 같습니다.\n",
    "\n",
    "09/07의 종가를 리스트의 첫 번째 항목으로 입력해서 naver_closing_price라는 이름의 리스트를 만들어보세요.\n",
    "\n",
    "표 3.2 네이버 종가\n",
    "\n",
    "날짜\t요일\t종가\n",
    "09/11\t금\t488,500\n",
    "09/10\t목\t500,500\n",
    "09/09\t수\t501,000\n",
    "09/08\t화\t461,500\n",
    "09/07\t월\t474,500"
   ]
  },
  {
   "cell_type": "code",
   "execution_count": 27,
   "metadata": {},
   "outputs": [
    {
     "name": "stdout",
     "output_type": "stream",
     "text": [
      "474,500\n"
     ]
    }
   ],
   "source": [
    "\n",
    "naver_closing_price=[\"09/07\",\"09/08\",\"09/09\",\"09/10\",\"09/11\",\n",
    "                     [\"월\",\"화\",\"수\",\"목\",\"금\",[\"474,500\",\"461,500\",\"501,000\",\"500,500\",\"488,500\"]]]\n",
    "print(naver_closing_price)\n"
   ]
  },
  {
   "cell_type": "code",
   "execution_count": null,
   "metadata": {},
   "outputs": [],
   "source": [
    "문제 11\n",
    "\n",
    "문제 10에서 만든 naver_closing_price를 이용해 해당 주에 종가를 기준으로 가장 높았던 가격을 출력하세요.\n",
    "\n",
    "(힌트: 리스트에서 최댓값을 찾는 함수는 max()이고, 화면에 출력하는 함수는 print()입니다.)\n"
   ]
  },
  {
   "cell_type": "code",
   "execution_count": 28,
   "metadata": {},
   "outputs": [
    {
     "name": "stdout",
     "output_type": "stream",
     "text": [
      "501,000\n"
     ]
    }
   ],
   "source": [
    "print(max(naver_closing_price[5][5][:]))"
   ]
  },
  {
   "cell_type": "code",
   "execution_count": null,
   "metadata": {},
   "outputs": [],
   "source": [
    "문제 12\n",
    "\n",
    "문제 10에서 만든 naver_closing_price를 이용해 해당 주에 종가를 기준으로 가장 낮았던 가격을 출력하세요.\n",
    "\n",
    "(힌트: 리스트에서 최솟값을 찾는 함수는 min()이고, 화면에 출력하는 함수는 print()입니다.)"
   ]
  },
  {
   "cell_type": "code",
   "execution_count": 29,
   "metadata": {},
   "outputs": [
    {
     "name": "stdout",
     "output_type": "stream",
     "text": [
      "461,500\n"
     ]
    }
   ],
   "source": [
    "print(min(naver_closing_price[5][5][:]))"
   ]
  },
  {
   "cell_type": "code",
   "execution_count": null,
   "metadata": {},
   "outputs": [],
   "source": [
    "@문제 13\n",
    "\n",
    "문제 10에서 만든 naver_closing_price를 이용해 해당 주에서 가장 종가가 높았던 요일과 \n",
    "\n",
    "가장 종가가 낮았던 요일의 가격 차를 화면에 출력하세요.."
   ]
  },
  {
   "cell_type": "code",
   "execution_count": 42,
   "metadata": {},
   "outputs": [
    {
     "name": "stdout",
     "output_type": "stream",
     "text": [
      "['501,000', '461,500']\n"
     ]
    }
   ],
   "source": [
    "m_sub=[]\n"
   ]
  },
  {
   "cell_type": "code",
   "execution_count": null,
   "metadata": {},
   "outputs": [],
   "source": [
    "문제 14\n",
    "\n",
    "문제 10에서 만든 naver_closing_price를 이용해 수요일의 종가를 화면에 출력하세요."
   ]
  },
  {
   "cell_type": "code",
   "execution_count": 43,
   "metadata": {},
   "outputs": [
    {
     "name": "stdout",
     "output_type": "stream",
     "text": [
      "501,000\n"
     ]
    }
   ],
   "source": [
    "print(naver_closing_price[5][5][2])"
   ]
  },
  {
   "cell_type": "code",
   "execution_count": null,
   "metadata": {},
   "outputs": [],
   "source": [
    "문제 15\n",
    "\n",
    "문제 10의 표 3.2를 이용해 날짜를 딕셔너리의 키 값으로, \n",
    "\n",
    "종가를 딕셔너리의 값으로 사용해 naver_closing_price2라는 딕셔너리를 만드세요.\n"
   ]
  },
  {
   "cell_type": "code",
   "execution_count": 59,
   "metadata": {},
   "outputs": [
    {
     "name": "stdout",
     "output_type": "stream",
     "text": [
      "{'09/07': '474,500', '09/08': '461,500', '09/09': '501,000', '09/10': '500,500', '09/11': '488,500'}\n"
     ]
    }
   ],
   "source": [
    "naver_closing_price2=dict({\"09/07\":\"474,500\",\"09/08\":\"461,500\",\"09/09\":\"501,000\",\"09/10\":\"500,500\",\"09/11\":\"488,500\"})\n",
    "print(naver_closing_price2)                                                         "
   ]
  },
  {
   "cell_type": "code",
   "execution_count": null,
   "metadata": {},
   "outputs": [],
   "source": [
    "문제 16\n",
    "\n",
    "문제 15에서 만든 naver_closing_price2 딕셔너리를 이용해 09/09일의 종가를 출력하세요."
   ]
  },
  {
   "cell_type": "code",
   "execution_count": 64,
   "metadata": {},
   "outputs": [
    {
     "name": "stdout",
     "output_type": "stream",
     "text": [
      "501,000\n"
     ]
    }
   ],
   "source": [
    "print(naver_closing_price2[\"09/09\"])"
   ]
  },
  {
   "cell_type": "code",
   "execution_count": null,
   "metadata": {},
   "outputs": [],
   "source": [
    "@문제 17\n",
    "\n",
    "중첩 루프를 이용해 신문 배달을 하는 프로그램을 작성하세요. \n",
    "\n",
    "단, 아래에서 arrears 리스트는 신문 구독료가 미납된 세대에 대한 정보를 포함하고 있는데, \n",
    "\n",
    "해당 세대에는 신문을 배달하지 않아야 합니다.\n",
    "\n",
    ">>> apart = [[101, 102, 103, 104],[201, 202, 203, 204],[301, 302, 303, 304], [401, 402, 403, 404]]\n",
    ">>> arrears = [101, 203, 301, 404]\n"
   ]
  },
  {
   "cell_type": "code",
   "execution_count": null,
   "metadata": {},
   "outputs": [],
   "source": [
    "apart = [[101, 102, 103, 104],[201, 202, 203, 204],[301, 302, 303, 304], [401, 402, 403, 404]]\n",
    "arrears = [101, 203, 301, 404]\n",
    "\n",
    "cnt=0\n",
    "\n",
    "    "
   ]
  },
  {
   "cell_type": "code",
   "execution_count": null,
   "metadata": {},
   "outputs": [],
   "source": [
    "<함수구현>\n",
    "\n",
    "문제 18\n",
    "\n",
    "두 개의 정수 값을 받아 두 값의 평균을 구하는 함수를 작성하세요.\n",
    "\n",
    "def myaverage(a, b):\n",
    "    # 함수 구현"
   ]
  },
  {
   "cell_type": "code",
   "execution_count": 68,
   "metadata": {},
   "outputs": [
    {
     "name": "stdout",
     "output_type": "stream",
     "text": [
      "5\n",
      "3\n",
      "5와 3의 평균은 4입니다.\n",
      "None\n"
     ]
    }
   ],
   "source": [
    "a=int(input())\n",
    "b=int(input())\n",
    "\n",
    "def myaverage(a,b):\n",
    "    print(\"%d와 %d의 평균은 %d입니다.\" %(a,b,(a+b)/2))\n",
    "    #return 0\n",
    "\n",
    "print(myaverage(a,b))    "
   ]
  },
  {
   "cell_type": "code",
   "execution_count": null,
   "metadata": {},
   "outputs": [],
   "source": [
    "문제 19\n",
    "\n",
    "함수의 인자로 리스트를 받은 후 리스트 내에 있는 모든 정수 값에 대한 최댓값과 최솟값을 반환하는 함수를 작성하세요.\n",
    "\n",
    "def get_max_min(data_list):\n",
    "\n",
    "    # 함수 구현\n"
   ]
  },
  {
   "cell_type": "code",
   "execution_count": 10,
   "metadata": {},
   "outputs": [
    {
     "name": "stdout",
     "output_type": "stream",
     "text": [
      "12345\n",
      "최댓값은 5이며 최솟값은 1입니다.\n",
      "None\n"
     ]
    }
   ],
   "source": [
    "\n",
    "data_list=list(input())\n",
    "\n",
    "def get_max_min(data_list):\n",
    "    b_num=max(data_list)\n",
    "    s_num=min(data_list)\n",
    "    print(\"최댓값은 %s이며 최솟값은 %s입니다.\" %(b_num,s_num))\n",
    "    \n",
    "\n",
    "print(get_max_min(data_list))\n"
   ]
  },
  {
   "cell_type": "code",
   "execution_count": null,
   "metadata": {},
   "outputs": [],
   "source": [
    "@문제 20\n",
    "\n",
    "절대 경로를 입력받은 후 해당 경로에 있는 *.txt 파일의 목록을 파이썬 리스트로 반환하는 함수를 작성하세요.\n",
    "\n",
    "def get_txt_list(path):\n",
    "    # 함수 구현\n"
   ]
  },
  {
   "cell_type": "code",
   "execution_count": null,
   "metadata": {},
   "outputs": [],
   "source": []
  },
  {
   "cell_type": "code",
   "execution_count": null,
   "metadata": {},
   "outputs": [],
   "source": [
    "문제 21\n",
    "\n",
    "체질량 지수(BMI; Body Mass Index)는 인간의 비만도를 나타내는 지수로서 체중과 키의 관계로 아래의 수식을 통해 계산합니다.\n",
    "\n",
    "여기서 중요한 점은 체중의 단위는 킬로그램(kg)이고 신장의 단위는 미터(m)라는 점입니다.\n",
    "\n",
    "BMI=체중(kg)/신장(m)^2\n",
    "일반적으로 BMI 값에 따라 다음과 같이 체형을 분류하고 있습니다.\n",
    "\n",
    "BMI <18.5, 마른체형\n",
    "18.5 <= BMI < 25.0, 표준\n",
    "25.0 <= BMI < 30.0, 비만\n",
    "BMI >= 30.0, 고도 비만\n",
    "함수의 인자로 체중(kg)과 신장(cm)을 받은 후 BMI 값에 따라 \n",
    "‘마른체형’, ‘표준’, ‘비만’, ‘고도 비만’ 중 하나를 출력하는 함수를 작성하세요."
   ]
  },
  {
   "cell_type": "code",
   "execution_count": null,
   "metadata": {},
   "outputs": [],
   "source": [
    "weight=int(input())\n",
    "height=int(input())\n",
    "\n",
    "def cal_BMI(weight,height):\n",
    "    height_m=float(height/100)\n",
    "    \n",
    "    BMI=weight/(height_m**2)\n",
    "    print(\"귀하의 BMI(비만도)는 %f 입니다.\" %BMI)\n",
    "    \n",
    "    if BMI<18.5:\n",
    "        print(\"마른체형 입니다.\")\n",
    "\n",
    "    elif BMI>=18.5 and BMI<25.0:\n",
    "        print(\"표준 입니다.\")\n",
    "\n",
    "    elif BMI>=25.0 and BMI<30.0:\n",
    "        print(\"비만 입니다.\")\n",
    "    \n",
    "    elif BMI>=30.0:\n",
    "        print(\"고도비만 입니다.\")\n",
    "    \n",
    "\n",
    "print(cal_BMI(weight,height))\n",
    "    \n"
   ]
  },
  {
   "cell_type": "code",
   "execution_count": null,
   "metadata": {},
   "outputs": [],
   "source": [
    "@문제 22\n",
    "\n",
    "사용자로부터 키(cm)와 몸무게(kg)를 입력받은 후 BMI 값과 BMI 값에 따른 체형 정보를 화면에 출력하는 프로그램을 작성해 보세요.\n",
    "\n",
    "파이썬에서 사용자 입력을 받을 때는 input 함수를 사용하며, 작성된 프로그램은 계속해서 사용자로부터 키와 몸무게를 입력받은 후 \n",
    "\n",
    "BMI 및 체형 정보를 출력해야 합니다(**무한 루프 구조)."
   ]
  },
  {
   "cell_type": "code",
   "execution_count": null,
   "metadata": {},
   "outputs": [],
   "source": [
    "height_cm=int(input())\n",
    "weight_kg=int(input())\n",
    "\n",
    "\n",
    "def cal_BMI(weight_kg,height_cm):\n",
    "\n",
    "    BMI=weight_kg/(height_cm**2)  \n",
    "    print(\"귀하의 BMI(비만도)는 %f 입니다.\" %BMI)\n",
    "    \n",
    "    if BMI<18.5:\n",
    "        print(\"마른체형 입니다.\")\n",
    "\n",
    "    elif BMI>=18.5 and BMI<25.0:\n",
    "        print(\"표준 입니다.\")\n",
    "\n",
    "    elif BMI>=25.0 and BMI<30.0:\n",
    "        print(\"비만 입니다.\")\n",
    "    \n",
    "    elif BMI>=30.0:\n",
    "        print(\"고도비만 입니다.\")\n",
    "\n",
    "    \n",
    "\n",
    "print(cal_BMI(weight_kg,height_cm))\n"
   ]
  },
  {
   "cell_type": "code",
   "execution_count": null,
   "metadata": {},
   "outputs": [],
   "source": [
    "문제 23\n",
    "\n",
    "삼각형의 밑변과 높이를 입력받은 후 삼각형의 면적을 계산하는 함수를 작성하세요.\n",
    "\n",
    "def get_triangle_area(width, height):\n",
    "    # 함수 구현"
   ]
  },
  {
   "cell_type": "code",
   "execution_count": 15,
   "metadata": {},
   "outputs": [
    {
     "name": "stdout",
     "output_type": "stream",
     "text": [
      "5\n",
      "2\n",
      "삼각형의 높이와 밑변의 넓이는 5입니다.\n",
      "None\n"
     ]
    }
   ],
   "source": [
    "width=int(input())\n",
    "height=int(input())\n",
    "\n",
    "def get_triangle_area(width, height):\n",
    "    triangle=int((width * height)/2)\n",
    "    print(\"삼각형의 높이와 밑변의 넓이는 %d입니다.\" %triangle)\n",
    "\n",
    "print(get_triangle_area(width,height))"
   ]
  },
  {
   "cell_type": "code",
   "execution_count": null,
   "metadata": {},
   "outputs": [],
   "source": [
    "문제 24\n",
    "\n",
    "함수의 인자로 시작과 끝을 나타내는 숫자를 받아 시작부터 끝까지의 모든 정수값의 합을 반환하는 함수를 작성하세요(시작값과 끝값을 포함).\n",
    "\n",
    "def add_start_to_end(start, end):\n",
    "    # 함수 구현"
   ]
  },
  {
   "cell_type": "code",
   "execution_count": null,
   "metadata": {},
   "outputs": [],
   "source": []
  },
  {
   "cell_type": "code",
   "execution_count": null,
   "metadata": {},
   "outputs": [],
   "source": [
    "문제 25\n",
    "\n",
    "함수의 인자로 문자열을 포함하는 리스트가 입력될 때 각 문자열의 첫 세 글자로만 구성된 리스트를 반환하는 함수를 작성하세요.\n",
    "\n",
    "예를 들어, 함수의 입력으로 ['Seoul', 'Daegu', 'Kwangju', 'Jeju']가 입력될 때 함수의 반환값은 ['Seo', 'Dae', 'Kwa', 'Jej']입니다.\n",
    "\n"
   ]
  },
  {
   "cell_type": "code",
   "execution_count": null,
   "metadata": {},
   "outputs": [],
   "source": []
  },
  {
   "cell_type": "code",
   "execution_count": null,
   "metadata": {},
   "outputs": [],
   "source": [
    "*** Final 문제\n",
    "\n",
    "\n"
   ]
  },
  {
   "cell_type": "code",
   "execution_count": null,
   "metadata": {},
   "outputs": [],
   "source": []
  }
 ],
 "metadata": {
  "kernelspec": {
   "display_name": "Python 3",
   "language": "python",
   "name": "python3"
  }
 },
 "nbformat": 4,
 "nbformat_minor": 2
}
