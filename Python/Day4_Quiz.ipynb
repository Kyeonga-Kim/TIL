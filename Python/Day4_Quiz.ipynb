{
 "cells": [
  {
   "cell_type": "markdown",
   "metadata": {},
   "source": [
    "# Day4_Quiz "
   ]
  },
  {
   "cell_type": "code",
   "execution_count": 34,
   "metadata": {},
   "outputs": [
    {
     "name": "stdout",
     "output_type": "stream",
     "text": [
      "1\n"
     ]
    }
   ],
   "source": [
    "#Q1. 1차원의 점들이 주어졌을 때, 그 중 가장 거리가 짧은 것의 쌍을 출력하는 함수를 작성하시오.\n",
    "#(단 점들의 배열은 모두 정렬되어있다고 가정한다.)\n",
    "#예를들어 S={1, 3, 4, 8, 13, 17, 20} 이 주어졌다면, 결과값은 (3, 4)가 될 것이다.\n",
    "\n",
    "s=[1, 3, 4, 8, 13, 17, 20]\n",
    "list1=[]\n",
    "n=0\n",
    "for n in range(1,len(s)):\n",
    "    \n",
    "    i=s[n-1]\n",
    "    j=s[n]\n",
    "    \n",
    "    \n",
    "    differ=j-i\n",
    "    list1.append(differ)\n",
    "    \n",
    "    \n",
    "print(min(list1))\n",
    "\n",
    "    \n",
    "    \n",
    "    \n",
    "\n",
    "\n",
    "    \n",
    "\n"
   ]
  },
  {
   "cell_type": "code",
   "execution_count": null,
   "metadata": {},
   "outputs": [],
   "source": [
    "s=[1, 3, 4, 8, 13, 17, 20]\n",
    "list1=[]\n",
    "n=0\n",
    "for n in range(1,len(s)):\n",
    "    \n",
    "     i=s[n-1]\n",
    "     j=s[n]\n",
    "     Array.append(i,j)\n",
    "     \n",
    "\n",
    "    "
   ]
  },
  {
   "cell_type": "code",
   "execution_count": 52,
   "metadata": {},
   "outputs": [
    {
     "ename": "TypeError",
     "evalue": "'builtin_function_or_method' object is not subscriptable",
     "output_type": "error",
     "traceback": [
      "\u001b[1;31m---------------------------------------------------------------------------\u001b[0m",
      "\u001b[1;31mTypeError\u001b[0m                                 Traceback (most recent call last)",
      "\u001b[1;32m<ipython-input-52-ee3e24ce8ad0>\u001b[0m in \u001b[0;36m<module>\u001b[1;34m\u001b[0m\n\u001b[0;32m      6\u001b[0m \u001b[0mstr2\u001b[0m\u001b[1;33m=\u001b[0m\u001b[1;34m\"이재영\"\u001b[0m\u001b[1;33m\u001b[0m\u001b[1;33m\u001b[0m\u001b[0m\n\u001b[0;32m      7\u001b[0m \u001b[0mresult\u001b[0m\u001b[1;33m=\u001b[0m\u001b[0mstr1\u001b[0m\u001b[1;33m.\u001b[0m\u001b[0mfind\u001b[0m\u001b[1;33m(\u001b[0m\u001b[0mstr2\u001b[0m\u001b[1;33m)\u001b[0m\u001b[1;33m\u001b[0m\u001b[1;33m\u001b[0m\u001b[0m\n\u001b[1;32m----> 8\u001b[1;33m \u001b[0mprint\u001b[0m\u001b[1;33m[\u001b[0m\u001b[0mstr1\u001b[0m\u001b[1;33m]\u001b[0m\u001b[1;33m\u001b[0m\u001b[1;33m\u001b[0m\u001b[0m\n\u001b[0m",
      "\u001b[1;31mTypeError\u001b[0m: 'builtin_function_or_method' object is not subscriptable"
     ]
    }
   ],
   "source": [
    "#Q2.주어진 문자열(공백 없이 쉼표로 구분되어 있음)을 가지고 아래 문제에 대한 프로그램을 작성하세요.\n",
    "#Q2-1)김씨와 이씨는 각각 몇 명 인가요?\n",
    "#names = \"이유덕,이재영,권종표,이재영,박민호,강상희,이재영,김지완,최승혁,이성연,박영서,박민호,전경헌,송정환,김재성,이유덕,전경헌\".split(\",\")\n",
    "names = \"이유덕,이재영,권종표,이재영,박민호,강상희,이재영,김지완,최승혁,이성연,박영서,박민호,전경헌,송정환,김재성,이유덕,전경헌\".split(\",\")\n",
    "\n"
   ]
  },
  {
   "cell_type": "code",
   "execution_count": 60,
   "metadata": {},
   "outputs": [
    {
     "name": "stdout",
     "output_type": "stream",
     "text": [
      "이\n"
     ]
    }
   ],
   "source": [
    "#Q2-2)\"이재영\"이란 이름이 몇 번 반복되나요?\n",
    "\n",
    "str1=str(names)\n",
    "str2=\"이재영\"\n",
    "result=str1.find(str2)\n",
    "print(str1[result])"
   ]
  },
  {
   "cell_type": "code",
   "execution_count": 40,
   "metadata": {},
   "outputs": [
    {
     "name": "stdout",
     "output_type": "stream",
     "text": [
      "{'박민호', '전경헌', '김재성', '최승혁', '송정환', '권종표', '박영서', '이성연', '김지완', '이유덕', '강상희', '이재영'}\n"
     ]
    }
   ],
   "source": [
    "#Q2-3중복을 제거한 이름을 출력하세요.\n",
    "result=set(names)\n",
    "print(result)"
   ]
  },
  {
   "cell_type": "code",
   "execution_count": null,
   "metadata": {},
   "outputs": [],
   "source": [
    "#Q3.10미만의 자연수에서 3과 5의 배수를 구하면 3,5,6,9이다. 이들의 총합은 23이다.\n",
    "#1000미만의 자연수에서 3,5의 배수의 총합을 구하라.\n"
   ]
  },
  {
   "cell_type": "code",
   "execution_count": null,
   "metadata": {},
   "outputs": [],
   "source": [
    "#Q4.  자기 자신을 제외한 모든 양의 약수들의 합이 자기 자신이 되는 자연수를 완전수라고 한다. \n",
    "예를 들면, 6과 28은 완전수이다. 6=1+2+3 // 1,2,3은 각각 6의 약수 28=1+2+4+7+14 // 1,2,4,7,14는 각각 28의 약수입력으로 자연수 N을 받고, \n",
    "출력으로 N 이하의 모든 완전수를 출력하는 코드를 작성하라."
   ]
  },
  {
   "cell_type": "code",
   "execution_count": null,
   "metadata": {},
   "outputs": [],
   "source": [
    "#Q5.  0~9까지의 문자로 된 숫자를 입력 받았을 때, 이 입력 값이 0~9까지의 숫자가 각각 한 번 씩만 사용된 것인지 확인하는 함수를 구하시오.\n",
    "\n",
    "sample inputs: 0123456789 01234 01234567890 6789012345 012322456789\n",
    "sample outputs: true false false true false"
   ]
  },
  {
   "cell_type": "code",
   "execution_count": null,
   "metadata": {},
   "outputs": [],
   "source": [
    "#Q6.run length 압축알고리즘 문제( .bmp)\n",
    "6. 문자열을 입력받아서, 같은 문자가 연속적으로 반복되는 경우에 그 반복 횟수를 표시하여 문자열을 압축하기."
   ]
  },
  {
   "cell_type": "code",
   "execution_count": null,
   "metadata": {},
   "outputs": [],
   "source": [
    "#Q7. 로또문제"
   ]
  },
  {
   "cell_type": "code",
   "execution_count": 3,
   "metadata": {},
   "outputs": [
    {
     "name": "stdout",
     "output_type": "stream",
     "text": [
      "7\n",
      "1500\n",
      "커피가 나옵니다.\n",
      "남은 커피는 6잔 입니다\n",
      "남은 잔액은 1300원 입니다\n",
      "커피가 나옵니다.\n",
      "남은 커피는 5잔 입니다\n",
      "남은 잔액은 1100원 입니다\n",
      "커피가 나옵니다.\n",
      "남은 커피는 4잔 입니다\n",
      "남은 잔액은 900원 입니다\n",
      "커피가 나옵니다.\n",
      "남은 커피는 3잔 입니다\n",
      "남은 잔액은 700원 입니다\n",
      "커피가 나옵니다.\n",
      "남은 커피는 2잔 입니다\n",
      "남은 잔액은 500원 입니다\n",
      "커피가 나옵니다.\n",
      "남은 커피는 1잔 입니다\n",
      "남은 잔액은 300원 입니다\n",
      "커피가 나옵니다.\n",
      "남은 커피는 0잔 입니다\n",
      "남은 잔액은 100원 입니다\n",
      "판매중지\n"
     ]
    }
   ],
   "source": [
    "#Q8.잔액이 200원 미만이면 판매 중지\n",
    "coffee =int(input())\n",
    "money=int(input())\n",
    "\n",
    "while money:\n",
    "    if money>=200:\n",
    "        print(\"커피가 나옵니다.\")\n",
    "        coffee=coffee-1\n",
    "        money=money-200\n",
    "        print(\"남은 커피는 %d잔 입니다\" %coffee)\n",
    "        print(\"남은 잔액은 %d원 입니다\" %money)\n",
    "    else:\n",
    "        print(\"판매중지\")\n",
    "        break\n",
    "        \n",
    "        "
   ]
  },
  {
   "cell_type": "code",
   "execution_count": 5,
   "metadata": {},
   "outputs": [
    {
     "name": "stdout",
     "output_type": "stream",
     "text": [
      "          \n",
      "    *    \n",
      "   ***   \n",
      "  *****  \n",
      " ******* \n",
      "*********\n"
     ]
    }
   ],
   "source": [
    "#Q9.별트리\n",
    "for n in range(6):\n",
    "    print(' '*(5-n) + '*'*(2*n-1)+' '*(5-n))"
   ]
  },
  {
   "cell_type": "code",
   "execution_count": null,
   "metadata": {},
   "outputs": [],
   "source": []
  }
 ],
 "metadata": {
  "kernelspec": {
   "display_name": "Python 3",
   "language": "python",
   "name": "python3"
  },
  "language_info": {
   "codemirror_mode": {
    "name": "ipython",
    "version": 3
   },
   "file_extension": ".py",
   "mimetype": "text/x-python",
   "name": "python",
   "nbconvert_exporter": "python",
   "pygments_lexer": "ipython3",
   "version": "3.7.4"
  }
 },
 "nbformat": 4,
 "nbformat_minor": 2
}
