{
 "cells": [
  {
   "cell_type": "code",
   "execution_count": 2,
   "metadata": {},
   "outputs": [
    {
     "name": "stdout",
     "output_type": "stream",
     "text": [
      "level\n",
      "True\n"
     ]
    }
   ],
   "source": [
    "#1. 회문 판별하기\n",
    "\n",
    "num=list(str(input()))\n",
    "\n",
    "\n",
    "for i in range(len(num)):\n",
    "    if num[i]!=num[len(num)-(i+1)]:\n",
    "         print(\"False\")\n",
    "    \n",
    "\n",
    "print(\"True\")\n",
    "        \n",
    "        \n",
    "    \n",
    "            \n",
    "    \n",
    "    \n",
    "    \n",
    "    "
   ]
  },
  {
   "cell_type": "code",
   "execution_count": 4,
   "metadata": {
    "scrolled": true
   },
   "outputs": [
    {
     "name": "stdout",
     "output_type": "stream",
     "text": [
      "hello\n",
      "he\n",
      "el\n",
      "ll\n",
      "lo\n"
     ]
    }
   ],
   "source": [
    "#2. n=grram 만들기\n",
    "\n",
    "text=list(str(input()))\n",
    "\n",
    "for i in range(len(text)-1):\n",
    "    print(text[i],text[i+1],sep='') \n",
    "    i+=1\n"
   ]
  },
  {
   "cell_type": "code",
   "execution_count": 11,
   "metadata": {},
   "outputs": [
    {
     "name": "stdout",
     "output_type": "stream",
     "text": [
      "1.jpg 10.jpg 2.jpg\n"
     ]
    },
    {
     "data": {
      "text/plain": [
       "['001.jpg', '010.jpg', '002.jpg']"
      ]
     },
     "execution_count": 11,
     "metadata": {},
     "output_type": "execute_result"
    }
   ],
   "source": [
    "#3.파일명 포매팅\n",
    "text=input().split()\n",
    "List=[]\n",
    "for i in text:\n",
    "    n, typ = i.split('.')\n",
    "    List.append(\"%03d.%s\" %(int(n),typ))\n",
    "\n",
    "List\n",
    "    \n",
    "    \n",
    "\n",
    "\n",
    "\n"
   ]
  },
  {
   "cell_type": "code",
   "execution_count": null,
   "metadata": {},
   "outputs": [],
   "source": []
  }
 ],
 "metadata": {
  "kernelspec": {
   "display_name": "Python 3",
   "language": "python",
   "name": "python3"
  }
 },
 "nbformat": 4,
 "nbformat_minor": 2
}
