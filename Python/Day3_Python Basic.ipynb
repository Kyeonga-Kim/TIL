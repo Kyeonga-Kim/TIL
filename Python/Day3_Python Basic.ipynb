{
 "cells": [
  {
   "cell_type": "markdown",
   "metadata": {},
   "source": [
    "# Day3_ 자료구조"
   ]
  },
  {
   "cell_type": "markdown",
   "metadata": {},
   "source": [
    "## 1) 튜플 "
   ]
  },
  {
   "cell_type": "code",
   "execution_count": 2,
   "metadata": {},
   "outputs": [
    {
     "data": {
      "text/plain": [
       "(3, 2, 5, 6, 1)"
      ]
     },
     "execution_count": 2,
     "metadata": {},
     "output_type": "execute_result"
    }
   ],
   "source": [
    "#자료구조 : 자료를 저장 및 관리하는 방법\n",
    "#알고리즘 : 문제를 해결하는 방법\n",
    "#튜플() :리스트[]와 비슷하나 리스트는 생성,삭제,수정 / 튜플은 변경 불가능\n",
    "\n",
    "\n",
    "a=(3,2,5,6,1)  #괄호를 묶지 않아도 되나 가독성을 위해 묶어준다.\n",
    "a"
   ]
  },
  {
   "cell_type": "code",
   "execution_count": 8,
   "metadata": {},
   "outputs": [
    {
     "data": {
      "text/plain": [
       "(0, 1, 2, 3, 4, 5, 6, 7, 8, 9)"
      ]
     },
     "execution_count": 8,
     "metadata": {},
     "output_type": "execute_result"
    }
   ],
   "source": [
    "#튜플은 변경이 안되므로, 데이터가 계속 유지 되어야 할 경우 사용\n",
    "\n",
    "a= tuple(range(10))\n",
    "a"
   ]
  },
  {
   "cell_type": "code",
   "execution_count": 12,
   "metadata": {},
   "outputs": [
    {
     "data": {
      "text/plain": [
       "[1, 2, 3]"
      ]
     },
     "execution_count": 12,
     "metadata": {},
     "output_type": "execute_result"
    }
   ],
   "source": [
    "#튜플 <-> 리스트 변환\n",
    "\n",
    "a=[1,2,3]\n",
    "a\n",
    "a=tuple(a)\n",
    "a\n",
    "a=list(a)\n",
    "a"
   ]
  },
  {
   "cell_type": "code",
   "execution_count": 13,
   "metadata": {},
   "outputs": [
    {
     "data": {
      "text/plain": [
       "['h', 'e', 'l', 'l', 'o']"
      ]
     },
     "execution_count": 13,
     "metadata": {},
     "output_type": "execute_result"
    }
   ],
   "source": [
    "list('hello')"
   ]
  },
  {
   "cell_type": "code",
   "execution_count": 14,
   "metadata": {},
   "outputs": [
    {
     "data": {
      "text/plain": [
       "('h', 'e', 'l', 'l', 'o')"
      ]
     },
     "execution_count": 14,
     "metadata": {},
     "output_type": "execute_result"
    }
   ],
   "source": [
    "tuple('hello')"
   ]
  },
  {
   "cell_type": "code",
   "execution_count": 16,
   "metadata": {},
   "outputs": [
    {
     "ename": "ValueError",
     "evalue": "too many values to unpack (expected 2)",
     "output_type": "error",
     "traceback": [
      "\u001b[1;31m---------------------------------------------------------------------------\u001b[0m",
      "\u001b[1;31mValueError\u001b[0m                                Traceback (most recent call last)",
      "\u001b[1;32m<ipython-input-16-5465ade3a87b>\u001b[0m in \u001b[0;36m<module>\u001b[1;34m\u001b[0m\n\u001b[0;32m      2\u001b[0m \u001b[0mx\u001b[0m\u001b[1;33m\u001b[0m\u001b[1;33m\u001b[0m\u001b[0m\n\u001b[0;32m      3\u001b[0m \u001b[0my\u001b[0m\u001b[1;33m\u001b[0m\u001b[1;33m\u001b[0m\u001b[0m\n\u001b[1;32m----> 4\u001b[1;33m \u001b[0mx\u001b[0m\u001b[1;33m,\u001b[0m\u001b[0my\u001b[0m\u001b[1;33m=\u001b[0m\u001b[1;33m(\u001b[0m\u001b[1;36m1\u001b[0m\u001b[1;33m,\u001b[0m\u001b[1;36m2\u001b[0m\u001b[1;33m,\u001b[0m\u001b[1;36m3\u001b[0m\u001b[1;33m)\u001b[0m\u001b[1;33m\u001b[0m\u001b[1;33m\u001b[0m\u001b[0m\n\u001b[0m\u001b[0;32m      5\u001b[0m \u001b[0mx\u001b[0m\u001b[1;33m\u001b[0m\u001b[1;33m\u001b[0m\u001b[0m\n\u001b[0;32m      6\u001b[0m \u001b[0my\u001b[0m\u001b[1;33m\u001b[0m\u001b[1;33m\u001b[0m\u001b[0m\n",
      "\u001b[1;31mValueError\u001b[0m: too many values to unpack (expected 2)"
     ]
    }
   ],
   "source": [
    "x,y=[1,2] #리스트 패킹\n",
    "x\n",
    "y\n",
    "x,y=(1,2,3) #튜플 패킹\n",
    "x\n",
    "y\n",
    "#Unpacking : 리스트(튜플)의 요소를 여러개의 변수에 할당하는 것\n",
    "#Packing : 변수에 리스트 또는 튜플을 할당하는것\n"
   ]
  },
  {
   "cell_type": "code",
   "execution_count": 19,
   "metadata": {},
   "outputs": [
    {
     "data": {
      "text/plain": [
       "(3, 4, 3, 4)"
      ]
     },
     "execution_count": 19,
     "metadata": {},
     "output_type": "execute_result"
    }
   ],
   "source": [
    "x=(1,2,'a')\n",
    "x\n",
    "y=(3,4)\n",
    "x+y # 튜플 요소들 합\n",
    "y*2 #요소 반복"
   ]
  },
  {
   "cell_type": "markdown",
   "metadata": {},
   "source": [
    "## 2) 리스트 "
   ]
  },
  {
   "cell_type": "code",
   "execution_count": 73,
   "metadata": {},
   "outputs": [
    {
     "data": {
      "text/plain": [
       "False"
      ]
     },
     "execution_count": 73,
     "metadata": {},
     "output_type": "execute_result"
    }
   ],
   "source": [
    "#시퀀스형 :리스트, 튜플, Range, 문자열 데이터\n",
    "#시퀀스형의 자료에 특정 값이 존재하는지 확인\n",
    "#0~90까지 10씩 증가한 값으로 리스트 생성\n",
    "a=list(range(0,100,10))\n",
    "a\n",
    "30 in a #a 변수안에 30이 있느냐?\n",
    "30 not in a #a변수안에 30이 있지 않으냐?\n",
    "100 in range(100) #100 범위안에 100 있느냐?"
   ]
  },
  {
   "cell_type": "code",
   "execution_count": 34,
   "metadata": {},
   "outputs": [
    {
     "data": {
      "text/plain": [
       "True"
      ]
     },
     "execution_count": 34,
     "metadata": {},
     "output_type": "execute_result"
    }
   ],
   "source": [
    "'h' in 'Hello Python'"
   ]
  },
  {
   "cell_type": "code",
   "execution_count": 45,
   "metadata": {},
   "outputs": [
    {
     "data": {
      "text/plain": [
       "'hi7'"
      ]
     },
     "execution_count": 45,
     "metadata": {},
     "output_type": "execute_result"
    }
   ],
   "source": [
    "# +연산자로 자료연결이 가능하다.\n",
    "#range는 안됨\n",
    "'hello'+'hi'\n",
    "\n",
    "#range(0,3)+range(3,5)는 불가\n",
    "list(range(0,3))+list(range(3,5))\n",
    "tuple(range(3,5))+tuple(range(3,5)) #가능\n",
    "\n",
    "#리스트+튜플처럼 자료형이 다를 경우는 불가\n",
    "# list(range(0,3))+tuple(range(3,5))\n",
    "\n",
    "\n",
    "#문자+숫자 연결 안됨\n",
    "#'hi'+7\n",
    "'hi' + str(7) #숫자를 문자형으로 변환하면 가능(문자+문자)\n"
   ]
  },
  {
   "cell_type": "code",
   "execution_count": 47,
   "metadata": {},
   "outputs": [
    {
     "data": {
      "text/plain": [
       "2"
      ]
     },
     "execution_count": 47,
     "metadata": {},
     "output_type": "execute_result"
    }
   ],
   "source": [
    "#len함수: 시퀀스 자료형에 해당되는 데이터의 길이\n",
    "a=(1,2,3)\n",
    "len(a)\n",
    "\n",
    "hi='안녕'\n",
    "len(hi) \n",
    "hi.encode('utf-8')  #utf-8"
   ]
  },
  {
   "cell_type": "code",
   "execution_count": 51,
   "metadata": {},
   "outputs": [
    {
     "data": {
      "text/plain": [
       "'HI HELLO'"
      ]
     },
     "execution_count": 51,
     "metadata": {},
     "output_type": "execute_result"
    }
   ],
   "source": [
    "x='HI HELLO'\n",
    "x.__getitem__(0) #같은 표현\n",
    "\n",
    "x[0]\n",
    "x[:100]"
   ]
  },
  {
   "cell_type": "code",
   "execution_count": 52,
   "metadata": {},
   "outputs": [
    {
     "data": {
      "text/plain": [
       "'O'"
      ]
     },
     "execution_count": 52,
     "metadata": {},
     "output_type": "execute_result"
    }
   ],
   "source": [
    "x[-1]\n",
    "x[len(x)-1]"
   ]
  },
  {
   "cell_type": "code",
   "execution_count": 63,
   "metadata": {},
   "outputs": [
    {
     "data": {
      "text/plain": [
       "[0, 2, 4, 6]"
      ]
     },
     "execution_count": 63,
     "metadata": {},
     "output_type": "execute_result"
    }
   ],
   "source": [
    "x\n",
    "x[2:-1]\n",
    "x[2:]\n",
    "\n",
    "x[0:-1:2]\n",
    "x[::2]#인덱스 0부터 끝까지 2씩 증가된 인덱스 참조\n",
    "\n",
    "x[::] #전체 참조\n",
    "x[0:len(x)] #전체 참조\n",
    "x[::-1] #역순(내림차순)\n",
    "\n",
    "#튜플도 리스트와 동일\n",
    "x=range(10)\n",
    "x[4:7]\n",
    "list(range(0,7,2))\n",
    "\n"
   ]
  },
  {
   "cell_type": "code",
   "execution_count": 64,
   "metadata": {},
   "outputs": [
    {
     "data": {
      "text/plain": [
       "[0, 10, 20, 30, 40, 50, 60, 70, 80, 90]"
      ]
     },
     "execution_count": 64,
     "metadata": {},
     "output_type": "execute_result"
    }
   ],
   "source": [
    "a=list(range(0,100,10))\n",
    "a"
   ]
  },
  {
   "cell_type": "code",
   "execution_count": 70,
   "metadata": {},
   "outputs": [
    {
     "data": {
      "text/plain": [
       "[0, 'a', 60, 'd', 80, 90]"
      ]
     },
     "execution_count": 70,
     "metadata": {},
     "output_type": "execute_result"
    }
   ],
   "source": [
    "a[2:5]=[21,31,'x'] #자료형에 상관없이 변경가능\n",
    "a\n",
    "a[1:9:2]=['a','b','c','d']\n",
    "a\n",
    "del a[2:6]\n",
    "a"
   ]
  },
  {
   "cell_type": "code",
   "execution_count": 72,
   "metadata": {},
   "outputs": [
    {
     "data": {
      "text/plain": [
       "['d']"
      ]
     },
     "execution_count": 72,
     "metadata": {},
     "output_type": "execute_result"
    }
   ],
   "source": [
    "del a[:5:2]\n",
    "a"
   ]
  },
  {
   "cell_type": "markdown",
   "metadata": {},
   "source": [
    "## 3) 딕셔너리 "
   ]
  },
  {
   "cell_type": "code",
   "execution_count": 74,
   "metadata": {},
   "outputs": [],
   "source": [
    "#딕셔너리 : 키와 값으로 자료를 표현\n",
    "#딕셔너리 = 맵 = 해쉬(다른언어)\n",
    "#키가 중복되면 마지막 값으로 저장됨 \n",
    "\n",
    "person1=[180,70,'0','서울']\n",
    "person2={'키':180,'몸무게':70,'혈액형':'O','거주지':'서울'} #딕셔너리는 {} 중괄호로 표현\n",
    "\n"
   ]
  },
  {
   "cell_type": "code",
   "execution_count": 78,
   "metadata": {},
   "outputs": [
    {
     "data": {
      "text/plain": [
       "{'키': 180,\n",
       " '몸무게': 70,\n",
       " '혈액형': 'O',\n",
       " '거주지': '서울',\n",
       " False: 0,\n",
       " 99: '구구',\n",
       " 3.14: [3.14, '원주율'],\n",
       " '취미': {'오전': ['수영', '요가', '축구']}}"
      ]
     },
     "execution_count": 78,
     "metadata": {},
     "output_type": "execute_result"
    }
   ],
   "source": [
    "person1=[180,70,'0','서울']\n",
    "person2={'키':180,'몸무게':70,'혈액형':'O','거주지':'서울',False:0, 99:'구구', 3.14:[3.14,'원주율'], '취미':{'오전':['수영','요가','축구']}} \n",
    "#값: 정수, 실수, boolean, 리스트, 튜플, 딕셔너리 가능. But, 키로 리스트는 불가능\n",
    "#값 : 딕셔너리 안 리스트도 가능\n",
    "person1\n",
    "person2  "
   ]
  },
  {
   "cell_type": "code",
   "execution_count": 79,
   "metadata": {},
   "outputs": [
    {
     "data": {
      "text/plain": [
       "{}"
      ]
     },
     "execution_count": 79,
     "metadata": {},
     "output_type": "execute_result"
    }
   ],
   "source": [
    "x=dict()\n",
    "x"
   ]
  },
  {
   "cell_type": "code",
   "execution_count": 88,
   "metadata": {},
   "outputs": [
    {
     "data": {
      "text/plain": [
       "{'height': 180, 'weight': 70, 'bt': '0'}"
      ]
     },
     "execution_count": 88,
     "metadata": {},
     "output_type": "execute_result"
    }
   ],
   "source": [
    "per=dict(height=180, weight=70, bt='0')\n",
    "per\n",
    "\n",
    "per=dict(zip(['height','weight','bt'],[180,70,'0']))\n",
    "per\n",
    "\n",
    "per=dict([('height',180),('weight',70),('bt','0')]) \n",
    "per\n",
    "\n",
    "per=dict({'height':180,'weight':70,'bt':'0'})  #셋 다 같은 출력값\n",
    "per"
   ]
  },
  {
   "cell_type": "code",
   "execution_count": 82,
   "metadata": {},
   "outputs": [
    {
     "data": {
      "text/plain": [
       "<zip at 0x17f97fad308>"
      ]
     },
     "execution_count": 82,
     "metadata": {},
     "output_type": "execute_result"
    }
   ],
   "source": [
    "zip(['height','weight','bt'],[180,70,'0'])"
   ]
  },
  {
   "cell_type": "code",
   "execution_count": 92,
   "metadata": {},
   "outputs": [
    {
     "data": {
      "text/plain": [
       "{'a': [1, 2, 3]}"
      ]
     },
     "execution_count": 92,
     "metadata": {},
     "output_type": "execute_result"
    }
   ],
   "source": [
    "a={1:'hi'}\n",
    "a\n",
    "a={'a':[1,2,3]}\n",
    "a"
   ]
  },
  {
   "cell_type": "code",
   "execution_count": 96,
   "metadata": {
    "scrolled": true
   },
   "outputs": [
    {
     "name": "stdout",
     "output_type": "stream",
     "text": [
      "{'a': [1, 2, 3], 2: 'b'}\n",
      "{1: 'a'}\n"
     ]
    },
    {
     "data": {
      "text/plain": [
       "{'a': [1, 2, 3], 2: 'b', 'name': 'abc'}"
      ]
     },
     "execution_count": 96,
     "metadata": {},
     "output_type": "execute_result"
    }
   ],
   "source": [
    "b={1:'a'}\n",
    "print(a)\n",
    "print(b)\n",
    "a[2]='b' #키:2 ,값:b\n",
    "a\n",
    "a['name']='abc'\n",
    "a"
   ]
  },
  {
   "cell_type": "code",
   "execution_count": 99,
   "metadata": {},
   "outputs": [
    {
     "data": {
      "text/plain": [
       "{'a': [1, 2, 3], 2: 'b', 'name': 'lss'}"
      ]
     },
     "execution_count": 99,
     "metadata": {},
     "output_type": "execute_result"
    }
   ],
   "source": [
    "a['name']='lss'\n",
    "a  #디셔너리[키]='값'"
   ]
  },
  {
   "cell_type": "code",
   "execution_count": 104,
   "metadata": {},
   "outputs": [
    {
     "data": {
      "text/plain": [
       "dict_keys(['a', 2, 'name'])"
      ]
     },
     "execution_count": 104,
     "metadata": {},
     "output_type": "execute_result"
    }
   ],
   "source": [
    "'name' in a #a라는 딕셔너리에 'name'키가 존재? => TRUE\n",
    "len(a)\n",
    "a.keys() #a라는 딕셔너리의 키값들 출력"
   ]
  },
  {
   "cell_type": "code",
   "execution_count": 110,
   "metadata": {},
   "outputs": [
    {
     "name": "stdout",
     "output_type": "stream",
     "text": [
      "a\n",
      "2\n",
      "name\n",
      "[1, 2, 3]\n",
      "b\n",
      "lss\n"
     ]
    },
    {
     "data": {
      "text/plain": [
       "[[1, 2, 3], 'b', 'lss']"
      ]
     },
     "execution_count": 110,
     "metadata": {},
     "output_type": "execute_result"
    }
   ],
   "source": [
    "list(a.keys()) #키값들을 list 형태로 출력\n",
    "\n",
    "for k in a.keys():  #키값들 출력\n",
    "    print(k)\n",
    "    \n",
    "for v in a.values(): #값들 출력\n",
    "    print(v)\n",
    "    \n",
    "list(a.values()) #값들을 list형태로 출력\n",
    "\n",
    "for i in a.items():\n",
    "    printi"
   ]
  },
  {
   "cell_type": "code",
   "execution_count": 112,
   "metadata": {},
   "outputs": [
    {
     "data": {
      "text/plain": [
       "'lss'"
      ]
     },
     "execution_count": 112,
     "metadata": {},
     "output_type": "execute_result"
    }
   ],
   "source": [
    "a['name']\n",
    "a.get('name') #name키의 값 출력"
   ]
  },
  {
   "cell_type": "code",
   "execution_count": 113,
   "metadata": {},
   "outputs": [
    {
     "name": "stdout",
     "output_type": "stream",
     "text": [
      "None\n"
     ]
    }
   ],
   "source": [
    "print(a.get('nn')) #"
   ]
  },
  {
   "cell_type": "code",
   "execution_count": 115,
   "metadata": {},
   "outputs": [
    {
     "data": {
      "text/plain": [
       "'Guest'"
      ]
     },
     "execution_count": 115,
     "metadata": {},
     "output_type": "execute_result"
    }
   ],
   "source": [
    "a.get('id','Guest') #a라는 딕셔너리에 nn키가 없다면 Guest을 출력"
   ]
  },
  {
   "cell_type": "markdown",
   "metadata": {},
   "source": [
    "## 4) 셋(집합)"
   ]
  },
  {
   "cell_type": "code",
   "execution_count": 125,
   "metadata": {},
   "outputs": [
    {
     "data": {
      "text/plain": [
       "'h'"
      ]
     },
     "execution_count": 125,
     "metadata": {},
     "output_type": "execute_result"
    }
   ],
   "source": [
    "#set : 집합 (중복이 허용이 안되는 자료구조) ex)x={1,1,2,2,3} => x={1,2,3}\n",
    "#특징) 1.{} 중괄호 사용\n",
    "#      2.중복이 허용되지 않는다.\n",
    "#      3.순서가 없다. ex) s1[1] => Error\n",
    "s=set([1,2,3])\n",
    "s\n",
    "s1=set('hello')\n",
    "s1\n",
    "\n",
    "s2=set(['h','e','l','l','o']) #list로 변환후 참조가능\n",
    "s2\n",
    "slist=list(s2)\n",
    "slist\n",
    "slist[1]"
   ]
  },
  {
   "cell_type": "code",
   "execution_count": 145,
   "metadata": {},
   "outputs": [
    {
     "data": {
      "text/plain": [
       "{4, 5, 6, 7}"
      ]
     },
     "execution_count": 145,
     "metadata": {},
     "output_type": "execute_result"
    }
   ],
   "source": [
    "s3=set([1,2,3,4])\n",
    "s3\n",
    "s4=set([4,5,6,7])\n",
    "s4"
   ]
  },
  {
   "cell_type": "code",
   "execution_count": 148,
   "metadata": {},
   "outputs": [
    {
     "data": {
      "text/plain": [
       "{4}"
      ]
     },
     "execution_count": 148,
     "metadata": {},
     "output_type": "execute_result"
    }
   ],
   "source": [
    "#교집합\n",
    "s3 & s4\n",
    "s3.intersection(s4)"
   ]
  },
  {
   "cell_type": "code",
   "execution_count": 146,
   "metadata": {},
   "outputs": [
    {
     "data": {
      "text/plain": [
       "{1, 2, 3, 4, 5, 6, 7}"
      ]
     },
     "execution_count": 146,
     "metadata": {},
     "output_type": "execute_result"
    }
   ],
   "source": [
    "#합집합\n",
    "s3 | s4\n",
    "s3.union(s4)"
   ]
  },
  {
   "cell_type": "code",
   "execution_count": 147,
   "metadata": {},
   "outputs": [
    {
     "data": {
      "text/plain": [
       "{1, 2, 3}"
      ]
     },
     "execution_count": 147,
     "metadata": {},
     "output_type": "execute_result"
    }
   ],
   "source": [
    "#차집합\n",
    "s3-s4\n",
    "s3.difference(s4)"
   ]
  },
  {
   "cell_type": "code",
   "execution_count": 152,
   "metadata": {},
   "outputs": [
    {
     "data": {
      "text/plain": [
       "{1, 2, 3, 4, 5}"
      ]
     },
     "execution_count": 152,
     "metadata": {},
     "output_type": "execute_result"
    }
   ],
   "source": [
    "s=set([1,2])\n",
    "s\n",
    "s.add(3)  #add함수는 2개 추가가 안됨 => update함수 사용\n",
    "s\n",
    "s.update([4,5]) \n",
    "s"
   ]
  },
  {
   "cell_type": "markdown",
   "metadata": {},
   "source": [
    "# 조건문"
   ]
  },
  {
   "cell_type": "markdown",
   "metadata": {},
   "source": [
    "## 1) if문 "
   ]
  },
  {
   "cell_type": "code",
   "execution_count": 155,
   "metadata": {},
   "outputs": [
    {
     "name": "stdout",
     "output_type": "stream",
     "text": [
      "10입니다!\n",
      "10이 아닙니다!\n"
     ]
    }
   ],
   "source": [
    "x=10\n",
    "if x==10: # 10일때 '==' , 10이 아닐때 '!='\n",
    "    print(\"10입니다!\") #조건문 후에는 들여쓰기.\n",
    "print(\"10이 아닙니다!\")"
   ]
  },
  {
   "cell_type": "code",
   "execution_count": 163,
   "metadata": {},
   "outputs": [
    {
     "name": "stdout",
     "output_type": "stream",
     "text": [
      "10입니당\n",
      "짝수입니당\n"
     ]
    }
   ],
   "source": [
    "x=10\n",
    "if x==10:\n",
    "    print(\"10입니당\")\n",
    "    if x%2==0:  #짝수\n",
    "        print(\"짝수입니당\")\n",
    "    else:\n",
    "        print(\"홀수입니당\")"
   ]
  },
  {
   "cell_type": "code",
   "execution_count": 165,
   "metadata": {},
   "outputs": [
    {
     "name": "stdout",
     "output_type": "stream",
     "text": [
      "5이상인 수\n",
      "10미만인 수\n"
     ]
    }
   ],
   "source": [
    "x=7\n",
    "if x>=5:\n",
    "    print(\"5이상인 수\")\n",
    "    if x<10:  \n",
    "        print(\"10미만인 수\")\n",
    "    else:\n",
    "        print(\"10이상인 수\")"
   ]
  },
  {
   "cell_type": "code",
   "execution_count": 167,
   "metadata": {},
   "outputs": [
    {
     "data": {
      "text/plain": [
       "False"
      ]
     },
     "execution_count": 167,
     "metadata": {},
     "output_type": "execute_result"
    }
   ],
   "source": [
    "bool(0)\n",
    "bool(10)\n",
    "bool('')  #False"
   ]
  },
  {
   "cell_type": "code",
   "execution_count": 176,
   "metadata": {},
   "outputs": [
    {
     "name": "stdout",
     "output_type": "stream",
     "text": [
      "3\n"
     ]
    },
    {
     "data": {
      "text/plain": [
       "[1, 2]"
      ]
     },
     "execution_count": 176,
     "metadata": {},
     "output_type": "execute_result"
    }
   ],
   "source": [
    "a=[1,2,3]\n",
    "if a: #리스트에 값들이 저장되어 있기 떄문에 True\n",
    "    print(a.pop())\n",
    "a"
   ]
  },
  {
   "cell_type": "markdown",
   "metadata": {},
   "source": [
    "## 2) While문 "
   ]
  },
  {
   "cell_type": "code",
   "execution_count": 171,
   "metadata": {},
   "outputs": [
    {
     "name": "stdout",
     "output_type": "stream",
     "text": [
      "3\n",
      "2\n",
      "1\n"
     ]
    }
   ],
   "source": [
    "a=[1,2,3]\n",
    "while a:\n",
    "    print(a.pop())"
   ]
  },
  {
   "cell_type": "code",
   "execution_count": null,
   "metadata": {},
   "outputs": [],
   "source": []
  }
 ],
 "metadata": {
  "kernelspec": {
   "display_name": "Python 3",
   "language": "python",
   "name": "python3"
  },
  "language_info": {
   "codemirror_mode": {
    "name": "ipython",
    "version": 3
   },
   "file_extension": ".py",
   "mimetype": "text/x-python",
   "name": "python",
   "nbconvert_exporter": "python",
   "pygments_lexer": "ipython3",
   "version": "3.7.4"
  }
 },
 "nbformat": 4,
 "nbformat_minor": 2
}
