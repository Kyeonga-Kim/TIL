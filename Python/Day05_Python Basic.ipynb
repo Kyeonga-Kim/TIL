{
 "cells": [
  {
   "cell_type": "markdown",
   "metadata": {},
   "source": [
    "# Day5_함수 "
   ]
  },
  {
   "cell_type": "markdown",
   "metadata": {},
   "source": [
    "#def 함수명(매개변수): #x=10\n",
    "#수행문장\n",
    "\n",
    "#return\n",
    "def add(a,b):\n",
    "    return a+b\n",
    "a=3\n",
    "b=4\n",
    "sum=add(a,b)\n",
    "sum\n",
    "\n",
    "    "
   ]
  },
  {
   "cell_type": "code",
   "execution_count": 7,
   "metadata": {},
   "outputs": [
    {
     "name": "stdout",
     "output_type": "stream",
     "text": [
      "3와 4의 합은 7입니다.\n",
      "0\n"
     ]
    }
   ],
   "source": [
    "def add(a,b):\n",
    "    print(\"%d와 %d의 합은 %d입니다.\" %(a,b,a+b))\n",
    "    return 0                             #return 값이 없으면 none으로 출력됨\n",
    "print(add(3,4))    "
   ]
  },
  {
   "cell_type": "code",
   "execution_count": 8,
   "metadata": {},
   "outputs": [
    {
     "name": "stdout",
     "output_type": "stream",
     "text": [
      "3와 4의 합은 7입니다.\n",
      "0\n"
     ]
    }
   ],
   "source": [
    "res=add(a=3,b=4)\n",
    "print(res)"
   ]
  },
  {
   "cell_type": "code",
   "execution_count": 14,
   "metadata": {},
   "outputs": [
    {
     "name": "stdout",
     "output_type": "stream",
     "text": [
      "6\n",
      "21\n"
     ]
    }
   ],
   "source": [
    "#여러개의 입력값을 전달 받는 함수 \n",
    "#def 함수명(*매개변수):\n",
    "\n",
    "def add_many(*args):\n",
    "    res=0\n",
    "    for i in args:\n",
    "        res=res+i\n",
    "    return res\n",
    "    \n",
    "    \n",
    "print(add_many(1,2,3))\n",
    "    #print(res)\n",
    "    \n",
    "res=add_many(1,2,3,4,5,6)\n",
    "print(res)"
   ]
  },
  {
   "cell_type": "code",
   "execution_count": 23,
   "metadata": {},
   "outputs": [
    {
     "name": "stdout",
     "output_type": "stream",
     "text": [
      "6\n",
      "0\n"
     ]
    }
   ],
   "source": [
    "def add_mul(ch, *args):\n",
    "    if ch=='add':\n",
    "        res=0\n",
    "        for i in args:\n",
    "            res+=i\n",
    "     \n",
    "    elif ch=='mul':\n",
    "        res=0\n",
    "        for i in args:\n",
    "            res*=i\n",
    "            \n",
    "    return res   #return은 한번만 (2개의 return은 실행되지 않는다.)\n",
    "\n",
    "print(add_mul('add',1,2,3))\n",
    "print(add_mul('mul',1,2,3))"
   ]
  },
  {
   "cell_type": "code",
   "execution_count": 25,
   "metadata": {},
   "outputs": [],
   "source": [
    "def dict_args(**args):  #dict_args은 dictionary변수\n",
    "    print(args)\n"
   ]
  },
  {
   "cell_type": "code",
   "execution_count": 26,
   "metadata": {},
   "outputs": [
    {
     "name": "stdout",
     "output_type": "stream",
     "text": [
      "{'height': 180, 'weight': 70}\n"
     ]
    }
   ],
   "source": [
    "dict_args(height=180, weight=70)"
   ]
  },
  {
   "cell_type": "code",
   "execution_count": 27,
   "metadata": {},
   "outputs": [],
   "source": [
    "def a_and_m(a,b):         #두개 값을 함께 출력해 줄때 tuple로 출력\n",
    "    return a+b, a*b"
   ]
  },
  {
   "cell_type": "code",
   "execution_count": 28,
   "metadata": {},
   "outputs": [
    {
     "name": "stdout",
     "output_type": "stream",
     "text": [
      "(3, 2)\n"
     ]
    }
   ],
   "source": [
    "res=a_and_m(1,2)\n",
    "print(res)"
   ]
  },
  {
   "cell_type": "code",
   "execution_count": 31,
   "metadata": {},
   "outputs": [
    {
     "name": "stdout",
     "output_type": "stream",
     "text": [
      "3\n",
      "2\n"
     ]
    }
   ],
   "source": [
    "res_add, res_mul=a_and_m(1,2)  #따로따로 출력해 줄떄에는 다른 변수를 생성해서 넣어준다.\n",
    "print(res_add)\n",
    "print(res_mul)"
   ]
  },
  {
   "cell_type": "code",
   "execution_count": 34,
   "metadata": {},
   "outputs": [],
   "source": [
    "def sn(nick):\n",
    "    if nick==\"바보\":\n",
    "        return    #return문: 함수를 호출한 위치로 되돌아 가라\n",
    "    print(\"별명은 %s 입니다.\" %nick)"
   ]
  },
  {
   "cell_type": "code",
   "execution_count": 39,
   "metadata": {},
   "outputs": [
    {
     "name": "stdout",
     "output_type": "stream",
     "text": [
      "별명은 천재 입니다.\n"
     ]
    }
   ],
   "source": [
    "sn(\"천재\")\n",
    "sn(\"바보\")"
   ]
  },
  {
   "cell_type": "code",
   "execution_count": 40,
   "metadata": {},
   "outputs": [
    {
     "name": "stdout",
     "output_type": "stream",
     "text": [
      "홍길동 20 True\n"
     ]
    }
   ],
   "source": [
    "def test(name, old, man=True):\n",
    "    print(name, old, man)\n",
    "    \n",
    "test(\"홍길동\", 20)  # Default값을 True로 지정했기 때문에 True출력\n",
    "\n",
    "# 초기값을 줄 매개변수는 맨 마지막으로 위치"
   ]
  },
  {
   "cell_type": "markdown",
   "metadata": {},
   "source": [
    "# Turtle함수(선 그리기) "
   ]
  },
  {
   "cell_type": "code",
   "execution_count": 1,
   "metadata": {},
   "outputs": [],
   "source": [
    "import turtle as t\n",
    "t.shape('turtle')"
   ]
  },
  {
   "cell_type": "code",
   "execution_count": 3,
   "metadata": {},
   "outputs": [],
   "source": [
    "t.forward(100)"
   ]
  },
  {
   "cell_type": "code",
   "execution_count": 3,
   "metadata": {},
   "outputs": [],
   "source": [
    "t.right(90)\n",
    "t.forward(100)\n",
    "t.right(90)\n",
    "t.forward(100)\n",
    "\n",
    "\n",
    "#forward\n",
    "#backward\n",
    "#right\n",
    "#left"
   ]
  },
  {
   "cell_type": "code",
   "execution_count": 4,
   "metadata": {},
   "outputs": [],
   "source": [
    "t.left(90)\n",
    "t.forward(200)\n",
    "t.backward(100)"
   ]
  },
  {
   "cell_type": "code",
   "execution_count": 15,
   "metadata": {},
   "outputs": [
    {
     "name": "stdout",
     "output_type": "stream",
     "text": [
      "6\n"
     ]
    }
   ],
   "source": [
    "t.shape('turtle')\n",
    "n=int(input())\n",
    "for i in range(n):\n",
    "    t.forward(100)\n",
    "    t.right(360/n)"
   ]
  },
  {
   "cell_type": "code",
   "execution_count": 14,
   "metadata": {},
   "outputs": [],
   "source": [
    "t.clear()"
   ]
  },
  {
   "cell_type": "markdown",
   "metadata": {},
   "source": [
    "# Lambda 함수 "
   ]
  },
  {
   "cell_type": "code",
   "execution_count": 1,
   "metadata": {},
   "outputs": [
    {
     "name": "stdout",
     "output_type": "stream",
     "text": [
      "15\n"
     ]
    }
   ],
   "source": [
    "#Lambda 익명 함수\n",
    "lambda 매개변수들 : 식\n",
    "\n",
    "def p_ten(x):\n",
    "    return x+10\n",
    "print(p_ten(5))"
   ]
  },
  {
   "cell_type": "code",
   "execution_count": 3,
   "metadata": {},
   "outputs": [
    {
     "name": "stdout",
     "output_type": "stream",
     "text": [
      "15\n"
     ]
    }
   ],
   "source": [
    "p_ten2=lambda x:x+10\n",
    "print(p_ten2(5))"
   ]
  },
  {
   "cell_type": "code",
   "execution_count": 5,
   "metadata": {},
   "outputs": [
    {
     "name": "stdout",
     "output_type": "stream",
     "text": [
      "15\n",
      "7\n"
     ]
    }
   ],
   "source": [
    "print((lambda x:x+10)(5))\n",
    "#(lambda 매개변수:식)(계산할 숫자)\n",
    "\n",
    "# print((lambda x: y=2; x+y)(5))              #lambda내부에 변수 선언을 할수 없음\n",
    "y=2                                           #변수 선언은 따로 빼줘야함\n",
    "print((lambda x:x+y)(5))\n"
   ]
  },
  {
   "cell_type": "code",
   "execution_count": 11,
   "metadata": {},
   "outputs": [
    {
     "name": "stdout",
     "output_type": "stream",
     "text": [
      "1\n",
      "5\n"
     ]
    }
   ],
   "source": [
    "print((lambda :1)())  #전달 인수는 없으며 1출력\n",
    "\n",
    "x=5\n",
    "print((lambda :x)()) #전달 인수는 없으며 5출력"
   ]
  },
  {
   "cell_type": "code",
   "execution_count": 12,
   "metadata": {},
   "outputs": [
    {
     "name": "stdout",
     "output_type": "stream",
     "text": [
      "5\n"
     ]
    }
   ],
   "source": [
    "def add(x,y):\n",
    "    return x+y\n",
    "res=add(2,3)\n",
    "print(res)"
   ]
  },
  {
   "cell_type": "code",
   "execution_count": 13,
   "metadata": {},
   "outputs": [
    {
     "name": "stdout",
     "output_type": "stream",
     "text": [
      "5\n"
     ]
    }
   ],
   "source": [
    "print((lambda x,y: x+y)(2,3))"
   ]
  },
  {
   "cell_type": "code",
   "execution_count": 21,
   "metadata": {},
   "outputs": [
    {
     "name": "stdout",
     "output_type": "stream",
     "text": [
      "[1, 2, '103', 4, 5, '106', 7, 8, '109', 10]\n"
     ]
    }
   ],
   "source": [
    "#람다표현식에 조건부 표현식 적용\n",
    "a=list(range(1,11))\n",
    "\n",
    "for i in range(0,10):\n",
    "        if a[i]%3==0: \n",
    "            a[i]=a[i]+100\n",
    "            a[i]=str(a[i])\n",
    "\n",
    "print(a)\n",
    "\n"
   ]
  },
  {
   "cell_type": "code",
   "execution_count": 23,
   "metadata": {},
   "outputs": [
    {
     "name": "stdout",
     "output_type": "stream",
     "text": [
      "[1, 2, '3', 4, 5, '6', 7, 8, '9', 10]\n"
     ]
    }
   ],
   "source": [
    "a=list(range(1,11))\n",
    "print(list(map(lambda x: str(x) if x%3==0 else x,a)))   #lambda식에 if가 있으면 반드시 else가 들어가야함 \n",
    "                                                          #lambda식에 elif를 사용못함"
   ]
  },
  {
   "cell_type": "code",
   "execution_count": null,
   "metadata": {},
   "outputs": [],
   "source": [
    "#lambda식에 elif를 사용못함\n",
    "#식1 if 조건식1 else 식2 if 조건식2 else 식3\n",
    "\n",
    "#if 조건식:\n",
    "#    식1\n",
    "#elif 조건식:\n",
    "#   식2\n",
    "#else:\n",
    "#   식3\n"
   ]
  },
  {
   "cell_type": "code",
   "execution_count": 27,
   "metadata": {},
   "outputs": [
    {
     "name": "stdout",
     "output_type": "stream",
     "text": [
      "['1', 2.0, 13, 14, 15, 16, 17, 18, 19, 20]\n",
      "['1', 2.0, 13, 14, 15, 16, 17, 18, 19, 20]\n"
     ]
    }
   ],
   "source": [
    "#Q. a에 저장되어 있는 데이터에 대해, 1은 문자열, 2는 실수, 나머지 3이상은 모두 10을 더해서 출력\n",
    "a=list(range(1,11))\n",
    "\n",
    "def fun(x):\n",
    "    if x==1:\n",
    "        return str(x)\n",
    "    elif x==2:\n",
    "        return float(x)\n",
    "    else:\n",
    "        return x+10\n",
    "    \n",
    "print(list(map(fun,a)))\n",
    "\n",
    "\n",
    "print(list(map(lambda x : str(x) if x==1 else float(x) if x==2 else x+10, a )))"
   ]
  },
  {
   "cell_type": "code",
   "execution_count": 28,
   "metadata": {},
   "outputs": [
    {
     "name": "stdout",
     "output_type": "stream",
     "text": [
      "[6, 14, 24, 36, 50]\n"
     ]
    }
   ],
   "source": [
    "a=[1,2,3,4,5]\n",
    "b=[6,7,8,9,10]\n",
    "\n",
    "print(list(map(lambda x,y:x*y, a,b)))"
   ]
  },
  {
   "cell_type": "markdown",
   "metadata": {},
   "source": [
    "## filter함수 "
   ]
  },
  {
   "cell_type": "code",
   "execution_count": 30,
   "metadata": {},
   "outputs": [],
   "source": [
    "a=[7,3,1,4,9,6,2]"
   ]
  },
  {
   "cell_type": "code",
   "execution_count": 32,
   "metadata": {},
   "outputs": [
    {
     "data": {
      "text/plain": [
       "[7, 4, 9, 6]"
      ]
     },
     "execution_count": 32,
     "metadata": {},
     "output_type": "execute_result"
    }
   ],
   "source": [
    "def fun2(x):\n",
    "    return x>3 and x<10\n",
    "\n",
    "list(map(fun2,a))     #map은 출력값이 boolean형으로 출력\n",
    "list(filter(fun2,a))   #filter는 참인 출력값만 출력  "
   ]
  },
  {
   "cell_type": "markdown",
   "metadata": {},
   "source": [
    "## reduce함수 "
   ]
  },
  {
   "cell_type": "code",
   "execution_count": 34,
   "metadata": {},
   "outputs": [],
   "source": [
    "from functools import reduce \n"
   ]
  },
  {
   "cell_type": "code",
   "execution_count": 35,
   "metadata": {},
   "outputs": [],
   "source": [
    "def fun3(x,y):\n",
    "    return x+y"
   ]
  },
  {
   "cell_type": "code",
   "execution_count": 39,
   "metadata": {},
   "outputs": [
    {
     "name": "stdout",
     "output_type": "stream",
     "text": [
      "15\n",
      "15\n",
      "15\n"
     ]
    }
   ],
   "source": [
    "#reduce함수는 각 요소를 함수로 처리한 다음 이전 결과와 누적해서 변환하는 함수.\n",
    "a=[1,2,3,4,5]\n",
    "print(reduce(fun3,a))\n",
    "\n",
    "#람다식으로 표현\n",
    "print(reduce(lambda x,y :x+y,a))\n",
    "\n",
    "#for문으로 표현\n",
    "a=[1,2,3,4,5]\n",
    "x=a[0]\n",
    "for i in range(len(a)-1):  #range(4):0~3\n",
    "        x=x+a[i+1]\n",
    "print(x)"
   ]
  },
  {
   "cell_type": "markdown",
   "metadata": {},
   "source": [
    "## 전역변수/ 지역변수 호출 "
   ]
  },
  {
   "cell_type": "code",
   "execution_count": null,
   "metadata": {},
   "outputs": [],
   "source": [
    "x=1      #전역변수: 함수 바껱에 선언된 변수\n",
    "        #함수 내/외부에서 모두 접근 가능한 변수\n",
    "def f():\n",
    "    print(x)\n",
    "f()\n",
    "print(x)"
   ]
  },
  {
   "cell_type": "code",
   "execution_count": 44,
   "metadata": {},
   "outputs": [
    {
     "name": "stdout",
     "output_type": "stream",
     "text": [
      "2\n"
     ]
    },
    {
     "ename": "NameError",
     "evalue": "name 'x2' is not defined",
     "output_type": "error",
     "traceback": [
      "\u001b[1;31m---------------------------------------------------------------------------\u001b[0m",
      "\u001b[1;31mNameError\u001b[0m                                 Traceback (most recent call last)",
      "\u001b[1;32m<ipython-input-44-4d9aed397aa1>\u001b[0m in \u001b[0;36m<module>\u001b[1;34m\u001b[0m\n\u001b[0;32m      3\u001b[0m     \u001b[0mprint\u001b[0m\u001b[1;33m(\u001b[0m\u001b[0mx2\u001b[0m\u001b[1;33m)\u001b[0m\u001b[1;33m\u001b[0m\u001b[1;33m\u001b[0m\u001b[0m\n\u001b[0;32m      4\u001b[0m \u001b[0mf2\u001b[0m\u001b[1;33m(\u001b[0m\u001b[1;33m)\u001b[0m\u001b[1;33m\u001b[0m\u001b[1;33m\u001b[0m\u001b[0m\n\u001b[1;32m----> 5\u001b[1;33m \u001b[0mprint\u001b[0m\u001b[1;33m(\u001b[0m\u001b[0mx2\u001b[0m\u001b[1;33m)\u001b[0m\u001b[1;33m\u001b[0m\u001b[1;33m\u001b[0m\u001b[0m\n\u001b[0m",
      "\u001b[1;31mNameError\u001b[0m: name 'x2' is not defined"
     ]
    }
   ],
   "source": [
    "def f2():  \n",
    "    x2=2    #지역변수: 함수내에서만 호출가능(함수 외부에서는 호출 못함)\n",
    "    print(x2)\n",
    "f2()\n",
    "print(x2)"
   ]
  },
  {
   "cell_type": "code",
   "execution_count": 47,
   "metadata": {
    "scrolled": true
   },
   "outputs": [
    {
     "name": "stdout",
     "output_type": "stream",
     "text": [
      "20\n",
      "20\n"
     ]
    }
   ],
   "source": [
    "x=10                  #전역변수\n",
    "def f3():\n",
    "    #global: 함수 내부에서 전역변수 값을 변경하고자 하는경우 \n",
    "    #        global뒤에 전역변수 이름 지정.\n",
    "    global x    #x=10 -> x=20\n",
    "    x=20         #지역변수\n",
    "    print(x)\n",
    "f3()      #지역변수 x출력\n",
    "print(x)  #전역변수 x출력"
   ]
  },
  {
   "cell_type": "code",
   "execution_count": 51,
   "metadata": {},
   "outputs": [
    {
     "name": "stdout",
     "output_type": "stream",
     "text": [
      "20\n",
      "20\n"
     ]
    }
   ],
   "source": [
    "def f4():\n",
    "    global x4\n",
    "    x4=20\n",
    "    print(x4)\n",
    "    \n",
    "f4()\n",
    "print(x4)  #전역변수 x4실행"
   ]
  },
  {
   "cell_type": "code",
   "execution_count": 52,
   "metadata": {},
   "outputs": [
    {
     "name": "stdout",
     "output_type": "stream",
     "text": [
      "hello\n"
     ]
    }
   ],
   "source": [
    "#중첩함수 => 효율성이 떨어짐.\n",
    "\"\"\"\n",
    "def 함수1():\n",
    "    문장\n",
    "    def 함수2():\n",
    "    문장\n",
    "\"\"\"\n",
    "\n",
    "def outer():\n",
    "    text=\"hello\"\n",
    "    def inner():\n",
    "        print(text)\n",
    "    inner()   #실행순서2\n",
    "outer()      #실행순서1"
   ]
  },
  {
   "cell_type": "code",
   "execution_count": 54,
   "metadata": {},
   "outputs": [
    {
     "name": "stdout",
     "output_type": "stream",
     "text": [
      "10\n"
     ]
    }
   ],
   "source": [
    "def f5():\n",
    "    x=10      \n",
    "    def f6():\n",
    "        x=20  #지역변수\n",
    "    f6()\n",
    "    print(x)\n",
    "f5()"
   ]
  },
  {
   "cell_type": "markdown",
   "metadata": {},
   "source": [
    "# map함수"
   ]
  },
  {
   "cell_type": "code",
   "execution_count": 7,
   "metadata": {
    "scrolled": true
   },
   "outputs": [
    {
     "name": "stdout",
     "output_type": "stream",
     "text": [
      "[11, 12, 13]\n"
     ]
    }
   ],
   "source": [
    "#map(함수, 자료) #자료에 대해 함수를 수행한 결과가 출력\n",
    "#print(list(map(int,[3.14])))\n",
    "\n",
    "def pten(x):\n",
    "    return x+10\n",
    "\n",
    "res=list(map(pten, [1,2,3]))\n",
    "print(res)"
   ]
  },
  {
   "cell_type": "code",
   "execution_count": 8,
   "metadata": {},
   "outputs": [
    {
     "data": {
      "text/plain": [
       "[11, 12, 13]"
      ]
     },
     "execution_count": 8,
     "metadata": {},
     "output_type": "execute_result"
    }
   ],
   "source": [
    "list(map(lambda x:x+10,[1,2,3]))"
   ]
  },
  {
   "cell_type": "markdown",
   "metadata": {},
   "source": [
    "## file 생성"
   ]
  },
  {
   "cell_type": "code",
   "execution_count": 76,
   "metadata": {},
   "outputs": [],
   "source": [
    "#file생성\n",
    "\n",
    "f=open(\"c:/da/newFile.txt\",\"w\")\n",
    "\n",
    "for i in range(1,11):\n",
    "    data=\"%d번 줄입니다\\n\" %i\n",
    "    f.write(data)\n",
    "f.close()\n",
    "\n",
    "#파일을 쓰기 모드로 열게 되면, 이미 파일이 존재한 경우 기존내용 사라짐"
   ]
  },
  {
   "cell_type": "markdown",
   "metadata": {},
   "source": [
    "## file 읽기"
   ]
  },
  {
   "cell_type": "code",
   "execution_count": 77,
   "metadata": {},
   "outputs": [
    {
     "name": "stdout",
     "output_type": "stream",
     "text": [
      "1번 줄입니다\n",
      "\n",
      "2번 줄입니다\n",
      "\n",
      "3번 줄입니다\n",
      "\n",
      "4번 줄입니다\n",
      "\n",
      "5번 줄입니다\n",
      "\n",
      "6번 줄입니다\n",
      "\n",
      "7번 줄입니다\n",
      "\n",
      "8번 줄입니다\n",
      "\n",
      "9번 줄입니다\n",
      "\n",
      "10번 줄입니다\n",
      "\n"
     ]
    }
   ],
   "source": [
    "#readline 함수\n",
    "#전체 줄을 읽어서 출력\n",
    "f=open(\"c:/da/newFile.txt\",\"r\")\n",
    "\n",
    "while True:\n",
    "    line=f.readline()\n",
    "    if not line:\n",
    "        break\n",
    "    print(line)\n",
    "f.close()\n",
    "        \n",
    "    \n"
   ]
  },
  {
   "cell_type": "code",
   "execution_count": 79,
   "metadata": {},
   "outputs": [
    {
     "name": "stdout",
     "output_type": "stream",
     "text": [
      "['1번 줄입니다\\n', '2번 줄입니다\\n', '3번 줄입니다\\n', '4번 줄입니다\\n', '5번 줄입니다\\n', '6번 줄입니다\\n', '7번 줄입니다\\n', '8번 줄입니다\\n', '9번 줄입니다\\n', '10번 줄입니다\\n']\n"
     ]
    }
   ],
   "source": [
    "\n",
    "f=open(\"c:/da/newFile.txt\",\"r\")\n",
    "\n",
    "lines=f.readlines()\n",
    "print(lines)\n",
    "f.close()"
   ]
  },
  {
   "cell_type": "code",
   "execution_count": null,
   "metadata": {},
   "outputs": [],
   "source": [
    "#추가보드\n",
    "\n",
    "f=open(\"c:/da/newFile.txt\",\"a\")\n",
    "for i in range(11,20):\n",
    "    data=\"%d번째 줄입니다\\n\" %i\n",
    "    f.write(data)\n",
    "f.close"
   ]
  },
  {
   "cell_type": "code",
   "execution_count": 81,
   "metadata": {},
   "outputs": [],
   "source": [
    "# with구문: 파일을 열기 위한 구문 없이 생성 (f.close()생략 가능)\n",
    "with open(\"c:/da/newFile.txt\",\"w\") as f:\n",
    "    f.write(\"Life is too short\")\n"
   ]
  },
  {
   "cell_type": "code",
   "execution_count": null,
   "metadata": {},
   "outputs": [],
   "source": []
  },
  {
   "cell_type": "code",
   "execution_count": null,
   "metadata": {},
   "outputs": [],
   "source": []
  }
 ],
 "metadata": {
  "kernelspec": {
   "display_name": "Python 3",
   "language": "python",
   "name": "python3"
  },
  "language_info": {
   "codemirror_mode": {
    "name": "ipython",
    "version": 3
   },
   "file_extension": ".py",
   "mimetype": "text/x-python",
   "name": "python",
   "nbconvert_exporter": "python",
   "pygments_lexer": "ipython3",
   "version": "3.7.4"
  }
 },
 "nbformat": 4,
 "nbformat_minor": 2
}
