{
 "cells": [
  {
   "cell_type": "markdown",
   "metadata": {},
   "source": [
    "# Class "
   ]
  },
  {
   "cell_type": "markdown",
   "metadata": {},
   "source": [
    "\"\"\"\n",
    "클래스: 객체(캐릭터)를 표현하기 위한 개념\n",
    "ex)게임-기사/궁수/마법사 등 직업별로 클래스가 생성됨\n",
    "   웹 브라우져-스크롤바/버튼/체크박스 등 구성요소 모두 클래스\n",
    "   \n",
    "   1) 기사 (클래스), 홍길동(객체)를 생성\n",
    "   2) 체력, 마나, 공격력, 초기값(속성) 설정\n",
    "   3) 달리기, 찌르기, 베기 등 동작(매소드) 설정 \n",
    "\"\"\""
   ]
  },
  {
   "cell_type": "code",
   "execution_count": 2,
   "metadata": {},
   "outputs": [
    {
     "name": "stdout",
     "output_type": "stream",
     "text": [
      "3\n",
      "7\n"
     ]
    }
   ],
   "source": [
    "res=0\n",
    "def add(num):\n",
    "    global res    #이전의 값 유지=> global\n",
    "    res+=num\n",
    "    return res\n",
    "    \n",
    "print(add(3))          \n",
    "print(add(4))"
   ]
  },
  {
   "cell_type": "code",
   "execution_count": 4,
   "metadata": {},
   "outputs": [
    {
     "name": "stdout",
     "output_type": "stream",
     "text": [
      "3\n",
      "4\n"
     ]
    }
   ],
   "source": [
    "res=0\n",
    "def add(num):\n",
    "    #global res\n",
    "    res=0\n",
    "    res+=num\n",
    "    return res\n",
    "    \n",
    "print(add(3))\n",
    "print(add(4))"
   ]
  },
  {
   "cell_type": "code",
   "execution_count": 6,
   "metadata": {},
   "outputs": [
    {
     "name": "stdout",
     "output_type": "stream",
     "text": [
      "3\n",
      "7\n",
      "3\n",
      "7\n"
     ]
    }
   ],
   "source": [
    "#계산기 2대\n",
    "res1=0\n",
    "res2=0\n",
    "def add1(num):\n",
    "    global res1\n",
    "    res1+=num\n",
    "    return res1\n",
    "\n",
    "def add2(num):\n",
    "    global res2\n",
    "    res2+=num\n",
    "    return res2\n",
    "\n",
    "    \n",
    "print(add1(3))\n",
    "print(add1(4))\n",
    "print(add2(3))\n",
    "print(add2(4))"
   ]
  },
  {
   "cell_type": "code",
   "execution_count": 18,
   "metadata": {},
   "outputs": [],
   "source": [
    "class Calc: #변수이름 규칮과 같음\n",
    "    #def greeting(self):  #인수에 self를 주어야 헌다.\n",
    "        #print(\"Hello\")\n",
    "    def __init__(self): #객체를 초기화\n",
    "        self.res=0\n",
    "    def add(self, num):\n",
    "        self.res+=num\n",
    "        return self.res\n",
    "    \n",
    "    def sub(self, num):\n",
    "        self.res-=num\n",
    "        return self.res"
   ]
  },
  {
   "cell_type": "code",
   "execution_count": 19,
   "metadata": {},
   "outputs": [
    {
     "name": "stdout",
     "output_type": "stream",
     "text": [
      "3\n",
      "7\n",
      "4\n",
      "0\n",
      "3\n",
      "10\n"
     ]
    }
   ],
   "source": [
    "cal1=Calc() #계산기1 (클래스에서 cal1의 객체 생성)\n",
    "cal2=Calc() #계산기2\n",
    "\n",
    "print(cal1.add(3))\n",
    "print(cal1.add(4))\n",
    "print(cal1.sub(3))\n",
    "print(cal1.sub(4))\n",
    "print(cal2.add(3))\n",
    "print(cal2.add(7))\n",
    "\n",
    "\n",
    "\n",
    "#hgd=Calc()   #객체 = 쿨래스()\n",
    "#hgd.greeting()"
   ]
  },
  {
   "cell_type": "code",
   "execution_count": null,
   "metadata": {},
   "outputs": [],
   "source": [
    "class Fishbread:\n",
    "    pass        # 클래스 정의(pass; 기능이 없는 클래스)"
   ]
  },
  {
   "cell_type": "code",
   "execution_count": 57,
   "metadata": {},
   "outputs": [],
   "source": [
    "#사칙 연산 클래스\n",
    "class FourCal:\n",
    "    def add(self):\n",
    "        res1=self.first+self.second\n",
    "        return res2\n",
    "    def sub(self):\n",
    "        res2=self.first-self.second\n",
    "        return res2\n",
    "    def mul(self):\n",
    "        res3=self.first*self.second\n",
    "        return res3\n",
    "    def div(self):\n",
    "        res4=self.first/self.second\n",
    "        return res4\n",
    "      \n",
    "    "
   ]
  },
  {
   "cell_type": "code",
   "execution_count": 62,
   "metadata": {},
   "outputs": [],
   "source": [
    "   def setData(self,f,s):\n",
    "        self.first=f   #self(a), first=4  \n",
    "        self.second=s #self(a), second=2\n",
    "#self: 지금(현재) 만들어 지고 있는 객체\n",
    "#self.first: 지금 만들어진 객체의 first 속성\n",
    "#self.second: 지금 만들어진 객체의 second 속성"
   ]
  },
  {
   "cell_type": "code",
   "execution_count": 63,
   "metadata": {},
   "outputs": [
    {
     "name": "stdout",
     "output_type": "stream",
     "text": [
      "<class '__main__.FourCal'>\n",
      "7\n",
      "2\n",
      "8\n",
      "2\n"
     ]
    }
   ],
   "source": [
    "#변수=클래스명() 변수는 클래스로부터 만들어진 객체를 나타냄\n",
    "\n",
    "\n",
    "a=FourCal() #FourCal이라는 클래스로 부터 a라는 객체 생성\n",
    "print(type(a))\n",
    "a.setData(4,2)  #4는 first변수에, 2는 second변수에 할당\n",
    "print(a.add())#4+2=6리턴\n",
    "print(a.sub())\n",
    "print(a.mul())\n",
    "print(int(a.div()))\n",
    "\n",
    "#b=FourCal()\n",
    "#b.setData(1,2)\n",
    "#print(b.add())"
   ]
  },
  {
   "cell_type": "code",
   "execution_count": 59,
   "metadata": {},
   "outputs": [],
   "source": [
    "#상속\n",
    "#상속=> class 자식 클래스명(부모클래스명):\n",
    "#MoreFourCal 클래스는 FourCal 상속 했으므로 FourCal클래스의 모든 기능 수행될 수 있음\n",
    "class MoreFourCal(FourCal):\n",
    "    def pow(self):\n",
    "        res=self.first ** self.second  #제곱\n",
    "        return res\n"
   ]
  },
  {
   "cell_type": "code",
   "execution_count": 60,
   "metadata": {},
   "outputs": [
    {
     "ename": "TypeError",
     "evalue": "setData() missing 1 required positional argument: 's'",
     "output_type": "error",
     "traceback": [
      "\u001b[1;31m---------------------------------------------------------------------------\u001b[0m",
      "\u001b[1;31mTypeError\u001b[0m                                 Traceback (most recent call last)",
      "\u001b[1;32m<ipython-input-60-713dd5a30b73>\u001b[0m in \u001b[0;36m<module>\u001b[1;34m\u001b[0m\n\u001b[0;32m      1\u001b[0m \u001b[0ma\u001b[0m\u001b[1;33m=\u001b[0m\u001b[0mMoreFourCal\u001b[0m\u001b[1;33m\u001b[0m\u001b[1;33m\u001b[0m\u001b[0m\n\u001b[1;32m----> 2\u001b[1;33m \u001b[0ma\u001b[0m\u001b[1;33m.\u001b[0m\u001b[0msetData\u001b[0m\u001b[1;33m(\u001b[0m\u001b[1;36m4\u001b[0m\u001b[1;33m,\u001b[0m\u001b[1;36m2\u001b[0m\u001b[1;33m)\u001b[0m\u001b[1;33m\u001b[0m\u001b[1;33m\u001b[0m\u001b[0m\n\u001b[0m\u001b[0;32m      3\u001b[0m \u001b[1;31m#a.add()\u001b[0m\u001b[1;33m\u001b[0m\u001b[1;33m\u001b[0m\u001b[1;33m\u001b[0m\u001b[0m\n\u001b[0;32m      4\u001b[0m \u001b[0mprint\u001b[0m\u001b[1;33m(\u001b[0m\u001b[0ma\u001b[0m\u001b[1;33m.\u001b[0m\u001b[0mpow\u001b[0m\u001b[1;33m(\u001b[0m\u001b[1;33m)\u001b[0m\u001b[1;33m)\u001b[0m\u001b[1;33m\u001b[0m\u001b[1;33m\u001b[0m\u001b[0m\n",
      "\u001b[1;31mTypeError\u001b[0m: setData() missing 1 required positional argument: 's'"
     ]
    }
   ],
   "source": [
    "\n",
    "a=MoreFourCal\n",
    "a.setData(4,2)\n",
    "#a.add()\n",
    "print(a.pow())"
   ]
  },
  {
   "cell_type": "markdown",
   "metadata": {},
   "source": [
    "## 오버라이딩(Overriding)"
   ]
  },
  {
   "cell_type": "code",
   "execution_count": 64,
   "metadata": {},
   "outputs": [
    {
     "name": "stdout",
     "output_type": "stream",
     "text": [
      "2.0\n"
     ]
    }
   ],
   "source": [
    "#메소드 오버라이딩(overriding: 부모 클래스로부터 상속받은 메소드를 자식이 변경)\n",
    "myObj=FourCal()\n",
    "myObj.setData(4,2)\n",
    "print(myObj.div())"
   ]
  },
  {
   "cell_type": "code",
   "execution_count": 70,
   "metadata": {},
   "outputs": [],
   "source": [
    "class SafeFourCal(FourCal):\n",
    "    def div(self):\n",
    "        if self.second==1:\n",
    "            print(\"1로 나누지 마세요\")\n",
    "            return 0\n",
    "        else:\n",
    "            return self.first/self.second\n",
    "            "
   ]
  },
  {
   "cell_type": "code",
   "execution_count": 71,
   "metadata": {},
   "outputs": [
    {
     "name": "stdout",
     "output_type": "stream",
     "text": [
      "1로 나누지 마세요\n",
      "0\n"
     ]
    }
   ],
   "source": [
    "sfc=SafeFourCal()\n",
    "sfc.setData(4,1)\n",
    "print(sfc.div())"
   ]
  },
  {
   "cell_type": "code",
   "execution_count": 74,
   "metadata": {},
   "outputs": [
    {
     "name": "stdout",
     "output_type": "stream",
     "text": [
      "안녕하세요. 나는 홍길동 입니다.\n",
      "이름: 홍길동\n",
      "나이: 25\n",
      "이름: 서울시 역삼동\n"
     ]
    }
   ],
   "source": [
    "class Person:\n",
    "    def __init__(self,name,age,addr):\n",
    "        self.name=name\n",
    "        self.age=age\n",
    "        self.addr=addr\n",
    "        \n",
    "    def greeting(self):\n",
    "        print(\"안녕하세요. 나는 %s 입니다.\" %self.name)\n",
    "\n",
    "\n",
    "ps=Person(\"홍길동\", 25, \"서울시 역삼동\")\n",
    "ps.greeting()\n",
    "print(\"이름:\", ps.name)\n",
    "print(\"나이:\", ps.age)\n",
    "print(\"이름:\", ps.addr)"
   ]
  },
  {
   "cell_type": "code",
   "execution_count": 75,
   "metadata": {},
   "outputs": [
    {
     "name": "stdout",
     "output_type": "stream",
     "text": [
      "안녕하세요. 나는 홍길동 입니다.\n",
      "이름: 홍길동\n",
      "나이: 25\n",
      "이름: 서울시 역삼동\n"
     ]
    }
   ],
   "source": [
    "class Person:\n",
    "    def __init__(self,*args):\n",
    "        self.name=args[0]\n",
    "        self.age=args[1]\n",
    "        self.addr=args[2]\n",
    "        \n",
    "    def greeting(self):\n",
    "        print(\"안녕하세요. 나는 %s 입니다.\" %self.name)\n",
    "\n",
    "\n",
    "ps=Person(\"홍길동\", 25, \"서울시 역삼동\")\n",
    "ps.greeting()\n",
    "print(\"이름:\", ps.name)\n",
    "print(\"나이:\", ps.age)\n",
    "print(\"이름:\", ps.addr)"
   ]
  },
  {
   "cell_type": "code",
   "execution_count": null,
   "metadata": {},
   "outputs": [],
   "source": [
    "#내장함수: import가 필요없음\n",
    "#외장합수: import가 필요없음"
   ]
  },
  {
   "cell_type": "code",
   "execution_count": 77,
   "metadata": {},
   "outputs": [
    {
     "data": {
      "text/plain": [
       "12"
      ]
     },
     "execution_count": 77,
     "metadata": {},
     "output_type": "execute_result"
    }
   ],
   "source": [
    "abs(3)   #절댓값\n",
    "abs(-12)"
   ]
  },
  {
   "cell_type": "code",
   "execution_count": 79,
   "metadata": {},
   "outputs": [
    {
     "data": {
      "text/plain": [
       "False"
      ]
     },
     "execution_count": 79,
     "metadata": {},
     "output_type": "execute_result"
    }
   ],
   "source": [
    "all([-1,1,2,-2])  #모두가 참 => 참\n",
    "all([1,0,-1]) #0: 거짓 #0이 아닌 모든 숫자=> 참"
   ]
  },
  {
   "cell_type": "code",
   "execution_count": 80,
   "metadata": {},
   "outputs": [
    {
     "data": {
      "text/plain": [
       "True"
      ]
     },
     "execution_count": 80,
     "metadata": {},
     "output_type": "execute_result"
    }
   ],
   "source": [
    "any([1,2,3,0])  #하나라도 참 => 참\n",
    "any([\"\", None, 0])"
   ]
  },
  {
   "cell_type": "code",
   "execution_count": 82,
   "metadata": {},
   "outputs": [
    {
     "name": "stdout",
     "output_type": "stream",
     "text": [
      "1\n"
     ]
    }
   ],
   "source": [
    "chr(65) #아스키 코드를 입력받아 해당 문자를 출력\n",
    "\n",
    "res= divmod(6,4)\n",
    "print(res[0])"
   ]
  },
  {
   "cell_type": "markdown",
   "metadata": {},
   "source": [
    "## enumerate함수 "
   ]
  },
  {
   "cell_type": "code",
   "execution_count": 87,
   "metadata": {},
   "outputs": [
    {
     "name": "stdout",
     "output_type": "stream",
     "text": [
      "0 김철수\n",
      "1 이놀부\n",
      "2 박철구\n"
     ]
    }
   ],
   "source": [
    "#enumerate()\n",
    "#순서가 있는 자료형(리스트,튜플,문자열)을 입력받아서 인덱스와 함꼐 자료를 리턴해주는 함수\n",
    "for idx,name in enumerate(['김철수','이놀부','박철구']):\n",
    "    print(idx,name)"
   ]
  },
  {
   "cell_type": "code",
   "execution_count": 86,
   "metadata": {},
   "outputs": [
    {
     "name": "stdout",
     "output_type": "stream",
     "text": [
      "0 test\n",
      "1 test\n",
      "2 body\n"
     ]
    }
   ],
   "source": [
    "for data in enumerate(['김철수','이놀부','박철구']):\n",
    "    print(data[0],data[1])"
   ]
  },
  {
   "cell_type": "markdown",
   "metadata": {},
   "source": [
    "## eval함수 "
   ]
  },
  {
   "cell_type": "code",
   "execution_count": 90,
   "metadata": {},
   "outputs": [
    {
     "data": {
      "text/plain": [
       "3"
      ]
     },
     "execution_count": 90,
     "metadata": {},
     "output_type": "execute_result"
    }
   ],
   "source": [
    "#eval함수 : \n",
    "1+2\n",
    "\"1+2\"\n",
    "eval(\"1+2\")"
   ]
  },
  {
   "cell_type": "code",
   "execution_count": 92,
   "metadata": {},
   "outputs": [
    {
     "data": {
      "text/plain": [
       "'hihello'"
      ]
     },
     "execution_count": 92,
     "metadata": {},
     "output_type": "execute_result"
    }
   ],
   "source": [
    "\"'hi'+'hello'\"\n",
    "eval (\"'hi'+'hello'\")"
   ]
  },
  {
   "cell_type": "code",
   "execution_count": 95,
   "metadata": {},
   "outputs": [
    {
     "data": {
      "text/plain": [
       "(1, 2)"
      ]
     },
     "execution_count": 95,
     "metadata": {},
     "output_type": "execute_result"
    }
   ],
   "source": [
    "\"divmod(6,4)\"\n",
    "eval(\"divmod(6,4)\")"
   ]
  },
  {
   "cell_type": "code",
   "execution_count": null,
   "metadata": {},
   "outputs": [],
   "source": []
  },
  {
   "cell_type": "code",
   "execution_count": null,
   "metadata": {},
   "outputs": [],
   "source": []
  }
 ],
 "metadata": {
  "kernelspec": {
   "display_name": "Python 3",
   "language": "python",
   "name": "python3"
  },
  "language_info": {
   "codemirror_mode": {
    "name": "ipython",
    "version": 3
   },
   "file_extension": ".py",
   "mimetype": "text/x-python",
   "name": "python",
   "nbconvert_exporter": "python",
   "pygments_lexer": "ipython3",
   "version": "3.7.4"
  }
 },
 "nbformat": 4,
 "nbformat_minor": 2
}
