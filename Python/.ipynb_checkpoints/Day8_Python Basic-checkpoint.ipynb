{
 "cells": [
  {
   "cell_type": "markdown",
   "metadata": {},
   "source": [
    "# Day8_Python Basic "
   ]
  },
  {
   "cell_type": "markdown",
   "metadata": {},
   "source": [
    "\"\"\"\n",
    "ex1) 동전 종류: 10,50,100으로 \"120원 거스름돈 반환\"\n",
    "\n",
    "최소의 동전을 사용하여 거스름돈 반환\n",
    "\n",
    "100-1,10-2 => 총 3개\n",
    "\n",
    "Solution: 임의의 금액 입력 -> 최소 개수 동전 -> 큰 단위 화페부터 교환!\n",
    "\n",
    "ex2) 동전 종류 : 10,60,100으로 120원 반환\n",
    " \n",
    "Solution : 완전탐색(backtracking, DP)\n",
    "\n",
    "\n",
    "\"\"\""
   ]
  },
  {
   "cell_type": "markdown",
   "metadata": {},
   "source": [
    "## 정규표현식 "
   ]
  },
  {
   "cell_type": "code",
   "execution_count": 11,
   "metadata": {},
   "outputs": [
    {
     "name": "stdout",
     "output_type": "stream",
     "text": [
      "<re.Match object; span=(0, 10), match='hellohi123'>\n",
      "None\n",
      "<re.Match object; span=(0, 10), match='hellohi123'>\n",
      "None\n",
      "<re.Match object; span=(0, 7), match='hellohi'>\n",
      "<re.Match object; span=(0, 7), match='Hellohi'>\n",
      "<re.Match object; span=(0, 3), match='123'>\n",
      "<re.Match object; span=(6, 9), match='456'>\n"
     ]
    }
   ],
   "source": [
    "#복습\n",
    "\n",
    "import re\n",
    "\n",
    "print(re.match(\"[a-zA-Z0-9]+\",\"hellohi123\"))\n",
    "\n",
    "\n",
    "print(re.match(\"[^a-zA-Z]+\",\"hellohi123\"))\n",
    "print(re.match(\"[^A-Z]+\",\"hellohi123\"))\n",
    "print(re.match(\"[^a-z]+\",\"hellohi123\"))\n",
    "print(re.match(\"^[a-zA-Z]+\",\"hellohi123\")) #대괄호 밖에 꺽쇠가 있는 경우 패턴문자로 시작하면 매치가 됨\n",
    "print(re.match(\"^[a-zA-Z]+\",\"Hellohi123\"))\n",
    "\n",
    "\n",
    "print(re.match(\"^[0-9]+\", \"123abc456\"))  \n",
    "print(re.search(\"[0-9]+$\",\"123abc456\"))  #숫자로 끝나는 숫자 출력: $ #re.search 함수를 사용해야 출력됨!"
   ]
  },
  {
   "cell_type": "markdown",
   "metadata": {},
   "source": [
    "## 역슬레쉬로 match하기 "
   ]
  },
  {
   "cell_type": "code",
   "execution_count": 19,
   "metadata": {},
   "outputs": [
    {
     "name": "stdout",
     "output_type": "stream",
     "text": [
      "None\n",
      "<re.Match object; span=(1, 3), match='**'>\n",
      "<re.Match object; span=(0, 3), match='aB가'>\n",
      "<re.Match object; span=(0, 5), match='aB가10'>\n",
      "<re.Match object; span=(0, 6), match='aB가_10'>\n",
      "None\n",
      "<re.Match object; span=(0, 1), match=' '>\n"
     ]
    }
   ],
   "source": [
    "#특수문자는 앞에 \\(역슬래쉬)를 붙어야함\n",
    "\n",
    "print(re.match(\"\\*+\",\"3**8\")) #결과값: None #re.match함수가 아닌 re.search함수로!\n",
    "print(re.search(\"\\*+\",\"3**8\")) \n",
    "\n",
    "# \\D: 숫자가 아닌 문자\n",
    "print(re.match(\"\\D+\",\"aB가10\")) #WD숫자가 아님\n",
    "print(re.match(\"\\w+\",\"aB가10\")) #Ww : 숫자+ 문자 + _\n",
    "print(re.match(\"\\w+\",\"aB가_10\"))\n",
    "\n",
    "\n",
    "\n",
    "# \\s: whitespace문자 , \\n\\r\\f\\t\n",
    "print(re.match(\"\\s+\",\"test\"))\n",
    "print(re.match(\"\\s+\",\" test\"))\n"
   ]
  },
  {
   "cell_type": "markdown",
   "metadata": {},
   "source": [
    "## re.compile() "
   ]
  },
  {
   "cell_type": "code",
   "execution_count": 22,
   "metadata": {},
   "outputs": [],
   "source": [
    "#re.compile() : 정규식을 저장 => 객체(패턴)\n",
    "\n",
    "pat=re.compile(\"[0-9]+\")\n",
    "\n",
    "pat.match(\"123\")\n",
    "pat.match(\"abc\")"
   ]
  },
  {
   "cell_type": "markdown",
   "metadata": {},
   "source": [
    " 정규식을 작성하는 일반적인 형식\n",
    "\n",
    "1) 패턴을 저장 (re.compile함수)\n",
    "2) 패턴을 사용하여 문자열 검색을 수행\n",
    "(match, search, findall, filter..)\n",
    "\n",
    "-match : 문자열의 처음부터 정규식과 매치되는지 조사\n",
    "\n",
    "-search : 문자열 전체에 대해 정규식과 매치되는지 조사\n",
    "\n",
    "-findall : 정규식과 매치되는 모든 문자열을 리스트로 리턴\n",
    "\n",
    "-finditer : 정규식과 매치되는 모든 문자열을 반복가능객체로 리턴\n",
    "    "
   ]
  },
  {
   "cell_type": "code",
   "execution_count": 48,
   "metadata": {},
   "outputs": [
    {
     "name": "stdout",
     "output_type": "stream",
     "text": [
      "<re.Match object; span=(0, 5), match='multi'>\n",
      "<re.Match object; span=(0, 5), match='multi'>\n"
     ]
    }
   ],
   "source": [
    "m1=re.match(\"[a-z]+\",\"multi\")\n",
    "print(m1)\n",
    "p=re.compile(\"[a-z]+\")\n",
    "m2=p.match(\"multi\")\n",
    "print(m2)"
   ]
  },
  {
   "cell_type": "code",
   "execution_count": 23,
   "metadata": {},
   "outputs": [],
   "source": [
    "p=re.compile(\"[a-z]+\")"
   ]
  },
  {
   "cell_type": "code",
   "execution_count": 30,
   "metadata": {},
   "outputs": [
    {
     "name": "stdout",
     "output_type": "stream",
     "text": [
      "<re.Match object; span=(0, 6), match='python'>\n"
     ]
    }
   ],
   "source": [
    "m=p.match(\"python\")\n",
    "print(m)"
   ]
  },
  {
   "cell_type": "code",
   "execution_count": 31,
   "metadata": {},
   "outputs": [
    {
     "name": "stdout",
     "output_type": "stream",
     "text": [
      "매치안됨\n",
      "None\n"
     ]
    }
   ],
   "source": [
    "m=p.match(\" python\")\n",
    "if m:\n",
    "    print(\"매치\", m.group()) #group() 그룹화 시키기\n",
    "else:\n",
    "    print(\"매치안됨\")\n",
    "print(m)"
   ]
  },
  {
   "cell_type": "code",
   "execution_count": 33,
   "metadata": {},
   "outputs": [
    {
     "name": "stdout",
     "output_type": "stream",
     "text": [
      "<re.Match object; span=(0, 6), match='python'>\n",
      "<re.Match object; span=(2, 8), match='python'>\n"
     ]
    }
   ],
   "source": [
    "m=p.search(\"python\")\n",
    "print(m)\n",
    "\n",
    "m=p.search(\"9 python 7 java\")  #search는 첫번째 문자에 대해서만 찾음.\n",
    "print(m)"
   ]
  },
  {
   "cell_type": "code",
   "execution_count": 35,
   "metadata": {},
   "outputs": [
    {
     "name": "stdout",
     "output_type": "stream",
     "text": [
      "['python', 'java']\n"
     ]
    }
   ],
   "source": [
    "m=p.findall(\"9 python 7 java\")\n",
    "print(m)"
   ]
  },
  {
   "cell_type": "code",
   "execution_count": 39,
   "metadata": {},
   "outputs": [
    {
     "name": "stdout",
     "output_type": "stream",
     "text": [
      "<callable_iterator object at 0x0000029D89FA57C8>\n"
     ]
    }
   ],
   "source": [
    "res=p.finditer(\"9 python 7 java\") \n",
    "print(res)"
   ]
  },
  {
   "cell_type": "code",
   "execution_count": 40,
   "metadata": {},
   "outputs": [
    {
     "name": "stdout",
     "output_type": "stream",
     "text": [
      "<re.Match object; span=(2, 8), match='python'>\n",
      "<re.Match object; span=(11, 15), match='java'>\n"
     ]
    }
   ],
   "source": [
    "for i in res:\n",
    "    print(i)"
   ]
  },
  {
   "cell_type": "code",
   "execution_count": 41,
   "metadata": {},
   "outputs": [
    {
     "name": "stdout",
     "output_type": "stream",
     "text": [
      "<callable_iterator object at 0x0000029D89F9A6C8>\n"
     ]
    }
   ],
   "source": [
    "res1=p.finditer(\"Life is too short\")\n",
    "print(res1)"
   ]
  },
  {
   "cell_type": "code",
   "execution_count": 42,
   "metadata": {},
   "outputs": [
    {
     "name": "stdout",
     "output_type": "stream",
     "text": [
      "<re.Match object; span=(1, 4), match='ife'>\n",
      "<re.Match object; span=(5, 7), match='is'>\n",
      "<re.Match object; span=(8, 11), match='too'>\n",
      "<re.Match object; span=(12, 17), match='short'>\n"
     ]
    }
   ],
   "source": [
    "for r in res1:\n",
    "    print(r)"
   ]
  },
  {
   "cell_type": "code",
   "execution_count": 44,
   "metadata": {},
   "outputs": [
    {
     "name": "stdout",
     "output_type": "stream",
     "text": [
      "1\n",
      "ife\n",
      "4\n",
      "(1, 4)\n",
      "5\n",
      "is\n",
      "7\n",
      "(5, 7)\n",
      "8\n",
      "too\n",
      "11\n",
      "(8, 11)\n",
      "12\n",
      "short\n",
      "17\n",
      "(12, 17)\n"
     ]
    }
   ],
   "source": [
    "res1=p.finditer(\"Life is too short\")\n",
    "for r in res1:\n",
    "    print(r.start()) #매치 시작위치\n",
    "    print(r.group()) #매치 문자열\n",
    "    print(r.end())   #매체 끝위치 \n",
    "    print(r.span()) #각 문자열(시작,끝위치)"
   ]
  },
  {
   "cell_type": "markdown",
   "metadata": {},
   "source": [
    "### *re.DOTALL옵션 : 공백 문자 포함할 경우"
   ]
  },
  {
   "cell_type": "code",
   "execution_count": 57,
   "metadata": {},
   "outputs": [
    {
     "name": "stdout",
     "output_type": "stream",
     "text": [
      "None\n",
      "<re.Match object; span=(0, 3), match='a\\nb'>\n",
      "<re.Match object; span=(0, 6), match='Python'>\n"
     ]
    }
   ],
   "source": [
    "p=re.compile(\"a.b\")  #.은 모든 문자와 매치 #\\n 문자와는 제외\n",
    "m=p.match(\"a\\nb\")\n",
    "print(m)\n",
    "\n",
    "#DOTALL옵션: .으로 매치할때 \\n문자도 포함하고자 하는 경우\n",
    "p=re.compile(\"a.b\", re.DOTALL)\n",
    "m=p.match(\"a\\nb\")\n",
    "print(m)\n"
   ]
  },
  {
   "cell_type": "markdown",
   "metadata": {},
   "source": [
    "### *re.I(i) 옵션: 대소문자 구분없이 매치할 경우 "
   ]
  },
  {
   "cell_type": "code",
   "execution_count": null,
   "metadata": {},
   "outputs": [],
   "source": [
    "#re.l(i)옵션: ignorecase는 대소문자 구분없이 수행\n",
    "p=re.compile(\"[a-z]+\", re.I)\n",
    "print(p.match(\"Python\"))"
   ]
  },
  {
   "cell_type": "markdown",
   "metadata": {},
   "source": [
    "### *re.MULTILINE옵션 "
   ]
  },
  {
   "cell_type": "code",
   "execution_count": 60,
   "metadata": {},
   "outputs": [
    {
     "name": "stdout",
     "output_type": "stream",
     "text": [
      "<re.Match object; span=(0, 10), match='python one'>\n",
      "<re.Match object; span=(0, 10), match='python one'>\n",
      "['python one']\n"
     ]
    }
   ],
   "source": [
    "text=\"\"\"python one\n",
    "python two\n",
    "you need python\n",
    "\"\"\"\n",
    "\n",
    "p=re.compile(\"^python\\s\\w+\")  #공백 포함, 문자+숫자+_ 포함 매치\n",
    "print(p.match(text))\n",
    "print(p.search(text))\n",
    "print(p.findall(text))\n",
    "#^를 문자열 전체의 처음에 대해서 적용"
   ]
  },
  {
   "cell_type": "code",
   "execution_count": 63,
   "metadata": {},
   "outputs": [
    {
     "name": "stdout",
     "output_type": "stream",
     "text": [
      "['python one', 'python two']\n"
     ]
    }
   ],
   "source": [
    "#문자열의 각 라인 단위로 출력 => MULTILINE\n",
    "\n",
    "p=re.compile(\"^python\\s\\w+\", re.MULTILINE)\n",
    "print(p.findall(text))\n"
   ]
  },
  {
   "cell_type": "code",
   "execution_count": 70,
   "metadata": {},
   "outputs": [
    {
     "name": "stdout",
     "output_type": "stream",
     "text": [
      "<re.Match object; span=(0, 3), match='Bye'>\n",
      "None\n"
     ]
    }
   ],
   "source": [
    "pat=re.compile(\"Bye|Hi\") #Bye 또는 Hi 와 매치가 되는가?\n",
    "m=pat.match(\"ByeHello\")\n",
    "print(m)\n",
    "\n",
    "pat=re.compile(\"Bye|Hi\")\n",
    "m=pat.match(\"BByeHello\")\n",
    "print(m)"
   ]
  },
  {
   "cell_type": "code",
   "execution_count": 71,
   "metadata": {},
   "outputs": [
    {
     "name": "stdout",
     "output_type": "stream",
     "text": [
      "<re.Match object; span=(0, 4), match='Life'>\n"
     ]
    }
   ],
   "source": [
    "print(re.search(\"^Life\",\"Life is too short\"))"
   ]
  },
  {
   "cell_type": "code",
   "execution_count": 72,
   "metadata": {},
   "outputs": [
    {
     "name": "stdout",
     "output_type": "stream",
     "text": [
      "<re.Match object; span=(12, 17), match='short'>\n"
     ]
    }
   ],
   "source": [
    "print(re.search(\"short$\",\"Life is too short\"))"
   ]
  },
  {
   "cell_type": "markdown",
   "metadata": {},
   "source": [
    "## Grouping "
   ]
  },
  {
   "cell_type": "code",
   "execution_count": 77,
   "metadata": {},
   "outputs": [
    {
     "name": "stdout",
     "output_type": "stream",
     "text": [
      "<re.Match object; span=(0, 9), match='xyzxyzxyz'>\n",
      "xyzxyzxyz\n"
     ]
    }
   ],
   "source": [
    "#그루핑 : 패턴식 내부에 괄호로 묶어서 표현\n",
    "#괄호로 묶인 부분이 그룹이 됨\n",
    "#xyz 문자열이 계속해서 반복되는지 확인 정규식\n",
    "#(xyz)+\n",
    "\n",
    "pat=re.compile(\"(xyz)+\") #지정한 그룹 문자들에 대해서 매치 확인\n",
    "m=pat.search(\"xyzxyzxyz ok\")\n",
    "print(m)\n",
    "print(m.group()) #매칭된 문자열 그룹 확인"
   ]
  },
  {
   "cell_type": "code",
   "execution_count": 87,
   "metadata": {},
   "outputs": [
    {
     "name": "stdout",
     "output_type": "stream",
     "text": [
      "None\n"
     ]
    }
   ],
   "source": [
    "\"\"\"\n",
    "kim 010-7175-0935\n",
    "lee seoul => 매칭안됨\n",
    "park 010 7175 0935 => 매칭안됨\n",
    "\"\"\"\n",
    "\n",
    "pat=re.compile(\"\\w+\\s+\\d+[-]\\d+[-]\\d+\")\n",
    "#m=pat.search(\"kim 010-7175-0935\") => 매치o\n",
    "m=pat.search(\"park 010 7175 0935\") #매치x\n",
    "print(m)"
   ]
  },
  {
   "cell_type": "code",
   "execution_count": 93,
   "metadata": {},
   "outputs": [],
   "source": [
    "pat=re.compile(\"(\\w+)\\s+\\d+[-]\\d+[-]\\d+\")\n",
    "m=pat.search(\"kim 010-7175-0935\")"
   ]
  },
  {
   "cell_type": "code",
   "execution_count": 96,
   "metadata": {},
   "outputs": [
    {
     "name": "stdout",
     "output_type": "stream",
     "text": [
      "kim 010-7175-0935\n",
      "kim\n",
      "kim 010-7175-0935\n"
     ]
    }
   ],
   "source": [
    "print(m.group())\n",
    "\n",
    "#이름 그루핑: (\\w+)\n",
    "print(m.group(1)) #첫번째 그룹에 해당되는 문자열 출력\n",
    "#print(m.group(2)) #에러 \n",
    "print(m.group(0)) #전체 문자열 \n"
   ]
  },
  {
   "cell_type": "code",
   "execution_count": 97,
   "metadata": {},
   "outputs": [],
   "source": [
    "pat=re.compile(\"(\\w+)\\s+(\\d+)[-](\\d+)[-](\\d+)\")\n",
    "m=pat.search(\"kim 010-7175-0935\")"
   ]
  },
  {
   "cell_type": "code",
   "execution_count": 99,
   "metadata": {},
   "outputs": [
    {
     "name": "stdout",
     "output_type": "stream",
     "text": [
      "kim 010-7175-0935\n",
      "kim\n",
      "010\n",
      "7175\n",
      "0935\n"
     ]
    }
   ],
   "source": [
    "print(m.group(0))\n",
    "print(m.group(1))\n",
    "print(m.group(2))\n",
    "print(m.group(3))\n",
    "print(m.group(4))"
   ]
  },
  {
   "cell_type": "code",
   "execution_count": 101,
   "metadata": {},
   "outputs": [
    {
     "name": "stdout",
     "output_type": "stream",
     "text": [
      "kim 010-7175-0935\n",
      "kim\n",
      "010\n",
      "7175-0935\n",
      "7175\n",
      "0935\n"
     ]
    }
   ],
   "source": [
    "pat=re.compile(\"(\\w+)\\s+(\\d+)[-]((\\d+)[-](\\d+))\")   #()가 중첩이 되어있을 경우 바깥 그룹이 우선 그룹번호가 된다.\n",
    "m=pat.search(\"kim 010-7175-0935\")\n",
    "\n",
    "print(m.group(0))\n",
    "print(m.group(1))\n",
    "print(m.group(2))\n",
    "print(m.group(3))\n",
    "print(m.group(4))\n",
    "print(m.group(5))"
   ]
  },
  {
   "cell_type": "markdown",
   "metadata": {},
   "source": [
    "## Grouping(이름단위) "
   ]
  },
  {
   "cell_type": "code",
   "execution_count": 103,
   "metadata": {},
   "outputs": [
    {
     "name": "stdout",
     "output_type": "stream",
     "text": [
      "kim 010-7175-0935\n",
      "kim\n"
     ]
    }
   ],
   "source": [
    "# 그룹 단위로 이름 부여\n",
    "\n",
    "#이름 부여 형식 : (?P<name>..)\n",
    "#(\\w+) => (?P<name>\\w+)\n",
    "pat=re.compile(\"(?P<name>\\w+)\\s+(\\d+)[-]((\\d+)[-](\\d+))\") \n",
    "m=pat.search(\"kim 010-7175-0935\")\n",
    "print(m.group(0))\n",
    "print(m.group(\"name\"))\n",
    "\n"
   ]
  },
  {
   "cell_type": "markdown",
   "metadata": {},
   "source": [
    "텍스트 수집 -> 전처리 -> 워드임베딩(숫자 변환=인코딩) -> SNN/DNN 신경망 모델 설계 -> 모델링 -> 분류/예측"
   ]
  },
  {
   "cell_type": "markdown",
   "metadata": {},
   "source": [
    "## sub함수(치환) "
   ]
  },
  {
   "cell_type": "code",
   "execution_count": 111,
   "metadata": {},
   "outputs": [
    {
     "data": {
      "text/plain": [
       "'colorful socks and colorful shoes'"
      ]
     },
     "execution_count": 111,
     "metadata": {},
     "output_type": "execute_result"
    }
   ],
   "source": [
    "#pat.sub(바꿀 문자열,대상문자열):대상문자열에서 패턴이 발견되면 바꿀 문자열로 변경\n",
    "pat=re.compile(\"red\")\n",
    "pat.sub(\"colorful\",\"blue socks and red shoes\")\n",
    "\n",
    "#바꿀 패턴이 2개 이상일 경우, 메타문자 \"|\" 사용\n",
    "pat=re.compile(\"red|blue\")\n",
    "pat.sub(\"colorful\",\"blue socks and red shoes\")\n",
    "\n"
   ]
  },
  {
   "cell_type": "code",
   "execution_count": 112,
   "metadata": {},
   "outputs": [
    {
     "data": {
      "text/plain": [
       "\"You R dozing off. I'm so sleepy.\""
      ]
     },
     "execution_count": 112,
     "metadata": {},
     "output_type": "execute_result"
    }
   ],
   "source": [
    "pat=re.compile(\"are\")\n",
    "pat.sub(\"R\", \"You are dozing off. I'm so sleepy.\")  #문자열에서 are이 발견되면 R로 치환"
   ]
  },
  {
   "cell_type": "code",
   "execution_count": 113,
   "metadata": {},
   "outputs": [
    {
     "data": {
      "text/plain": [
       "'대한민국 좋은 나라 대한민국 대한민국 대한민국'"
      ]
     },
     "execution_count": 113,
     "metadata": {},
     "output_type": "execute_result"
    }
   ],
   "source": [
    "pat=re.compile(\"우리나라|한국|코리아|대한민국\")\n",
    "pat.sub(\"대한민국\",\"우리나라 좋은 나라 한국 코리아 대한민국\")"
   ]
  },
  {
   "cell_type": "code",
   "execution_count": 136,
   "metadata": {},
   "outputs": [
    {
     "name": "stdout",
     "output_type": "stream",
     "text": [
      "대한민국 좋은 나라 대한민국 대한민국 대한민국\n"
     ]
    }
   ],
   "source": [
    "print(re.sub(\"우리나라|한국|코리아|대한민국\",\"대한민국\",\"우리나라 좋은 나라 한국 코리아 대한민국\"))"
   ]
  },
  {
   "cell_type": "code",
   "execution_count": 122,
   "metadata": {},
   "outputs": [
    {
     "name": "stdout",
     "output_type": "stream",
     "text": [
      "\n",
      "\n",
      "960602-*******\n",
      "\n",
      "980213-*******\n",
      "\n"
     ]
    }
   ],
   "source": [
    "data=\"\"\"\n",
    "kim 960602-2123456\n",
    "lee 980213-1123456\n",
    "\"\"\"\n",
    "\n",
    "result=[]\n",
    "for line in data.split(\"\\n\"):\n",
    "    word_result=[]\n",
    "    \n",
    "    for word in line.split(\" \"):\n",
    "        if len(word)== 14 and word[:6].isdigit() and word[7:].isdigit():\n",
    "            word=word[:6]+\"-\"+\"*******\"\n",
    "            word_result.append(word)\n",
    "        \n",
    "        result.append(\" \".join(word_result))\n",
    "print(\"\\n\".join(result))\n",
    "            \n",
    "\n",
    "    \n",
    "     \n",
    "        "
   ]
  },
  {
   "cell_type": "code",
   "execution_count": 168,
   "metadata": {},
   "outputs": [
    {
     "ename": "SyntaxError",
     "evalue": "unexpected character after line continuation character (<ipython-input-168-47d8f4ea5f3a>, line 10)",
     "output_type": "error",
     "traceback": [
      "\u001b[1;36m  File \u001b[1;32m\"<ipython-input-168-47d8f4ea5f3a>\"\u001b[1;36m, line \u001b[1;32m10\u001b[0m\n\u001b[1;33m    print(pat.sub(\\g<3>,\"*******\",data))\u001b[0m\n\u001b[1;37m                                        ^\u001b[0m\n\u001b[1;31mSyntaxError\u001b[0m\u001b[1;31m:\u001b[0m unexpected character after line continuation character\n"
     ]
    }
   ],
   "source": [
    "data=\"\"\"\n",
    "kim 960602-2123456\n",
    "lee 980213-1123456\n",
    "\"\"\"\n",
    "pat=re.compile(\"(?P<name>\\w+)\\s(?P<num1>\\d+)[-](?P<num2>\\d+)\")\n",
    "g=pat.search(data)\n",
    "print(g.group(\"name\"))\n",
    "print(g.group(\"num1\"))\n",
    "print(g.group(\"num2\"))\n",
    "pat.sub(\n"
   ]
  },
  {
   "cell_type": "code",
   "execution_count": 132,
   "metadata": {},
   "outputs": [
    {
     "name": "stdout",
     "output_type": "stream",
     "text": [
      "sumPrice\n",
      "50\n",
      "sumPrice\n",
      "50\n"
     ]
    }
   ],
   "source": [
    "#함수에서 '이름' , '인수' 추출하는 패턴식\n",
    "#ex) sumPrice(50)\n",
    "#함수명 : sumPrice, 인수 : 50\n",
    "\n",
    "\n",
    "g=re.match(\"(?P<func>[a-z][a-zA-Z0-9]+)\\((?P<arg>\\d+)\\)\",\"sumPrice(50)\")\n",
    "print(g.group(\"func\"))\n",
    "print(g.group(\"arg\"))\n",
    "\n",
    "\n",
    "pat=re.compile(\"(?P<func>[a-z][a-zA-Z0-9]+)\\((?P<arg>\\d+)\\)\")\n",
    "g=pat.search(\"sumPrice(50)\")\n",
    "print(g.group(\"func\"))\n",
    "print(g.group(\"arg\"))"
   ]
  },
  {
   "cell_type": "code",
   "execution_count": null,
   "metadata": {},
   "outputs": [],
   "source": [
    "print(re.fineall(\"[0-9]+\",\"10 20 th 40\"))\n"
   ]
  },
  {
   "cell_type": "code",
   "execution_count": 152,
   "metadata": {},
   "outputs": [
    {
     "name": "stdout",
     "output_type": "stream",
     "text": [
      "park\n",
      "010-1234-5678\n",
      "park 010-1234-5678\n",
      "010-1234-5678 park\n"
     ]
    }
   ],
   "source": [
    "#sub함수/ Grouping 활용\n",
    "#park 010-1234-5678 => 010-7175-0935 park\n",
    "\n",
    "pat=re.compile(\"(?P<name>[a-zA-z]+)\\s(?P<p_num>\\d+[-]\\d+[-]\\d+)\")\n",
    "#print(pat.search(\"park 010-1234-5678\"))\n",
    "g=pat.search(\"park 010-1234-5678\")\n",
    "print(g.group(\"name\"))\n",
    "print(g.group(\"p_num\"))\n",
    "print(g.group(0))\n",
    "print(pat.sub(\"\\g<2> \\g<1>\", \"park 010-1234-5678\")) #두번째 그루핑을 첫번째 그루핑과 바꿈"
   ]
  },
  {
   "cell_type": "code",
   "execution_count": 163,
   "metadata": {},
   "outputs": [],
   "source": [
    "def toHex(mat):\n",
    "    val=int(mat.group())\n",
    "    return hex(val)"
   ]
  },
  {
   "cell_type": "code",
   "execution_count": 165,
   "metadata": {},
   "outputs": [
    {
     "data": {
      "text/plain": [
       "'call 0x72, 0x63 for user code'"
      ]
     },
     "execution_count": 165,
     "metadata": {},
     "output_type": "execute_result"
    }
   ],
   "source": [
    "pat=re.compile(\"\\d+\")\n",
    "pat.sub(toHex,\"call 114, 99 for user code\")"
   ]
  },
  {
   "cell_type": "code",
   "execution_count": null,
   "metadata": {},
   "outputs": [],
   "source": [
    "for i in enumerate"
   ]
  },
  {
   "cell_type": "code",
   "execution_count": null,
   "metadata": {},
   "outputs": [],
   "source": []
  },
  {
   "cell_type": "code",
   "execution_count": null,
   "metadata": {},
   "outputs": [],
   "source": []
  },
  {
   "cell_type": "code",
   "execution_count": null,
   "metadata": {},
   "outputs": [],
   "source": []
  },
  {
   "cell_type": "code",
   "execution_count": null,
   "metadata": {},
   "outputs": [],
   "source": []
  }
 ],
 "metadata": {
  "kernelspec": {
   "display_name": "Python 3",
   "language": "python",
   "name": "python3"
  },
  "language_info": {
   "codemirror_mode": {
    "name": "ipython",
    "version": 3
   },
   "file_extension": ".py",
   "mimetype": "text/x-python",
   "name": "python",
   "nbconvert_exporter": "python",
   "pygments_lexer": "ipython3",
   "version": "3.7.4"
  }
 },
 "nbformat": 4,
 "nbformat_minor": 2
}
