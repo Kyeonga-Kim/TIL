{
 "cells": [
  {
   "cell_type": "code",
   "execution_count": null,
   "metadata": {},
   "outputs": [],
   "source": [
    "문제 1\n",
    "\n",
    "다음의 조건을 만족하는 Point라는 클래스를 작성하세요.\n",
    "\n",
    "Point 클래스는 생성자를 통해 (x, y) 좌표를 입력받는다.\n",
    "setx(x), sety(y) 메서드를 통해 x 좌표와 y 좌표를 따로 입력받을 수도 있다.\n",
    "get() 메서드를 호출하면 튜플로 구성된 (x, y) 좌표를 반환한다.\n",
    "move(dx, dy) 메서드는 현재 좌표를 dx, dy만큼 이동시킨다.\n",
    "모든 메서드는 인스턴스 메서드다.\n"
   ]
  },
  {
   "cell_type": "code",
   "execution_count": 39,
   "metadata": {
    "scrolled": false
   },
   "outputs": [
    {
     "name": "stdout",
     "output_type": "stream",
     "text": [
      "(3, 5)\n",
      "(5, 8)\n"
     ]
    }
   ],
   "source": [
    "class Point():\n",
    "    def __init__(self, x, y):\n",
    "        self.x=x\n",
    "        self.y=y\n",
    "    \n",
    "    def setx(self, x):\n",
    "        self.x=x  \n",
    "        return Point.get(self)\n",
    "        \n",
    "    def sety(self, y):\n",
    "        self.y=y\n",
    "        return Point.get(self) \n",
    "        \n",
    "            \n",
    "    def get(self):\n",
    "        get_xy=(self.x,self.y)\n",
    "        return get_xy\n",
    "    \n",
    "    def move(self,dx,dy):\n",
    "        self.x=self.x+dx\n",
    "        self.y=self.y+dy\n",
    "        move_xy=(self.x,self.y)\n",
    "        return move_xy\n",
    "    \n",
    "a=Point(1,3)\n",
    "\n",
    "print(a.move(2,2))\n",
    "print(a.move(2,3))\n",
    "                            "
   ]
  },
  {
   "cell_type": "code",
   "execution_count": null,
   "metadata": {},
   "outputs": [],
   "source": [
    "문제 2\n",
    "\n",
    "문제 1에서 생성한 Point 클래스에 대한 인스턴스를 생성한 후 4개의 메서드를 사용하는 코드를 작성하세요."
   ]
  },
  {
   "cell_type": "code",
   "execution_count": 41,
   "metadata": {},
   "outputs": [
    {
     "name": "stdout",
     "output_type": "stream",
     "text": [
      "(1, 2)\n",
      "(1, 3)\n",
      "(1, 3)\n",
      "(2, 4)\n"
     ]
    }
   ],
   "source": [
    "a=Point(2,2)\n",
    "print(a.setx(1))\n",
    "print(a.sety(3))\n",
    "print(a.get())\n",
    "print(a.move(1,1))"
   ]
  },
  {
   "cell_type": "code",
   "execution_count": null,
   "metadata": {},
   "outputs": [],
   "source": [
    "문제 3\n",
    "\n",
    "1부터 10까지의 숫자를 각 라인 단위로 파일에 출력하는 프로그램을 작성하세요.\n",
    "\n",
    "생성되는 파일의 이름은 number.txt 이다.\n"
   ]
  },
  {
   "cell_type": "code",
   "execution_count": 1,
   "metadata": {},
   "outputs": [],
   "source": [
    "f=open(\"c:/da/number.txt\",\"w\")\n",
    "\n",
    "for i in range(1,11):\n",
    "     f.write(str(i)+\"\\n\")\n",
    "f.close()\n"
   ]
  },
  {
   "cell_type": "code",
   "execution_count": null,
   "metadata": {},
   "outputs": [],
   "source": [
    "문제 4\n",
    "\n",
    "사용자에게 경로를 입력받은 후 해당 경로에 있는 디렉터리와 파일 목록을 flist.txt라는 파일로 출력하는 함수를 작성하세요.\n"
   ]
  },
  {
   "cell_type": "code",
   "execution_count": null,
   "metadata": {},
   "outputs": [],
   "source": [
    "import glob\n",
    "\n",
    "path=input(\"path:\")\n",
    "file_list=glob.glob(path+ \"*.txt\")\n",
    "print(file_list)\n",
    "\n",
    "f=open(\"c:/da/flist.txt\",\"w\")\n",
    "f.write(file_list)\n",
    "f.close()"
   ]
  },
  {
   "cell_type": "markdown",
   "metadata": {},
   "source": [
    "문제 5\n",
    "\n",
    "윤동주 시인 방송 출연 년월일 추출(화요일 수업내용 중)"
   ]
  },
  {
   "cell_type": "code",
   "execution_count": null,
   "metadata": {},
   "outputs": [],
   "source": [
    "from bs4 import BeautifulSoup\n",
    "import urllib request as req\n",
    "\n",
    "url=\"https://ko.wikipedia.org/wiki/%EC%9C%A4%EB%8F%99%EC%A3%BC\"\n",
    "res=req.openurl(url)\n",
    "print(res)"
   ]
  },
  {
   "cell_type": "code",
   "execution_count": null,
   "metadata": {},
   "outputs": [],
   "source": [
    "문제 6\n",
    "영문, 숫자 포함하여 특수문자 모두 제거(오늘 수업내용 중)\n"
   ]
  },
  {
   "cell_type": "code",
   "execution_count": 3,
   "metadata": {},
   "outputs": [
    {
     "name": "stdout",
     "output_type": "stream",
     "text": [
      "기압골의 영향으로 6일부터 8일 사이에 전국에 비 또는 눈이 오겠고, 제주도는 10~11일에도 비가 오겠습니다. <br />한편, 동풍의 영향으로 9일은 강원영동에 비 또는 눈이 오겠습니다. 그 밖의 날은 고기압의 가장자리에 들어 가끔 구름많겠습니다.<br />기온은 평년(최저기온: -12~0℃, 최고기온: 0~8℃)보다 높겠습니다.<br />강수량은 평년(0~3mm)보다 많겠습니다.\n"
     ]
    }
   ],
   "source": [
    "import urllib.request as req\n",
    "from bs4 import BeautifulSoup\n",
    "\n",
    "url=\"https://www.weather.go.kr/weather/forecast/mid-term-rss3.jsp\"\n",
    "\n",
    "res=req.urlopen(url)\n",
    "soup=BeautifulSoup(res,\"html.parser\")\n",
    "\n",
    "#soup.title.string\n",
    "#title=soup.find(\"title\").string\n",
    "\n",
    "#wf태그값 추출\n",
    "wf=soup.find('wf').string\n",
    "print(wf)\n",
    "\n"
   ]
  },
  {
   "cell_type": "code",
   "execution_count": null,
   "metadata": {},
   "outputs": [],
   "source": []
  }
 ],
 "metadata": {
  "kernelspec": {
   "display_name": "Python 3",
   "language": "python",
   "name": "python3"
  },
  "language_info": {
   "codemirror_mode": {
    "name": "ipython",
    "version": 3
   },
   "file_extension": ".py",
   "mimetype": "text/x-python",
   "name": "python",
   "nbconvert_exporter": "python",
   "pygments_lexer": "ipython3",
   "version": "3.7.4"
  }
 },
 "nbformat": 4,
 "nbformat_minor": 2
}
