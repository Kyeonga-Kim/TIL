{
 "cells": [
  {
   "cell_type": "code",
   "execution_count": 26,
   "metadata": {},
   "outputs": [
    {
     "name": "stdout",
     "output_type": "stream",
     "text": [
      "(3, 4)\n"
     ]
    }
   ],
   "source": [
    "#Q1. 1차원의 점들이 주어졌을 때, 그 중 가장 거리가 짧은 것의 쌍을 출력하는 함수를 작성하시오.\n",
    "#(단 점들의 배열은 모두 정렬되어있다고 가정한다.)\n",
    "#예를들어 S={1, 3, 4, 8, 13, 17, 20} 이 주어졌다면, 결과값은 (3, 4)가 될 것이다.\n",
    "\n",
    "list_S=[1,3,4,8,13,19,20]\n",
    "diff_S=[]\n",
    "\n",
    "\n",
    "for i in range(len(list_S)-1):\n",
    "    diff=list_S[i+1]-list_S[i]\n",
    "    diff_S.append(diff)\n",
    "    small=min(diff_S)\n",
    "\n",
    "for i in range(len(diff_S)-1):\n",
    "        if diff_S[i] == small:\n",
    "                print(tuple([list_S[i],list_S[i+1]]))\n",
    "\n",
    "\n"
   ]
  },
  {
   "cell_type": "code",
   "execution_count": 16,
   "metadata": {},
   "outputs": [
    {
     "name": "stdout",
     "output_type": "stream",
     "text": [
      "2\n",
      "6\n"
     ]
    }
   ],
   "source": [
    "#Q2.주어진 문자열(공백 없이 쉼표로 구분되어 있음)을 가지고 아래 문제에 대한 프로그램을 작성하세요.\n",
    "#Q2-1)김씨와 이씨는 각각 몇 명 인가요?\n",
    "#names = \"이유덕,이재영,권종표,이재영,박민호,강상희,이재영,김지완,최승혁,이성연,박영서,박민호,전경헌,송정환,김재성,이유덕,전경헌\".split(\",\")\n",
    "names = \"이유덕,이재영,권종표,이재영,박민호,강상희,이재영,김지완,최승혁,이성연,박영서,박민호,전경헌,송정환,김재성,이유덕,전경헌\".split(\",\")\n",
    "text=str(names)\n",
    "kim=\"김\"\n",
    "print(text.count(kim))\n",
    "lee=\"이\"\n",
    "print(text.count(lee))"
   ]
  },
  {
   "cell_type": "code",
   "execution_count": 11,
   "metadata": {},
   "outputs": [
    {
     "data": {
      "text/plain": [
       "3"
      ]
     },
     "execution_count": 11,
     "metadata": {},
     "output_type": "execute_result"
    }
   ],
   "source": [
    "#Q2-2)\"이재영\"이란 이름이 몇 번 반복되나요?\n",
    "\n",
    "str1=str(names)\n",
    "str2=\"이재영\"\n",
    "str1.count(str2)"
   ]
  },
  {
   "cell_type": "code",
   "execution_count": 12,
   "metadata": {},
   "outputs": [
    {
     "name": "stdout",
     "output_type": "stream",
     "text": [
      "{'최승혁', '전경헌', '강상희', '김지완', '이유덕', '권종표', '박민호', '박영서', '김재성', '이재영', '송정환', '이성연'}\n"
     ]
    }
   ],
   "source": [
    "#Q2-3중복을 제거한 이름을 출력하세요.\n",
    "result=set(names)\n",
    "print(result)"
   ]
  },
  {
   "cell_type": "code",
   "execution_count": 10,
   "metadata": {},
   "outputs": [
    {
     "name": "stdout",
     "output_type": "stream",
     "text": [
      "233168\n"
     ]
    }
   ],
   "source": [
    "#Q3. 10미만의 자연수에서 3과 5의 배수를 구하면 3,5,6,9이다. 이들의 총합은 23이다.\n",
    "# 1000미만의 자연수에서 3,5의 배수의 총합을 구하라.\n",
    "List=[]\n",
    "\n",
    "for i in range(1,1000):\n",
    "        if i%3==0:\n",
    "            List.append(i)\n",
    "        elif i%5==0:\n",
    "            List.append(i)\n",
    "       \n",
    "        \n",
    "print(sum(set(List)))"
   ]
  },
  {
   "cell_type": "code",
   "execution_count": 30,
   "metadata": {},
   "outputs": [
    {
     "name": "stdout",
     "output_type": "stream",
     "text": [
      "6\n",
      "[1, 2, 3]\n"
     ]
    }
   ],
   "source": [
    "#Q4.  자기 자신을 제외한 모든 양의 약수들의 합이 자기 자신이 되는 자연수를 완전수라고 한다. \n",
    "#예를 들면, 6과 28은 완전수이다. 6=1+2+3 // 1,2,3은 각각 6의 약수 28=1+2+4+7+14 // 1,2,4,7,14는 각각 28의 약수입력으로 자연수 N을 받고, \n",
    "#출력으로 N 이하의 모든 완전수를 출력하는 코드를 작성하라.\n",
    "\n",
    "Num = int(input())\n",
    "Result=[]\n",
    "\n",
    "for i in range(1,Num):\n",
    "        if Num%i==0:\n",
    "            Result.append(i)\n",
    "print(Result)\n"
   ]
  },
  {
   "cell_type": "code",
   "execution_count": 27,
   "metadata": {},
   "outputs": [
    {
     "name": "stdout",
     "output_type": "stream",
     "text": [
      "0123456789 0123\n",
      "TrueFalse"
     ]
    }
   ],
   "source": [
    "#Q5.  0~9까지의 5문자로 된 숫자를 입력 받았을 때, 이 입력 값이 0~9까지의 숫자가 각각 한 번 씩만 사용된 것인지 확인하는 함수를 구하시오.\n",
    "\n",
    "#sample inputs: 0123456789 01234 01234567890 6789012345 012322456789\n",
    "#sample outputs: true false false true false\n",
    "\n",
    "result=input().split(' ')  \n",
    "\n",
    "for i in result:\n",
    "        if len(i) < 10:\n",
    "            print(\"False\", end='')\n",
    "        else: \n",
    "            if len(set(i))!=len(i):\n",
    "                print(\"False\", end='')\n",
    "            else:\n",
    "                print(\"True\", end='')\n"
   ]
  },
  {
   "cell_type": "code",
   "execution_count": null,
   "metadata": {},
   "outputs": [],
   "source": [
    "#Q6.run length 압축알고리즘 문제( .bmp)\n",
    "text=input()\n",
    "s=\"\"\n",
    "cnt=0\n",
    "\n",
    "for i in text:\n",
    "    if s==\"\":\n",
    "        s=i\n",
    "        cnt=cnt+1\n",
    "        \n",
    "    else:\n",
    "            if s==i:\n",
    "                cnt=cnt+1\n",
    "            \n",
    "            else:\n",
    "                print(s+str(cnt),end='')\n",
    "                s=i\n",
    "                cnt=0 \n",
    "                cnt=cnt+1\n",
    "              \n",
    "print(s+str(cnt))"
   ]
  },
  {
   "cell_type": "code",
   "execution_count": 28,
   "metadata": {},
   "outputs": [
    {
     "name": "stdout",
     "output_type": "stream",
     "text": [
      "[]\n"
     ]
    }
   ],
   "source": [
    "#Q7. 로또문제\n",
    "import random\n",
    "lotto=[]\n",
    "\n",
    "while len(lotto)==6:\n",
    "    lotto.append(random.randint(1,99))\n",
    "    \n",
    "print(lotto)"
   ]
  },
  {
   "cell_type": "code",
   "execution_count": 18,
   "metadata": {},
   "outputs": [
    {
     "name": "stdout",
     "output_type": "stream",
     "text": [
      "5\n",
      "800\n",
      "커피가 나옵니다.\n",
      "남은 커피는 4잔 입니다\n",
      "남은 잔액은 600원 입니다\n",
      "커피가 나옵니다.\n",
      "남은 커피는 3잔 입니다\n",
      "남은 잔액은 400원 입니다\n",
      "커피가 나옵니다.\n",
      "남은 커피는 2잔 입니다\n",
      "남은 잔액은 200원 입니다\n",
      "커피가 나옵니다.\n",
      "남은 커피는 1잔 입니다\n",
      "남은 잔액은 0원 입니다\n",
      "판매중지\n"
     ]
    }
   ],
   "source": [
    "#Q8.잔액이 200원 미만이면 판매 중지\n",
    "coffee =int(input())\n",
    "money=int(input())\n",
    "\n",
    "while money>=200 and coffee>1:\n",
    "        print(\"커피가 나옵니다.\")\n",
    "        coffee=coffee-1\n",
    "        money=money-200\n",
    "        print(\"남은 커피는 %d잔 입니다\" %coffee)\n",
    "        print(\"남은 잔액은 %d원 입니다\" %money)\n",
    "        if money<200:\n",
    "            print(\"판매중지\")\n",
    "            break"
   ]
  },
  {
   "cell_type": "code",
   "execution_count": 7,
   "metadata": {},
   "outputs": [
    {
     "name": "stdout",
     "output_type": "stream",
     "text": [
      "10\n",
      "         *         \n",
      "        ***        \n",
      "       *****       \n",
      "      *******      \n",
      "     *********     \n",
      "    ***********    \n",
      "   *************   \n",
      "  ***************  \n",
      " ***************** \n",
      "*******************\n"
     ]
    }
   ],
   "source": [
    "#Q9.별트리\n",
    "i=int(input())\n",
    "for n in range(1,i+1):\n",
    "    print(' '*(i-n) + '*'*(2*n-1)+' '*(i-n))"
   ]
  },
  {
   "cell_type": "code",
   "execution_count": null,
   "metadata": {},
   "outputs": [],
   "source": []
  }
 ],
 "metadata": {
  "kernelspec": {
   "display_name": "Python 3",
   "language": "python",
   "name": "python3"
  }
 },
 "nbformat": 4,
 "nbformat_minor": 2
}
