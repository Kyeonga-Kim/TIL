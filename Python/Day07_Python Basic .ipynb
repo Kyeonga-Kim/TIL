{
 "cells": [
  {
   "cell_type": "markdown",
   "metadata": {},
   "source": [
    "# Day7_Python Basic "
   ]
  },
  {
   "cell_type": "markdown",
   "metadata": {},
   "source": [
    "## Filter함수"
   ]
  },
  {
   "cell_type": "code",
   "execution_count": 6,
   "metadata": {},
   "outputs": [
    {
     "name": "stdout",
     "output_type": "stream",
     "text": [
      "[1, 2]\n",
      "[1, 2]\n"
     ]
    }
   ],
   "source": [
    "\"\"\"\n",
    "filter(함수,반복가능자료형): 반복가능자료형 요소가 첫번째 인수인 함수에 입력이 되었을때\n",
    "'변환값이 참인 경우'에 대해서만 필터링해주는 함수(특정 조건을 부여할때)\n",
    "\"\"\"\n",
    "\n",
    "def positive(p):\n",
    "    res=[]\n",
    "    for i in p :\n",
    "        if i > 0:\n",
    "            res.append(i)\n",
    "    return res\n",
    "print(positive([1,-3,2,-5]))\n",
    "\n",
    "\n",
    "print(list(filter(lambda x: x>0,[1,-3,2,-5])))  #반드시 filter 값을 list화 시켜야한다."
   ]
  },
  {
   "cell_type": "code",
   "execution_count": 9,
   "metadata": {},
   "outputs": [
    {
     "name": "stdout",
     "output_type": "stream",
     "text": [
      "[2, 3, 4, 5]\n",
      "[2, 3, 4, 5]\n",
      "[2, 3, 4, 5]\n"
     ]
    }
   ],
   "source": [
    "target=[1,2,3,4]\n",
    "res=[]\n",
    "def add1(n):\n",
    "    return n+1\n",
    "for v in target:\n",
    "    res.append(add1(v))\n",
    "print(res)\n",
    "\n",
    "\n",
    "print(list(map(add1, target)))\n",
    "print(list(map(lambda x:x+1, target)))"
   ]
  },
  {
   "cell_type": "code",
   "execution_count": 14,
   "metadata": {},
   "outputs": [
    {
     "name": "stdout",
     "output_type": "stream",
     "text": [
      "[2, 4, 6, 8, 10]\n",
      "[2, 4, 6, 8, 10]\n"
     ]
    }
   ],
   "source": [
    "target= list(range(1,11))\n",
    "res=[]\n",
    "\n",
    "def is_even(n):\n",
    "    return True if n%2==0 else False\n",
    "for v in target:\n",
    "    if is_even(v):\n",
    "        res.append(v)\n",
    "print(res)\n",
    "        \n",
    "    \n",
    "#filter+lambda의 조합\n",
    "print(list(filter(lambda n:n%2==0, range(1,11))))"
   ]
  },
  {
   "cell_type": "code",
   "execution_count": 15,
   "metadata": {},
   "outputs": [
    {
     "name": "stdout",
     "output_type": "stream",
     "text": [
      "[1, 3]\n"
     ]
    }
   ],
   "source": [
    "a=[1,3,-2,-5]\n",
    "\n",
    "print(list(filter(lambda n:n>0,a)))"
   ]
  },
  {
   "cell_type": "markdown",
   "metadata": {},
   "source": [
    "## id함수 "
   ]
  },
  {
   "cell_type": "code",
   "execution_count": 17,
   "metadata": {},
   "outputs": [
    {
     "name": "stdout",
     "output_type": "stream",
     "text": [
      "140706895536592\n",
      "140706895536592\n"
     ]
    }
   ],
   "source": [
    "a=3\n",
    "print(id(3))\n",
    "print(id(a)) #id(객체): 객체의 메모리 주소 값을 돌려주는 함수"
   ]
  },
  {
   "cell_type": "code",
   "execution_count": 19,
   "metadata": {},
   "outputs": [
    {
     "data": {
      "text/plain": [
       "176"
      ]
     },
     "execution_count": 19,
     "metadata": {},
     "output_type": "execute_result"
    }
   ],
   "source": [
    "int(\"101\",2) #2진수 101에 대한 10진수의 값\n",
    "int(\"10110000\",2)\n"
   ]
  },
  {
   "cell_type": "code",
   "execution_count": 22,
   "metadata": {},
   "outputs": [
    {
     "name": "stdout",
     "output_type": "stream",
     "text": [
      "True\n",
      "True\n"
     ]
    }
   ],
   "source": [
    "isinstance #결과값이 T/F\n",
    "#객체가 클래스안의 객체면 T, 아니면 F\n",
    "\n",
    "class 붕어빵기계:\n",
    "    pass\n",
    "#class 꽃게빵기계:\n",
    "    #pass\n",
    "#꽃게빵=꽃게빵기계()\n",
    "붕어빵=붕어빵기계()\n",
    "print(isinstance(붕어빵,붕어빵기계))\n",
    "print(isinstance(꽃게빵,꽃게빵기계))"
   ]
  },
  {
   "cell_type": "code",
   "execution_count": 38,
   "metadata": {},
   "outputs": [
    {
     "name": "stdout",
     "output_type": "stream",
     "text": [
      "[2, 4, 6]\n"
     ]
    }
   ],
   "source": [
    "#일반적\n",
    "def two_times(num):\n",
    "    res=[]\n",
    "    for n in num:\n",
    "        res.append(n*2)\n",
    "    return res\n",
    "\n",
    "res=two_times([1,2,3])\n",
    "print(res)\n"
   ]
  },
  {
   "cell_type": "code",
   "execution_count": 41,
   "metadata": {},
   "outputs": [
    {
     "ename": "TypeError",
     "evalue": "'int' object is not iterable",
     "output_type": "error",
     "traceback": [
      "\u001b[1;31m---------------------------------------------------------------------------\u001b[0m",
      "\u001b[1;31mTypeError\u001b[0m                                 Traceback (most recent call last)",
      "\u001b[1;32m<ipython-input-41-89b5d094b0d3>\u001b[0m in \u001b[0;36m<module>\u001b[1;34m\u001b[0m\n\u001b[0;32m      2\u001b[0m     \u001b[0mres\u001b[0m\u001b[1;33m=\u001b[0m\u001b[1;33m[\u001b[0m\u001b[1;33m]\u001b[0m\u001b[1;33m\u001b[0m\u001b[1;33m\u001b[0m\u001b[0m\n\u001b[0;32m      3\u001b[0m     \u001b[0mres\u001b[0m\u001b[1;33m.\u001b[0m\u001b[0mappend\u001b[0m\u001b[1;33m(\u001b[0m\u001b[0mn\u001b[0m\u001b[1;33m*\u001b[0m\u001b[1;36m2\u001b[0m\u001b[1;33m)\u001b[0m\u001b[1;33m\u001b[0m\u001b[1;33m\u001b[0m\u001b[0m\n\u001b[1;32m----> 4\u001b[1;33m \u001b[0mprint\u001b[0m\u001b[1;33m(\u001b[0m\u001b[0mlist\u001b[0m\u001b[1;33m(\u001b[0m\u001b[0mmap\u001b[0m\u001b[1;33m(\u001b[0m\u001b[0mtwo_times\u001b[0m\u001b[1;33m,\u001b[0m \u001b[1;33m[\u001b[0m\u001b[1;36m1\u001b[0m\u001b[1;33m,\u001b[0m\u001b[1;36m2\u001b[0m\u001b[1;33m,\u001b[0m\u001b[1;36m3\u001b[0m\u001b[1;33m]\u001b[0m\u001b[1;33m)\u001b[0m\u001b[1;33m)\u001b[0m\u001b[1;33m)\u001b[0m\u001b[1;33m\u001b[0m\u001b[1;33m\u001b[0m\u001b[0m\n\u001b[0m",
      "\u001b[1;32m<ipython-input-38-0862f3968c24>\u001b[0m in \u001b[0;36mtwo_times\u001b[1;34m(num)\u001b[0m\n\u001b[0;32m      1\u001b[0m \u001b[1;32mdef\u001b[0m \u001b[0mtwo_times\u001b[0m\u001b[1;33m(\u001b[0m\u001b[0mnum\u001b[0m\u001b[1;33m)\u001b[0m\u001b[1;33m:\u001b[0m\u001b[1;33m\u001b[0m\u001b[1;33m\u001b[0m\u001b[0m\n\u001b[0;32m      2\u001b[0m     \u001b[0mres\u001b[0m\u001b[1;33m=\u001b[0m\u001b[1;33m[\u001b[0m\u001b[1;33m]\u001b[0m\u001b[1;33m\u001b[0m\u001b[1;33m\u001b[0m\u001b[0m\n\u001b[1;32m----> 3\u001b[1;33m     \u001b[1;32mfor\u001b[0m \u001b[0mn\u001b[0m \u001b[1;32min\u001b[0m \u001b[0mnum\u001b[0m\u001b[1;33m:\u001b[0m\u001b[1;33m\u001b[0m\u001b[1;33m\u001b[0m\u001b[0m\n\u001b[0m\u001b[0;32m      4\u001b[0m         \u001b[0mres\u001b[0m\u001b[1;33m.\u001b[0m\u001b[0mappend\u001b[0m\u001b[1;33m(\u001b[0m\u001b[0mn\u001b[0m\u001b[1;33m*\u001b[0m\u001b[1;36m2\u001b[0m\u001b[1;33m)\u001b[0m\u001b[1;33m\u001b[0m\u001b[1;33m\u001b[0m\u001b[0m\n\u001b[0;32m      5\u001b[0m     \u001b[1;32mreturn\u001b[0m \u001b[0mres\u001b[0m\u001b[1;33m\u001b[0m\u001b[1;33m\u001b[0m\u001b[0m\n",
      "\u001b[1;31mTypeError\u001b[0m: 'int' object is not iterable"
     ]
    }
   ],
   "source": [
    "#map함수사용\n",
    "print(list(map(two_times, [1,2,3])))"
   ]
  },
  {
   "cell_type": "code",
   "execution_count": 39,
   "metadata": {},
   "outputs": [
    {
     "name": "stdout",
     "output_type": "stream",
     "text": [
      "[2, 4, 6]\n"
     ]
    }
   ],
   "source": [
    "#map & lambda 함수사용\n",
    "print(list(map(lambda n:n*2, [1,2,3]))) "
   ]
  },
  {
   "cell_type": "code",
   "execution_count": 43,
   "metadata": {},
   "outputs": [
    {
     "data": {
      "text/plain": [
       "16"
      ]
     },
     "execution_count": 43,
     "metadata": {},
     "output_type": "execute_result"
    }
   ],
   "source": [
    "oct(8)  # 10진수 8\n",
    "chr(97) #ord함수의 반대\n",
    "ord('a') \n",
    "pow(2,4) #2의 4승 "
   ]
  },
  {
   "cell_type": "code",
   "execution_count": 46,
   "metadata": {},
   "outputs": [
    {
     "data": {
      "text/plain": [
       "3.46"
      ]
     },
     "execution_count": 46,
     "metadata": {},
     "output_type": "execute_result"
    }
   ],
   "source": [
    "round(4.6) #반올림\n",
    "round(3.4567,2) # 둘째 자리에서 반올림"
   ]
  },
  {
   "cell_type": "markdown",
   "metadata": {},
   "source": [
    "## sort함수 vs sorted함수  "
   ]
  },
  {
   "cell_type": "code",
   "execution_count": 60,
   "metadata": {},
   "outputs": [
    {
     "name": "stdout",
     "output_type": "stream",
     "text": [
      "None\n",
      "[1, 2, 3]\n"
     ]
    }
   ],
   "source": [
    "#ㅣist.sort(): 리스트 정렬, 반환값은 None\n",
    "\n",
    "List=[1,3,2]\n",
    "print(List.sort())\n",
    "print(List)\n"
   ]
  },
  {
   "cell_type": "code",
   "execution_count": 52,
   "metadata": {},
   "outputs": [
    {
     "name": "stdout",
     "output_type": "stream",
     "text": [
      "[1, 2, 3]\n"
     ]
    },
    {
     "data": {
      "text/plain": [
       "['a', 'd', 'o', 't', 'y']"
      ]
     },
     "execution_count": 52,
     "metadata": {},
     "output_type": "execute_result"
    }
   ],
   "source": [
    "#sorted(list): 정렬된 새로운 리스트를 반환\n",
    "#원본 리스트에는 영향이 없음\n",
    "\n",
    "List2=[1,3,2]\n",
    "print(sorted(List2))\n",
    "\n",
    "sorted(['a','c','b'])\n",
    "sorted(\"today\")  #sorted하면 자동 리스트로 변환됨\n",
    "\n",
    "# Sort VS Sorted \n",
    "#Sort는 원본 리스트 순서가 변경\n",
    "#Sorted 변경 안됨\n",
    "#속도 : Sort > Sorted 이유) 사본 리스트가 추가적으로 생성되기 때문"
   ]
  },
  {
   "cell_type": "markdown",
   "metadata": {},
   "source": [
    "## zip함수 "
   ]
  },
  {
   "cell_type": "code",
   "execution_count": 59,
   "metadata": {},
   "outputs": [
    {
     "name": "stdout",
     "output_type": "stream",
     "text": [
      "[('a', 'd'), ('b', 'e'), ('c', 'f')]\n",
      "[('a', 'd'), ('b', 'e')]\n",
      "[('a', 'd', 'g'), ('b', 'e', 'h'), ('c', 'f', 'i')]\n"
     ]
    }
   ],
   "source": [
    "a=list(zip(\"abc\",\"def\"))\n",
    "print(a)\n",
    "\n",
    "b=list(zip(\"abc\",\"de\")) #짝이 없는 c가 버려짐\n",
    "print(b)\n",
    "\n",
    "c=list(zip(\"abc\",\"def\",\"ghi\")) #3개로도 묶어짐\n",
    "print(c)"
   ]
  },
  {
   "cell_type": "markdown",
   "metadata": {},
   "source": [
    "# Modules(다양한 모듈들)"
   ]
  },
  {
   "cell_type": "markdown",
   "metadata": {},
   "source": [
    "## pickle 모듈"
   ]
  },
  {
   "cell_type": "code",
   "execution_count": 68,
   "metadata": {},
   "outputs": [],
   "source": [
    "#pickle함수: 객체 상태 그대로 저장/불러오기 모듈\n",
    "\n",
    "import pickle\n",
    "\n",
    "f=open('c:/da/test.txt','wb') #wb옵션: 바이너리 형태로 저장할때 \n",
    "data={1:'python', 2:'java'} #객체\n",
    "pickle.dump(data,f)\n",
    "f.close()"
   ]
  },
  {
   "cell_type": "code",
   "execution_count": 70,
   "metadata": {},
   "outputs": [
    {
     "name": "stdout",
     "output_type": "stream",
     "text": [
      "{1: 'python', 2: 'java'}\n"
     ]
    }
   ],
   "source": [
    "f=open(\"c:/da/test.txt\",'rb')\n",
    "data=pickle.load(f)\n",
    "print(data)"
   ]
  },
  {
   "cell_type": "markdown",
   "metadata": {},
   "source": [
    "## shutil 모듈 "
   ]
  },
  {
   "cell_type": "code",
   "execution_count": 74,
   "metadata": {},
   "outputs": [],
   "source": [
    "import shutil #파일복사"
   ]
  },
  {
   "cell_type": "markdown",
   "metadata": {},
   "source": [
    "## glob 모듈 "
   ]
  },
  {
   "cell_type": "code",
   "execution_count": 75,
   "metadata": {},
   "outputs": [
    {
     "data": {
      "text/plain": [
       "['c:/da\\\\newFile.txt', 'c:/da\\\\test.txt']"
      ]
     },
     "execution_count": 75,
     "metadata": {},
     "output_type": "execute_result"
    }
   ],
   "source": [
    "import glob #파일 리스트 조회\n",
    "glob.glob(\"c:/da/*\")"
   ]
  },
  {
   "cell_type": "markdown",
   "metadata": {},
   "source": [
    "## webbrowser 모듈 "
   ]
  },
  {
   "cell_type": "code",
   "execution_count": 77,
   "metadata": {},
   "outputs": [
    {
     "data": {
      "text/plain": [
       "True"
      ]
     },
     "execution_count": 77,
     "metadata": {},
     "output_type": "execute_result"
    }
   ],
   "source": [
    "import webbrowser #web 열기\n",
    "webbrowser.open(\"https://www.google.com\")"
   ]
  },
  {
   "cell_type": "code",
   "execution_count": 81,
   "metadata": {},
   "outputs": [
    {
     "name": "stdout",
     "output_type": "stream",
     "text": [
      "p1:30 20\n",
      "p2:50 40\n",
      "28.284271247461902\n"
     ]
    }
   ],
   "source": [
    "import math\n",
    "\n",
    "class Point2D:\n",
    "    def __init__(self,x,y):\n",
    "        self.x=x\n",
    "        self.y=y       \n",
    "        \n",
    "p1=Point2D(x=30,y=20)\n",
    "p2=Point2D(x=50,y=40)\n",
    "print(\"p1:{} {}\".format(p1.x,p1.y))   \n",
    "print(\"p2:{} {}\".format(p2.x,p2.y)) \n",
    "\n",
    "d=math.sqrt(pow(p2.x-p1.x,2)+pow(p2.y-p1.y,2)) \n",
    "print(d)\n",
    "\n",
    "\n",
    "#두점 사이의 거리 출력 (피타고라스 정리 이용)\n",
    "\n"
   ]
  },
  {
   "cell_type": "markdown",
   "metadata": {},
   "source": [
    "## iterator  "
   ]
  },
  {
   "cell_type": "code",
   "execution_count": 82,
   "metadata": {},
   "outputs": [
    {
     "data": {
      "text/plain": [
       "['__add__',\n",
       " '__class__',\n",
       " '__contains__',\n",
       " '__delattr__',\n",
       " '__delitem__',\n",
       " '__dir__',\n",
       " '__doc__',\n",
       " '__eq__',\n",
       " '__format__',\n",
       " '__ge__',\n",
       " '__getattribute__',\n",
       " '__getitem__',\n",
       " '__gt__',\n",
       " '__hash__',\n",
       " '__iadd__',\n",
       " '__imul__',\n",
       " '__init__',\n",
       " '__init_subclass__',\n",
       " '__iter__',\n",
       " '__le__',\n",
       " '__len__',\n",
       " '__lt__',\n",
       " '__mul__',\n",
       " '__ne__',\n",
       " '__new__',\n",
       " '__reduce__',\n",
       " '__reduce_ex__',\n",
       " '__repr__',\n",
       " '__reversed__',\n",
       " '__rmul__',\n",
       " '__setattr__',\n",
       " '__setitem__',\n",
       " '__sizeof__',\n",
       " '__str__',\n",
       " '__subclasshook__',\n",
       " 'append',\n",
       " 'clear',\n",
       " 'copy',\n",
       " 'count',\n",
       " 'extend',\n",
       " 'index',\n",
       " 'insert',\n",
       " 'pop',\n",
       " 'remove',\n",
       " 'reverse',\n",
       " 'sort']"
      ]
     },
     "execution_count": 82,
     "metadata": {},
     "output_type": "execute_result"
    }
   ],
   "source": [
    "# 이터레이터: 데이터를 차례대로 꺼낼수 있는 객체\n",
    "    \n",
    "#for i in range(10)\n",
    "# 숫자 0~9까지 차례대로 꺼내는 이터레이터가 있음. 이터레이터에 의해서  0~9까지의 수가 생성됨\n",
    "\n",
    "#이터러블(반복가능한 객체)\n",
    "#ex) 문자열,리스트,투플..\n",
    "\n",
    "#dir(객체): 데이터가 이터러블 한지 확인\n",
    "dir([1,2,3])\n",
    "\n"
   ]
  },
  {
   "cell_type": "code",
   "execution_count": 87,
   "metadata": {},
   "outputs": [
    {
     "name": "stdout",
     "output_type": "stream",
     "text": [
      "1\n",
      "2\n",
      "3\n"
     ]
    }
   ],
   "source": [
    "it=[1,2,3].__iter__()\n",
    "\n",
    "print(it.__next__())  #__iter__()함수에서 next함수를 호출하게 되면 다음 요소값 참조 => it변수에 1저장\n",
    "print(it.__next__())  # it변수에 2저장\n",
    "print(it.__next__())  # it변수에 3저장\n",
    "print(it.__next__())  # error출력"
   ]
  },
  {
   "cell_type": "markdown",
   "metadata": {},
   "source": [
    "## ***정규 표현식 "
   ]
  },
  {
   "cell_type": "code",
   "execution_count": 10,
   "metadata": {},
   "outputs": [
    {
     "name": "stdout",
     "output_type": "stream",
     "text": [
      "['', '950101-*******', '970503-*******', '']\n"
     ]
    }
   ],
   "source": [
    "\"\"\"\n",
    "**데이터수집(정규표현식) => 전처리 => 분석\n",
    "정규표현식: 문자열을 규칙에 맞춰 정리\n",
    "\n",
    "텍스트 수집 => 주민번호 => 뒷자리를 *로 변경\n",
    "\"\"\"\n",
    "data =\"\"\"\n",
    "kim 950101-1234567\n",
    "lee 970503-2164518\n",
    "\"\"\"\n",
    "\n",
    "word_result=[]\n",
    "for line in data.split('\\n'):#\"\"\"\"\"\"줄바꿈로 부터 split()\n",
    "    word_res=[]\n",
    "    for word in line.split(' '):\n",
    "        if len(word)==14 and word[:6].isdigit() and word[7:].isdigit():\n",
    "            w=word[0:6]+\"-\"+\"*******\"\n",
    "            word_res.append(w)\n",
    "    word_result.append(\"\".join(word_res))\n",
    "print(word_result)\n",
    "            "
   ]
  },
  {
   "cell_type": "code",
   "execution_count": 14,
   "metadata": {},
   "outputs": [
    {
     "name": "stdout",
     "output_type": "stream",
     "text": [
      "\n",
      "kim 950101-*******\n",
      "lee 970503-*******\n",
      "\n"
     ]
    }
   ],
   "source": [
    "import re     #정규표현식 모듈 import\n",
    "data =\"\"\"\n",
    "kim 950101-1234567\n",
    "lee 970503-2164518\n",
    "\"\"\"\n",
    "pattern=re.compile(\"(\\d{6})[-]\\d{7}\")\n",
    "print(pattern.sub(\"\\g<1>-*******\",data))\n",
    "\n",
    "#정규표현식 작성방법\n",
    "#re.match(\"패턴\",\"문자열\"): 문지열에 페탄이 있는지 없는지 확인\n"
   ]
  },
  {
   "cell_type": "markdown",
   "metadata": {},
   "source": [
    "## re.match함수 "
   ]
  },
  {
   "cell_type": "code",
   "execution_count": 15,
   "metadata": {},
   "outputs": [
    {
     "name": "stdout",
     "output_type": "stream",
     "text": [
      "<re.Match object; span=(0, 5), match='hello'>\n"
     ]
    }
   ],
   "source": [
    "#정규표현식 작성방법\n",
    "#re.match(\"패턴\",\"문자열\"): 문자열에 페탄이 있는지 없는지 확인\n",
    "\n",
    "\n",
    "print(re.match(\"hello\",\"hello world\"))  #문자열에 hello패턴 존재 "
   ]
  },
  {
   "cell_type": "markdown",
   "metadata": {},
   "source": [
    "\"\"\"\n",
    "정규표현식 메타문자(문자의 본래 의미가 아닌 특정 의미를 갖는 문자):\n",
    "ex) () {} \\ | ? + * $ ^ ..\n",
    "\n",
    "1) 메타문자 [] : 문자와 관련된 정규식 사용.\n",
    "[] 대괄호 사이에는 어떠한 문자도 올수 있다.\n",
    "ex) 정규표현식; [abcdef]\n",
    "=> a,b,c,d,e,f 문자 중에서 어느 한개의 문자와 매치가 된다.\n",
    "\"\"\""
   ]
  },
  {
   "cell_type": "code",
   "execution_count": 19,
   "metadata": {},
   "outputs": [
    {
     "name": "stdout",
     "output_type": "stream",
     "text": [
      "<re.Match object; span=(0, 1), match='a'>\n",
      "None\n",
      "<re.Match object; span=(0, 1), match='A'>\n"
     ]
    }
   ],
   "source": [
    "print(re.match(\"[abcdef]\",\"a\"))\n",
    "print(re.match(\"[a-z]\",\"ABC\")) \n",
    "print(re.match(\"[a-zA-Z]\",\"ABC\"))  #[A-Z]:알파벳 대소문자 모두 "
   ]
  },
  {
   "cell_type": "code",
   "execution_count": 22,
   "metadata": {},
   "outputs": [
    {
     "name": "stdout",
     "output_type": "stream",
     "text": [
      "<re.Match object; span=(0, 1), match='1'>\n",
      "None\n"
     ]
    }
   ],
   "source": [
    "#[0-9] : 숫자 모두\n",
    "print(re.match(\"[0-9]\",\"119\"))\n",
    "\n",
    "#[^0-9] : 숫자를 제외한 모두\n",
    "print(re.match(\"[^0-9]\",\"119\"))\n",
    "\n",
    "# \\d: 숫자와 매치됨 [0-9]와 같음\n",
    "print(re.match(\"\\d\",\"119\"))\n",
    "\n",
    "# \\D: 숫자를 제외한 모두. [^0-9]와 같음\n",
    "print(re.match(\"\\D\",\"119\"))\n"
   ]
  },
  {
   "cell_type": "markdown",
   "metadata": {},
   "source": [
    "## (역슬레쉬)로 match하기 "
   ]
  },
  {
   "cell_type": "code",
   "execution_count": 25,
   "metadata": {},
   "outputs": [
    {
     "name": "stdout",
     "output_type": "stream",
     "text": [
      "<re.Match object; span=(0, 1), match='1'>\n",
      "None\n",
      "<re.Match object; span=(0, 1), match='대'>\n",
      "<re.Match object; span=(0, 1), match='대'>\n"
     ]
    }
   ],
   "source": [
    "#Ww: 숫자+문자 매치\n",
    "print(re.match(\"\\w\",\"119\"))\n",
    "\n",
    "print(re.match(\"[0-9a-zA-Z]\",\"대한민국\"))\n",
    "\n",
    "print(re.match(\"[가-핳]\",\"대한민국\"))\n",
    "\n",
    "#\\W : 숫자+문자가 아닌 나머지\n",
    "print(re.match(\"[^0-9a-zA-Z]\",\"대한민국\"))"
   ]
  },
  {
   "cell_type": "markdown",
   "metadata": {},
   "source": [
    "## re.search 함수 "
   ]
  },
  {
   "cell_type": "code",
   "execution_count": 28,
   "metadata": {},
   "outputs": [
    {
     "name": "stdout",
     "output_type": "stream",
     "text": [
      "None\n",
      "<re.Match object; span=(7, 9), match='hi'>\n"
     ]
    }
   ],
   "source": [
    "\"\"\"\n",
    "^문자열 : 문자열이 맨 앞에 오는지 판단\n",
    "문자열$ : 문자열이 맨 뒤에 오는지 판단\n",
    "search함수에서 사용됨\n",
    "\"\"\"\n",
    "\n",
    "print(re.search(\"^hi\",\"hello, hi\")) #hi문자열이 맨 앞에 오는지 판단 => False(None 출력)\n",
    "print(re.search(\"hi$\",\"hello, hi\")) #hi문자열이 맨 뒤에 오는지 판단 => True"
   ]
  },
  {
   "cell_type": "code",
   "execution_count": 29,
   "metadata": {},
   "outputs": [
    {
     "name": "stdout",
     "output_type": "stream",
     "text": [
      "<re.Match object; span=(0, 2), match='hi'>\n"
     ]
    }
   ],
   "source": [
    "print(re.search(\"hello|hi|good\", \"hi\")) # bar(|) 기호는 '또는' 의미 "
   ]
  },
  {
   "cell_type": "code",
   "execution_count": null,
   "metadata": {},
   "outputs": [],
   "source": [
    "\"\"\"\n",
    "정규식:[a,b,c]\n",
    "의미? \n",
    "a,b,c 중에서 한개의 문자와 매치\n",
    "a=>매치, before=>매치, kick => None\n",
    "\"\"\""
   ]
  },
  {
   "cell_type": "markdown",
   "metadata": {},
   "source": [
    "## 메타문자 ( * , +)로 match하기"
   ]
  },
  {
   "cell_type": "code",
   "execution_count": 35,
   "metadata": {},
   "outputs": [
    {
     "name": "stdout",
     "output_type": "stream",
     "text": [
      "<re.Match object; span=(0, 1), match='1'>\n",
      "<re.Match object; span=(0, 3), match='123'>\n",
      "<re.Match object; span=(0, 0), match=''>\n",
      "<re.Match object; span=(0, 3), match='abx'>\n",
      "None\n"
     ]
    }
   ],
   "source": [
    "print(re.match(\"[0-9]\", \"123\"))   #맨 앞 1글자만 매칭 확인\n",
    "#               패턴   문자열\n",
    "#패턴이 문자열에 있는지 확인\n",
    "#span=(0,1)패턴이 매치되는 문자열의 위치\n",
    "\n",
    "print(re.match(\"[0-9]*\", \"123\")) # *은 숫자가 0개 이상 있는지 매칭 확인\n",
    "print(re.match(\"[0-9]*\", \"x12a3\"))  #*은 매치되는 문자가 없지만 null로 확인(None출력이 안됨)\n",
    "\n",
    "\n",
    "print(re.match(\"[a-z]+\", \"abx12a3\")) # +은 문자가 1개 이상인지 판단(무조건 1개는 있어야 매칭 확인)\n",
    "print(re.match(\"[a-z]+\", \"1234abx12a3\")) "
   ]
  },
  {
   "cell_type": "code",
   "execution_count": 42,
   "metadata": {},
   "outputs": [
    {
     "name": "stdout",
     "output_type": "stream",
     "text": [
      "None\n",
      "<re.Match object; span=(0, 2), match='ab'>\n",
      "None\n",
      "<re.Match object; span=(0, 5), match='aaaab'>\n"
     ]
    }
   ],
   "source": [
    "re.match(\"a*\",\"aaaab\") #문자열에 패턴이 있는지?\n",
    "re.match(\"a*b\",\"b\") #a는0개있으면서 b가 1개 존재하여 매칭\n",
    "\n",
    "\n",
    "print(re.match(\"a+b\",\"b\"))\n",
    "print(re.match(\"a+b\",\"ab\"))\n",
    "print(re.match(\"a+b\",\"aacb\")) #a가 1개이상 나온후 b가 나와야 매칭 (a다음 c)\n",
    "print(re.match(\"a+b*\",\"aaaabc\"))"
   ]
  },
  {
   "cell_type": "code",
   "execution_count": 50,
   "metadata": {},
   "outputs": [
    {
     "name": "stdout",
     "output_type": "stream",
     "text": [
      "<re.Match object; span=(0, 3), match='aab'>\n",
      "<re.Match object; span=(0, 3), match='aab'>\n",
      "<re.Match object; span=(0, 3), match='aab'>\n",
      "<re.Match object; span=(0, 6), match='aabbbc'>\n",
      "None\n",
      "<re.Match object; span=(0, 6), match='aabbcb'>\n"
     ]
    }
   ],
   "source": [
    "print(re.match(\"a*b\",\"aab\"))\n",
    "print(re.match(\"a*b\",\"aabc\"))\n",
    "\n",
    "print(re.match(\"a*b\",\"aabbc\")) #a는 0개 이상 b는 1개 매칭\n",
    "print(re.match(\"a*b*c\",\"aabbbc\")) \n",
    "\n",
    "print(re.match(\"a*b*c+b\",\"aabbc\"))#a는 0개이상 b도 0개이상 c는 1개 이상 b로 끝나야댐\n",
    "print(re.match(\"a*b*c+b\",\"aabbcb\"))"
   ]
  },
  {
   "cell_type": "markdown",
   "metadata": {},
   "source": [
    "## ?로 match하기 "
   ]
  },
  {
   "cell_type": "code",
   "execution_count": 52,
   "metadata": {},
   "outputs": [
    {
     "name": "stdout",
     "output_type": "stream",
     "text": [
      "<re.Match object; span=(0, 1), match='h'>\n",
      "<re.Match object; span=(0, 1), match='h'>\n",
      "<re.Match object; span=(0, 0), match=''>\n"
     ]
    }
   ],
   "source": [
    "print(re.match(\"h?\",\"h\"))\n",
    "print(re.match(\"h?\",\"hi\"))  #?는 문자(h)가 0개 또는 1개 있으면 매치됨 \n",
    "print(re.match(\"h?\",\"gi\"))  #문자 0개 매칭됨"
   ]
  },
  {
   "cell_type": "markdown",
   "metadata": {},
   "source": [
    "## .로 match하기"
   ]
  },
  {
   "cell_type": "code",
   "execution_count": 6,
   "metadata": {},
   "outputs": [
    {
     "name": "stdout",
     "output_type": "stream",
     "text": [
      "<re.Match object; span=(0, 3), match='aab'>\n",
      "<re.Match object; span=(0, 3), match='abb'>\n",
      "<re.Match object; span=(0, 3), match='a0b'>\n",
      "<re.Match object; span=(0, 2), match='he'>\n",
      "<re.Match object; span=(0, 3), match='hel'>\n",
      "None\n",
      "<re.Match object; span=(0, 3), match='dog'>\n",
      "None\n",
      "<re.Match object; span=(0, 2), match='dg'>\n",
      "<re.Match object; span=(0, 6), match='dggggg'>\n"
     ]
    }
   ],
   "source": [
    "# .은 문자가 1개 있으면 매치됨\n",
    "\n",
    "#h.은 h문자 다음에 문자 1개 있으면 매치됨\n",
    "\n",
    "print(re.match(\"a.b\",\"aab\"))\n",
    "print(re.match(\"a.b\",\"abb\"))\n",
    "print(re.match(\"a.b\", \"a0b\"))\n",
    "\n",
    "print(re.match(\"h.\",\"hello\"))\n",
    "print(re.match(\"h.l\",\"hello\")) #h와ㅣ사이에 문자가 한개 있어야 매치됨\n",
    "\n",
    "print(re.match(\"a.b\",\"acccb\")) \n",
    "\n",
    "print(re.match(\"do*g\",\"dog\"))\n",
    "print(re.match(\"do*g\",\"dokg\")) #매치 안됨\n",
    "print(re.match(\"do*g\",\"dg\"))\n",
    "\n",
    "print(re.match(\"do*g+\",\"dggggg\")) "
   ]
  },
  {
   "cell_type": "markdown",
   "metadata": {},
   "source": [
    "### * a.b와 a[.]b 구별하기 "
   ]
  },
  {
   "cell_type": "code",
   "execution_count": 84,
   "metadata": {},
   "outputs": [
    {
     "name": "stdout",
     "output_type": "stream",
     "text": [
      "<re.Match object; span=(0, 13), match='www.naver.com'>\n",
      "<re.Match object; span=(0, 13), match='010-7175-1234'>\n"
     ]
    }
   ],
   "source": [
    "#a.b => a+ 모든 문자 + b\n",
    "# abc는 매치안됨\n",
    "\n",
    "#주의사항 a[.]b =  a + 점(.) + b\n",
    "print(re.match(\"[a-z]+[.][a-z]+[.][a-z]+\",\"www.naver.com\"))\n",
    "\n",
    "tel1=\"010-7175-1234\"\n",
    "print(re.match(\"[0-9]{3}-[0-9]{4}-[0-9]{4}\",tel1))\n",
    "\n",
    "print(re.match(\"[0-9]{2,3}-[0-9]{4}-[0-9]{4}\",tel1))  #{갯수}가 최소 2개, 최대 3개까지 매치"
   ]
  },
  {
   "cell_type": "code",
   "execution_count": 89,
   "metadata": {},
   "outputs": [
    {
     "name": "stdout",
     "output_type": "stream",
     "text": [
      "정상\n"
     ]
    }
   ],
   "source": [
    "i_num=\"960602-1234567\"\n",
    "\n",
    "check=re.match(\"[0-9]{6}-[0-9]{7}\", i_num)\n",
    "if check:\n",
    "    print(\"정상\")\n",
    "else:\n",
    "    print(\"비정상\")\n"
   ]
  },
  {
   "cell_type": "markdown",
   "metadata": {},
   "source": [
    "## {}로 match하기 "
   ]
  },
  {
   "cell_type": "code",
   "execution_count": 63,
   "metadata": {},
   "outputs": [
    {
     "name": "stdout",
     "output_type": "stream",
     "text": [
      "<re.Match object; span=(0, 3), match='aaa'>\n",
      "<re.Match object; span=(0, 6), match='aaabbb'>\n",
      "<re.Match object; span=(0, 6), match='aaabbb'>\n",
      "None\n"
     ]
    }
   ],
   "source": [
    "# a{횟수} : a가 '횟수'개 있는지?   \n",
    "print(re.match (\"a{3}\",\"aaabbbccc\")) \n",
    "print(re.match (\"a{3}b+\",\"aaabbbccc\")) \n",
    "print(re.match (\"a{3}b*\",\"aaabbbccc\")) \n",
    "print(re.match (\"a{3}\",\"aabbbccc\")) # a가 2개 밖에 없기 때문에 none\n"
   ]
  },
  {
   "cell_type": "code",
   "execution_count": 73,
   "metadata": {},
   "outputs": [
    {
     "name": "stdout",
     "output_type": "stream",
     "text": [
      "<re.Match object; span=(0, 2), match='hi'>\n",
      "None\n",
      "<re.Match object; span=(0, 3), match='hii'>\n",
      "<re.Match object; span=(0, 2), match='hi'>\n",
      "<re.Match object; span=(0, 4), match='hihi'>\n",
      "None\n"
     ]
    }
   ],
   "source": [
    "#(문자열){횟수} : '문자열'이 '횟수'갯수 만큼 있는지?\n",
    "\n",
    "print(re.match(\"hi\",\"hi\"))\n",
    "\n",
    "print(re.match(\"hi{2}\",\"hi\"))\n",
    "print(re.match(\"hi{2}\",\"hii\"))\n",
    "\n",
    "print(re.match(\"(hi){1}\",\"hii\")) #hi단어가 문자열에 1개 있는지?\n",
    "print(re.match(\"(hi){2}\",\"hihi\"))\n",
    "print(re.match(\"(hi){2}\",\"hibyehi\")) #매치 안됨"
   ]
  },
  {
   "cell_type": "code",
   "execution_count": 3,
   "metadata": {},
   "outputs": [
    {
     "name": "stdout",
     "output_type": "stream",
     "text": [
      "<re.Match object; span=(0, 5), match='caaat'>\n"
     ]
    }
   ],
   "source": [
    "# {2,5} : 2~5번 반복 (범위 지정)\n",
    "import re\n",
    "\n",
    "print(re.match(\"ca{2,5}t\",\"caaat\"))"
   ]
  },
  {
   "cell_type": "code",
   "execution_count": null,
   "metadata": {},
   "outputs": [],
   "source": []
  }
 ],
 "metadata": {
  "kernelspec": {
   "display_name": "Python 3",
   "language": "python",
   "name": "python3"
  },
  "language_info": {
   "codemirror_mode": {
    "name": "ipython",
    "version": 3
   },
   "file_extension": ".py",
   "mimetype": "text/x-python",
   "name": "python",
   "nbconvert_exporter": "python",
   "pygments_lexer": "ipython3",
   "version": "3.7.4"
  }
 },
 "nbformat": 4,
 "nbformat_minor": 2
}
