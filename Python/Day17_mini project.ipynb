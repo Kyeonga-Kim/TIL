{
 "cells": [
  {
   "cell_type": "code",
   "execution_count": null,
   "metadata": {},
   "outputs": [],
   "source": [
    "(클래스 기반) 개인정보 입력 program project\n",
    "\n",
    "class 사람정보 :\n",
    "    기능 \n",
    "    -이름\n",
    "    -전화 :010-****-****\n",
    "    -메일 :형식(아이디@ 메일 주소) 정규표현식 쓰기\n",
    "    -주소\n",
    "1) 연락처 입력\n",
    "2) 연락처 출력\n",
    "3) 연락처 삭제\n",
    "전화번호  1234 조회 =>1234가 조회\n",
    "4) 종료\n"
   ]
  },
  {
   "cell_type": "code",
   "execution_count": 17,
   "metadata": {},
   "outputs": [
    {
     "name": "stdout",
     "output_type": "stream",
     "text": [
      "사용자 선택: 1.개인정보 입력 2.개인정보 출력 3.삭제 4.종료\n",
      "1\n",
      "개인정보를 입력하시요\n",
      "이름: 김경아\n",
      "전화번호: 1234564123\n",
      "이메일: kka\n",
      "주소: dfdfadf\n",
      "사용자 선택: 1.개인정보 입력 2.개인정보 출력 3.삭제 4.종료\n",
      "4\n"
     ]
    },
    {
     "ename": "AttributeError",
     "evalue": "type object 'PersonInfo' has no attribute 'quit'",
     "output_type": "error",
     "traceback": [
      "\u001b[1;31m---------------------------------------------------------------------------\u001b[0m",
      "\u001b[1;31mAttributeError\u001b[0m                            Traceback (most recent call last)",
      "\u001b[1;32m<ipython-input-17-b7bd933d66eb>\u001b[0m in \u001b[0;36m<module>\u001b[1;34m\u001b[0m\n\u001b[0;32m     72\u001b[0m \u001b[1;33m\u001b[0m\u001b[0m\n\u001b[0;32m     73\u001b[0m \u001b[1;33m\u001b[0m\u001b[0m\n\u001b[1;32m---> 74\u001b[1;33m \u001b[0mPersonInfo\u001b[0m\u001b[1;33m(\u001b[0m\u001b[1;33m)\u001b[0m\u001b[1;33m\u001b[0m\u001b[1;33m\u001b[0m\u001b[0m\n\u001b[0m",
      "\u001b[1;32m<ipython-input-17-b7bd933d66eb>\u001b[0m in \u001b[0;36m__init__\u001b[1;34m(self)\u001b[0m\n\u001b[0;32m     13\u001b[0m         \u001b[0mchoice\u001b[0m\u001b[1;33m=\u001b[0m\u001b[0minput\u001b[0m\u001b[1;33m(\u001b[0m\u001b[1;33m)\u001b[0m\u001b[1;33m\u001b[0m\u001b[1;33m\u001b[0m\u001b[0m\n\u001b[0;32m     14\u001b[0m         \u001b[1;32mif\u001b[0m \u001b[0mchoice\u001b[0m \u001b[1;33m==\u001b[0m \u001b[1;34m\"1\"\u001b[0m\u001b[1;33m:\u001b[0m\u001b[1;33m\u001b[0m\u001b[1;33m\u001b[0m\u001b[0m\n\u001b[1;32m---> 15\u001b[1;33m             \u001b[1;32mreturn\u001b[0m \u001b[0mPersonInfo\u001b[0m\u001b[1;33m.\u001b[0m\u001b[0minput_Info\u001b[0m\u001b[1;33m(\u001b[0m\u001b[0mself\u001b[0m\u001b[1;33m)\u001b[0m\u001b[1;33m\u001b[0m\u001b[1;33m\u001b[0m\u001b[0m\n\u001b[0m\u001b[0;32m     16\u001b[0m         \u001b[1;32melif\u001b[0m \u001b[0mchoice\u001b[0m \u001b[1;33m==\u001b[0m \u001b[1;34m\"2\"\u001b[0m\u001b[1;33m:\u001b[0m\u001b[1;33m\u001b[0m\u001b[1;33m\u001b[0m\u001b[0m\n\u001b[0;32m     17\u001b[0m             \u001b[1;32mreturn\u001b[0m \u001b[0mPersonInfo\u001b[0m\u001b[1;33m.\u001b[0m\u001b[0mprint_Info\u001b[0m\u001b[1;33m(\u001b[0m\u001b[0mself\u001b[0m\u001b[1;33m)\u001b[0m\u001b[1;33m\u001b[0m\u001b[1;33m\u001b[0m\u001b[0m\n",
      "\u001b[1;32m<ipython-input-17-b7bd933d66eb>\u001b[0m in \u001b[0;36minput_Info\u001b[1;34m(self)\u001b[0m\n\u001b[0;32m     39\u001b[0m \u001b[1;33m\u001b[0m\u001b[0m\n\u001b[0;32m     40\u001b[0m \u001b[1;33m\u001b[0m\u001b[0m\n\u001b[1;32m---> 41\u001b[1;33m         \u001b[1;32mreturn\u001b[0m \u001b[0mPersonInfo\u001b[0m\u001b[1;33m.\u001b[0m\u001b[0m__init__\u001b[0m\u001b[1;33m(\u001b[0m\u001b[0mself\u001b[0m\u001b[1;33m)\u001b[0m\u001b[1;33m\u001b[0m\u001b[1;33m\u001b[0m\u001b[0m\n\u001b[0m\u001b[0;32m     42\u001b[0m \u001b[1;33m\u001b[0m\u001b[0m\n\u001b[0;32m     43\u001b[0m         \u001b[1;32mdef\u001b[0m \u001b[0mprint_Info\u001b[0m\u001b[1;33m(\u001b[0m\u001b[1;33m)\u001b[0m\u001b[1;33m:\u001b[0m\u001b[1;33m\u001b[0m\u001b[1;33m\u001b[0m\u001b[0m\n",
      "\u001b[1;32m<ipython-input-17-b7bd933d66eb>\u001b[0m in \u001b[0;36m__init__\u001b[1;34m(self)\u001b[0m\n\u001b[0;32m     19\u001b[0m             \u001b[1;32mreturn\u001b[0m \u001b[0mPersonInfo\u001b[0m\u001b[1;33m.\u001b[0m\u001b[0mdel_phone\u001b[0m\u001b[1;33m(\u001b[0m\u001b[0mself\u001b[0m\u001b[1;33m)\u001b[0m\u001b[1;33m\u001b[0m\u001b[1;33m\u001b[0m\u001b[0m\n\u001b[0;32m     20\u001b[0m         \u001b[1;32melif\u001b[0m \u001b[0mchoice\u001b[0m \u001b[1;33m==\u001b[0m\u001b[1;34m\"4\"\u001b[0m\u001b[1;33m:\u001b[0m\u001b[1;33m\u001b[0m\u001b[1;33m\u001b[0m\u001b[0m\n\u001b[1;32m---> 21\u001b[1;33m             \u001b[1;32mreturn\u001b[0m \u001b[0mPersonInfo\u001b[0m\u001b[1;33m.\u001b[0m\u001b[0mquit\u001b[0m\u001b[1;33m(\u001b[0m\u001b[0mself\u001b[0m\u001b[1;33m)\u001b[0m\u001b[1;33m\u001b[0m\u001b[1;33m\u001b[0m\u001b[0m\n\u001b[0m\u001b[0;32m     22\u001b[0m \u001b[1;33m\u001b[0m\u001b[0m\n\u001b[0;32m     23\u001b[0m     \u001b[1;32mdef\u001b[0m \u001b[0minput_Info\u001b[0m\u001b[1;33m(\u001b[0m\u001b[0mself\u001b[0m\u001b[1;33m)\u001b[0m\u001b[1;33m:\u001b[0m\u001b[1;33m\u001b[0m\u001b[1;33m\u001b[0m\u001b[0m\n",
      "\u001b[1;31mAttributeError\u001b[0m: type object 'PersonInfo' has no attribute 'quit'"
     ]
    }
   ],
   "source": [
    "import re\n",
    "\n",
    "data=\"\"\"\n",
    "010-2202-0935\n",
    "010-1234-5678\n",
    "\"\"\"\n",
    "\n",
    "class PersonInfo:\n",
    "    \n",
    "    \n",
    "    def __init__(self):\n",
    "        print(\"사용자 선택: 1.개인정보 입력 2.개인정보 출력 3.삭제 4.종료\")\n",
    "        choice=input()\n",
    "        if choice == \"1\":\n",
    "            return PersonInfo.input_Info(self)\n",
    "        elif choice == \"2\":\n",
    "            return PersonInfo.print_Info(self)\n",
    "        elif choice ==\"3\":\n",
    "            return PersonInfo.del_phone(self)\n",
    "        elif choice ==\"4\":\n",
    "            return PersonInfo.quit(self)\n",
    "     \n",
    "    \n",
    "    def input_Info(self):   #dataframe 만들고 저장 -> 읽기  #표현정규식으로 re.match시켜서 다 매치되면 csv로 저장\n",
    "        \n",
    "        \n",
    "        print(\"개인정보를 입력하시요\")        \n",
    "        self.name=input(\"이름: \")\n",
    "        self.phone=input(\"전화번호: \")      \n",
    "        self.email=input(\"이메일: \")   \n",
    "        self.address=input(\"주소: \")\n",
    "        \n",
    "                    \n",
    "        return PersonInfo.__init__(self)\n",
    "        \n",
    "    def print_Info():\n",
    "            \n",
    "        for i in range(len(address_list)):\n",
    "                print(\"이름 : \" +name_list[i] )\n",
    "                print(\"전화번호 : \" +phone_list[i])\n",
    "                print(\"메일 : \" +email_list[i])\n",
    "                print(\"주소 : \" +address_list[i])\n",
    "            \n",
    "    def del_phone(self):\n",
    "               \n",
    "            find_num=input()    #찾을 번호 입력\n",
    "\n",
    "            if find_num in data:   #찾을 번호가 기존 번호 데이터 안에 있는지 확인\n",
    "                pat=re.compile(\"[0-9]+[-][0-9]+[-](?P<N>[0-9]+)\")   #뒷번호만 뽑기\n",
    "                m=pat.findall(data)  #0935 . 5678...\n",
    "    \n",
    "                for i in range(0,len(m)-1):        \n",
    "                    if find_num[9:]==m[i]:\n",
    "                        del(m[i])\n",
    "                        print(\"삭제되었습니다.\")\n",
    "            \n",
    "                    else:\n",
    "                        print(\"찾는 번호가 없습니다.\")\n",
    "            else:\n",
    "                 print(\"다시입력하시오\")      \n",
    "        \n",
    "        \n",
    "    def quit(self):\n",
    "        return PersonInfo.__init__(self)\n",
    "        \n",
    "        \n",
    "PersonInfo()"
   ]
  },
  {
   "cell_type": "code",
   "execution_count": null,
   "metadata": {},
   "outputs": [],
   "source": [
    "import re\n",
    "\n",
    "data=\"\"\"\n",
    "010-2202-0935\n",
    "010-1234-5678\n",
    "\"\"\"\n",
    "find_num=input()    #찾을 번호 입력\n",
    "\n",
    "if find_num in data:   #찾을 번호가 기존 번호 데이터 안에 있는지 확인\n",
    "    pat=re.compile(\"[0-9]+[-][0-9]+[-](?P<N>[0-9]+)\")   #뒷번호만 뽑기\n",
    "    m=pat.findall(data)  #0935 . 5678...\n",
    "    \n",
    "    for i in range(0,len(m)-1):        \n",
    "        if find_num[9:]==m[i]:\n",
    "            m=del(m[i])\n",
    "            print(m)\n",
    "            print(\"삭제되었습니다.\")\n",
    "            \n",
    "        else:\n",
    "            print(\"찾는 번호가 없습니다.\")\n",
    "else:\n",
    "     print(\"다시입력하시오\")\n",
    "        "
   ]
  },
  {
   "cell_type": "code",
   "execution_count": null,
   "metadata": {},
   "outputs": [],
   "source": []
  }
 ],
 "metadata": {
  "kernelspec": {
   "display_name": "Python 3",
   "language": "python",
   "name": "python3"
  },
  "language_info": {
   "codemirror_mode": {
    "name": "ipython",
    "version": 3
   },
   "file_extension": ".py",
   "mimetype": "text/x-python",
   "name": "python",
   "nbconvert_exporter": "python",
   "pygments_lexer": "ipython3",
   "version": "3.7.4"
  }
 },
 "nbformat": 4,
 "nbformat_minor": 2
}
