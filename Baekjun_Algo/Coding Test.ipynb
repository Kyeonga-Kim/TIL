{
 "cells": [
  {
   "cell_type": "markdown",
   "metadata": {},
   "source": [
    "# Coding Test"
   ]
  },
  {
   "cell_type": "markdown",
   "metadata": {},
   "source": [
    "## 연습 문제"
   ]
  },
  {
   "cell_type": "code",
   "execution_count": 7,
   "metadata": {},
   "outputs": [],
   "source": [
    "#2019 KAKAO \n",
    "def compress(text, tok_len):\n",
    "    words = [text[i:i+tok_len] for i in range(0,len(text), tok_len)]\n",
    "    res = []\n",
    "    cur_word = words[0]\n",
    "    cur_cnt = 1\n",
    "    \n",
    "    for a,b in zip(words, words[1:] + ['']):\n",
    "        if a == b :\n",
    "            cur_cnt += 1\n",
    "        else :\n",
    "            res.append([cur_word, cur_cnt])\n",
    "            cur_word = b\n",
    "            cur_cnt = 1\n",
    "    return sum(len(word) + (len(str(cnt)) if cnt > 1 else 0) for word, cnt in res)"
   ]
  },
  {
   "cell_type": "code",
   "execution_count": 8,
   "metadata": {},
   "outputs": [],
   "source": [
    "def solution(text):\n",
    "    return min(compress(text, tok_len) for tok_len in list(range(1, int(len(text)/2) + 1)) + [len(text)])\n",
    "\n",
    "a = [\n",
    "    \"aabbaccc\",\n",
    "    \"ababcdcdababcdcd\",\n",
    "    \"abcabcdede\",\n",
    "    \"abcabcabcabcdededededede\",\n",
    "    \"xababcdcdababcdcd\",\n",
    "    'aaaaaa',\n",
    "]"
   ]
  },
  {
   "cell_type": "code",
   "execution_count": 9,
   "metadata": {},
   "outputs": [
    {
     "name": "stdout",
     "output_type": "stream",
     "text": [
      "7\n",
      "9\n",
      "8\n",
      "14\n",
      "17\n",
      "2\n"
     ]
    }
   ],
   "source": [
    "for x in a :\n",
    "    print(solution(x))"
   ]
  },
  {
   "cell_type": "markdown",
   "metadata": {},
   "source": [
    "### 문제.1 \n",
    "\n",
    "Check balanced parentheses\n",
    "\n",
    "열린 괄호와 닫힌 괄호로 이루어진 문자열이 주어지면, 해당 괄호가 균형을 이루는지 확인하는 문제입니다. \n",
    "\n",
    "괄호의 유형은 다음과 같이 총 3가지 입니다; 소괄호(), 대괄호 [], 중괄호{}. \n",
    "\n",
    "주어지는 문자열에는 이 괄호 외에 문자나 숫자, 공백 등 다른 문자가 포함되지 않는다고 가정합니다.\n",
    "\n",
    "균형을 이루는 괄호는, 열린 괄호의 역순으로 닫힌 괄호가 나열되어야 합니다.\n",
    "\n",
    "예를 들어, ‘([])’는 균형을 이루지만, ‘([)]’는 균형을 이루지 않습니다.\n",
    "\n",
    "입력으로 문자열을 입력 받아 해당 문자열을 구성하는 괄호가 균형을 이루면 “YES”, 균형을 이루지 않는다면 “NO”를 출력하시오.\n"
   ]
  },
  {
   "cell_type": "code",
   "execution_count": 29,
   "metadata": {},
   "outputs": [
    {
     "name": "stdout",
     "output_type": "stream",
     "text": [
      "[(])\n",
      "NO\n"
     ]
    }
   ],
   "source": [
    "str_ = list(input())\n",
    "\n",
    "cond1 = ['(', ')'] \n",
    "cond2 = ['[', ']'] \n",
    "cond3 = ['{', '}'] \n",
    "\n",
    "if (str_[0]==cond1[0]) and (str_[-1]==cond1[1]):\n",
    "    print(\"YES\")   \n",
    "elif (str_[0]==cond2[0]) and (str_[-1]==cond2[1]):\n",
    "    print(\"YES\")   \n",
    "elif (str_[0]==cond3[0]) and (str_[-1]==cond3[1]):\n",
    "    print(\"YES\")\n",
    "else:\n",
    "    print(\"NO\")"
   ]
  },
  {
   "cell_type": "markdown",
   "metadata": {},
   "source": [
    "### 문제.2\n",
    "\n",
    "배열 돌리기\n",
    "\n",
    "다음의 문자열을 시계방향(cw)/반시계방향(ccw)으로 90도/180도/270도 회전시키는 함수를 작성하고, 프로그램을 완성하세요.\n",
    "\n",
    "주어진 문자열 :        \n",
    "         가가나나다다\n",
    "         라라마마바바\n",
    "         사사아아자자\n",
    "         차차카카타타\n",
    "         \n",
    "- 입력 예 1)         cw90                               \n",
    "- 출력 예 1)   \n",
    "\n",
    "차사라가                                       \n",
    "차사라가                                        \n",
    "카아마나                                        \n",
    "카아마나                                        \n",
    "타자바다                                        \n",
    "타자바다                                        \n",
    "\n",
    "- 입력 예 2)         ccw90\n",
    "\n",
    "- 출력 예 2)  \n",
    "\n",
    "다바자타\n",
    "\n",
    "다바자타\n",
    "\n",
    "나마아카\n",
    "\n",
    "나마아카\n",
    "\n",
    "가라사차\n",
    "\n",
    "가라사차"
   ]
  },
  {
   "cell_type": "code",
   "execution_count": 161,
   "metadata": {},
   "outputs": [],
   "source": [
    "import numpy as np\n",
    "\n",
    "def rotate(m):\n",
    "    inp = str(input()) #4행6열\n",
    "    C = len(m) #4\n",
    "    R = len(m[0]) #6\n",
    "    arr1 = np.empty((6,4), dtype=object)\n",
    "    arr2 = np.empty((4,6), dtype=object)\n",
    "\n",
    "    if inp == \"cw90\": #시계방향 90도 회전\n",
    "        for r in range(C): \n",
    "            for c in range(R): \n",
    "                arr1[c][C-1-r]=m[r][c] \n",
    "                \n",
    "        return arr1\n",
    "                \n",
    "    elif inp == \"cw180\": #180도 회전\n",
    "        for r in range(C): \n",
    "            for c in range(R):\n",
    "                arr2[C-1-r][R-1-c]=m[r][c]\n",
    "                \n",
    "        return arr2\n",
    "    \n",
    "    elif inp == \"cw270\": #270도 회전\n",
    "        for r in range(C): \n",
    "            for c in range(R): \n",
    "                arr1[R-1-c][r]=m[r][c]\n",
    "                \n",
    "        return arr1\n",
    "                \n",
    "    elif inp == \"ccw90\": #반시계 90도 회전\n",
    "        for r in range(C): \n",
    "            for c in range(R): \n",
    "                arr1[R-1-c][r]=m[r][c]\n",
    "                \n",
    "        return arr1\n",
    "    \n",
    "    elif inp == \"ccw180\": #180도 회전\n",
    "        for r in range(C): \n",
    "            for c in range(R):\n",
    "                arr2[C-1-r][R-1-c]=m[r][c]\n",
    "                \n",
    "        return arr2\n",
    "    \n",
    "    elif inp == \"ccw270\": #270도 회전\n",
    "        for r in range(C):\n",
    "            for c in range(R): \n",
    "                arr1[c][C-1-r]=m[r][c] \n",
    "                \n",
    "        return arr1\n",
    "                "
   ]
  },
  {
   "cell_type": "code",
   "execution_count": 162,
   "metadata": {},
   "outputs": [
    {
     "name": "stdout",
     "output_type": "stream",
     "text": [
      "ccw90\n"
     ]
    },
    {
     "data": {
      "text/plain": [
       "array([['다', '바', '자', '타'],\n",
       "       ['다', '바', '자', '타'],\n",
       "       ['나', '마', '아', '카'],\n",
       "       ['나', '마', '아', '카'],\n",
       "       ['가', '라', '사', '차'],\n",
       "       ['가', '라', '사', '차']], dtype=object)"
      ]
     },
     "execution_count": 162,
     "metadata": {},
     "output_type": "execute_result"
    }
   ],
   "source": [
    "test = [[\"가\",\"가\",\"나\",\"나\",\"다\",\"다\"], \n",
    "        [\"라\",\"라\",\"마\",\"마\",\"바\",\"바\"], \n",
    "        [\"사\",\"사\",\"아\",\"아\",\"자\",\"자\"],\n",
    "        [\"차\",\"차\",\"카\",\"카\",\"타\",\"타\"]]\n",
    "rotate(test)"
   ]
  },
  {
   "cell_type": "markdown",
   "metadata": {},
   "source": [
    "### 문제3.\n",
    "문자열에서 모든 회문 찾기.\n",
    "\n",
    "회문이란, 단어나 구 또는 문장 등에서 앞으로 읽으나 뒤로 읽으나 같은 것을 말합니다. 예를 들어 “구로구”와 같은 단어나 “다들 잠들다” 같은 문장이 있습니다.\n",
    "주어진 문자열에서 가능한 모든 회문을 출력하는 문제입니다. (중복 제거는 하지 않습니다)\n",
    "입력 문자열 길이는 제한 없으며, 문자열 내의 공백은 고려하지 않습니다.  그러나, 출력할 때는 기존의 문자열에 포함된 공백까지 출력해야 합니다. 출력 순서는 동일하지 않아도 됩니다.\n",
    "\n",
    "입력 예) “간장공장 공장장은 장공장장이다.”\n",
    "\n",
    "출력 예) 장공장\n",
    "\n",
    "                  공장  공\n",
    "                  \n",
    "                  장  공장\n",
    "                  \n",
    "                          장공장  공장\n",
    "                          \n",
    "                   장장\n",
    "                   \n",
    "                  장은  장\n",
    "                  \n",
    "                  장공장\n",
    "                  \n",
    "                  장장"
   ]
  },
  {
   "cell_type": "code",
   "execution_count": 172,
   "metadata": {},
   "outputs": [],
   "source": [
    "str_ = list(\"간장공장 공장장은 장공장장이다.\")\n",
    "j=1\n",
    "\n",
    "for i in range(len(str_)): #0부터 시작\n",
    "    while (j<len(str_)):\n",
    "        if str_[i] != str_[j]:\n",
    "            j+=1 \n",
    "            continue\n",
    "        elif str_[i] == str_[j]:\n",
    "            word = str_[i:j]\n",
    "            print(word)\n",
    "               \n",
    "#     if word.strip() == reversed(word.strip()):\n",
    "#         print(word)"
   ]
  },
  {
   "cell_type": "code",
   "execution_count": 68,
   "metadata": {},
   "outputs": [],
   "source": [
    "str_ = list(\"간장공장 공장장은 장공장장이다.\")\n",
    "\n",
    "for i in range(0, len(str_))"
   ]
  }
 ],
 "metadata": {
  "kernelspec": {
   "display_name": "Python 3",
   "language": "python",
   "name": "python3"
  },
  "language_info": {
   "codemirror_mode": {
    "name": "ipython",
    "version": 3
   },
   "file_extension": ".py",
   "mimetype": "text/x-python",
   "name": "python",
   "nbconvert_exporter": "python",
   "pygments_lexer": "ipython3",
   "version": "3.7.4"
  }
 },
 "nbformat": 4,
 "nbformat_minor": 2
}
