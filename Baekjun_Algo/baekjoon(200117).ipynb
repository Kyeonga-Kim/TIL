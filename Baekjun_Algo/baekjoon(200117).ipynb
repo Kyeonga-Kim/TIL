{
 "cells": [
  {
   "cell_type": "code",
   "execution_count": 9,
   "metadata": {},
   "outputs": [
    {
     "name": "stdout",
     "output_type": "stream",
     "text": [
      "1 2\n",
      "<\n"
     ]
    }
   ],
   "source": [
    "#if문\n",
    "#1330\n",
    "\n",
    "a,b=map(int,input().split(\" \"))\n",
    "\n",
    "if a > b:\n",
    "    print(\">\")\n",
    "    \n",
    "elif a < b:\n",
    "    print(\"<\")\n",
    "    \n",
    "elif a==b:\n",
    "    print(\"==\")\n"
   ]
  },
  {
   "cell_type": "code",
   "execution_count": 12,
   "metadata": {},
   "outputs": [
    {
     "name": "stdout",
     "output_type": "stream",
     "text": [
      "100\n",
      "A\n"
     ]
    }
   ],
   "source": [
    "#9498\n",
    "\n",
    "x= int(input())\n",
    "\n",
    "if x >= 90 and x<=100:\n",
    "    print(\"A\")\n",
    "    \n",
    "elif x>=80 and x<90:\n",
    "    print(\"B\")\n",
    "    \n",
    "elif x>=70 and x<80:\n",
    "    print(\"C\")\n",
    "    \n",
    "elif x>=60 and x<70:\n",
    "    print(\"D\")\n",
    "    \n",
    "else:\n",
    "    print(\"F\")"
   ]
  },
  {
   "cell_type": "code",
   "execution_count": 14,
   "metadata": {},
   "outputs": [
    {
     "name": "stdout",
     "output_type": "stream",
     "text": [
      "1900\n",
      "0\n"
     ]
    }
   ],
   "source": [
    "#2753\n",
    "\n",
    "x=int(input())\n",
    "\n",
    "if x%4==0 and x%100!=0 or x%400==0:\n",
    "    print(\"1\")\n",
    "else:\n",
    "    print(\"0\")"
   ]
  },
  {
   "cell_type": "code",
   "execution_count": 7,
   "metadata": {},
   "outputs": [
    {
     "name": "stdout",
     "output_type": "stream",
     "text": [
      "0 45\n",
      "0 0\n"
     ]
    }
   ],
   "source": [
    "#2884\n",
    "\n",
    "h,m=map(int,input().split(\" \"))\n",
    "    \n",
    "if m<45 and h>0 :\n",
    "    h=h-1\n",
    "    m=60+(m-45)\n",
    "    print(h,m)\n",
    "\n",
    "elif m>=45:\n",
    "    m=m-45\n",
    "    print(h,m)\n",
    "    \n",
    "else : \n",
    "    h=23\n",
    "    m=60+(m-45)\n",
    "    print(h,m)\n",
    "    "
   ]
  },
  {
   "cell_type": "code",
   "execution_count": 12,
   "metadata": {},
   "outputs": [
    {
     "name": "stdout",
     "output_type": "stream",
     "text": [
      "40 40 40\n",
      "40\n"
     ]
    }
   ],
   "source": [
    "#10817\n",
    "\n",
    "a,b,c =map(int,input().split(\" \"))\n",
    "\n",
    "if a >= b and a <= c:\n",
    "    print(a)\n",
    "    \n",
    "elif c <= a and a <= b :\n",
    "    print(a)\n",
    "\n",
    "elif b >= a and b <= c : \n",
    "    print(b)\n",
    "    \n",
    "elif c <= b and b <= a:\n",
    "    print(b)\n",
    "    \n",
    "elif c >= a and c <= b :\n",
    "    print(c)\n",
    "    \n",
    "elif b <= c and c <= a:\n",
    "    print(c)\n",
    "    "
   ]
  },
  {
   "cell_type": "code",
   "execution_count": 14,
   "metadata": {},
   "outputs": [
    {
     "name": "stdout",
     "output_type": "stream",
     "text": [
      "2\n",
      "2 * 1 = 2\n",
      "2 * 2 = 4\n",
      "2 * 3 = 6\n",
      "2 * 4 = 8\n",
      "2 * 5 = 10\n",
      "2 * 6 = 12\n",
      "2 * 7 = 14\n",
      "2 * 8 = 16\n",
      "2 * 9 = 18\n"
     ]
    }
   ],
   "source": [
    "#for문\n",
    "#2739 \n",
    "\n",
    "n = int(input())\n",
    "\n",
    "for i in range(1,10):\n",
    "    res=n*i\n",
    "    print(\"%d * %d = %d\" %(n,i,res))"
   ]
  },
  {
   "cell_type": "code",
   "execution_count": 6,
   "metadata": {},
   "outputs": [
    {
     "name": "stdout",
     "output_type": "stream",
     "text": [
      "5\n",
      "1 1\n",
      "2 3\n",
      "3 4\n",
      "9 8\n",
      "5 2\n",
      "2\n",
      "5\n",
      "7\n",
      "17\n",
      "7\n"
     ]
    }
   ],
   "source": [
    "#10950\n",
    "\n",
    "cnt = int(input())\n",
    "num_l=[]\n",
    "\n",
    "for i in range(cnt):\n",
    "    \n",
    "    a,b = map(int,input().split(\" \"))\n",
    "    num_l.append(a+b)\n",
    "    \n",
    "for i in range(cnt):\n",
    "    print(num_l[i])"
   ]
  },
  {
   "cell_type": "code",
   "execution_count": 11,
   "metadata": {},
   "outputs": [
    {
     "name": "stdout",
     "output_type": "stream",
     "text": [
      "3\n",
      "6\n"
     ]
    }
   ],
   "source": [
    "#8393\n",
    "\n",
    "n=int(input())\n",
    "sum=0\n",
    "\n",
    "for i in range(n):    \n",
    "    i+=1\n",
    "    sum=sum+i\n",
    "print(sum)"
   ]
  },
  {
   "cell_type": "code",
   "execution_count": 26,
   "metadata": {},
   "outputs": [
    {
     "name": "stdout",
     "output_type": "stream",
     "text": [
      "5\n"
     ]
    },
    {
     "ename": "ValueError",
     "evalue": "invalid literal for int() with base 10: ''",
     "output_type": "error",
     "traceback": [
      "\u001b[1;31m---------------------------------------------------------------------------\u001b[0m",
      "\u001b[1;31mValueError\u001b[0m                                Traceback (most recent call last)",
      "\u001b[1;32m<ipython-input-26-2120ec82001d>\u001b[0m in \u001b[0;36m<module>\u001b[1;34m\u001b[0m\n\u001b[0;32m      6\u001b[0m \u001b[1;32mfor\u001b[0m \u001b[0mi\u001b[0m \u001b[1;32min\u001b[0m \u001b[0mrange\u001b[0m\u001b[1;33m(\u001b[0m\u001b[0mcnt\u001b[0m\u001b[1;33m)\u001b[0m\u001b[1;33m:\u001b[0m\u001b[1;33m\u001b[0m\u001b[1;33m\u001b[0m\u001b[0m\n\u001b[0;32m      7\u001b[0m \u001b[1;33m\u001b[0m\u001b[0m\n\u001b[1;32m----> 8\u001b[1;33m     \u001b[0ma\u001b[0m\u001b[1;33m,\u001b[0m\u001b[0mb\u001b[0m \u001b[1;33m=\u001b[0m \u001b[0mmap\u001b[0m\u001b[1;33m(\u001b[0m\u001b[0mint\u001b[0m\u001b[1;33m,\u001b[0m \u001b[0msys\u001b[0m\u001b[1;33m.\u001b[0m\u001b[0mstdin\u001b[0m\u001b[1;33m.\u001b[0m\u001b[0mreadline\u001b[0m\u001b[1;33m(\u001b[0m\u001b[1;33m)\u001b[0m\u001b[1;33m.\u001b[0m\u001b[0msplit\u001b[0m\u001b[1;33m(\u001b[0m\u001b[1;34m\" \"\u001b[0m\u001b[1;33m)\u001b[0m\u001b[1;33m)\u001b[0m\u001b[1;33m\u001b[0m\u001b[1;33m\u001b[0m\u001b[0m\n\u001b[0m\u001b[0;32m      9\u001b[0m     \u001b[0mprint\u001b[0m\u001b[1;33m(\u001b[0m\u001b[0ma\u001b[0m\u001b[1;33m+\u001b[0m\u001b[0mb\u001b[0m\u001b[1;33m)\u001b[0m\u001b[1;33m\u001b[0m\u001b[1;33m\u001b[0m\u001b[0m\n",
      "\u001b[1;31mValueError\u001b[0m: invalid literal for int() with base 10: ''"
     ]
    }
   ],
   "source": [
    "#15552\n",
    "import sys\n",
    "\n",
    "cnt = int(input())\n",
    "\n",
    "for i in range(cnt):\n",
    "    \n",
    "    a,b = map(int, sys.stdin.readline().split(\" \"))\n",
    "    print(a+b)\n",
    "\n",
    "    \n",
    "    #쥬피터는 sys가 안됨\n"
   ]
  },
  {
   "cell_type": "code",
   "execution_count": 32,
   "metadata": {},
   "outputs": [
    {
     "name": "stdout",
     "output_type": "stream",
     "text": [
      "5\n",
      "1\n",
      "2\n",
      "3\n",
      "4\n",
      "5\n"
     ]
    }
   ],
   "source": [
    "#2741\n",
    "n=int(input())\n",
    "\n",
    "for i in range(n):\n",
    "    i+=1\n",
    "    print(i)"
   ]
  },
  {
   "cell_type": "code",
   "execution_count": 31,
   "metadata": {},
   "outputs": [
    {
     "name": "stdout",
     "output_type": "stream",
     "text": [
      "5\n",
      "5\n",
      "4\n",
      "3\n",
      "2\n",
      "1\n"
     ]
    }
   ],
   "source": [
    "#2742\n",
    "\n",
    "n=int(input())\n",
    "i=n\n",
    "\n",
    "for i in range(n,0,-1):\n",
    "    print(i)\n",
    "    i-=1"
   ]
  },
  {
   "cell_type": "code",
   "execution_count": 35,
   "metadata": {},
   "outputs": [
    {
     "name": "stdout",
     "output_type": "stream",
     "text": [
      "5\n",
      "1 1\n",
      "2 3\n",
      "3 4\n",
      "9 8\n",
      "5 2\n",
      "Case #1: 2\n",
      "Case #2: 5\n",
      "Case #3: 7\n",
      "Case #4: 17\n",
      "Case #5: 7\n"
     ]
    }
   ],
   "source": [
    "#11021\n",
    "\n",
    "cnt = int(input())\n",
    "num_l=[]\n",
    "\n",
    "for i in range(cnt):\n",
    "    \n",
    "    a,b = map(int,input().split(\" \"))\n",
    "    num_l.append(a+b)\n",
    "    \n",
    "for i in range(cnt):\n",
    "    print(\"Case #%d: %d\" %(i+1,num_l[i]))"
   ]
  },
  {
   "cell_type": "code",
   "execution_count": 57,
   "metadata": {},
   "outputs": [
    {
     "name": "stdout",
     "output_type": "stream",
     "text": [
      "5\n",
      "1 1\n",
      "2 3\n",
      "3 4\n",
      "9 8\n",
      "5 2\n",
      "Case #1: 1 + 1 = 2\n",
      "Case #2: 2 + 3 = 5\n",
      "Case #3: 3 + 4 = 7\n",
      "Case #4: 9 + 8 = 17\n",
      "Case #5: 5 + 2 = 7\n"
     ]
    }
   ],
   "source": [
    "#11022\n",
    "\n",
    "cnt = int(input())\n",
    "num_l=[]\n",
    "a_l=[]\n",
    "b_l=[]\n",
    "\n",
    "for i in range(cnt):\n",
    "    \n",
    "    a,b = map(int,input().split(\" \"))\n",
    "    a_l.append(a)\n",
    "    b_l.append(b)\n",
    "    num_l.append(a+b)\n",
    "    \n",
    "for i in range(cnt):\n",
    "     print(\"Case #%d: %d + %d = %d\" %(i+1,a_l[i],b_l[i],num_l[i]))\n",
    "    "
   ]
  },
  {
   "cell_type": "code",
   "execution_count": 41,
   "metadata": {},
   "outputs": [
    {
     "name": "stdout",
     "output_type": "stream",
     "text": [
      "5\n",
      "*\n",
      "**\n",
      "***\n",
      "****\n",
      "*****\n"
     ]
    }
   ],
   "source": [
    "#2438\n",
    "\n",
    "n=int(input())\n",
    "\n",
    "for i in range(n):\n",
    "    print(\"*\"*(i+1))"
   ]
  },
  {
   "cell_type": "code",
   "execution_count": 53,
   "metadata": {},
   "outputs": [
    {
     "name": "stdout",
     "output_type": "stream",
     "text": [
      "5\n",
      "     \n",
      "    *\n",
      "   **\n",
      "  ***\n",
      " ****\n",
      "*****\n"
     ]
    }
   ],
   "source": [
    "#2439  => 입출력 에러\n",
    "\n",
    "n=int(input())\n",
    "for i in range(n,-1,-1):\n",
    "    print(\" \"*i + \"*\"*(n-i))"
   ]
  },
  {
   "cell_type": "code",
   "execution_count": null,
   "metadata": {},
   "outputs": [],
   "source": [
    "#10871\n",
    "n, x = map(int, input().split(\" \"))\n",
    "a = list(map(int, input().split(\" \")))\n",
    "\n",
    "for i in a:\n",
    "    if i < x : \n",
    "        print(i,end=\" \")\n",
    "  \n"
   ]
  },
  {
   "cell_type": "code",
   "execution_count": 3,
   "metadata": {},
   "outputs": [
    {
     "name": "stdout",
     "output_type": "stream",
     "text": [
      "1 1\n",
      "2\n",
      "1 3\n",
      "4\n",
      "0 0\n"
     ]
    }
   ],
   "source": [
    "#while문\n",
    "#10952\n",
    "\n",
    "while True:\n",
    "    a,b= map(int, input().split(\" \"))\n",
    "    if a==0 and b==0:\n",
    "        break\n",
    "    print(a+b)"
   ]
  },
  {
   "cell_type": "code",
   "execution_count": 5,
   "metadata": {},
   "outputs": [
    {
     "name": "stdout",
     "output_type": "stream",
     "text": [
      "1 1\n",
      "2\n",
      "1 3\n",
      "4\n",
      "\n"
     ]
    }
   ],
   "source": [
    "#10951\n",
    "\n",
    "try:\n",
    "    while True:\n",
    "        a,b= map(int, input().split(\" \"))\n",
    "        print(a+b)\n",
    "except:\n",
    "    exit()"
   ]
  },
  {
   "cell_type": "code",
   "execution_count": null,
   "metadata": {},
   "outputs": [],
   "source": [
    "#1110\n",
    "\n",
    "# 0보다 크거나 같고, 99보다 작거나 같은 정수가 주어질 때 다음과 같은 연산을 할 수 있다. 먼저 주어진 수가 10보다 작다면 앞에 0을 붙여 두 자리 수로 만들고, 각 자리의 숫자를 더한다. 그 다음, 주어진 수의 가장 오른쪽 자리 수와 앞에서 구한 합의 가장 오른쪽 자리 수를 이어 붙이면 새로운 수를 만들 수 있다. 다음 예를 보자.\n",
    "\n",
    "# 26부터 시작한다. 2+6 = 8이다. 새로운 수는 68이다. 6+8 = 14이다. 새로운 수는 84이다. 8+4 = 12이다. 새로운 수는 42이다. 4+2 = 6이다. 새로운 수는 26이다.\n",
    "\n",
    "# 위의 예는 4번만에 원래 수로 돌아올 수 있다. 따라서 26의 사이클의 길이는 4이다.\n",
    "\n",
    "# N이 주어졌을 때, N의 사이클의 길이를 구하는 프로그램을 작성하시오.\n",
    "\n",
    "first_num= int(input())\n",
    "second_num=0\n",
    "res=0\n",
    "cnt=1\n",
    "\n",
    "check_num=first_num\n",
    "\n",
    "while True:\n",
    "\n",
    "    second_num=first_num%10      #나머지 => 두번째값   #질문) 왜 second /first를 바꾸면 런타임이 걸리는지\n",
    "    first_num=int(first_num/10)  #몫 => 첫번째 값\n",
    "    res=first_num+second_num\n",
    "    first_num=(second_num*10)+(res%10) #초기값\n",
    "            \n",
    "    if check_num==first_num:\n",
    "        break;\n",
    "    else:\n",
    "        cnt+=1\n",
    "                \n",
    "print(cnt)"
   ]
  },
  {
   "cell_type": "code",
   "execution_count": 1,
   "metadata": {},
   "outputs": [],
   "source": [
    "# 9095 1+2+3 더하기\n",
    "\n",
    "# 정수 4를 1, 2, 3의 합으로 나타내는 방법은 총 7가지가 있다.\n",
    "# 합을 나타낼 때는 수를 1개 이상 사용해야 한다.\n",
    "\n",
    "# 1+1+1+1\n",
    "# 1+1+2\n",
    "# 1+2+1\n",
    "# 2+1+1\n",
    "# 2+2\n",
    "# 1+3\n",
    "# 3+1\n",
    "\n",
    "# 정수 n이 주어졌을 때, n을 1, 2, 3의 합으로 나타내는 방법의 수를 구하는 프로그램을 작성하시오.\n",
    "\n",
    "\n",
    "n = 6\n",
    "\n",
    "1 => n가지\n",
    "\n",
    "1+1+...+2 => 1:n-2개, 2:1개  \n",
    "1+1+...2+2 => 1:n-4개 , 2:2개  \n",
    "2+2+2 => 1:n-6개, 2:3개\n",
    "        \n",
    "1+1+1+3 => 1:n-3개 ,3:1개\n",
    "1+2+3  =>1:n-5개, 2:1개, 3:1개\n",
    "3+3 => 3:2개\n",
    "        "
   ]
  },
  {
   "cell_type": "code",
   "execution_count": 1,
   "metadata": {},
   "outputs": [
    {
     "name": "stdout",
     "output_type": "stream",
     "text": [
      "1\n",
      "1\n",
      "1\n"
     ]
    }
   ],
   "source": [
    "cnt=int(input())\n",
    "num_count=[1,2,4]\n",
    "\n",
    "def one_two_three(n):        \n",
    "    for i in range(3,n+1):\n",
    "        num_count.append(num_count[i-1]+num_count[i-2]+num_count[i-3])\n",
    "    print(num_count[n-1])\n",
    "        \n",
    "for i in range(cnt):\n",
    "    num=int(input())\n",
    "    num_count=[1,2,4]\n",
    "    one_two_three(num)\n"
   ]
  },
  {
   "cell_type": "code",
   "execution_count": null,
   "metadata": {},
   "outputs": [],
   "source": [
    "import math\n",
    "res=[]\n",
    "n=int(input())\n",
    "two_cnt=int(n/2)\n",
    "three_cnt=int(n/3)\n",
    "\n",
    "for i in range(1,two_cnt+1):\n",
    "    res_two=int(math.factorial(n-i)/(math.factorial(i)*(math.factorial(n-2*i))))\n",
    "    res.append(res_two)\n",
    "print(res)"
   ]
  },
  {
   "cell_type": "code",
   "execution_count": 4,
   "metadata": {},
   "outputs": [
    {
     "name": "stdout",
     "output_type": "stream",
     "text": [
      "1\n",
      "3\n",
      "1 2\n"
     ]
    }
   ],
   "source": [
    "#1003 피보나치  \n",
    "#런타임에러: 함수안에서 else: 이후 재귀함수 호출을 해주기 때문에 시간이 오래걸림\n",
    "\n",
    "cnt=int(input()) #입력할 갯수\n",
    "zero_cnt=0\n",
    "one_cnt=0\n",
    "\n",
    "def fibonacci(n):\n",
    "    global zero_cnt\n",
    "    global one_cnt\n",
    "\n",
    "    if (n == 0):\n",
    "        zero_cnt+=1\n",
    "        return 0\n",
    "    elif(n == 1):\n",
    "        one_cnt+=1\n",
    "        return 1\n",
    "    else:\n",
    "        x = fibonacci(n-1)+ fibonacci(n-2)  \n",
    "        return x\n",
    "\n",
    "\n",
    "for i in range(cnt):\n",
    "    n=int(input())\n",
    "    zero_cnt=0\n",
    "    one_cnt=0\n",
    "    fibonacci(n) \n",
    "    print(zero_cnt,one_cnt)\n",
    "\n"
   ]
  },
  {
   "cell_type": "code",
   "execution_count": null,
   "metadata": {},
   "outputs": [
    {
     "name": "stdout",
     "output_type": "stream",
     "text": [
      "5\n",
      "0\n",
      "1 0\n",
      "1\n",
      "0 1\n",
      "5\n",
      "3 5\n"
     ]
    }
   ],
   "source": [
    "#1003 피보나치 \n",
    "\n",
    "cnt=int(input())\n",
    "zero=[1,0]  #fibonacci(0) => 1 0\n",
    "one=[0,1]   #fibonacci(1) => 0 1    \n",
    "\n",
    "def fibonacci(n):  #1과 0의 갯수도 피보나치를 따르는 규칙을 이용해서 품\n",
    "    if n>=2:    #n이 2이상일때 부터 \n",
    "        for i in range(2,n+1):\n",
    "            zero.append(zero[i-1]+zero[i-2])\n",
    "            one.append(one[i-1]+one[i-2])\n",
    "        print(zero[n],one[n])\n",
    "    elif n==1:\n",
    "        print(\"0 1\")\n",
    "    elif n==0:\n",
    "        print(\"1 0\")\n",
    "\n",
    "for i in range(cnt):\n",
    "    n=int(input())\n",
    "    zero=[1,0]\n",
    "    one=[0,1]\n",
    "    fibonacci(n)\n",
    "       "
   ]
  },
  {
   "cell_type": "code",
   "execution_count": null,
   "metadata": {},
   "outputs": [],
   "source": []
  }
 ],
 "metadata": {
  "kernelspec": {
   "display_name": "Python 3",
   "language": "python",
   "name": "python3"
  },
  "language_info": {
   "codemirror_mode": {
    "name": "ipython",
    "version": 3
   },
   "file_extension": ".py",
   "mimetype": "text/x-python",
   "name": "python",
   "nbconvert_exporter": "python",
   "pygments_lexer": "ipython3",
   "version": "3.7.4"
  }
 },
 "nbformat": 4,
 "nbformat_minor": 2
}
